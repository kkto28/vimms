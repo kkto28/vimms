{
 "cells": [
  {
   "cell_type": "markdown",
   "metadata": {},
   "source": [
    "# 1. Download Data"
   ]
  },
  {
   "cell_type": "markdown",
   "metadata": {},
   "source": [
    "This notebook downloads the necessary example data that will be used in other notebooks. In particular, the notebook does the following:\n",
    "\n",
    "- Download beer and urine .mzML files used as examples in the paper\n",
    "- Download the HMDB database and extract metabolites.\n",
    "- Trains kernel density estimators on the mzML files.\n",
    "- Extract regions of interests from the mzML files.\n",
    "\n",
    "**Please run this notebook first to make sure the data files are available for subsequent notebooks. It might take a while, so please be patient and let the notebook runs to its completion**\n",
    "\n",
    "The data files downloaded above should contain nearly everything needed to replicate the results in the paper using your own data. Please replace the paths below to point to your files if you want to run the simulation based on your own data.\n",
    "\n",
    "Alternatively if you just want to try running some controllers (fragmentation strategies) quickly using our test fixtures, please take a look at the test cases instead."
   ]
  },
  {
   "cell_type": "code",
   "execution_count": 1,
   "metadata": {},
   "outputs": [],
   "source": [
    "%matplotlib inline"
   ]
  },
  {
   "cell_type": "code",
   "execution_count": 2,
   "metadata": {},
   "outputs": [],
   "source": [
    "%load_ext autoreload\n",
    "%autoreload 2"
   ]
  },
  {
   "cell_type": "code",
   "execution_count": 3,
   "metadata": {},
   "outputs": [],
   "source": [
    "from pathlib import Path\n",
    "import glob"
   ]
  },
  {
   "cell_type": "code",
   "execution_count": 4,
   "metadata": {},
   "outputs": [],
   "source": [
    "import sys\n",
    "sys.path.append('../..')"
   ]
  },
  {
   "cell_type": "code",
   "execution_count": 5,
   "metadata": {},
   "outputs": [],
   "source": [
    "from vimms.DataGenerator import extract_hmdb_metabolite, get_data_source, get_spectral_feature_database\n",
    "from vimms.MassSpec import IndependentMassSpectrometer\n",
    "from vimms.Controller import SimpleMs1Controller\n",
    "from vimms.Common import *\n",
    "from vimms.Roi import make_roi, RoiToChemicalCreator, extract_roi"
   ]
  },
  {
   "cell_type": "code",
   "execution_count": 6,
   "metadata": {},
   "outputs": [],
   "source": [
    "# set_log_level_info()\n",
    "set_log_level_debug()"
   ]
  },
  {
   "cell_type": "markdown",
   "metadata": {},
   "source": [
    "## a. Download beer and urine files"
   ]
  },
  {
   "cell_type": "markdown",
   "metadata": {},
   "source": [
    "Here we download the beer and urine .mzML files used as examples in the paper if they don't exist."
   ]
  },
  {
   "cell_type": "code",
   "execution_count": 7,
   "metadata": {},
   "outputs": [],
   "source": [
    "url = 'http://researchdata.gla.ac.uk/870/2/example_data.zip'\n",
    "base_dir = os.path.join(os.getcwd(), 'example_data')"
   ]
  },
  {
   "cell_type": "code",
   "execution_count": 8,
   "metadata": {},
   "outputs": [
    {
     "name": "stderr",
     "output_type": "stream",
     "text": [
      "2019-12-12 10:26:22.763 | INFO     | vimms.Common:download_file:180 - Downloading example_data.zip\n",
      "  0%|          | 579/869k [00:00<02:30, 5.79kKB/s]"
     ]
    },
    {
     "name": "stdout",
     "output_type": "stream",
     "text": [
      "Creating /home/joewandy/git/vimms/examples/example_data\n"
     ]
    },
    {
     "name": "stderr",
     "output_type": "stream",
     "text": [
      "869kKB [01:10, 12.3kKB/s]                           \n",
      "2019-12-12 10:27:33.470 | INFO     | vimms.Common:extract_zip_file:192 - Extracting example_data.zip\n",
      "100%|██████████| 110/110 [00:10<00:00, 10.88it/s]\n",
      "2019-12-12 10:27:43.586 | INFO     | vimms.Common:extract_zip_file:198 - Deleting example_data.zip\n"
     ]
    }
   ],
   "source": [
    "if not os.path.isdir(base_dir): # if not exist then download the example data and extract it\n",
    "    print('Creating %s' % base_dir)    \n",
    "    out_file = 'example_data.zip'\n",
    "    download_file(url, out_file)\n",
    "    extract_zip_file(out_file, delete=True)\n",
    "else:\n",
    "    print('Found %s' % base_dir)"
   ]
  },
  {
   "cell_type": "markdown",
   "metadata": {},
   "source": [
    "## b. Download metabolites from HMDB"
   ]
  },
  {
   "cell_type": "markdown",
   "metadata": {},
   "source": [
    "Next we load a pre-processed pickled file of database metabolites in the `data_dir` folder. If it is not found, then create the file by downloading and extracting the metabolites from HMDB."
   ]
  },
  {
   "cell_type": "code",
   "execution_count": 9,
   "metadata": {},
   "outputs": [
    {
     "name": "stderr",
     "output_type": "stream",
     "text": [
      "2019-12-12 10:27:43.684 | WARNING  | vimms.Common:load_obj:76 - Old, invalid or missing pickle in /home/joewandy/git/vimms/examples/example_data/hmdb_compounds.p. Please regenerate this file.\n",
      "2019-12-12 10:27:43.869 | INFO     | vimms.Common:download_file:180 - Downloading hmdb_metabolites.zip\n",
      "629kKB [01:26, 7.27kKB/s]                           \n",
      "2019-12-12 10:29:10.440 | DEBUG    | vimms.DataGenerator:extract_hmdb_metabolite:21 - Extracting HMDB metabolites from hmdb_metabolites.zip\n",
      "2019-12-12 10:31:09.144 | INFO     | vimms.DataGenerator:extract_hmdb_metabolite:57 - Loaded 114087 DatabaseCompounds from hmdb_metabolites.zip\n",
      "2019-12-12 10:31:09.145 | INFO     | vimms.DataGenerator:extract_hmdb_metabolite:64 - Deleting hmdb_metabolites.zip\n",
      "2019-12-12 10:31:28.216 | INFO     | vimms.Common:save_obj:61 - Saving <class 'list'> to /home/joewandy/git/vimms/examples/example_data/hmdb_compounds.p\n"
     ]
    }
   ],
   "source": [
    "compound_file = Path(base_dir, 'hmdb_compounds.p')\n",
    "hmdb_compounds = load_obj(compound_file)\n",
    "if hmdb_compounds is None: # if file does not exist\n",
    "\n",
    "    # download the entire HMDB metabolite database\n",
    "    url = 'http://www.hmdb.ca/system/downloads/current/hmdb_metabolites.zip'\n",
    "\n",
    "    out_file = download_file(url)\n",
    "    compounds = extract_hmdb_metabolite(out_file, delete=True)\n",
    "    save_obj(compounds, compound_file)\n",
    "\n",
    "else:\n",
    "    print('Loaded %d DatabaseCompounds from %s' % (len(hmdb_compounds), compound_file))"
   ]
  },
  {
   "cell_type": "markdown",
   "metadata": {},
   "source": [
    "## c. Generate Spectral Feature Database"
   ]
  },
  {
   "cell_type": "markdown",
   "metadata": {},
   "source": [
    "In this section we demonstrate how ViMMS constructs the spectral feature database containing information, such as the densities of m/z, RT and intensities, scan durations, MS2 peaks, from the example Beer mzML files. The spectral feature database will be used to sample for various features during the simulation later.\n",
    "\n",
    "The following two methods `get_data_source` and `get_spectral_feature_database` from ViMMS will be used. \n",
    "- `get_data_source` loads a `DataSource` object that stores information on a set of .mzML files\n",
    "- `get_spectral_feature_database` extracts relevant features from .mzML files that have been loaded into the DataSource. \n",
    "\n",
    "The parameter below should work for most cases, however for different data, it might be necessary to adjust the `min_rt` and `max_rt` values."
   ]
  },
  {
   "cell_type": "code",
   "execution_count": 10,
   "metadata": {},
   "outputs": [],
   "source": [
    "filename = None                    # if None, use all mzML files found\n",
    "min_ms1_intensity = 0              # min MS1 intensity threshold to include a data point for density estimation\n",
    "min_ms2_intensity = 0              # min MS2 intensity threshold to include a data point for density estimation\n",
    "min_rt = 0                         # min RT to include a data point for density estimation\n",
    "max_rt = 1440                      # max RT to include a data point for density estimation\n",
    "bandwidth_mz_intensity_rt = 1.0    # kernel bandwidth parameter to sample (mz, RT, intensity) values during simulation\n",
    "bandwidth_n_peaks = 1.0            # kernel bandwidth parameter to sample number of peaks per scan during simulation"
   ]
  },
  {
   "cell_type": "markdown",
   "metadata": {},
   "source": [
    "### Load fullscan data and train spectral feature database"
   ]
  },
  {
   "cell_type": "code",
   "execution_count": 11,
   "metadata": {},
   "outputs": [],
   "source": [
    "mzml_path = Path(base_dir, 'beers', 'fullscan', 'mzML')\n",
    "xcms_output = Path(mzml_path, 'extracted_peaks_ms1.csv')\n",
    "out_file = Path(base_dir, 'peak_sampler_mz_rt_int_19_beers_fullscan.p')"
   ]
  },
  {
   "cell_type": "code",
   "execution_count": 12,
   "metadata": {},
   "outputs": [
    {
     "name": "stderr",
     "output_type": "stream",
     "text": [
      "2019-12-12 10:31:29.903 | INFO     | vimms.DataGenerator:load_data:161 - Loading Beer_multibeers_17_fullscan1.mzML\n",
      "2019-12-12 10:31:30.748 | INFO     | vimms.DataGenerator:load_data:161 - Loading Beer_multibeers_4_fullscan1.mzML\n",
      "2019-12-12 10:31:31.542 | INFO     | vimms.DataGenerator:load_data:161 - Loading Beer_multibeers_1_fullscan1.mzML\n",
      "2019-12-12 10:31:32.334 | INFO     | vimms.DataGenerator:load_data:161 - Loading Beer_multibeers_6_fullscan1.mzML\n",
      "2019-12-12 10:31:33.247 | INFO     | vimms.DataGenerator:load_data:161 - Loading Beer_multibeers_13_fullscan1.mzML\n",
      "2019-12-12 10:31:34.065 | INFO     | vimms.DataGenerator:load_data:161 - Loading Beer_multibeers_15_fullscan1.mzML\n",
      "2019-12-12 10:31:34.849 | INFO     | vimms.DataGenerator:load_data:161 - Loading Beer_multibeers_5_fullscan1.mzML\n",
      "2019-12-12 10:31:35.629 | INFO     | vimms.DataGenerator:load_data:161 - Loading Beer_multibeers_2_fullscan1.mzML\n",
      "2019-12-12 10:31:36.414 | INFO     | vimms.DataGenerator:load_data:161 - Loading Beer_multibeers_19_fullscan1.mzML\n",
      "2019-12-12 10:31:37.193 | INFO     | vimms.DataGenerator:load_data:161 - Loading Beer_multibeers_7_fullscan1.mzML\n",
      "2019-12-12 10:31:37.971 | INFO     | vimms.DataGenerator:load_data:161 - Loading Beer_multibeers_18_fullscan1.mzML\n",
      "2019-12-12 10:31:38.739 | INFO     | vimms.DataGenerator:load_data:161 - Loading Beer_multibeers_14_fullscan1.mzML\n",
      "2019-12-12 10:31:39.518 | INFO     | vimms.DataGenerator:load_data:161 - Loading Beer_multibeers_8_fullscan1.mzML\n",
      "2019-12-12 10:31:40.315 | INFO     | vimms.DataGenerator:load_data:161 - Loading Beer_multibeers_12_fullscan1.mzML\n",
      "2019-12-12 10:31:41.077 | INFO     | vimms.DataGenerator:load_data:161 - Loading Beer_multibeers_16_fullscan1.mzML\n",
      "2019-12-12 10:31:41.919 | INFO     | vimms.DataGenerator:load_data:161 - Loading Beer_multibeers_9_fullscan1.mzML\n",
      "2019-12-12 10:31:42.723 | INFO     | vimms.DataGenerator:load_data:161 - Loading Beer_multibeers_3_fullscan1.mzML\n",
      "2019-12-12 10:31:43.503 | INFO     | vimms.DataGenerator:load_data:161 - Loading Beer_multibeers_11_fullscan1.mzML\n",
      "2019-12-12 10:31:44.259 | INFO     | vimms.DataGenerator:load_data:161 - Loading Beer_multibeers_10_fullscan1.mzML\n"
     ]
    }
   ],
   "source": [
    "ds_fullscan = get_data_source(mzml_path, filename, xcms_output)"
   ]
  },
  {
   "cell_type": "code",
   "execution_count": 13,
   "metadata": {},
   "outputs": [
    {
     "name": "stderr",
     "output_type": "stream",
     "text": [
      "2019-12-12 10:31:45.296 | DEBUG    | vimms.DataGenerator:__init__:436 - Extracted 0 MS2 scans\n",
      "2019-12-12 10:31:45.297 | DEBUG    | vimms.DataGenerator:_compute_intensity_props:614 - Computing parent intensity proportions\n",
      "2019-12-12 10:31:45.298 | DEBUG    | vimms.DataGenerator:__init__:445 - Extracting scan durations\n",
      "2019-12-12 10:31:45.300 | DEBUG    | vimms.DataGenerator:_kde:626 - Training KDEs for ms_level=1\n",
      "2019-12-12 10:31:45.300 | DEBUG    | vimms.DataGenerator:_kde:637 - Retrieving mz_intensity_rt values from <vimms.DataGenerator.DataSource object at 0x7f1ed650ada0>\n",
      "2019-12-12 10:31:45.301 | INFO     | vimms.DataGenerator:get_data:278 - Using values from XCMS peaklist\n",
      "2019-12-12 10:31:45.360 | DEBUG    | vimms.DataGenerator:_kde:637 - Retrieving n_peaks values from <vimms.DataGenerator.DataSource object at 0x7f1ed650ada0>\n",
      "2019-12-12 10:32:35.025 | DEBUG    | vimms.DataGenerator:_kde:626 - Training KDEs for ms_level=2\n",
      "2019-12-12 10:32:35.026 | DEBUG    | vimms.DataGenerator:_kde:637 - Retrieving mz_intensity_rt values from <vimms.DataGenerator.DataSource object at 0x7f1ed650ada0>\n",
      "2019-12-12 10:32:35.026 | INFO     | vimms.DataGenerator:get_data:295 - Using values from scans\n",
      "2019-12-12 10:32:35.037 | INFO     | vimms.Common:save_obj:61 - Saving <class 'vimms.DataGenerator.PeakSampler'> to /home/joewandy/git/vimms/examples/example_data/peak_sampler_mz_rt_int_19_beers_fullscan.p\n"
     ]
    }
   ],
   "source": [
    "ps = get_spectral_feature_database(ds_fullscan, filename, min_ms1_intensity, min_ms2_intensity, min_rt, max_rt,\n",
    "               bandwidth_mz_intensity_rt, bandwidth_n_peaks, out_file)"
   ]
  },
  {
   "cell_type": "code",
   "execution_count": 14,
   "metadata": {},
   "outputs": [
    {
     "data": {
      "text/plain": [
       "[Peak mz=548.7613 rt=850.36 intensity=556234.03 ms_level=1,\n",
       " Peak mz=367.6491 rt=125.38 intensity=25227.32 ms_level=1,\n",
       " Peak mz=239.1899 rt=491.71 intensity=168206.85 ms_level=1,\n",
       " Peak mz=365.8156 rt=211.44 intensity=5949036.80 ms_level=1,\n",
       " Peak mz=387.9753 rt=1342.40 intensity=95478.40 ms_level=1,\n",
       " Peak mz=257.4990 rt=437.52 intensity=965905.36 ms_level=1,\n",
       " Peak mz=251.5781 rt=967.22 intensity=532116.44 ms_level=1,\n",
       " Peak mz=347.3595 rt=293.30 intensity=154163.06 ms_level=1,\n",
       " Peak mz=75.2708 rt=255.89 intensity=157945.37 ms_level=1,\n",
       " Peak mz=171.8691 rt=1372.60 intensity=8399688.69 ms_level=1]"
      ]
     },
     "execution_count": 14,
     "metadata": {},
     "output_type": "execute_result"
    }
   ],
   "source": [
    "ps.get_peak(1, 10) # try to sample 10 MS1 peaks"
   ]
  },
  {
   "cell_type": "markdown",
   "metadata": {},
   "source": [
    "### Load fragmentation data and train spectral feature database"
   ]
  },
  {
   "cell_type": "code",
   "execution_count": 15,
   "metadata": {},
   "outputs": [],
   "source": [
    "mzml_path = Path(base_dir, 'beers', 'fragmentation', 'mzML')\n",
    "xcms_output = Path(mzml_path, 'extracted_peaks_ms1.csv')\n",
    "out_file = Path(base_dir, 'peak_sampler_mz_rt_int_19_beers_fragmentation.p')"
   ]
  },
  {
   "cell_type": "code",
   "execution_count": 16,
   "metadata": {},
   "outputs": [
    {
     "name": "stderr",
     "output_type": "stream",
     "text": [
      "2019-12-12 10:32:36.045 | INFO     | vimms.DataGenerator:load_data:161 - Loading Beer_multibeers_10_T10_POS.mzML\n",
      "2019-12-12 10:32:41.635 | INFO     | vimms.DataGenerator:load_data:161 - Loading Beer_multibeers_2_T10_POS.mzML\n",
      "2019-12-12 10:32:47.495 | INFO     | vimms.DataGenerator:load_data:161 - Loading Beer_multibeers_5_T10_POS.mzML\n",
      "2019-12-12 10:32:52.976 | INFO     | vimms.DataGenerator:load_data:161 - Loading Beer_multibeers_13_T10_POS.mzML\n",
      "2019-12-12 10:32:58.045 | INFO     | vimms.DataGenerator:load_data:161 - Loading Beer_multibeers_9_T10_POS.mzML\n",
      "2019-12-12 10:33:03.562 | INFO     | vimms.DataGenerator:load_data:161 - Loading Beer_multibeers_7_T10_POS.mzML\n",
      "2019-12-12 10:33:08.908 | INFO     | vimms.DataGenerator:load_data:161 - Loading Beer_multibeers_4_T10_POS.mzML\n",
      "2019-12-12 10:33:14.083 | INFO     | vimms.DataGenerator:load_data:161 - Loading Beer_multibeers_19_T10_POS.mzML\n",
      "2019-12-12 10:33:20.202 | INFO     | vimms.DataGenerator:load_data:161 - Loading Beer_multibeers_17_T10_POS.mzML\n",
      "2019-12-12 10:33:25.708 | INFO     | vimms.DataGenerator:load_data:161 - Loading Beer_multibeers_8_T10_POS.mzML\n",
      "2019-12-12 10:33:31.600 | INFO     | vimms.DataGenerator:load_data:161 - Loading Beer_multibeers_11_T10_POS.mzML\n",
      "2019-12-12 10:33:36.892 | INFO     | vimms.DataGenerator:load_data:161 - Loading Beer_multibeers_14_T10_POS.mzML\n",
      "2019-12-12 10:33:42.541 | INFO     | vimms.DataGenerator:load_data:161 - Loading Beer_multibeers_3_T10_POS.mzML\n",
      "2019-12-12 10:33:47.603 | INFO     | vimms.DataGenerator:load_data:161 - Loading Beer_multibeers_15_T10_POS.mzML\n",
      "2019-12-12 10:34:01.596 | INFO     | vimms.DataGenerator:load_data:161 - Loading Beer_multibeers_6_T10_POS.mzML\n",
      "2019-12-12 10:34:06.736 | INFO     | vimms.DataGenerator:load_data:161 - Loading Beer_multibeers_18_T10_POS.mzML\n",
      "2019-12-12 10:34:16.723 | INFO     | vimms.DataGenerator:load_data:161 - Loading Beer_multibeers_12_T10_POS.mzML\n",
      "2019-12-12 10:34:22.062 | INFO     | vimms.DataGenerator:load_data:161 - Loading Beer_multibeers_1_T10_POS.mzML\n",
      "2019-12-12 10:34:32.679 | INFO     | vimms.DataGenerator:load_data:161 - Loading Beer_multibeers_16_T10_POS.mzML\n"
     ]
    }
   ],
   "source": [
    "ds_fragmentation = get_data_source(mzml_path, filename, xcms_output)"
   ]
  },
  {
   "cell_type": "code",
   "execution_count": 17,
   "metadata": {},
   "outputs": [
    {
     "name": "stderr",
     "output_type": "stream",
     "text": [
      "2019-12-12 10:34:38.557 | DEBUG    | vimms.DataGenerator:__init__:436 - Extracted 138969 MS2 scans\n",
      "2019-12-12 10:34:38.558 | DEBUG    | vimms.DataGenerator:_compute_intensity_props:614 - Computing parent intensity proportions\n",
      "2019-12-12 10:34:53.152 | DEBUG    | vimms.DataGenerator:__init__:445 - Extracting scan durations\n",
      "2019-12-12 10:34:53.159 | DEBUG    | vimms.DataGenerator:_kde:626 - Training KDEs for ms_level=1\n",
      "2019-12-12 10:34:53.159 | DEBUG    | vimms.DataGenerator:_kde:637 - Retrieving mz_intensity_rt values from <vimms.DataGenerator.DataSource object at 0x7f2392a0c4a8>\n",
      "2019-12-12 10:34:53.160 | INFO     | vimms.DataGenerator:get_data:278 - Using values from XCMS peaklist\n",
      "2019-12-12 10:34:53.322 | DEBUG    | vimms.DataGenerator:_kde:637 - Retrieving n_peaks values from <vimms.DataGenerator.DataSource object at 0x7f2392a0c4a8>\n",
      "2019-12-12 10:37:48.230 | DEBUG    | vimms.DataGenerator:_kde:626 - Training KDEs for ms_level=2\n",
      "2019-12-12 10:37:48.233 | DEBUG    | vimms.DataGenerator:_kde:637 - Retrieving mz_intensity_rt values from <vimms.DataGenerator.DataSource object at 0x7f2392a0c4a8>\n",
      "2019-12-12 10:37:48.234 | INFO     | vimms.DataGenerator:get_data:295 - Using values from scans\n",
      "2019-12-12 10:38:31.199 | DEBUG    | vimms.DataGenerator:_kde:637 - Retrieving n_peaks values from <vimms.DataGenerator.DataSource object at 0x7f2392a0c4a8>\n",
      "2019-12-12 10:38:53.068 | INFO     | vimms.Common:save_obj:61 - Saving <class 'vimms.DataGenerator.PeakSampler'> to /home/joewandy/git/vimms/examples/example_data/peak_sampler_mz_rt_int_19_beers_fragmentation.p\n"
     ]
    }
   ],
   "source": [
    "ps = get_spectral_feature_database(ds_fragmentation, filename, min_ms1_intensity, min_ms2_intensity, min_rt, max_rt,\n",
    "               bandwidth_mz_intensity_rt, bandwidth_n_peaks, out_file)"
   ]
  },
  {
   "cell_type": "code",
   "execution_count": 18,
   "metadata": {},
   "outputs": [
    {
     "data": {
      "text/plain": [
       "[Peak mz=241.1763 rt=596.45 intensity=2420390.65 ms_level=1,\n",
       " Peak mz=495.2376 rt=417.20 intensity=16536.77 ms_level=1,\n",
       " Peak mz=122.5876 rt=299.28 intensity=70720.02 ms_level=1,\n",
       " Peak mz=150.7984 rt=306.76 intensity=17147842.22 ms_level=1,\n",
       " Peak mz=430.8960 rt=237.57 intensity=187340.68 ms_level=1,\n",
       " Peak mz=240.5786 rt=1096.17 intensity=204671.49 ms_level=1,\n",
       " Peak mz=341.3785 rt=218.03 intensity=319904.91 ms_level=1,\n",
       " Peak mz=241.6549 rt=476.10 intensity=226572.62 ms_level=1,\n",
       " Peak mz=411.8167 rt=823.82 intensity=28295.69 ms_level=1,\n",
       " Peak mz=357.9952 rt=235.56 intensity=56875.11 ms_level=1]"
      ]
     },
     "execution_count": 18,
     "metadata": {},
     "output_type": "execute_result"
    }
   ],
   "source": [
    "ps.get_peak(1, 10)"
   ]
  },
  {
   "cell_type": "code",
   "execution_count": 19,
   "metadata": {},
   "outputs": [
    {
     "data": {
      "text/plain": [
       "[Peak mz=187.0235 rt=625.89 intensity=5083.84 ms_level=2,\n",
       " Peak mz=97.8833 rt=1296.09 intensity=2558.77 ms_level=2,\n",
       " Peak mz=202.2899 rt=422.44 intensity=23230.41 ms_level=2,\n",
       " Peak mz=162.0548 rt=641.48 intensity=5896.36 ms_level=2,\n",
       " Peak mz=96.3014 rt=1080.46 intensity=330694.48 ms_level=2,\n",
       " Peak mz=67.2237 rt=457.03 intensity=235.22 ms_level=2,\n",
       " Peak mz=206.5379 rt=319.08 intensity=17635.36 ms_level=2,\n",
       " Peak mz=68.2419 rt=256.39 intensity=373.43 ms_level=2,\n",
       " Peak mz=105.4112 rt=684.87 intensity=3813.46 ms_level=2,\n",
       " Peak mz=90.8609 rt=876.06 intensity=21018.38 ms_level=2]"
      ]
     },
     "execution_count": 19,
     "metadata": {},
     "output_type": "execute_result"
    }
   ],
   "source": [
    "ps.get_peak(2, 10)"
   ]
  },
  {
   "cell_type": "markdown",
   "metadata": {},
   "source": [
    "## d. Extract the ROIs for DsDA Experiments"
   ]
  },
  {
   "cell_type": "code",
   "execution_count": 20,
   "metadata": {},
   "outputs": [],
   "source": [
    "roi_mz_tol = 10\n",
    "roi_min_length = 2\n",
    "roi_min_intensity = 1.75E5\n",
    "roi_start_rt = min_rt\n",
    "roi_stop_rt = max_rt"
   ]
  },
  {
   "cell_type": "markdown",
   "metadata": {},
   "source": [
    "#### Extract beer ROIs"
   ]
  },
  {
   "cell_type": "code",
   "execution_count": 21,
   "metadata": {},
   "outputs": [
    {
     "name": "stderr",
     "output_type": "stream",
     "text": [
      "2019-12-12 10:40:05.581 | DEBUG    | vimms.Roi:__init__:314 -      0/ 11377\n",
      "2019-12-12 10:40:26.437 | INFO     | vimms.Roi:__init__:338 - Found 11377 ROIs above thresholds\n",
      "2019-12-12 10:40:26.438 | INFO     | vimms.Common:create_if_not_exist:48 - Created /home/joewandy/git/vimms/examples/example_data/DsDA/DsDA_Beer/beer_t10_simulator_files\n",
      "2019-12-12 10:40:26.440 | INFO     | vimms.Common:save_obj:61 - Saving <class 'list'> to /home/joewandy/git/vimms/examples/example_data/DsDA/DsDA_Beer/beer_t10_simulator_files/beer_10.p\n",
      "2019-12-12 10:40:47.923 | DEBUG    | vimms.Roi:__init__:314 -      0/ 14333\n",
      "2019-12-12 10:41:14.143 | INFO     | vimms.Roi:__init__:338 - Found 14333 ROIs above thresholds\n",
      "2019-12-12 10:41:14.180 | INFO     | vimms.Common:save_obj:61 - Saving <class 'list'> to /home/joewandy/git/vimms/examples/example_data/DsDA/DsDA_Beer/beer_t10_simulator_files/beer_2.p\n",
      "2019-12-12 10:41:35.517 | DEBUG    | vimms.Roi:__init__:314 -      0/  9803\n",
      "2019-12-12 10:41:53.760 | INFO     | vimms.Roi:__init__:338 - Found 9803 ROIs above thresholds\n",
      "2019-12-12 10:41:53.801 | INFO     | vimms.Common:save_obj:61 - Saving <class 'list'> to /home/joewandy/git/vimms/examples/example_data/DsDA/DsDA_Beer/beer_t10_simulator_files/beer_5.p\n",
      "2019-12-12 10:42:12.714 | DEBUG    | vimms.Roi:__init__:314 -      0/  9792\n",
      "2019-12-12 10:42:30.268 | INFO     | vimms.Roi:__init__:338 - Found 9792 ROIs above thresholds\n",
      "2019-12-12 10:42:30.296 | INFO     | vimms.Common:save_obj:61 - Saving <class 'list'> to /home/joewandy/git/vimms/examples/example_data/DsDA/DsDA_Beer/beer_t10_simulator_files/beer_13.p\n",
      "2019-12-12 10:42:56.468 | DEBUG    | vimms.Roi:__init__:314 -      0/ 14332\n",
      "2019-12-12 10:43:20.913 | INFO     | vimms.Roi:__init__:338 - Found 14332 ROIs above thresholds\n",
      "2019-12-12 10:43:20.943 | INFO     | vimms.Common:save_obj:61 - Saving <class 'list'> to /home/joewandy/git/vimms/examples/example_data/DsDA/DsDA_Beer/beer_t10_simulator_files/beer_9.p\n",
      "2019-12-12 10:43:41.197 | DEBUG    | vimms.Roi:__init__:314 -      0/ 11542\n",
      "2019-12-12 10:44:01.086 | INFO     | vimms.Roi:__init__:338 - Found 11542 ROIs above thresholds\n",
      "2019-12-12 10:44:01.134 | INFO     | vimms.Common:save_obj:61 - Saving <class 'list'> to /home/joewandy/git/vimms/examples/example_data/DsDA/DsDA_Beer/beer_t10_simulator_files/beer_7.p\n",
      "2019-12-12 10:44:20.808 | DEBUG    | vimms.Roi:__init__:314 -      0/ 11330\n",
      "2019-12-12 10:44:39.388 | INFO     | vimms.Roi:__init__:338 - Found 11330 ROIs above thresholds\n",
      "2019-12-12 10:44:39.426 | INFO     | vimms.Common:save_obj:61 - Saving <class 'list'> to /home/joewandy/git/vimms/examples/example_data/DsDA/DsDA_Beer/beer_t10_simulator_files/beer_4.p\n",
      "2019-12-12 10:44:58.757 | DEBUG    | vimms.Roi:__init__:314 -      0/ 12454\n",
      "2019-12-12 10:45:19.244 | INFO     | vimms.Roi:__init__:338 - Found 12454 ROIs above thresholds\n",
      "2019-12-12 10:45:19.280 | INFO     | vimms.Common:save_obj:61 - Saving <class 'list'> to /home/joewandy/git/vimms/examples/example_data/DsDA/DsDA_Beer/beer_t10_simulator_files/beer_19.p\n",
      "2019-12-12 10:45:47.041 | DEBUG    | vimms.Roi:__init__:314 -      0/ 14361\n",
      "2019-12-12 10:46:12.750 | INFO     | vimms.Roi:__init__:338 - Found 14361 ROIs above thresholds\n",
      "2019-12-12 10:46:12.792 | INFO     | vimms.Common:save_obj:61 - Saving <class 'list'> to /home/joewandy/git/vimms/examples/example_data/DsDA/DsDA_Beer/beer_t10_simulator_files/beer_17.p\n",
      "2019-12-12 10:46:32.494 | DEBUG    | vimms.Roi:__init__:314 -      0/ 12577\n",
      "2019-12-12 10:46:53.210 | INFO     | vimms.Roi:__init__:338 - Found 12577 ROIs above thresholds\n",
      "2019-12-12 10:46:53.259 | INFO     | vimms.Common:save_obj:61 - Saving <class 'list'> to /home/joewandy/git/vimms/examples/example_data/DsDA/DsDA_Beer/beer_t10_simulator_files/beer_8.p\n",
      "2019-12-12 10:47:13.086 | DEBUG    | vimms.Roi:__init__:314 -      0/  9313\n",
      "2019-12-12 10:47:28.889 | INFO     | vimms.Roi:__init__:338 - Found 9313 ROIs above thresholds\n",
      "2019-12-12 10:47:28.925 | INFO     | vimms.Common:save_obj:61 - Saving <class 'list'> to /home/joewandy/git/vimms/examples/example_data/DsDA/DsDA_Beer/beer_t10_simulator_files/beer_11.p\n",
      "2019-12-12 10:47:48.348 | DEBUG    | vimms.Roi:__init__:314 -      0/ 12346\n",
      "2019-12-12 10:48:10.026 | INFO     | vimms.Roi:__init__:338 - Found 12346 ROIs above thresholds\n",
      "2019-12-12 10:48:10.056 | INFO     | vimms.Common:save_obj:61 - Saving <class 'list'> to /home/joewandy/git/vimms/examples/example_data/DsDA/DsDA_Beer/beer_t10_simulator_files/beer_14.p\n",
      "2019-12-12 10:48:34.686 | DEBUG    | vimms.Roi:__init__:314 -      0/  8992\n",
      "2019-12-12 10:48:50.663 | INFO     | vimms.Roi:__init__:338 - Found 8992 ROIs above thresholds\n",
      "2019-12-12 10:48:50.699 | INFO     | vimms.Common:save_obj:61 - Saving <class 'list'> to /home/joewandy/git/vimms/examples/example_data/DsDA/DsDA_Beer/beer_t10_simulator_files/beer_3.p\n",
      "2019-12-12 10:49:13.666 | DEBUG    | vimms.Roi:__init__:314 -      0/ 12492\n",
      "2019-12-12 10:49:34.870 | INFO     | vimms.Roi:__init__:338 - Found 12492 ROIs above thresholds\n",
      "2019-12-12 10:49:34.902 | INFO     | vimms.Common:save_obj:61 - Saving <class 'list'> to /home/joewandy/git/vimms/examples/example_data/DsDA/DsDA_Beer/beer_t10_simulator_files/beer_15.p\n",
      "2019-12-12 10:49:53.788 | DEBUG    | vimms.Roi:__init__:314 -      0/ 11054\n",
      "2019-12-12 10:50:13.577 | INFO     | vimms.Roi:__init__:338 - Found 11054 ROIs above thresholds\n",
      "2019-12-12 10:50:13.613 | INFO     | vimms.Common:save_obj:61 - Saving <class 'list'> to /home/joewandy/git/vimms/examples/example_data/DsDA/DsDA_Beer/beer_t10_simulator_files/beer_6.p\n",
      "2019-12-12 10:50:33.600 | DEBUG    | vimms.Roi:__init__:314 -      0/ 13227\n",
      "2019-12-12 10:50:56.553 | INFO     | vimms.Roi:__init__:338 - Found 13227 ROIs above thresholds\n",
      "2019-12-12 10:50:56.587 | INFO     | vimms.Common:save_obj:61 - Saving <class 'list'> to /home/joewandy/git/vimms/examples/example_data/DsDA/DsDA_Beer/beer_t10_simulator_files/beer_18.p\n",
      "2019-12-12 10:51:21.203 | DEBUG    | vimms.Roi:__init__:314 -      0/ 10712\n",
      "2019-12-12 10:51:39.226 | INFO     | vimms.Roi:__init__:338 - Found 10712 ROIs above thresholds\n",
      "2019-12-12 10:51:39.262 | INFO     | vimms.Common:save_obj:61 - Saving <class 'list'> to /home/joewandy/git/vimms/examples/example_data/DsDA/DsDA_Beer/beer_t10_simulator_files/beer_12.p\n",
      "2019-12-12 10:51:59.251 | DEBUG    | vimms.Roi:__init__:314 -      0/ 12048\n",
      "2019-12-12 10:52:20.326 | INFO     | vimms.Roi:__init__:338 - Found 12048 ROIs above thresholds\n",
      "2019-12-12 10:52:20.363 | INFO     | vimms.Common:save_obj:61 - Saving <class 'list'> to /home/joewandy/git/vimms/examples/example_data/DsDA/DsDA_Beer/beer_t10_simulator_files/beer_1.p\n",
      "2019-12-12 10:52:42.783 | DEBUG    | vimms.Roi:__init__:314 -      0/ 15088\n",
      "2019-12-12 10:53:09.205 | INFO     | vimms.Roi:__init__:338 - Found 15088 ROIs above thresholds\n",
      "2019-12-12 10:53:09.243 | INFO     | vimms.Common:save_obj:61 - Saving <class 'list'> to /home/joewandy/git/vimms/examples/example_data/DsDA/DsDA_Beer/beer_t10_simulator_files/beer_16.p\n"
     ]
    }
   ],
   "source": [
    "file_names = Path(base_dir, 'beers', 'fragmentation', 'mzML').glob('*.mzML')\n",
    "out_dir = Path(base_dir,'DsDA', 'DsDA_Beer', 'beer_t10_simulator_files')\n",
    "mzml_path = Path(base_dir, 'beers', 'fragmentation', 'mzML')\n",
    "\n",
    "extract_roi(list(file_names), out_dir, 'beer_%d.p', mzml_path, ps)"
   ]
  },
  {
   "cell_type": "markdown",
   "metadata": {},
   "source": [
    "#### Extract urine ROIs"
   ]
  },
  {
   "cell_type": "code",
   "execution_count": 22,
   "metadata": {},
   "outputs": [
    {
     "name": "stderr",
     "output_type": "stream",
     "text": [
      "2019-12-12 10:53:30.820 | DEBUG    | vimms.Roi:__init__:314 -      0/ 15929\n",
      "2019-12-12 10:53:57.799 | INFO     | vimms.Roi:__init__:338 - Found 15929 ROIs above thresholds\n",
      "2019-12-12 10:53:57.800 | INFO     | vimms.Common:create_if_not_exist:48 - Created /home/joewandy/git/vimms/examples/example_data/DsDA/DsDA_Urine/urine_t10_simulator_files\n",
      "2019-12-12 10:53:57.803 | INFO     | vimms.Common:save_obj:61 - Saving <class 'list'> to /home/joewandy/git/vimms/examples/example_data/DsDA/DsDA_Urine/urine_t10_simulator_files/urine_28.p\n",
      "2019-12-12 10:54:29.542 | DEBUG    | vimms.Roi:__init__:314 -      0/ 20011\n",
      "2019-12-12 10:55:03.403 | INFO     | vimms.Roi:__init__:338 - Found 20011 ROIs above thresholds\n",
      "2019-12-12 10:55:03.441 | INFO     | vimms.Common:save_obj:61 - Saving <class 'list'> to /home/joewandy/git/vimms/examples/example_data/DsDA/DsDA_Urine/urine_t10_simulator_files/urine_57.p\n",
      "2019-12-12 10:55:22.994 | DEBUG    | vimms.Roi:__init__:314 -      0/ 12606\n",
      "2019-12-12 10:55:44.300 | INFO     | vimms.Roi:__init__:338 - Found 12606 ROIs above thresholds\n",
      "2019-12-12 10:55:44.347 | INFO     | vimms.Common:save_obj:61 - Saving <class 'list'> to /home/joewandy/git/vimms/examples/example_data/DsDA/DsDA_Urine/urine_t10_simulator_files/urine_17.p\n",
      "2019-12-12 10:56:03.090 | DEBUG    | vimms.Roi:__init__:314 -      0/ 13466\n",
      "2019-12-12 10:56:26.035 | INFO     | vimms.Roi:__init__:338 - Found 13466 ROIs above thresholds\n",
      "2019-12-12 10:56:26.072 | INFO     | vimms.Common:save_obj:61 - Saving <class 'list'> to /home/joewandy/git/vimms/examples/example_data/DsDA/DsDA_Urine/urine_t10_simulator_files/urine_18.p\n",
      "2019-12-12 10:56:48.392 | DEBUG    | vimms.Roi:__init__:314 -      0/ 17567\n",
      "2019-12-12 10:57:20.004 | INFO     | vimms.Roi:__init__:338 - Found 17567 ROIs above thresholds\n",
      "2019-12-12 10:57:20.038 | INFO     | vimms.Common:save_obj:61 - Saving <class 'list'> to /home/joewandy/git/vimms/examples/example_data/DsDA/DsDA_Urine/urine_t10_simulator_files/urine_52.p\n",
      "2019-12-12 10:57:44.538 | DEBUG    | vimms.Roi:__init__:314 -      0/  9687\n",
      "2019-12-12 10:58:01.494 | INFO     | vimms.Roi:__init__:338 - Found 9687 ROIs above thresholds\n",
      "2019-12-12 10:58:01.537 | INFO     | vimms.Common:save_obj:61 - Saving <class 'list'> to /home/joewandy/git/vimms/examples/example_data/DsDA/DsDA_Urine/urine_t10_simulator_files/urine_32.p\n",
      "2019-12-12 10:58:22.630 | DEBUG    | vimms.Roi:__init__:314 -      0/ 15427\n",
      "2019-12-12 10:58:50.450 | INFO     | vimms.Roi:__init__:338 - Found 15427 ROIs above thresholds\n",
      "2019-12-12 10:58:50.496 | INFO     | vimms.Common:save_obj:61 - Saving <class 'list'> to /home/joewandy/git/vimms/examples/example_data/DsDA/DsDA_Urine/urine_t10_simulator_files/urine_53.p\n",
      "2019-12-12 10:59:11.574 | DEBUG    | vimms.Roi:__init__:314 -      0/ 15630\n",
      "2019-12-12 10:59:39.163 | INFO     | vimms.Roi:__init__:338 - Found 15630 ROIs above thresholds\n",
      "2019-12-12 10:59:39.202 | INFO     | vimms.Common:save_obj:61 - Saving <class 'list'> to /home/joewandy/git/vimms/examples/example_data/DsDA/DsDA_Urine/urine_t10_simulator_files/urine_8.p\n",
      "2019-12-12 11:00:01.863 | DEBUG    | vimms.Roi:__init__:314 -      0/ 15947\n",
      "2019-12-12 11:00:30.554 | INFO     | vimms.Roi:__init__:338 - Found 15947 ROIs above thresholds\n",
      "2019-12-12 11:00:30.595 | INFO     | vimms.Common:save_obj:61 - Saving <class 'list'> to /home/joewandy/git/vimms/examples/example_data/DsDA/DsDA_Urine/urine_t10_simulator_files/urine_97.p\n",
      "2019-12-12 11:00:54.680 | DEBUG    | vimms.Roi:__init__:314 -      0/ 10574\n",
      "2019-12-12 11:01:12.114 | INFO     | vimms.Roi:__init__:338 - Found 10574 ROIs above thresholds\n",
      "2019-12-12 11:01:12.182 | INFO     | vimms.Common:save_obj:61 - Saving <class 'list'> to /home/joewandy/git/vimms/examples/example_data/DsDA/DsDA_Urine/urine_t10_simulator_files/urine_9.p\n",
      "2019-12-12 11:01:33.163 | DEBUG    | vimms.Roi:__init__:314 -      0/ 17733\n",
      "2019-12-12 11:02:03.713 | INFO     | vimms.Roi:__init__:338 - Found 17733 ROIs above thresholds\n",
      "2019-12-12 11:02:03.746 | INFO     | vimms.Common:save_obj:61 - Saving <class 'list'> to /home/joewandy/git/vimms/examples/example_data/DsDA/DsDA_Urine/urine_t10_simulator_files/urine_49.p\n",
      "2019-12-12 11:02:23.940 | DEBUG    | vimms.Roi:__init__:314 -      0/ 15210\n",
      "2019-12-12 11:02:51.014 | INFO     | vimms.Roi:__init__:338 - Found 15210 ROIs above thresholds\n",
      "2019-12-12 11:02:51.055 | INFO     | vimms.Common:save_obj:61 - Saving <class 'list'> to /home/joewandy/git/vimms/examples/example_data/DsDA/DsDA_Urine/urine_t10_simulator_files/urine_54.p\n",
      "2019-12-12 11:03:17.953 | DEBUG    | vimms.Roi:__init__:314 -      0/ 15206\n",
      "2019-12-12 11:03:44.960 | INFO     | vimms.Roi:__init__:338 - Found 15206 ROIs above thresholds\n",
      "2019-12-12 11:03:45.000 | INFO     | vimms.Common:save_obj:61 - Saving <class 'list'> to /home/joewandy/git/vimms/examples/example_data/DsDA/DsDA_Urine/urine_t10_simulator_files/urine_51.p\n",
      "2019-12-12 11:04:07.012 | DEBUG    | vimms.Roi:__init__:314 -      0/ 16220\n",
      "2019-12-12 11:04:35.213 | INFO     | vimms.Roi:__init__:338 - Found 16220 ROIs above thresholds\n",
      "2019-12-12 11:04:35.264 | INFO     | vimms.Common:save_obj:61 - Saving <class 'list'> to /home/joewandy/git/vimms/examples/example_data/DsDA/DsDA_Urine/urine_t10_simulator_files/urine_38.p\n",
      "2019-12-12 11:04:56.681 | DEBUG    | vimms.Roi:__init__:314 -      0/ 15885\n",
      "2019-12-12 11:05:23.767 | INFO     | vimms.Roi:__init__:338 - Found 15885 ROIs above thresholds\n",
      "2019-12-12 11:05:23.808 | INFO     | vimms.Common:save_obj:61 - Saving <class 'list'> to /home/joewandy/git/vimms/examples/example_data/DsDA/DsDA_Urine/urine_t10_simulator_files/urine_2.p\n",
      "2019-12-12 11:05:44.597 | DEBUG    | vimms.Roi:__init__:314 -      0/ 16543\n",
      "2019-12-12 11:06:12.183 | INFO     | vimms.Roi:__init__:338 - Found 16543 ROIs above thresholds\n",
      "2019-12-12 11:06:12.262 | INFO     | vimms.Common:save_obj:61 - Saving <class 'list'> to /home/joewandy/git/vimms/examples/example_data/DsDA/DsDA_Urine/urine_t10_simulator_files/urine_72.p\n",
      "2019-12-12 11:06:40.142 | DEBUG    | vimms.Roi:__init__:314 -      0/ 15873\n",
      "2019-12-12 11:07:08.597 | INFO     | vimms.Roi:__init__:338 - Found 15873 ROIs above thresholds\n",
      "2019-12-12 11:07:08.639 | INFO     | vimms.Common:save_obj:61 - Saving <class 'list'> to /home/joewandy/git/vimms/examples/example_data/DsDA/DsDA_Urine/urine_t10_simulator_files/urine_85.p\n",
      "2019-12-12 11:07:27.542 | DEBUG    | vimms.Roi:__init__:314 -      0/ 13291\n",
      "2019-12-12 11:07:49.997 | INFO     | vimms.Roi:__init__:338 - Found 13291 ROIs above thresholds\n",
      "2019-12-12 11:07:50.043 | INFO     | vimms.Common:save_obj:61 - Saving <class 'list'> to /home/joewandy/git/vimms/examples/example_data/DsDA/DsDA_Urine/urine_t10_simulator_files/urine_58.p\n",
      "2019-12-12 11:08:09.479 | DEBUG    | vimms.Roi:__init__:314 -      0/ 13581\n",
      "2019-12-12 11:08:32.324 | INFO     | vimms.Roi:__init__:338 - Found 13581 ROIs above thresholds\n",
      "2019-12-12 11:08:32.368 | INFO     | vimms.Common:save_obj:61 - Saving <class 'list'> to /home/joewandy/git/vimms/examples/example_data/DsDA/DsDA_Urine/urine_t10_simulator_files/urine_93.p\n",
      "2019-12-12 11:08:55.330 | DEBUG    | vimms.Roi:__init__:314 -      0/ 18282\n",
      "2019-12-12 11:09:33.880 | INFO     | vimms.Roi:__init__:338 - Found 18282 ROIs above thresholds\n",
      "2019-12-12 11:09:33.937 | INFO     | vimms.Common:save_obj:61 - Saving <class 'list'> to /home/joewandy/git/vimms/examples/example_data/DsDA/DsDA_Urine/urine_t10_simulator_files/urine_105.p\n",
      "2019-12-12 11:09:57.943 | DEBUG    | vimms.Roi:__init__:314 -      0/ 18076\n",
      "2019-12-12 11:10:30.626 | INFO     | vimms.Roi:__init__:338 - Found 18076 ROIs above thresholds\n",
      "2019-12-12 11:10:30.701 | INFO     | vimms.Common:save_obj:61 - Saving <class 'list'> to /home/joewandy/git/vimms/examples/example_data/DsDA/DsDA_Urine/urine_t10_simulator_files/urine_3.p\n",
      "2019-12-12 11:10:57.267 | DEBUG    | vimms.Roi:__init__:314 -      0/ 17104\n",
      "2019-12-12 11:11:26.772 | INFO     | vimms.Roi:__init__:338 - Found 17104 ROIs above thresholds\n",
      "2019-12-12 11:11:26.830 | INFO     | vimms.Common:save_obj:61 - Saving <class 'list'> to /home/joewandy/git/vimms/examples/example_data/DsDA/DsDA_Urine/urine_t10_simulator_files/urine_80.p\n"
     ]
    }
   ],
   "source": [
    "file_names = Path(base_dir, 'urines', 'fragmentation', 'mzML').glob('*.mzML')\n",
    "out_dir = Path(base_dir,'DsDA', 'DsDA_Urine', 'urine_t10_simulator_files')\n",
    "mzml_path = Path(base_dir, 'urines', 'fragmentation', 'mzML')\n",
    "\n",
    "extract_roi(list(file_names), out_dir, 'urine_%d.p', mzml_path, ps)"
   ]
  }
 ],
 "metadata": {
  "kernelspec": {
   "display_name": "Python 3",
   "language": "python",
   "name": "python3"
  },
  "language_info": {
   "codemirror_mode": {
    "name": "ipython",
    "version": 3
   },
   "file_extension": ".py",
   "mimetype": "text/x-python",
   "name": "python",
   "nbconvert_exporter": "python",
   "pygments_lexer": "ipython3",
   "version": "3.7.3"
  }
 },
 "nbformat": 4,
 "nbformat_minor": 4
}
