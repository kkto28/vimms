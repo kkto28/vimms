{
 "cells": [
  {
   "cell_type": "markdown",
   "metadata": {},
   "source": [
    "# DsDA Controller"
   ]
  },
  {
   "cell_type": "markdown",
   "metadata": {},
   "source": [
    "Creates multiple dataset and runs them through the DsDA method"
   ]
  },
  {
   "cell_type": "code",
   "execution_count": null,
   "metadata": {},
   "outputs": [],
   "source": [
    "%matplotlib inline"
   ]
  },
  {
   "cell_type": "code",
   "execution_count": null,
   "metadata": {},
   "outputs": [],
   "source": [
    "%load_ext autoreload\n",
    "%autoreload 2"
   ]
  },
  {
   "cell_type": "code",
   "execution_count": null,
   "metadata": {},
   "outputs": [],
   "source": [
    "import numpy as np\n",
    "import pandas as pd\n",
    "import sys\n",
    "import scipy.stats\n",
    "import pylab as plt\n",
    "from IPython import display\n",
    "import pylab as plt\n",
    "import glob\n",
    "import os"
   ]
  },
  {
   "cell_type": "code",
   "execution_count": null,
   "metadata": {},
   "outputs": [],
   "source": [
    "base_dir = os.path.join('..', '..')\n",
    "sys.path.append(base_dir)\n",
    "dsda_dir = os.getcwd()"
   ]
  },
  {
   "cell_type": "code",
   "execution_count": null,
   "metadata": {},
   "outputs": [],
   "source": [
    "from vimms.Chemicals import *\n",
    "from vimms.Chromatograms import *\n",
    "from vimms.MassSpec import *\n",
    "from vimms.Controller import *\n",
    "from vimms.Common import *\n",
    "from vimms.DataGenerator import *\n",
    "from vimms.DsDA import *"
   ]
  },
  {
   "cell_type": "code",
   "execution_count": null,
   "metadata": {},
   "outputs": [],
   "source": [
    " set_log_level_warning()\n",
    "# set_log_level_info()\n",
    "# set_log_level_debug()"
   ]
  },
  {
   "cell_type": "code",
   "execution_count": null,
   "metadata": {
    "scrolled": true
   },
   "outputs": [],
   "source": [
    "ps = load_obj(os.path.join(base_dir, 'examples', 'example_data', 'peak_sampler_mz_rt_int_19_beers_fragmentation.p'))"
   ]
  },
  {
   "cell_type": "markdown",
   "metadata": {},
   "source": [
    "#  Initial Settings"
   ]
  },
  {
   "cell_type": "code",
   "execution_count": null,
   "metadata": {},
   "outputs": [],
   "source": [
    "isolation_window = 1   # the isolation window in Dalton around a selected precursor ion\n",
    "min_ms1_intensity = 1.75E5 # minimum ms1 intensity to fragment\n",
    "min_rt = 3*60\n",
    "max_rt = 21*60\n",
    "N = 4\n",
    "rt_tol = 15\n",
    "mz_tol = 10"
   ]
  },
  {
   "cell_type": "code",
   "execution_count": null,
   "metadata": {},
   "outputs": [],
   "source": [
    "beer_dir = os.path.join(base_dir, 'examples', 'example_data', 'DsDA', 'DsDA_Beer', 'beer_t10_simulator_files')"
   ]
  },
  {
   "cell_type": "markdown",
   "metadata": {},
   "source": [
    "# Run DsDA on Beer Data"
   ]
  },
  {
   "cell_type": "code",
   "execution_count": null,
   "metadata": {},
   "outputs": [],
   "source": [
    "schedule_dir = os.path.join(dsda_dir, 'DsDA_Beer', 'settings')\n",
    "data_dir = os.path.join(dsda_dir, 'DsDA_Beer', 'Data')\n",
    "controllers_dir = os.path.join(dsda_dir, 'DsDA_Beer', 'controllers')"
   ]
  },
  {
   "cell_type": "markdown",
   "metadata": {},
   "source": [
    "Before running the next code, open and run the R script in '\\\\DsDa_Beer' in a new R window.\n",
    "\n",
    "Requirements:\n",
    "- Ensure that XCMS3 has been installed: https://bioconductor.org/packages/release/bioc/html/xcms.html."
   ]
  },
  {
   "cell_type": "code",
   "execution_count": null,
   "metadata": {},
   "outputs": [],
   "source": [
    "initial_schedule = get_schedule(1, os.path.join(dsda_dir, 'DsDA_Beer'))\n",
    "print(\"start\")\n",
    "for n in range(1,20,1):\n",
    "    dataset = load_obj(os.path.join(beer_dir, 'beer_%d.p' % n))\n",
    "    if n == 1:\n",
    "        mass_spec = IndependentMassSpectrometer(POSITIVE, dataset, density=ps.density_estimator, schedule_file=initial_schedule)\n",
    "        controller = TopNController(mass_spec, N, isolation_window, mz_tol, rt_tol, min_ms1_intensity)\n",
    "        controller.run()\n",
    "    else:\n",
    "        last_schedule = get_schedule(n-1, schedule_dir)\n",
    "        mass_spec = DsDAMassSpec(POSITIVE, dataset, density=ps.density_estimator)\n",
    "        controller = DsDAController(mass_spec, 1, 0.5, 15, 2E5)\n",
    "        controller.run(last_schedule)\n",
    "    print(\"Processed \", n+1, \" files\")\n",
    "    controller.write_mzML('my_analysis', os.path.join(data_dir, 'beer_dsda_%d.mzML' % n))\n",
    "    save_obj(controller, os.path.join(controllers_dir, 'beer_dsda_%d.p' % n))\n",
    "    print(\"Waiting for R to process .mzML files\")"
   ]
  },
  {
   "cell_type": "markdown",
   "metadata": {},
   "source": [
    "# Run DsDA MaxDepth on Beer Data"
   ]
  },
  {
   "cell_type": "code",
   "execution_count": null,
   "metadata": {},
   "outputs": [],
   "source": [
    "schedule_dir = os.path.join(dsda_dir, 'DsDA_Beer_MaxDepth', 'settings')\n",
    "data_dir = os.path.join(dsda_dir, 'DsDA_Beer_MaxDepth', 'Data')\n",
    "controllers_dir = os.path.join(dsda_dir, 'DsDA_Beer_MaxDepth', 'controllers')"
   ]
  },
  {
   "cell_type": "markdown",
   "metadata": {},
   "source": [
    "Before running the next code, open and run the R script in '\\\\DsDa_Beer' in a new R window"
   ]
  },
  {
   "cell_type": "code",
   "execution_count": null,
   "metadata": {},
   "outputs": [],
   "source": [
    "initial_schedule = get_schedule(1, os.path.join(dsda_dir, 'DsDA_Beer_MaxDepth'))\n",
    "print(\"start\")\n",
    "for n in range(1,20,1):\n",
    "    dataset = load_obj(os.path.join(beer_dir, 'beer_%d.p' % n))\n",
    "    if n == 1:\n",
    "        mass_spec = IndependentMassSpectrometer(POSITIVE, dataset, density=ps.density_estimator, schedule_file=initial_schedule)\n",
    "        controller = TopNController(mass_spec, N, isolation_window, mz_tol, rt_tol, min_ms1_intensity)\n",
    "        controller.run()\n",
    "    else:\n",
    "        last_schedule = get_schedule(n-1, schedule_dir)\n",
    "        mass_spec = DsDAMassSpec(POSITIVE, dataset, density=ps.density_estimator)\n",
    "        controller = DsDAController(mass_spec, 1, 0.5, 15, 2E5)\n",
    "        controller.run(last_schedule)\n",
    "    print(\"Processed \", n+1, \" files\")\n",
    "    controller.write_mzML('my_analysis', os.path.join(data_dir, 'beer_dsda_md_%d.mzML' % n))\n",
    "    save_obj(controller, os.path.join(controllers_dir, 'beer_dsda_md_%d.p' % n))\n",
    "    print(\"Waiting for R to process .mzML files\")"
   ]
  },
  {
   "cell_type": "markdown",
   "metadata": {},
   "source": [
    "# T4 on Beer Data"
   ]
  },
  {
   "cell_type": "code",
   "execution_count": null,
   "metadata": {},
   "outputs": [],
   "source": [
    "t4_controllers_dir = os.path.join(dsda_dir + 'T4_Beer')\n",
    "os.chdir(beer_dir)\n",
    "file_names = glob.glob(\"*.p\")"
   ]
  },
  {
   "cell_type": "code",
   "execution_count": null,
   "metadata": {},
   "outputs": [],
   "source": [
    "schedule = get_schedule(1, t4_controllers_dir)\n",
    "set_log_level_warning()\n",
    "for n in range(len(file_names)):\n",
    "    dataset = load_obj(file_names[n])\n",
    "    mass_spec = IndependentMassSpectrometer(POSITIVE, dataset, density=ps.density_estimator, schedule_file=schedule)\n",
    "    controller = TopNController(mass_spec, N, isolation_window, mz_tol, rt_tol, min_ms1_intensity)\n",
    "    controller.run()\n",
    "    print(\"Processed \", n+1, \" files\")\n",
    "    save_obj(controller, os.path.join(t4_controllers_dir, 't4_beer_%d.p' % n))"
   ]
  },
  {
   "cell_type": "markdown",
   "metadata": {},
   "source": [
    "# Code to Analyse Beer Data"
   ]
  },
  {
   "cell_type": "code",
   "execution_count": null,
   "metadata": {},
   "outputs": [],
   "source": [
    "dsda_controller_directory = os.path.join(dsda_dir, 'DsDA_Beer', 'controllers')\n",
    "dsda_maxdepth_controller_directory = os.path.join(dsda_dir + '\\\\DsDA_Beer_MaxDepth\\\\controllers'\n",
    "aligned_beer_chemicals = dsda_dir + '\\\\Aligned_Peaks\\\\beer_aligned_features_ms1.csv'\n",
    "params_t4 = create_frag_dicts(t4_controller_directory, aligned_beer_chemicals, 1.75E5)\n",
    "params_dsda = create_frag_dicts(dsda_controller_directory, aligned_beer_chemicals, 1.75E5)\n",
    "params_dsda_maxdepth = create_frag_dicts(dsda_maxdepth_controller_directory, aligned_beer_chemicals, 1.75E5)"
   ]
  },
  {
   "cell_type": "code",
   "execution_count": null,
   "metadata": {},
   "outputs": [],
   "source": [
    "beer_chemicals_found_results_t4 = multi_sample_fragmentation_performance_aligned(params_t4)\n",
    "beer_chemicals_found_results_dsda = multi_sample_fragmentation_performance_aligned(params_dsda)\n",
    "beer_chemicals_found_results_dsda_maxdepth = multi_sample_fragmentation_performance_aligned(params_dsda_maxdepth)"
   ]
  },
  {
   "cell_type": "code",
   "execution_count": null,
   "metadata": {
    "scrolled": true
   },
   "outputs": [],
   "source": [
    "plt.figure(figsize=(12, 6))\n",
    "plt.plot(range(1,20,1),np.array(beer_chemicals_found_results_dsda_maxdepth),label=\"DsDA MaxDepth\")\n",
    "plt.plot(range(1,20,1),np.array(beer_chemicals_found_results_dsda),label=\"DsDA\")\n",
    "plt.plot(range(1,20,1),np.array(beer_chemicals_found_results_t4),label=\"T4\")\n",
    "plt.legend(loc='lower right')\n",
    "ax = plt.gca()\n",
    "for l in ax.lines:\n",
    "    plt.setp(l, linewidth=5)\n",
    "plt.tight_layout()"
   ]
  }
 ],
 "metadata": {
  "kernelspec": {
   "display_name": "Python 3",
   "language": "python",
   "name": "python3"
  },
  "language_info": {
   "codemirror_mode": {
    "name": "ipython",
    "version": 3
   },
   "file_extension": ".py",
   "mimetype": "text/x-python",
   "name": "python",
   "nbconvert_exporter": "python",
   "pygments_lexer": "ipython3",
   "version": "3.7.3"
  }
 },
 "nbformat": 4,
 "nbformat_minor": 1
}
