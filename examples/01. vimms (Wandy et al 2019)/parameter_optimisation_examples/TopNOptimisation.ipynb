{
 "cells": [
  {
   "cell_type": "markdown",
   "metadata": {},
   "source": [
    "# Varying N in Top-N Simulations"
   ]
  },
  {
   "cell_type": "markdown",
   "metadata": {},
   "source": [
    "This is a notebook showing how to take an mzml file and rerun multiple Top-N analyses to find the optimal choise of N and Dynamic Exclusion Window (DEW). The user provides an mzml file and options for N and DEW. Eventually it will be possible for the user to specify other settings.\n",
    "\n",
    "To use this file the user will need to have\n",
    "- ViMMS - github.com/sdrogers/vimms\n",
    "- pymzm - github.com/sdrogers/pymzm\n",
    "- MZMine2 (this will need to be in the same parent directory as the experiment and data)"
   ]
  },
  {
   "cell_type": "markdown",
   "metadata": {},
   "source": [
    "# 1. Load Packages"
   ]
  },
  {
   "cell_type": "markdown",
   "metadata": {},
   "source": [
    "This loads the packages needed to run the example and add locations for the github repositories. You will need to add your own locations in order to be able to use it"
   ]
  },
  {
   "cell_type": "code",
   "execution_count": 1,
   "metadata": {},
   "outputs": [],
   "source": [
    "%matplotlib inline\n",
    "%load_ext autoreload\n",
    "%autoreload 2"
   ]
  },
  {
   "cell_type": "code",
   "execution_count": 2,
   "metadata": {},
   "outputs": [],
   "source": [
    "import sys\n",
    "sys.path.append('C:\\\\Users\\\\joewa\\\\Work\\\\git\\\\vimms')\n",
    "sys.path.append('C:\\\\Users\\\\Vinny\\\\work\\\\vimms')"
   ]
  },
  {
   "cell_type": "code",
   "execution_count": 3,
   "metadata": {},
   "outputs": [],
   "source": [
    "sys.path.append('C:\\\\Users\\\\joewa\\\\Work\\\\git\\\\pymzm')\n",
    "sys.path.append('C:\\\\Users\\\\Vinny\\\\work\\\\pymzm')"
   ]
  },
  {
   "cell_type": "code",
   "execution_count": 4,
   "metadata": {},
   "outputs": [],
   "source": [
    "from pathlib import Path\n",
    "from pyDOE import *\n",
    "from vimms.Environment import *"
   ]
  },
  {
   "cell_type": "code",
   "execution_count": 5,
   "metadata": {},
   "outputs": [],
   "source": [
    "from vimms.Chemicals import ChemicalCreator, GET_MS2_BY_PEAKS, GET_MS2_BY_SPECTRA\n",
    "from vimms.MassSpec import IndependentMassSpectrometer\n",
    "from vimms.Controller import *\n",
    "from vimms.Common import *\n",
    "from vimms.PlotsForPaper import *\n",
    "from vimms.Roi import make_roi, RoiToChemicalCreator, extract_roi\n",
    "from vimms.BOMAS import mzml2chems\n",
    "from vimms.SequenceManager import *"
   ]
  },
  {
   "cell_type": "code",
   "execution_count": 6,
   "metadata": {},
   "outputs": [],
   "source": [
    "base_dir = os.path.abspath('../Trained Models')\n",
    "data_dir = os.path.abspath('./QCsamples')"
   ]
  },
  {
   "cell_type": "code",
   "execution_count": 7,
   "metadata": {},
   "outputs": [],
   "source": [
    "set_log_level_info()"
   ]
  },
  {
   "cell_type": "markdown",
   "metadata": {},
   "source": [
    "# 2. Settings"
   ]
  },
  {
   "cell_type": "markdown",
   "metadata": {},
   "source": [
    "This sections specifies settings that are initially fixed. Settings are provided for the Mass Spec, the Top-N Controller and MZMine2 peak picking. Folders are also given to save the files, which will need to be update to use the example"
   ]
  },
  {
   "cell_type": "code",
   "execution_count": 8,
   "metadata": {},
   "outputs": [],
   "source": [
    "# this is needed to create the datasets\n",
    "ps = load_obj('C:\\\\Users\\\\Vinny\\\\OneDrive - University of Glasgow\\\\CLDS Metabolomics Project\\\\Trained Models\\\\peak_sampler_mz_rt_int_beerqcb_fragmentation.p')"
   ]
  },
  {
   "cell_type": "code",
   "execution_count": 9,
   "metadata": {},
   "outputs": [],
   "source": [
    "# This is where I save my results\n",
    "experiment_dir = 'C:\\\\Users\\\\Vinny\\\\work\\\\mzmine_files'\n",
    "output_dir = os.path.join(experiment_dir, 'SimpleExperiments\\\\GridSearch\\\\experiment_2_2_3')"
   ]
  },
  {
   "cell_type": "code",
   "execution_count": 10,
   "metadata": {},
   "outputs": [],
   "source": [
    "# these are the parameters for the virutal mass spec\n",
    "mass_spec_params = {'ionisation_mode': POSITIVE,\n",
    "                    'peak_sampler': ps,\n",
    "                    'add_noise': False,\n",
    "                    'isolation_transition_window': 'rectangular',\n",
    "                    'isolation_transition_window_params': None}"
   ]
  },
  {
   "cell_type": "code",
   "execution_count": 11,
   "metadata": {},
   "outputs": [],
   "source": [
    "# these are the default for the parameters for the controller. Some of these will get replaced for different runs in section 4\n",
    "controller_params = {\"ionisation_mode\": POSITIVE,\n",
    "                       \"N\": 10,\n",
    "                       \"mz_tol\": 10,\n",
    "                       \"rt_tol\":30,\n",
    "                       \"min_ms1_intensity\": 1.75E5,\n",
    "                       \"rt_range\": [(200, 400)],\n",
    "                       \"isolation_width\": 1}"
   ]
  },
  {
   "cell_type": "code",
   "execution_count": 12,
   "metadata": {},
   "outputs": [],
   "source": [
    "# these are the parameters that get used to convert the mzml into a ViMMS dataset\n",
    "MZML2CHEMS_DICT = {'min_ms1_intensity': 1.75E5,\n",
    "                  'mz_tol': 5,\n",
    "                  'mz_units':'ppm',\n",
    "                  'min_length':1,\n",
    "                  'min_intensity':0,\n",
    "                  'start_rt':0,\n",
    "                  'stop_rt':1560}"
   ]
  },
  {
   "cell_type": "code",
   "execution_count": 13,
   "metadata": {},
   "outputs": [],
   "source": [
    "# this is where mzmine is and is used to pick the peaks\n",
    "mzmine_command = 'C:\\\\Users\\\\Vinny\\\\work\\\\MZmine-2.40.1\\\\MZmine-2.40.1\\\\startMZmine_Windows.bat'"
   ]
  },
  {
   "cell_type": "markdown",
   "metadata": {},
   "source": [
    "# 3. User Inputs"
   ]
  },
  {
   "cell_type": "markdown",
   "metadata": {},
   "source": [
    "These are the inputs that the user will need to supply\n",
    "- the mzml file that is going to be re-analysed\n",
    "- which settings to test\n",
    "- what method to evaluate the method using (this is the only option currently, but it would be good to make the app generic enough to take other options in the future"
   ]
  },
  {
   "cell_type": "code",
   "execution_count": 14,
   "metadata": {},
   "outputs": [],
   "source": [
    "mzml_file = os.path.join(experiment_dir, 'QCB\\\\fullscan_mzmls\\\\QCB_22May19_1.mzML')"
   ]
  },
  {
   "cell_type": "code",
   "execution_count": 15,
   "metadata": {},
   "outputs": [],
   "source": [
    "topn_variable_params_dict = {'N': [10,20], 'rt_tol': [15,30]}"
   ]
  },
  {
   "cell_type": "code",
   "execution_count": 16,
   "metadata": {},
   "outputs": [],
   "source": [
    "evaluation_methods = ['mzmine_peak']"
   ]
  },
  {
   "cell_type": "markdown",
   "metadata": {},
   "source": [
    "# 4. Run Methods"
   ]
  },
  {
   "cell_type": "markdown",
   "metadata": {},
   "source": [
    "This takes all the information previously given and runs a grid search over all the possible values given"
   ]
  },
  {
   "cell_type": "code",
   "execution_count": 17,
   "metadata": {},
   "outputs": [
    {
     "name": "stderr",
     "output_type": "stream",
     "text": [
      "2020-07-15 15:01:11.161 | INFO     | vimms.Roi:__init__:406 - Found 797 ROIs above thresholds\n",
      "2020-07-15 15:01:11.172 | INFO     | vimms.Common:save_obj:61 - Saving <class 'list'> to C:\\Users\\Vinny\\work\\mzmine_files\\QCB\\fullscan_mzmls\\QCB_22May19_1.p\n",
      "2020-07-15 15:01:14.247 | INFO     | vimms.Common:save_obj:61 - Saving <class 'list'> to C:\\Users\\Vinny\\work\\mzmine_files\\SimpleExperiments\\GridSearch\\experiment_2_2_3\\QCB_22May19_1.p\n",
      "2020-07-15 15:01:15.372 | INFO     | vimms.PythonMzmine:pick_peaks:23 - Creating xml batch file for QCB_22May19_1.mzML\n",
      "2020-07-15 15:01:15.376 | INFO     | vimms.PythonMzmine:pick_peaks:53 - Running mzMine for QCB_22May19_1.mzML\n",
      "2020-07-15 15:07:00.474 | INFO     | vimms.SequenceManager:run:241 - Running in serial mode\n",
      "2020-07-15 15:07:00.475 | INFO     | vimms.SequenceManager:run_controller:197 - Begun experiment: sample0\n",
      "(1440.201s) ms_level=1 N=10 DEW=15: 100%|███████████████████████████████████████████████████████████████████████████████████████████████▉| 1438.5167784357027/1440 [00:27<00:00, 52.60it/s]\n",
      "2020-07-15 15:10:27.060 | INFO     | vimms.SequenceManager:run_controller:201 - Completed experiment: sample0\n",
      "2020-07-15 15:10:27.061 | INFO     | vimms.SequenceManager:run_evaluation:211 - Started Evaluation: sample0\n"
     ]
    },
    {
     "name": "stdout",
     "output_type": "stream",
     "text": [
      "Loaded 3073 scans\n"
     ]
    },
    {
     "name": "stderr",
     "output_type": "stream",
     "text": [
      "2020-07-15 15:10:30.679 | INFO     | vimms.SequenceManager:run_evaluation:213 - Completed Evaluation: sample0\n",
      "2020-07-15 15:10:30.681 | INFO     | vimms.SequenceManager:run_serial:253 - Finished 0\n",
      "2020-07-15 15:10:30.682 | INFO     | vimms.SequenceManager:run_controller:197 - Begun experiment: sample1\n",
      "(1441.025s) ms_level=1 N=10 DEW=30: 100%|███████████████████████████████████████████████████████████████████████████████████████████████▉| 1439.4047205404356/1440 [00:21<00:00, 66.07it/s]\n",
      "2020-07-15 15:11:01.293 | INFO     | vimms.SequenceManager:run_controller:201 - Completed experiment: sample1\n",
      "2020-07-15 15:11:01.294 | INFO     | vimms.SequenceManager:run_evaluation:211 - Started Evaluation: sample1\n"
     ]
    },
    {
     "name": "stdout",
     "output_type": "stream",
     "text": [
      "Loaded 2447 scans\n"
     ]
    },
    {
     "name": "stderr",
     "output_type": "stream",
     "text": [
      "2020-07-15 15:11:04.314 | INFO     | vimms.SequenceManager:run_evaluation:213 - Completed Evaluation: sample1\n",
      "2020-07-15 15:11:04.316 | INFO     | vimms.SequenceManager:run_serial:253 - Finished 1\n",
      "2020-07-15 15:11:04.316 | INFO     | vimms.SequenceManager:run_controller:197 - Begun experiment: sample2\n",
      "(1440.029s) ms_level=1 N=20 DEW=15: 100%|███████████████████████████████████████████████████████████████████████████████████████████████▉| 1439.8856342021977/1440 [00:28<00:00, 50.98it/s]\n",
      "2020-07-15 15:11:43.366 | INFO     | vimms.SequenceManager:run_controller:201 - Completed experiment: sample2\n",
      "2020-07-15 15:11:43.367 | INFO     | vimms.SequenceManager:run_evaluation:211 - Started Evaluation: sample2\n"
     ]
    },
    {
     "name": "stdout",
     "output_type": "stream",
     "text": [
      "Loaded 3147 scans\n"
     ]
    },
    {
     "name": "stderr",
     "output_type": "stream",
     "text": [
      "2020-07-15 15:11:47.590 | INFO     | vimms.SequenceManager:run_evaluation:213 - Completed Evaluation: sample2\n",
      "2020-07-15 15:11:47.592 | INFO     | vimms.SequenceManager:run_serial:253 - Finished 2\n",
      "2020-07-15 15:11:47.593 | INFO     | vimms.SequenceManager:run_controller:197 - Begun experiment: sample3\n",
      "(1440.184s) ms_level=1 N=20 DEW=30: 100%|███████████████████████████████████████████████████████████████████████████████████████████████▉| 1438.6282344889767/1440 [00:23<00:00, 61.85it/s]\n",
      "2020-07-15 15:12:19.683 | INFO     | vimms.SequenceManager:run_controller:201 - Completed experiment: sample3\n",
      "2020-07-15 15:12:19.684 | INFO     | vimms.SequenceManager:run_evaluation:211 - Started Evaluation: sample3\n"
     ]
    },
    {
     "name": "stdout",
     "output_type": "stream",
     "text": [
      "Loaded 2457 scans\n"
     ]
    },
    {
     "name": "stderr",
     "output_type": "stream",
     "text": [
      "2020-07-15 15:12:22.361 | INFO     | vimms.SequenceManager:run_evaluation:213 - Completed Evaluation: sample3\n",
      "2020-07-15 15:12:22.362 | INFO     | vimms.SequenceManager:run_serial:253 - Finished 3\n"
     ]
    }
   ],
   "source": [
    "vsm = VimmsSequenceManager(None, evaluation_methods, output_dir, progress_bar=True, ms1_picked_peaks_file=None, mzmine_command=mzmine_command)\n",
    "gs = GridSearchExperiment(vsm, 'TopNController', mass_spec_params, None, topn_variable_params_dict, controller_params, mzml_file, MZML2CHEMS_DICT=MZML2CHEMS_DICT, ps=ps, parallel=False)"
   ]
  },
  {
   "cell_type": "markdown",
   "metadata": {},
   "source": [
    "# 5. Analyse Results"
   ]
  },
  {
   "cell_type": "code",
   "execution_count": 18,
   "metadata": {},
   "outputs": [
    {
     "data": {
      "text/html": [
       "<div>\n",
       "<style scoped>\n",
       "    .dataframe tbody tr th:only-of-type {\n",
       "        vertical-align: middle;\n",
       "    }\n",
       "\n",
       "    .dataframe tbody tr th {\n",
       "        vertical-align: top;\n",
       "    }\n",
       "\n",
       "    .dataframe thead th {\n",
       "        text-align: right;\n",
       "    }\n",
       "</style>\n",
       "<table border=\"1\" class=\"dataframe\">\n",
       "  <thead>\n",
       "    <tr style=\"text-align: right;\">\n",
       "      <th></th>\n",
       "      <th>Sample ID</th>\n",
       "      <th>Controller Method</th>\n",
       "      <th>N</th>\n",
       "      <th>mz_tol</th>\n",
       "      <th>rt_tol</th>\n",
       "      <th>min_ms1_intensity</th>\n",
       "      <th>ms1_agc_target</th>\n",
       "      <th>ms1_max_it</th>\n",
       "      <th>ms1_collision_energy</th>\n",
       "      <th>ms1_orbitrap_resolution</th>\n",
       "      <th>ms2_agc_target</th>\n",
       "      <th>ms2_max_it</th>\n",
       "      <th>ms2_collision_energy</th>\n",
       "      <th>ms2_orbitrap_resolution</th>\n",
       "      <th>mzmine_peak</th>\n",
       "    </tr>\n",
       "  </thead>\n",
       "  <tbody>\n",
       "    <tr>\n",
       "      <th>0</th>\n",
       "      <td>sample0</td>\n",
       "      <td>TopNController</td>\n",
       "      <td>10</td>\n",
       "      <td>10</td>\n",
       "      <td>15</td>\n",
       "      <td>175000.0</td>\n",
       "      <td>200000.0</td>\n",
       "      <td>250.0</td>\n",
       "      <td>0.0</td>\n",
       "      <td>120000.0</td>\n",
       "      <td>30000.0</td>\n",
       "      <td>100.0</td>\n",
       "      <td>25.0</td>\n",
       "      <td>7500.0</td>\n",
       "      <td>492.0</td>\n",
       "    </tr>\n",
       "    <tr>\n",
       "      <th>1</th>\n",
       "      <td>sample1</td>\n",
       "      <td>TopNController</td>\n",
       "      <td>10</td>\n",
       "      <td>10</td>\n",
       "      <td>30</td>\n",
       "      <td>175000.0</td>\n",
       "      <td>200000.0</td>\n",
       "      <td>250.0</td>\n",
       "      <td>0.0</td>\n",
       "      <td>120000.0</td>\n",
       "      <td>30000.0</td>\n",
       "      <td>100.0</td>\n",
       "      <td>25.0</td>\n",
       "      <td>7500.0</td>\n",
       "      <td>481.0</td>\n",
       "    </tr>\n",
       "    <tr>\n",
       "      <th>2</th>\n",
       "      <td>sample2</td>\n",
       "      <td>TopNController</td>\n",
       "      <td>20</td>\n",
       "      <td>10</td>\n",
       "      <td>15</td>\n",
       "      <td>175000.0</td>\n",
       "      <td>200000.0</td>\n",
       "      <td>250.0</td>\n",
       "      <td>0.0</td>\n",
       "      <td>120000.0</td>\n",
       "      <td>30000.0</td>\n",
       "      <td>100.0</td>\n",
       "      <td>25.0</td>\n",
       "      <td>7500.0</td>\n",
       "      <td>510.0</td>\n",
       "    </tr>\n",
       "    <tr>\n",
       "      <th>3</th>\n",
       "      <td>sample3</td>\n",
       "      <td>TopNController</td>\n",
       "      <td>20</td>\n",
       "      <td>10</td>\n",
       "      <td>30</td>\n",
       "      <td>175000.0</td>\n",
       "      <td>200000.0</td>\n",
       "      <td>250.0</td>\n",
       "      <td>0.0</td>\n",
       "      <td>120000.0</td>\n",
       "      <td>30000.0</td>\n",
       "      <td>100.0</td>\n",
       "      <td>25.0</td>\n",
       "      <td>7500.0</td>\n",
       "      <td>484.0</td>\n",
       "    </tr>\n",
       "  </tbody>\n",
       "</table>\n",
       "</div>"
      ],
      "text/plain": [
       "  Sample ID Controller Method   N  mz_tol  rt_tol  min_ms1_intensity  \\\n",
       "0   sample0    TopNController  10      10      15           175000.0   \n",
       "1   sample1    TopNController  10      10      30           175000.0   \n",
       "2   sample2    TopNController  20      10      15           175000.0   \n",
       "3   sample3    TopNController  20      10      30           175000.0   \n",
       "\n",
       "   ms1_agc_target  ms1_max_it  ms1_collision_energy  ms1_orbitrap_resolution  \\\n",
       "0        200000.0       250.0                   0.0                 120000.0   \n",
       "1        200000.0       250.0                   0.0                 120000.0   \n",
       "2        200000.0       250.0                   0.0                 120000.0   \n",
       "3        200000.0       250.0                   0.0                 120000.0   \n",
       "\n",
       "   ms2_agc_target  ms2_max_it  ms2_collision_energy  ms2_orbitrap_resolution  \\\n",
       "0         30000.0       100.0                  25.0                   7500.0   \n",
       "1         30000.0       100.0                  25.0                   7500.0   \n",
       "2         30000.0       100.0                  25.0                   7500.0   \n",
       "3         30000.0       100.0                  25.0                   7500.0   \n",
       "\n",
       "   mzmine_peak  \n",
       "0        492.0  \n",
       "1        481.0  \n",
       "2        510.0  \n",
       "3        484.0  "
      ]
     },
     "execution_count": 18,
     "metadata": {},
     "output_type": "execute_result"
    }
   ],
   "source": [
    "gs.results"
   ]
  },
  {
   "cell_type": "code",
   "execution_count": 19,
   "metadata": {},
   "outputs": [
    {
     "data": {
      "image/png": "[encoded data removed]",
      "text/plain": [
       "<Figure size 432x288 with 2 Axes>"
      ]
     },
     "metadata": {
      "needs_background": "light"
     },
     "output_type": "display_data"
    }
   ],
   "source": [
    "Heatmap_GridSearch(gs, 'mzmine_peak', 'rt_tol', 'N')"
   ]
  },
  {
   "cell_type": "code",
   "execution_count": null,
   "metadata": {},
   "outputs": [],
   "source": []
  }
 ],
 "metadata": {
  "kernelspec": {
   "display_name": "Python 3",
   "language": "python",
   "name": "python3"
  },
  "language_info": {
   "codemirror_mode": {
    "name": "ipython",
    "version": 3
   },
   "file_extension": ".py",
   "mimetype": "text/x-python",
   "name": "python",
   "nbconvert_exporter": "python",
   "pygments_lexer": "ipython3",
   "version": "3.7.3"
  }
 },
 "nbformat": 4,
 "nbformat_minor": 4
}
