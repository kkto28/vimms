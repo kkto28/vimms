{
 "cells": [
  {
   "cell_type": "markdown",
   "metadata": {},
   "source": [
    "This notebook is an example of how to optimise samples for the SmartROI and WeightedDEW methods"
   ]
  },
  {
   "cell_type": "code",
   "execution_count": null,
   "metadata": {},
   "outputs": [],
   "source": [
    "%load_ext autoreload\n",
    "%autoreload 2"
   ]
  },
  {
   "cell_type": "code",
   "execution_count": null,
   "metadata": {},
   "outputs": [],
   "source": [
    "import xml.etree.ElementTree\n",
    "import os,glob,sys\n",
    "import numpy as np\n",
    "import pandas as pd\n",
    "import seaborn as sns"
   ]
  },
  {
   "cell_type": "code",
   "execution_count": null,
   "metadata": {},
   "outputs": [],
   "source": [
    "import sys\n",
    "sys.path.append('../..')"
   ]
  },
  {
   "cell_type": "code",
   "execution_count": null,
   "metadata": {},
   "outputs": [],
   "source": [
    "from vimms.PythonMzmine import *\n",
    "from vimms.MassSpec import IndependentMassSpectrometer\n",
    "from vimms.Controller import TopNController,WeightedDEWController\n",
    "from vimms.PythonMzmine import *"
   ]
  },
  {
   "cell_type": "code",
   "execution_count": null,
   "metadata": {},
   "outputs": [],
   "source": [
    "from vimms.Roi import make_roi, RoiToChemicalCreator\n",
    "from vimms.BOMAS import *\n",
    "from vimms.Common import *\n",
    "from vimms.Environment import *\n",
    "from pathlib import Path\n",
    "from vimms.PlotsForPaper import get_frag_events"
   ]
  },
  {
   "cell_type": "code",
   "execution_count": null,
   "metadata": {},
   "outputs": [],
   "source": [
    "from vimms.DataGenerator import extract_hmdb_metabolite, get_data_source, get_spectral_feature_database"
   ]
  },
  {
   "cell_type": "code",
   "execution_count": null,
   "metadata": {},
   "outputs": [],
   "source": [
    "set_log_level_warning()"
   ]
  },
  {
   "cell_type": "markdown",
   "metadata": {},
   "source": [
    "# Load files needed to run experiments"
   ]
  },
  {
   "cell_type": "code",
   "execution_count": null,
   "metadata": {},
   "outputs": [],
   "source": [
    "data_dir = os.path.join(os.path.abspath(os.path.join(os.path.join(os.getcwd(),\"..\"),\"..\")),'tests','integration','fixtures')\n",
    "ps = load_obj(Path(data_dir,'peak_sampler_mz_rt_int_beerqcb_fragmentation.p'))"
   ]
  },
  {
   "cell_type": "code",
   "execution_count": null,
   "metadata": {},
   "outputs": [],
   "source": [
    "MZML2CHEMS_DICT = {'min_ms1_intensity': 0,\n",
    "                  'mz_tol': 5,\n",
    "                  'mz_units':'ppm',\n",
    "                  'min_length':1,\n",
    "                  'min_intensity':0,\n",
    "                  'start_rt':0,\n",
    "                  'stop_rt':1560}"
   ]
  },
  {
   "cell_type": "code",
   "execution_count": null,
   "metadata": {},
   "outputs": [],
   "source": [
    "mzmine_command = 'C:\\\\Users\\\\Vinny\\\\work\\\\MZmine-2.40.1\\\\MZmine-2.40.1\\\\startMZmine_Windows.bat'\n",
    "xml_file = os.path.abspath(os.path.join(os.getcwd(), '..', '..', 'batch_files', 'QC_PP.xml'))"
   ]
  },
  {
   "cell_type": "markdown",
   "metadata": {},
   "source": [
    "# Data"
   ]
  },
  {
   "cell_type": "markdown",
   "metadata": {},
   "source": [
    "original mzml files that the methods were optimised on"
   ]
  },
  {
   "cell_type": "code",
   "execution_count": null,
   "metadata": {},
   "outputs": [],
   "source": [
    "SmartROI_QCA_mzml = 'C:\\\\Users\\\\Vinny\\\\OneDrive - University of Glasgow\\\\CLDS Metabolomics Project\\\\TopN_vs_ROI\\\\QCA\\\\from_controller_TopN_QCA.mzML'\n",
    "SmartROI_QCB_mzml = 'C:\\\\Users\\\\Vinny\\\\OneDrive - University of Glasgow\\\\CLDS Metabolomics Project\\\\TopN_vs_ROI\\\\QCB\\\\from_controller_TopN_QCB.mzML'\n",
    "WeightedDEW_QCA_mzml = 'C:\\\\Users\\\\Vinny\\\\OneDrive - University of Glasgow\\\\CLDS Metabolomics Project\\\\Experimental_Results\\\\20200715_TopN_vs_ROI\\\\from_controllers\\\\QCA\\\\TopN_QCA.mzML'\n",
    "WeightedDEW_QCB_mzml = 'C:\\\\Users\\\\Vinny\\\\OneDrive - University of Glasgow\\\\CLDS Metabolomics Project\\\\Experimental_Results\\\\20200715_TopN_vs_ROI\\\\from_controllers\\\\QCB\\\\TopN_QCB.mzML'"
   ]
  },
  {
   "cell_type": "markdown",
   "metadata": {},
   "source": [
    "We can convert them into the ViMMS chemicals to allow us to run the virtual MS"
   ]
  },
  {
   "cell_type": "code",
   "execution_count": null,
   "metadata": {},
   "outputs": [],
   "source": [
    "SmartROI_QCA_dataset = mzml2chems(SmartROI_QCA_mzml, ps, MZML2CHEMS_DICT, n_peaks=None)\n",
    "SmartROI_QCB_dataset = mzml2chems(SmartROI_QCB_mzml, ps, MZML2CHEMS_DICT, n_peaks=None)\n",
    "WeightedDEW_QCA_dataset = mzml2chems(WeightedDEW_QCA_mzml, ps, MZML2CHEMS_DICT, n_peaks=None)\n",
    "WeightedDEW_QCB_dataset = mzml2chems(WeightedDEW_QCB_mzml, ps, MZML2CHEMS_DICT, n_peaks=None)"
   ]
  },
  {
   "cell_type": "code",
   "execution_count": null,
   "metadata": {},
   "outputs": [],
   "source": [
    "save_obj(SmartROI_QCA_dataset, Path(os.getcwd(),'SmartROI_QCA_dataset.p'))\n",
    "save_obj(SmartROI_QCB_dataset, Path(os.getcwd(),'SmartROI_QCB_dataset.p'))\n",
    "save_obj(WeightedDEW_QCA_dataset, Path(os.getcwd(),'WeightedDEW_QCA_dataset.p'))\n",
    "save_obj(WeightedDEW_QCB_dataset, Path(os.getcwd(),'WeightedDEW_QCB_dataset.p'))"
   ]
  },
  {
   "cell_type": "code",
   "execution_count": null,
   "metadata": {},
   "outputs": [],
   "source": [
    "SmartROI_QCA_dataset = load_obj(Path(os.getcwd(),'SmartROI_QCA_dataset.p'))\n",
    "SmartROI_QCB_dataset = load_obj(Path(os.getcwd(),'SmartROI_QCB_dataset.p'))\n",
    "WeightedDEW_QCA_dataset = load_obj(Path(os.getcwd(),'WeightedDEW_QCA_dataset.p'))\n",
    "WeightedDEW_QCB_dataset = load_obj(Path(os.getcwd(),'WeightedDEW_QCB_dataset.p'))"
   ]
  },
  {
   "cell_type": "markdown",
   "metadata": {},
   "source": [
    "We can pick the peaks from them in order to evaluate performance"
   ]
  },
  {
   "cell_type": "code",
   "execution_count": null,
   "metadata": {},
   "outputs": [],
   "source": [
    "pick_peaks([SmartROI_QCA_mzml], xml_template=xml_file, output_dir=os.getcwd(), mzmine_command=mzmine_command)\n",
    "pick_peaks([SmartROI_QCB_mzml], xml_template=xml_file, output_dir=os.getcwd(), mzmine_command=mzmine_command)\n",
    "pick_peaks([WeightedDEW_QCA_mzml], xml_template=xml_file, output_dir=os.getcwd(), mzmine_command=mzmine_command)\n",
    "pick_peaks([WeightedDEW_QCB_mzml], xml_template=xml_file, output_dir=os.getcwd(), mzmine_command=mzmine_command)"
   ]
  },
  {
   "cell_type": "markdown",
   "metadata": {},
   "source": [
    "Load the picked peaks files and convert them into boxes for use in the evaluation"
   ]
  },
  {
   "cell_type": "code",
   "execution_count": null,
   "metadata": {},
   "outputs": [],
   "source": [
    "SmartROI_QCA_boxes = load_picked_boxes(Path(os.getcwd(), 'from_controller_TopN_QCA_pp.csv'))\n",
    "SmartROI_QCB_boxes = load_picked_boxes(Path(os.getcwd(), 'from_controller_TopN_QCB_pp.csv'))\n",
    "WeightedDEW_QCA_boxes = load_picked_boxes(Path(os.getcwd(), 'TopN_QCA_pp.csv'))\n",
    "WeightedDEW_QCB_boxes = load_picked_boxes(Path(os.getcwd(), 'TopN_QCB_pp.csv'))"
   ]
  },
  {
   "cell_type": "markdown",
   "metadata": {},
   "source": [
    "## Experiment Parameters"
   ]
  },
  {
   "cell_type": "code",
   "execution_count": null,
   "metadata": {},
   "outputs": [],
   "source": [
    "min_rt = 0\n",
    "max_rt = 26*60 # entire run\n",
    "min_ms1_intensity = 5000\n",
    "mz_tol = 10\n",
    "rt_tol = 15\n",
    "N = 10\n",
    "\n",
    "roi_time_dict = {1: 0.71,2:0.20}\n",
    "topn_time_dict = {1: 0.60,2:0.20}\n",
    "\n",
    "ionisation_mode = POSITIVE\n",
    "isolation_width = 1\n",
    "\n",
    "min_roi_intensity = 500\n",
    "min_roi_length = 0\n",
    "min_roi_length_for_fragmentation = 0"
   ]
  },
  {
   "cell_type": "markdown",
   "metadata": {},
   "source": [
    "SmartROI parameter options"
   ]
  },
  {
   "cell_type": "code",
   "execution_count": null,
   "metadata": {},
   "outputs": [],
   "source": [
    "reset_length_seconds = 1e6 # set so reset never happens\n",
    "iif_values = [2,3,5,10,1e3,1e6]\n",
    "dp_values = [0,0.1,0.5,1,5]"
   ]
  },
  {
   "cell_type": "markdown",
   "metadata": {},
   "source": [
    "WeighedDEW parameter options"
   ]
  },
  {
   "cell_type": "code",
   "execution_count": null,
   "metadata": {},
   "outputs": [],
   "source": [
    "t0_vals = [1,3,5,10,15,30,60]\n",
    "t0_vals = [1,3,10,15,30,60]\n",
    "rt_tol_vals = [15,30,60,120,240,300,360]\n",
    "rt_tol_vals = [15,60,120,240,360,3600]"
   ]
  },
  {
   "cell_type": "markdown",
   "metadata": {},
   "source": [
    "## Experiment 1 - QCA, SmartROI"
   ]
  },
  {
   "cell_type": "code",
   "execution_count": null,
   "metadata": {},
   "outputs": [],
   "source": [
    "output_folder = Path(os.getcwd(), 'experiment_1')"
   ]
  },
  {
   "cell_type": "code",
   "execution_count": null,
   "metadata": {},
   "outputs": [],
   "source": [
    "for iif in iif_values:\n",
    "    for dp in dp_values:\n",
    "        print(iif,dp)\n",
    "        intensity_increase_factor = iif # fragment ROI again if intensity increases 10 fold\n",
    "        drop_perc = dp/100\n",
    "\n",
    "        controller = TopN_SmartRoiController(ionisation_mode, isolation_width, mz_tol, min_ms1_intensity,\n",
    "                                             min_roi_intensity, min_roi_length, N = N, rt_tol = rt_tol, \n",
    "                                             min_roi_length_for_fragmentation = min_roi_length_for_fragmentation,\n",
    "                                             reset_length_seconds = reset_length_seconds,\n",
    "                                             intensity_increase_factor = intensity_increase_factor,\n",
    "                                             drop_perc = drop_perc)\n",
    "\n",
    "        mass_spec = IndependentMassSpectrometer(ionisation_mode, SmartROI_QCA_dataset,\n",
    "                                                ps,\n",
    "                                                add_noise=True,\n",
    "                                               scan_duration_dict=roi_time_dict)\n",
    "\n",
    "        env = Environment(mass_spec, controller, min_rt, max_rt, progress_bar=True)\n",
    "        env.run()\n",
    "        \n",
    "        out_name = 'SmartROI_{}_{}.mzml'.format(iif,dp)\n",
    "        env.write_mzML(output_folder, out_name)"
   ]
  },
  {
   "cell_type": "code",
   "execution_count": null,
   "metadata": {},
   "outputs": [],
   "source": [
    "counts_exp1 = np.zeros((len(iif_values),len(dp_values)))\n",
    "for i,iif in enumerate(iif_values):\n",
    "    for j,dp in enumerate(dp_values):\n",
    "        print(iif,dp)\n",
    "        fname = 'SmartROI_{}_{}.mzml'.format(iif,dp)\n",
    "        mz_file = MZMLFile(os.path.join(output_folder,fname))\n",
    "        scans2boxes,boxes2scans = map_boxes_to_scans(mz_file,SmartROI_QCA_boxes,half_isolation_window = 0)\n",
    "        counts_exp1[i,j] = len(boxes2scans)\n",
    "save_obj(counts_exp1, Path(os.getcwd(),'counts_exp1.p'))"
   ]
  },
  {
   "cell_type": "code",
   "execution_count": null,
   "metadata": {},
   "outputs": [],
   "source": [
    "plt.imshow(counts_exp1,aspect='auto')\n",
    "plt.yticks(range(len(iif_values)),iif_values)\n",
    "plt.xticks(range(len(dp_values)),dp_values)\n",
    "plt.colorbar()"
   ]
  },
  {
   "cell_type": "markdown",
   "metadata": {},
   "source": [
    "## Experiment 2 - QCB, SmartROI"
   ]
  },
  {
   "cell_type": "code",
   "execution_count": null,
   "metadata": {},
   "outputs": [],
   "source": [
    "output_folder = Path(os.getcwd(), 'experiment_2')"
   ]
  },
  {
   "cell_type": "code",
   "execution_count": null,
   "metadata": {},
   "outputs": [],
   "source": [
    "for iif in iif_values:\n",
    "    for dp in dp_values:\n",
    "        print(iif,dp)\n",
    "        intensity_increase_factor = iif # fragment ROI again if intensity increases 10 fold\n",
    "        drop_perc = dp/100\n",
    "\n",
    "\n",
    "        # ROI can also be fragmented again if intensity falls to <1% of the max *since* last fragmentation\n",
    "        from vimms.Controller import TopN_SmartRoiController\n",
    "        controller = TopN_SmartRoiController(ionisation_mode, isolation_width, mz_tol, min_ms1_intensity,\n",
    "                                             min_roi_intensity, min_roi_length, N = N, rt_tol = rt_tol, \n",
    "                                             min_roi_length_for_fragmentation = min_roi_length_for_fragmentation,\n",
    "                                             reset_length_seconds = reset_length_seconds,\n",
    "                                             intensity_increase_factor = intensity_increase_factor,\n",
    "                                             drop_perc = drop_perc)\n",
    "\n",
    "        mass_spec = IndependentMassSpectrometer(ionisation_mode, SmartROI_QCB_dataset,\n",
    "                                                ps,\n",
    "                                                add_noise=True,\n",
    "                                               scan_duration_dict=roi_time_dict)\n",
    "\n",
    "        env = Environment(mass_spec, controller, min_rt, max_rt, progress_bar=True)\n",
    "        env.run()\n",
    "        \n",
    "        out_name = 'SmartROI_{}_{}.mzml'.format(iif,dp)\n",
    "        env.write_mzML(output_folder, out_name)"
   ]
  },
  {
   "cell_type": "code",
   "execution_count": null,
   "metadata": {},
   "outputs": [],
   "source": [
    "counts_exp2 = np.zeros((len(iif_values),len(dp_values)))\n",
    "for i,iif in enumerate(iif_values):\n",
    "    for j,dp in enumerate(dp_values):\n",
    "        print(iif,dp)\n",
    "        fname = 'SmartROI_{}_{}.mzml'.format(iif,dp)\n",
    "        mz_file = MZMLFile(os.path.join(output_folder,fname))\n",
    "        scans2boxes,boxes2scans = map_boxes_to_scans(mz_file,SmartROI_QCB_boxes,half_isolation_window = 0)\n",
    "        counts_exp2[i,j] = len(boxes2scans)\n",
    "save_obj(counts_exp2, Path(os.getcwd(),'counts_exp2.p'))"
   ]
  },
  {
   "cell_type": "code",
   "execution_count": null,
   "metadata": {
    "scrolled": false
   },
   "outputs": [],
   "source": [
    "plt.imshow(counts_exp2,aspect='auto')\n",
    "plt.yticks(range(len(iif_values)),iif_values)\n",
    "plt.xticks(range(len(dp_values)),dp_values)\n",
    "plt.colorbar()"
   ]
  },
  {
   "cell_type": "markdown",
   "metadata": {},
   "source": [
    "## Experiment 3 - QCA, WeightedDEW"
   ]
  },
  {
   "cell_type": "code",
   "execution_count": null,
   "metadata": {},
   "outputs": [],
   "source": [
    "output_folder = Path(os.getcwd(), 'experiment_3')"
   ]
  },
  {
   "cell_type": "code",
   "execution_count": null,
   "metadata": {},
   "outputs": [],
   "source": [
    "for t0 in t0_vals:\n",
    "    for r in rt_tol_vals:\n",
    "        if t0 > r:\n",
    "            # impossible combination\n",
    "            continue\n",
    "        print(t0,r)\n",
    "        out_name = 'WeightedDEW_{}_{}.mzml'.format(t0,r)\n",
    "\n",
    "        if os.path.isfile(os.path.join(output_folder,out_name)):\n",
    "            print(\"Already done\")\n",
    "            continue\n",
    "        \n",
    "        controller = WeightedDEWController(ionisation_mode, N, isolation_width, mz_tol, \n",
    "                                            r,min_ms1_intensity, exclusion_t_0 = t0, log_intensity = True)\n",
    "\n",
    "        mass_spec = IndependentMassSpectrometer(ionisation_mode, WeightedDEW_QCA_dataset,\n",
    "                                                ps,\n",
    "                                                add_noise=True,\n",
    "                                               scan_duration_dict=topn_time_dict)\n",
    "\n",
    "        env = Environment(mass_spec, controller, min_rt, max_rt, progress_bar=True)\n",
    "        env.run()\n",
    "        \n",
    "        env.write_mzML(output_folder, out_name)"
   ]
  },
  {
   "cell_type": "code",
   "execution_count": null,
   "metadata": {},
   "outputs": [],
   "source": [
    "counts_exp3 = np.zeros((len(t0_vals),len(rt_tol_vals)))\n",
    "for i,t0 in enumerate(t0_vals):\n",
    "    for j,r in enumerate(rt_tol_vals):\n",
    "        print(t0,r)\n",
    "        if t0 > r:\n",
    "            # impossible combination\n",
    "            counts_exp3[i,j] = np.nan # fix for colour on boxplot\n",
    "            continue\n",
    "        fname = 'WeightedDEW_{}_{}.mzml'.format(t0,r)\n",
    "        mz_file = MZMLFile(os.path.join(output_folder,fname))\n",
    "        scans2boxes,boxes2scans = map_boxes_to_scans(mz_file,WeightedDEW_QCA_boxes,half_isolation_window = 0)\n",
    "        counts_exp3[i,j] = len(boxes2scans)\n",
    "save_obj(counts_exp3, Path(os.getcwd(),'counts_exp3.p'))"
   ]
  },
  {
   "cell_type": "code",
   "execution_count": null,
   "metadata": {},
   "outputs": [],
   "source": [
    "plt.imshow(counts_exp3,aspect='auto')\n",
    "plt.yticks(range(len(iif_values)),iif_values)\n",
    "plt.xticks(range(len(dp_values)),dp_values)\n",
    "plt.colorbar()"
   ]
  },
  {
   "cell_type": "markdown",
   "metadata": {},
   "source": [
    "## Experiment 4 - QCB, WeightedDEW"
   ]
  },
  {
   "cell_type": "code",
   "execution_count": null,
   "metadata": {},
   "outputs": [],
   "source": [
    "output_folder = Path(os.getcwd(), 'experiment_4')"
   ]
  },
  {
   "cell_type": "code",
   "execution_count": null,
   "metadata": {},
   "outputs": [],
   "source": [
    "for t0 in t0_vals:\n",
    "    for r in rt_tol_vals:\n",
    "        if t0 > r:\n",
    "            # impossible combination\n",
    "            continue\n",
    "        print(t0,r)\n",
    "        out_name = 'WeightedDEW_{}_{}.mzml'.format(t0,r)\n",
    "\n",
    "        if os.path.isfile(os.path.join(output_folder,out_name)):\n",
    "            print(\"Already done\")\n",
    "            continue\n",
    "        \n",
    "        controller = WeightedDEWController(ionisation_mode, N, isolation_width, mz_tol, \n",
    "                                            r,min_ms1_intensity, exclusion_t_0 = t0, log_intensity = True)\n",
    "\n",
    "        mass_spec = IndependentMassSpectrometer(ionisation_mode, WeightedDEW_QCB_dataset,\n",
    "                                                ps,\n",
    "                                                add_noise=True,\n",
    "                                               scan_duration_dict=topn_time_dict)\n",
    "\n",
    "        env = Environment(mass_spec, controller, min_rt, max_rt, progress_bar=True)\n",
    "        env.run()\n",
    "        \n",
    "        env.write_mzML(output_folder, out_name)"
   ]
  },
  {
   "cell_type": "code",
   "execution_count": null,
   "metadata": {},
   "outputs": [],
   "source": [
    "counts_exp4 = np.zeros((len(t0_vals),len(rt_tol_vals)))\n",
    "for i,t0 in enumerate(t0_vals):\n",
    "    for j,r in enumerate(rt_tol_vals):\n",
    "        print(t0,r)\n",
    "        if t0 > r:\n",
    "            # impossible combination\n",
    "            counts_exp4[i,j] = np.nan # fix for colour on boxplot\n",
    "            continue\n",
    "        fname = 'WeightedDEW_{}_{}.mzml'.format(t0,r)\n",
    "        mz_file = MZMLFile(os.path.join(output_folder,fname))\n",
    "        scans2boxes,boxes2scans = map_boxes_to_scans(mz_file,WeightedDEW_QCB_boxes,half_isolation_window = 0)\n",
    "        counts_exp4[i,j] = len(boxes2scans)\n",
    "save_obj(counts_exp4, Path(os.getcwd(),'counts_exp4.p'))"
   ]
  },
  {
   "cell_type": "code",
   "execution_count": null,
   "metadata": {},
   "outputs": [],
   "source": [
    "plt.imshow(counts_exp4,aspect='auto')\n",
    "plt.yticks(range(len(iif_values)),iif_values)\n",
    "plt.xticks(range(len(dp_values)),dp_values)\n",
    "plt.colorbar()"
   ]
  }
 ],
 "metadata": {
  "kernelspec": {
   "display_name": "Python 3",
   "language": "python",
   "name": "python3"
  },
  "language_info": {
   "codemirror_mode": {
    "name": "ipython",
    "version": 3
   },
   "file_extension": ".py",
   "mimetype": "text/x-python",
   "name": "python",
   "nbconvert_exporter": "python",
   "pygments_lexer": "ipython3",
   "version": "3.7.3"
  }
 },
 "nbformat": 4,
 "nbformat_minor": 4
}
