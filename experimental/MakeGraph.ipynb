{
 "cells": [
  {
   "cell_type": "markdown",
   "metadata": {},
   "source": [
    "## Optimal controller -- maximum possible performance\n",
    "\n",
    "This notebook uses Alice's matching code to determine the maximum possible performance\n",
    "\n",
    "Inputs:\n",
    "\n",
    "1. a picked peak file, with the peak *boundaries*\n",
    "1. the length of time an MS1 scan takes\n",
    "1. the length of time an MS2 scan takes\n",
    "1. N (for top-N)\n",
    "1. the minimum intensity for fragmentation\n",
    "\n",
    "The code then creates a bipartite graph with two types of nodes:\n",
    "\n",
    "1. scans (of either MS1 or MS2)\n",
    "1. peaks\n",
    "\n",
    "An edge is added between a scan and a peak *iff*:\n",
    "\n",
    "1. the scan start time is within the start and end RT of the peak\n",
    "1. the peak had an intensity >= the min intensity at the time of the last MS1 scan\n",
    "\n",
    "i.e. this is showing the best possible top-N performance if, by magic, one could not fragment anything that didn't turn into a peak."
   ]
  },
  {
   "cell_type": "code",
   "execution_count": 122,
   "metadata": {},
   "outputs": [],
   "source": [
    "import sys\n",
    "import bisect\n",
    "\n",
    "import networkx as nx\n",
    "import numpy as np\n",
    "\n",
    "import pylab as plt\n",
    "%matplotlib inline"
   ]
  },
  {
   "cell_type": "code",
   "execution_count": 31,
   "metadata": {},
   "outputs": [],
   "source": [
    "vimms_folder = '/home/simon/git/vimms/'"
   ]
  },
  {
   "cell_type": "code",
   "execution_count": 32,
   "metadata": {},
   "outputs": [],
   "source": [
    "sys.path.append(vimms_folder)"
   ]
  },
  {
   "cell_type": "markdown",
   "metadata": {},
   "source": [
    "Local package import"
   ]
  },
  {
   "cell_type": "code",
   "execution_count": 33,
   "metadata": {},
   "outputs": [],
   "source": [
    "from mass_spec_utils.data_import.mzml import MZMLFile\n",
    "from mass_spec_utils.data_import.mzmine import load_picked_boxes\n",
    "from vimms.Roi import Roi"
   ]
  },
  {
   "cell_type": "markdown",
   "metadata": {},
   "source": [
    "## Define parameters"
   ]
  },
  {
   "cell_type": "code",
   "execution_count": 160,
   "metadata": {},
   "outputs": [],
   "source": [
    "min_rt = 0 # start value\n",
    "max_rt = 26*60 # end value\n",
    "N = 10 # top-N value\n",
    "min_ms1_intensity = 5e3 # min intensity for fragmentation\n",
    "\n",
    "mix = 'QCA'\n",
    "\n",
    "data_path = '/Users/simon/University of Glasgow/Vinny Davies - CLDS Metabolomics Project/Experimental_Results/20200717_TopN_vs_ROI_rerun/'\n",
    "\n",
    "pp_file_path = os.path.join(data_path,mix,'Fullscan_{}_box.csv'.format(mix))\n",
    "mzml_file_path = os.path.join(data_path,mix,'Fullscan_{}.mzML'.format(mix))\n",
    "verbose = True\n",
    "\n"
   ]
  },
  {
   "cell_type": "markdown",
   "metadata": {},
   "source": [
    "### 1. Load the picked peak boxes"
   ]
  },
  {
   "cell_type": "code",
   "execution_count": 161,
   "metadata": {},
   "outputs": [
    {
     "name": "stdout",
     "output_type": "stream",
     "text": [
      "Loaded 4481 picked peak boxes\n"
     ]
    }
   ],
   "source": [
    "boxes = load_picked_boxes(pp_file_path)\n",
    "print(\"Loaded {} picked peak boxes\".format(len(boxes)))"
   ]
  },
  {
   "cell_type": "markdown",
   "metadata": {},
   "source": [
    "### 2. Load the mzml file"
   ]
  },
  {
   "cell_type": "code",
   "execution_count": 162,
   "metadata": {},
   "outputs": [
    {
     "name": "stdout",
     "output_type": "stream",
     "text": [
      "Loaded 3351 scans\n"
     ]
    }
   ],
   "source": [
    "mzfile  = MZMLFile(mzml_file_path)"
   ]
  },
  {
   "cell_type": "markdown",
   "metadata": {},
   "source": [
    "### 2a. Extract timings from mzML files"
   ]
  },
  {
   "cell_type": "code",
   "execution_count": 190,
   "metadata": {},
   "outputs": [],
   "source": [
    "timing_file = os.path.join(data_path,mix,'TopN_{}.mzML'.format(mix))\n"
   ]
  },
  {
   "cell_type": "code",
   "execution_count": 191,
   "metadata": {},
   "outputs": [
    {
     "name": "stdout",
     "output_type": "stream",
     "text": [
      "Loaded 6570 scans\n",
      "0.6354254450181306\n",
      "0.19914910611384426\n"
     ]
    }
   ],
   "source": [
    "def get_times(mzfile_object):\n",
    "    times = {1: [], 2:[]}\n",
    "    for i,scan in enumerate(mzfile_object.scans[1:]):\n",
    "        scan_level = mzfile_object.scans[i].ms_level\n",
    "        elapsed_time = scan.rt_in_seconds  - mzfile_object.scans[i].rt_in_seconds\n",
    "        if elapsed_time > 0:\n",
    "            times[scan_level].append(elapsed_time)\n",
    "    return times\n",
    "\n",
    "\n",
    "times = get_times(MZMLFile(timing_file))\n",
    "print(np.array(times[1]).mean())\n",
    "print(np.array(times[2]).mean())\n"
   ]
  },
  {
   "cell_type": "code",
   "execution_count": 192,
   "metadata": {},
   "outputs": [],
   "source": [
    "topn_time_dict = {}\n",
    "for s,t in times.items():\n",
    "    topn_time_dict[s] = np.array(t).mean()"
   ]
  },
  {
   "cell_type": "markdown",
   "metadata": {},
   "source": [
    "### 3. Set up the scan times"
   ]
  },
  {
   "cell_type": "code",
   "execution_count": 193,
   "metadata": {},
   "outputs": [
    {
     "name": "stdout",
     "output_type": "stream",
     "text": [
      "Created 6534 scan times and levels\n"
     ]
    }
   ],
   "source": [
    "scan_levels = []\n",
    "scan_start_times = []\n",
    "time = 0\n",
    "while True:\n",
    "    # add an MS1\n",
    "    scan_levels.append(1)\n",
    "    scan_start_times.append(time)\n",
    "    time += topn_time_dict[1]\n",
    "    if time > max_rt:\n",
    "        break\n",
    "    # add N MS2\n",
    "    for n in range(N):\n",
    "        scan_levels.append(2)\n",
    "        scan_start_times.append(time)\n",
    "        time += topn_time_dict[2]\n",
    "        if time > max_rt:\n",
    "            break\n",
    "print(\"Created {} scan times and levels\".format(len(scan_levels)))"
   ]
  },
  {
   "cell_type": "markdown",
   "metadata": {},
   "source": [
    "### 4. Add ROIs to the peak boxes"
   ]
  },
  {
   "cell_type": "code",
   "execution_count": 194,
   "metadata": {},
   "outputs": [
    {
     "name": "stdout",
     "output_type": "stream",
     "text": [
      "0 3351\n",
      "100 3351\n",
      "200 3351\n",
      "300 3351\n",
      "400 3351\n",
      "500 3351\n",
      "600 3351\n",
      "700 3351\n",
      "800 3351\n",
      "900 3351\n",
      "1000 3351\n",
      "1100 3351\n",
      "1200 3351\n",
      "1300 3351\n",
      "1400 3351\n",
      "1500 3351\n",
      "1600 3351\n",
      "1700 3351\n",
      "1800 3351\n",
      "1900 3351\n",
      "2000 3351\n",
      "2100 3351\n",
      "2200 3351\n",
      "2300 3351\n",
      "2400 3351\n",
      "2500 3351\n",
      "2600 3351\n",
      "2700 3351\n",
      "2800 3351\n",
      "2900 3351\n",
      "3000 3351\n",
      "3100 3351\n",
      "3200 3351\n",
      "3300 3351\n",
      "Of 4481 boxes, 4481 have roi\n"
     ]
    }
   ],
   "source": [
    "# reset in case we run more than once\n",
    "for box in boxes:\n",
    "    box.roi = None\n",
    "    \n",
    "for i,scan in enumerate(mzfile.scans):\n",
    "    if scan.ms_level == 2:\n",
    "        continue # skip MS2 scans\n",
    "    if verbose and i%100 == 0:\n",
    "        print(i,len(mzfile.scans))\n",
    "        \n",
    "    scan_rt = scan.rt_in_seconds\n",
    "    \n",
    "    # find the boxes that are active at this scan\n",
    "    ok_boxes = list(filter(lambda x: x.rt_range_in_seconds[0] <= scan_rt and x.rt_range_in_seconds[1] >= scan_rt,boxes))\n",
    "    if len(ok_boxes) == 0:\n",
    "        continue # no boxes now, onto the next scan\n",
    "    \n",
    "    mz_list,intensity_list = zip(*scan.peaks)\n",
    "    for box in ok_boxes:\n",
    "        \n",
    "        min_idx = bisect.bisect_right(mz_list,box.mz_range[0])\n",
    "        max_idx = bisect.bisect_right(mz_list,box.mz_range[1])\n",
    "        sub_peaks = []\n",
    "        for i in range(min_idx,max_idx):\n",
    "            sub_peaks.append((mz_list[i],intensity_list[i]))\n",
    "        if len(sub_peaks) > 0:\n",
    "            sub_peaks.sort(key = lambda x: x[1],reverse = True) # sort by descending intensity\n",
    "            peak_mz = sub_peaks[0][0]\n",
    "            peak_intensity = sub_peaks[0][1]\n",
    "            peak_rt = scan_rt\n",
    "\n",
    "            if box.roi is None:\n",
    "                box.roi = Roi(peak_mz,peak_rt,peak_intensity)\n",
    "            else:\n",
    "                box.roi.add(peak_mz,peak_rt,peak_intensity)\n",
    "                \n",
    "n_with_roi = 0\n",
    "for box in boxes:\n",
    "    if box.roi is not None:\n",
    "        n_with_roi += 1\n",
    "print(\"Of {} boxes, {} have roi\".format(len(boxes),n_with_roi))"
   ]
  },
  {
   "cell_type": "markdown",
   "metadata": {},
   "source": [
    "### 5. Make the graph edges\n",
    "\n",
    "1. Loop over the boxes\n",
    "1. Find all MS1 scans at which the intensity exceeds the minmum\n",
    "1. Add edges to all ms2 scans within the block\n",
    "\n",
    "Note:\n",
    " - This method ignores the intensity *at the MS2 scan time*\n"
   ]
  },
  {
   "cell_type": "code",
   "execution_count": 195,
   "metadata": {},
   "outputs": [
    {
     "name": "stdout",
     "output_type": "stream",
     "text": [
      "210205 possible edges found\n"
     ]
    }
   ],
   "source": [
    "def get_intensity(roi,rt,interpolate = False):\n",
    "    if rt < roi.rt_list[0] or rt > roi.rt_list[-1]:\n",
    "        return 0\n",
    "    else:\n",
    "        pos = bisect.bisect_right(roi.rt_list,rt)\n",
    "        before_pos = pos - 1\n",
    "        after_pos = pos\n",
    "        if interpolate:\n",
    "            prop = (rt - roi.rt_list[before_pos])/(roi.rt_list[after_pos] - roi.rt_list[before_pos])\n",
    "            return roi.intensity_list[before_pos] + prop*(roi.intensity_list[after_pos] - roi.intensity_list[before_pos])\n",
    "        else:\n",
    "            return roi.intensity_list[before_pos]\n",
    "\n",
    "edges = []\n",
    "\n",
    "for box in boxes:\n",
    "    peak_id = box.peak_id\n",
    "    rt_start = box.rt_range_in_seconds[0]\n",
    "    rt_end = box.rt_range_in_seconds[1]\n",
    "    spo = bisect.bisect_right(scan_start_times,rt_start)\n",
    "    can_fragment = False # until we see an MS1\n",
    "    while spo < len(scan_start_times) and scan_start_times[spo] < rt_end:\n",
    "        if scan_levels[spo] == 1:\n",
    "            if get_intensity(box.roi,scan_start_times[spo]) >= min_ms1_intensity:\n",
    "                can_fragment = True\n",
    "            else:\n",
    "                can_fragment = False\n",
    "        if scan_levels[spo] == 2:\n",
    "            if can_fragment:\n",
    "                edges.append((\"S{}\".format(spo),\"B{}\".format(peak_id),box))\n",
    "        spo += 1\n",
    "print(\"{} possible edges found\".format(len(edges)))"
   ]
  },
  {
   "cell_type": "code",
   "execution_count": 196,
   "metadata": {},
   "outputs": [],
   "source": [
    "scan_names,box_names,_ = zip(*edges)\n",
    "scanSet = set(scan_names)\n",
    "boxSet = set(box_names)\n",
    "reduced_edges = list(zip(scan_names,box_names))"
   ]
  },
  {
   "cell_type": "code",
   "execution_count": 197,
   "metadata": {},
   "outputs": [],
   "source": [
    "\n",
    "def reducedUnweightedMaxMatchingFromLists(scanSet,boxSet,edgeList):\n",
    "    G = nx.Graph() #create an empty graph\n",
    "    G.add_nodes_from(scanSet, bipartite=0) #add both lists of vertices as nodes to graph\n",
    "    G.add_nodes_from(boxSet, bipartite=1)\n",
    "    G.add_edges_from(edgeList) # add edges to graph from list\n",
    "    print('There are {} scans and {} boxes'.format(len(scanSet),len(boxSet)))\n",
    "    print('There are {} edges in total'.format(len(edgeList)))\n",
    "    top_nodes = {n for n, d in G.nodes(data=True) if d['bipartite'] == 0} #scans\n",
    "    matching  = nx.bipartite.matching.hopcroft_karp_matching(G,top_nodes) #call the matching algorithms\n",
    "    size = 0\n",
    "    scanList = list(scanSet)\n",
    "    matchList = [(s,'-') for s in scanList]\n",
    "\n",
    "    items_list = list(matching.items())[:len(matching)//2]\n",
    "\n",
    "    for scan,box in items_list:\n",
    "        ind = scanList.index(scan) \n",
    "        matchList[ind] = (scan, box) #update entry in the matchList\n",
    "        size=size+1\n",
    "\n",
    "    return matchList,size\n",
    "\n"
   ]
  },
  {
   "cell_type": "code",
   "execution_count": 198,
   "metadata": {},
   "outputs": [
    {
     "name": "stdout",
     "output_type": "stream",
     "text": [
      "There are 5892 scans and 2266 boxes\n",
      "There are 210205 edges in total\n",
      "1767\n"
     ]
    }
   ],
   "source": [
    "matchList,size = reducedUnweightedMaxMatchingFromLists(scanSet,boxSet,reduced_edges)\n",
    "print(size)"
   ]
  },
  {
   "cell_type": "code",
   "execution_count": null,
   "metadata": {},
   "outputs": [],
   "source": []
  },
  {
   "cell_type": "code",
   "execution_count": null,
   "metadata": {},
   "outputs": [],
   "source": []
  },
  {
   "cell_type": "code",
   "execution_count": null,
   "metadata": {},
   "outputs": [],
   "source": []
  },
  {
   "cell_type": "code",
   "execution_count": null,
   "metadata": {},
   "outputs": [],
   "source": []
  },
  {
   "cell_type": "code",
   "execution_count": null,
   "metadata": {},
   "outputs": [],
   "source": []
  },
  {
   "cell_type": "code",
   "execution_count": null,
   "metadata": {},
   "outputs": [],
   "source": []
  },
  {
   "cell_type": "code",
   "execution_count": null,
   "metadata": {},
   "outputs": [],
   "source": []
  },
  {
   "cell_type": "code",
   "execution_count": null,
   "metadata": {},
   "outputs": [],
   "source": []
  },
  {
   "cell_type": "code",
   "execution_count": null,
   "metadata": {},
   "outputs": [],
   "source": []
  },
  {
   "cell_type": "code",
   "execution_count": null,
   "metadata": {},
   "outputs": [],
   "source": []
  },
  {
   "cell_type": "code",
   "execution_count": null,
   "metadata": {},
   "outputs": [],
   "source": []
  },
  {
   "cell_type": "code",
   "execution_count": null,
   "metadata": {},
   "outputs": [],
   "source": []
  },
  {
   "cell_type": "code",
   "execution_count": null,
   "metadata": {},
   "outputs": [],
   "source": []
  },
  {
   "cell_type": "markdown",
   "metadata": {},
   "source": [
    "## Old stuff"
   ]
  },
  {
   "cell_type": "code",
   "execution_count": 297,
   "metadata": {},
   "outputs": [
    {
     "name": "stdout",
     "output_type": "stream",
     "text": [
      "[(2168, 376), (2169, 376), (2170, 376), (2171, 376), (2172, 376), (2173, 376), (2174, 376), (2175, 376), (2176, 376), (2177, 376)]\n",
      "[(133, 177), (133, 1114), (133, 1745), (133, 3935), (134, 177), (134, 1114), (134, 1745), (134, 3935), (135, 177), (135, 1114)]\n"
     ]
    }
   ],
   "source": [
    "print(edges[:10])\n",
    "edges.sort()\n",
    "print(edges[:10])"
   ]
  },
  {
   "cell_type": "code",
   "execution_count": null,
   "metadata": {},
   "outputs": [],
   "source": []
  },
  {
   "cell_type": "code",
   "execution_count": null,
   "metadata": {},
   "outputs": [],
   "source": []
  },
  {
   "cell_type": "code",
   "execution_count": null,
   "metadata": {},
   "outputs": [],
   "source": []
  },
  {
   "cell_type": "code",
   "execution_count": null,
   "metadata": {},
   "outputs": [],
   "source": []
  },
  {
   "cell_type": "code",
   "execution_count": null,
   "metadata": {},
   "outputs": [],
   "source": []
  },
  {
   "cell_type": "code",
   "execution_count": null,
   "metadata": {},
   "outputs": [],
   "source": []
  },
  {
   "cell_type": "code",
   "execution_count": null,
   "metadata": {},
   "outputs": [],
   "source": []
  },
  {
   "cell_type": "code",
   "execution_count": 298,
   "metadata": {},
   "outputs": [],
   "source": [
    "import csv\n",
    "orig_edges = []\n",
    "with open('/home/simon/git/vimms/experimental/graph_optimal/qca_5e3_edges.csv','w') as f:\n",
    "    writer = csv.writer(f)\n",
    "    for scan,peak in edges:\n",
    "        writer.writerow(['S{}'.format(scan),'B{}'.format(peak)])\n",
    "        orig_edges.append(['B{}'.format(peak),'S{}'.format(scan)])"
   ]
  },
  {
   "cell_type": "code",
   "execution_count": 94,
   "metadata": {},
   "outputs": [],
   "source": [
    "edges = set(edges)"
   ]
  },
  {
   "cell_type": "code",
   "execution_count": 95,
   "metadata": {},
   "outputs": [
    {
     "name": "stdout",
     "output_type": "stream",
     "text": [
      "769853\n"
     ]
    }
   ],
   "source": [
    "print(len(edges))"
   ]
  },
  {
   "cell_type": "code",
   "execution_count": null,
   "metadata": {},
   "outputs": [],
   "source": []
  },
  {
   "cell_type": "markdown",
   "metadata": {},
   "source": [
    "Check the initial results"
   ]
  },
  {
   "cell_type": "code",
   "execution_count": 303,
   "metadata": {},
   "outputs": [
    {
     "name": "stdout",
     "output_type": "stream",
     "text": [
      "5662\n",
      "971\n",
      "3348\n"
     ]
    }
   ],
   "source": [
    "res_file = '/home/simon/git/vimms/experimental/graph_optimal/qcb_edgesResults.txt'\n",
    "matches = []\n",
    "with open(res_file,'r') as f:\n",
    "    reader = csv.reader(f,delimiter = ',')\n",
    "    for line in reader:\n",
    "        if len(line) < 2:\n",
    "            continue\n",
    "        if '.' in line[0]:\n",
    "            continue\n",
    "        matches.append(line)\n",
    "unique_boxes = set([x[0] for x in matches])\n",
    "dashes = list(filter(lambda x: x[1] == '-',matches))\n",
    "matches = list(filter(lambda x: not x[1] == '-',matches))\n",
    "print(len(unique_boxes))\n",
    "print(len(dashes))\n",
    "\n",
    "original_unique_boxes = set((x[0] for x in orig_edges))\n",
    "print(len(original_unique_boxes))"
   ]
  },
  {
   "cell_type": "code",
   "execution_count": 304,
   "metadata": {},
   "outputs": [
    {
     "name": "stdout",
     "output_type": "stream",
     "text": [
      "4691\n",
      "4691\n"
     ]
    }
   ],
   "source": [
    "unique_boxes = set([x[0] for x in matches])\n",
    "unique_scans = set([x[1] for x in matches])\n",
    "print(len(unique_boxes))\n",
    "print(len(unique_scans))"
   ]
  },
  {
   "cell_type": "code",
   "execution_count": 256,
   "metadata": {},
   "outputs": [
    {
     "ename": "AssertionError",
     "evalue": "",
     "output_type": "error",
     "traceback": [
      "\u001b[0;31m---------------------------------------------------------------------------\u001b[0m",
      "\u001b[0;31mAssertionError\u001b[0m                            Traceback (most recent call last)",
      "\u001b[0;32m<ipython-input-256-49b8f30abb64>\u001b[0m in \u001b[0;36m<module>\u001b[0;34m\u001b[0m\n\u001b[1;32m      8\u001b[0m         \u001b[0mschedule\u001b[0m\u001b[0;34m.\u001b[0m\u001b[0mappend\u001b[0m\u001b[0;34m(\u001b[0m\u001b[0;34m(\u001b[0m\u001b[0;34m'MS1'\u001b[0m\u001b[0;34m,\u001b[0m\u001b[0;32mNone\u001b[0m\u001b[0;34m,\u001b[0m\u001b[0mtime\u001b[0m\u001b[0;34m,\u001b[0m\u001b[0;32mNone\u001b[0m\u001b[0;34m,\u001b[0m\u001b[0mpp_file\u001b[0m\u001b[0;34m)\u001b[0m\u001b[0;34m)\u001b[0m\u001b[0;34m\u001b[0m\u001b[0;34m\u001b[0m\u001b[0m\n\u001b[1;32m      9\u001b[0m         \u001b[0mmatch\u001b[0m \u001b[0;34m=\u001b[0m \u001b[0mlist\u001b[0m\u001b[0;34m(\u001b[0m\u001b[0mfilter\u001b[0m\u001b[0;34m(\u001b[0m\u001b[0;32mlambda\u001b[0m \u001b[0mx\u001b[0m\u001b[0;34m:\u001b[0m \u001b[0mx\u001b[0m\u001b[0;34m[\u001b[0m\u001b[0;36m1\u001b[0m\u001b[0;34m]\u001b[0m \u001b[0;34m==\u001b[0m \u001b[0ms_id\u001b[0m\u001b[0;34m,\u001b[0m\u001b[0mmatches\u001b[0m\u001b[0;34m)\u001b[0m\u001b[0;34m)\u001b[0m\u001b[0;34m\u001b[0m\u001b[0;34m\u001b[0m\u001b[0m\n\u001b[0;32m---> 10\u001b[0;31m         \u001b[0;32massert\u001b[0m \u001b[0mlen\u001b[0m\u001b[0;34m(\u001b[0m\u001b[0mmatch\u001b[0m\u001b[0;34m)\u001b[0m \u001b[0;34m==\u001b[0m \u001b[0;36m0\u001b[0m\u001b[0;34m\u001b[0m\u001b[0;34m\u001b[0m\u001b[0m\n\u001b[0m\u001b[1;32m     11\u001b[0m     \u001b[0;32melse\u001b[0m\u001b[0;34m:\u001b[0m\u001b[0;34m\u001b[0m\u001b[0;34m\u001b[0m\u001b[0m\n\u001b[1;32m     12\u001b[0m         \u001b[0;31m# find it in the matching\u001b[0m\u001b[0;34m\u001b[0m\u001b[0;34m\u001b[0m\u001b[0;34m\u001b[0m\u001b[0m\n",
      "\u001b[0;31mAssertionError\u001b[0m: "
     ]
    }
   ],
   "source": [
    "# make a schedule\n",
    "schedule = []\n",
    "box_dict = {b.peak_id:b for b in boxes}\n",
    "count = 0\n",
    "for i,(level,time) in enumerate(zip(scan_levels,scan_start_times)):\n",
    "    s_id = 'S{}'.format(i)\n",
    "    if level == 1:\n",
    "        schedule.append(('MS1',None,time,None,pp_file))\n",
    "        match = list(filter(lambda x: x[1] == s_id,matches))\n",
    "        assert len(match) == 0\n",
    "    else:\n",
    "        # find it in the matching\n",
    "        match = list(filter(lambda x: x[1] == s_id,matches))\n",
    "        assert len(match) <= 1\n",
    "        if len(match) == 0:\n",
    "            schedule.append(('MS2',-1,time,None,pp_file)) # set precursor to -1 to indicate empty\n",
    "        else:\n",
    "            count += 1\n",
    "            box_id = int(match[0][0][1:])\n",
    "            box = box_dict[box_id]\n",
    "            mz = box.mz\n",
    "            schedule.append(['MS2',mz,time,box_id,pp_file])\n",
    "print(count)"
   ]
  },
  {
   "cell_type": "code",
   "execution_count": 230,
   "metadata": {},
   "outputs": [],
   "source": [
    "with open('/home/simon/git/vimms/experimental/graph_optimal/qcb_schedule.csv','w') as f:\n",
    "    writer = csv.writer(f)\n",
    "    for row in schedule:\n",
    "        writer.writerow(row)"
   ]
  },
  {
   "cell_type": "code",
   "execution_count": null,
   "metadata": {},
   "outputs": [],
   "source": []
  },
  {
   "cell_type": "code",
   "execution_count": null,
   "metadata": {},
   "outputs": [],
   "source": []
  },
  {
   "cell_type": "markdown",
   "metadata": {},
   "source": [
    "# score by distance from apex\n",
    "\n",
    "- Compute a score from 1 to 10 where 10 is as close to the apex as possible and then decay as the scans get further away"
   ]
  },
  {
   "cell_type": "code",
   "execution_count": 148,
   "metadata": {},
   "outputs": [],
   "source": [
    "# Match the boxes back to the original signal"
   ]
  },
  {
   "cell_type": "code",
   "execution_count": 150,
   "metadata": {},
   "outputs": [],
   "source": [
    "from mass_spec_utils.data_import.mzml import MZMLFile"
   ]
  },
  {
   "cell_type": "code",
   "execution_count": 152,
   "metadata": {},
   "outputs": [],
   "source": [
    "# loop over scans, adding intensity values to the boxes"
   ]
  },
  {
   "cell_type": "code",
   "execution_count": 233,
   "metadata": {},
   "outputs": [
    {
     "name": "stdout",
     "output_type": "stream",
     "text": [
      "[<ms2_matching.PickedBox object at 0x7f9a14b2a2e8>]\n"
     ]
    }
   ],
   "source": [
    "sub_boxes = [boxes[0]]\n",
    "print(sub_boxes)"
   ]
  },
  {
   "cell_type": "code",
   "execution_count": 236,
   "metadata": {},
   "outputs": [
    {
     "name": "stdout",
     "output_type": "stream",
     "text": [
      "ROI with data points=29 mz (258.1107-258.1099) rt (616.2030-682.8597)\n",
      "2487: [258.1098327636719, 258.1106872558594] [10.27005023895, 11.380995135733299]\n"
     ]
    }
   ],
   "source": [
    "print(boxes[0].roi)\n",
    "print(boxes[0])"
   ]
  },
  {
   "cell_type": "code",
   "execution_count": 247,
   "metadata": {},
   "outputs": [
    {
     "data": {
      "text/plain": [
       "(0, 6000000.0)"
      ]
     },
     "execution_count": 247,
     "metadata": {},
     "output_type": "execute_result"
    },
    {
     "data": {
      "image/png": "[encoded data removed]",
      "text/plain": [
       "<Figure size 720x720 with 1 Axes>"
      ]
     },
     "metadata": {
      "needs_background": "light"
     },
     "output_type": "display_data"
    }
   ],
   "source": [
    "import pylab as plt\n",
    "%matplotlib inline\n",
    "plt.figure(figsize = (10,10))\n",
    "plt.plot(boxes[1].roi.rt_list,boxes[1].roi.intensity_list,'ro')\n",
    "plt.xlim([520,530])\n",
    "plt.plot(527,get_intensity(boxes[1].roi,527),'bo')\n",
    "plt.ylim([0,6e6])"
   ]
  },
  {
   "cell_type": "code",
   "execution_count": 248,
   "metadata": {},
   "outputs": [],
   "source": [
    "import bisect\n"
   ]
  },
  {
   "cell_type": "code",
   "execution_count": null,
   "metadata": {},
   "outputs": [],
   "source": []
  },
  {
   "cell_type": "code",
   "execution_count": 253,
   "metadata": {},
   "outputs": [
    {
     "name": "stdout",
     "output_type": "stream",
     "text": [
      "2144 4324 27\n"
     ]
    }
   ],
   "source": [
    "count = 0\n",
    "total = 0\n",
    "no_roi = 0\n",
    "for level,precursor,time,box_id,_ in schedule:\n",
    "    if level == 'MS2' and precursor > -1:\n",
    "        total +=1\n",
    "        box = box_dict[box_id]\n",
    "        if not box.roi is None:\n",
    "            intensity = get_intensity(box.roi,time)\n",
    "            if intensity >= 5e3:\n",
    "                count += 1\n",
    "        else:\n",
    "            no_roi += 1\n",
    "print(count,total,no_roi)"
   ]
  },
  {
   "cell_type": "code",
   "execution_count": null,
   "metadata": {},
   "outputs": [],
   "source": []
  }
 ],
 "metadata": {
  "kernelspec": {
   "display_name": "Python 3",
   "language": "python",
   "name": "python3"
  },
  "language_info": {
   "codemirror_mode": {
    "name": "ipython",
    "version": 3
   },
   "file_extension": ".py",
   "mimetype": "text/x-python",
   "name": "python",
   "nbconvert_exporter": "python",
   "pygments_lexer": "ipython3",
   "version": "3.7.5"
  },
  "pycharm": {
   "stem_cell": {
    "cell_type": "raw",
    "metadata": {
     "collapsed": false
    },
    "source": []
   }
  }
 },
 "nbformat": 4,
 "nbformat_minor": 4
}
