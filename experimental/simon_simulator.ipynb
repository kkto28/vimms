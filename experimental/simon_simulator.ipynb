{
 "cells": [
  {
   "cell_type": "markdown",
   "metadata": {},
   "source": [
    "# SMART ROI test\n",
    "\n",
    "-  After running imports skip down to the bit labeled \"Simons starts here\""
   ]
  },
  {
   "cell_type": "code",
   "execution_count": 1,
   "metadata": {},
   "outputs": [],
   "source": [
    "%load_ext autoreload\n",
    "%autoreload 2"
   ]
  },
  {
   "cell_type": "code",
   "execution_count": 2,
   "metadata": {},
   "outputs": [],
   "source": [
    "import xml.etree.ElementTree\n",
    "import os,glob,sys\n",
    "import numpy as np\n",
    "import pandas as pd\n",
    "import seaborn as sns"
   ]
  },
  {
   "cell_type": "code",
   "execution_count": 3,
   "metadata": {},
   "outputs": [],
   "source": [
    "sys.path.append('C:\\\\Users\\\\Vinny\\\\work\\\\vimms')\n",
    "sys.path.append('C:\\\\Users\\\\Vinny\\\\work\\\\pymzmine')\n",
    "\n",
    "sys.path.append('/Users/simon/git/vimms')\n",
    "sys.path.append('/Users/simon/git/pymzm')\n",
    "\n",
    "sys.path.append('/home/simon/git/vimms')\n",
    "sys.path.append('/home/simon/git/pymzm')\n"
   ]
  },
  {
   "cell_type": "code",
   "execution_count": 4,
   "metadata": {},
   "outputs": [],
   "source": [
    "from vimms.PythonMzmine import *\n",
    "from vimms.MassSpec import IndependentMassSpectrometer\n",
    "from vimms.Controller import TopNController,RoiController,SmartRoiController\n",
    "from vimms.PythonMzmine import *"
   ]
  },
  {
   "cell_type": "code",
   "execution_count": 5,
   "metadata": {},
   "outputs": [],
   "source": [
    "from vimms.Roi import make_roi, RoiToChemicalCreator\n",
    "from vimms.BOMAS import *\n",
    "from vimms.Common import *\n",
    "from vimms.Environment import *\n",
    "from pathlib import Path\n",
    "from vimms.PlotsForPaper import get_frag_events"
   ]
  },
  {
   "cell_type": "code",
   "execution_count": 6,
   "metadata": {},
   "outputs": [],
   "source": [
    "from vimms.DataGenerator import extract_hmdb_metabolite, get_data_source, get_spectral_feature_database"
   ]
  },
  {
   "cell_type": "code",
   "execution_count": 7,
   "metadata": {},
   "outputs": [],
   "source": [
    "set_log_level_warning()"
   ]
  },
  {
   "cell_type": "markdown",
   "metadata": {},
   "source": [
    "# Peak Picking"
   ]
  },
  {
   "cell_type": "markdown",
   "metadata": {},
   "source": [
    "# Note from Simon\n",
    "\n",
    "- I don't run the following -- just use the results Vinny has in One Drive"
   ]
  },
  {
   "cell_type": "markdown",
   "metadata": {},
   "source": [
    "### QCA"
   ]
  },
  {
   "cell_type": "code",
   "execution_count": null,
   "metadata": {},
   "outputs": [],
   "source": [
    "mzml_QCA_TopN = 'C:\\\\Users\\\\Vinny\\\\OneDrive - University of Glasgow\\\\CLDS Metabolomics Project\\\\TopNvsTopNroi\\\\QCA\\\\from_controller_TopN_QCA.mzML'\n",
    "mzml_QCA_TopN_Roi = 'C:\\\\Users\\\\Vinny\\\\OneDrive - University of Glasgow\\\\CLDS Metabolomics Project\\\\TopNvsTopNroi\\\\QCA\\\\from_controller_ROI_QCA.mzML'\n",
    "mzml_QCA_fullscan = 'C:\\\\Users\\\\Vinny\\\\OneDrive - University of Glasgow\\\\CLDS Metabolomics Project\\\\TopNvsTopNroi\\\\QCA\\\\QCA_22May19_1.mzML'"
   ]
  },
  {
   "cell_type": "code",
   "execution_count": null,
   "metadata": {},
   "outputs": [],
   "source": [
    "qca_dir = 'C:\\\\Users\\\\Vinny\\\\OneDrive - University of Glasgow\\\\CLDS Metabolomics Project\\\\TopNvsTopNroi\\\\QCA\\\\'"
   ]
  },
  {
   "cell_type": "code",
   "execution_count": null,
   "metadata": {},
   "outputs": [],
   "source": [
    "pick_peaks([mzml_QCA_fullscan],xml_template=QCB_xml_template_ms1, output_dir=qca_dir,mzmine_command=MZMINE_COMMAND)"
   ]
  },
  {
   "cell_type": "code",
   "execution_count": null,
   "metadata": {},
   "outputs": [],
   "source": [
    "pick_peaks([mzml_QCA_TopN],xml_template=QCB_xml_template_ms2, output_dir=qca_dir,mzmine_command=MZMINE_COMMAND)"
   ]
  },
  {
   "cell_type": "code",
   "execution_count": null,
   "metadata": {},
   "outputs": [],
   "source": [
    "pick_peaks([mzml_QCA_TopN_Roi],xml_template=QCB_xml_template_ms2, output_dir=qca_dir,mzmine_command=MZMINE_COMMAND)"
   ]
  },
  {
   "cell_type": "markdown",
   "metadata": {},
   "source": [
    "### QCB"
   ]
  },
  {
   "cell_type": "code",
   "execution_count": null,
   "metadata": {},
   "outputs": [],
   "source": [
    "qcb_root = '/Users/simon/University of Glasgow/Vinny Davies - CLDS Metabolomics Project/TopNvsTopNroi/QCB/'\n",
    "\n",
    "\n",
    "mzml_QCB_TopN = os.path.join(qcb_root,'from_controller_TopN_QCB.mzML')\n",
    "mzml_QCB_TopN_Roi = os.path.join(qcb_root,'from_controller_ROI_QCB.mzML')\n",
    "mzml_QCB_fullscan = os.path.join(qcb_root,'QCB_22May19_1.mzML')"
   ]
  },
  {
   "cell_type": "code",
   "execution_count": null,
   "metadata": {},
   "outputs": [],
   "source": [
    "qcb_dir = qcb_root"
   ]
  },
  {
   "cell_type": "code",
   "execution_count": null,
   "metadata": {},
   "outputs": [],
   "source": [
    "pick_peaks([mzml_QCB_fullscan],xml_template=QCB_xml_template_ms1, output_dir=qcb_dir,mzmine_command=MZMINE_COMMAND)"
   ]
  },
  {
   "cell_type": "code",
   "execution_count": null,
   "metadata": {},
   "outputs": [],
   "source": [
    "pick_peaks([mzml_QCB_TopN],xml_template=QCB_xml_template_ms2, output_dir=qcb_dir,mzmine_command=MZMINE_COMMAND)"
   ]
  },
  {
   "cell_type": "code",
   "execution_count": null,
   "metadata": {},
   "outputs": [],
   "source": [
    "pick_peaks([mzml_QCB_TopN_Roi],xml_template=QCB_xml_template_ms2, output_dir=qcb_dir,mzmine_command=MZMINE_COMMAND)"
   ]
  },
  {
   "cell_type": "markdown",
   "metadata": {},
   "source": [
    "# Calculate Score"
   ]
  },
  {
   "cell_type": "markdown",
   "metadata": {},
   "source": [
    "# From Simon\n",
    "\n",
    "- Same for this -- have my own analysis code lower down"
   ]
  },
  {
   "cell_type": "markdown",
   "metadata": {},
   "source": [
    "### QCA"
   ]
  },
  {
   "cell_type": "code",
   "execution_count": null,
   "metadata": {},
   "outputs": [],
   "source": [
    "ms1_picked_peaks_file = qca_dir + '\\\\QCA_22May19_1_pp.csv'\n",
    "ms2_picked_peaks_file_TopN = qca_dir + '\\\\from_controller_TopN_QCA_pp.csv'\n",
    "ms2_picked_peaks_file_ROI = qca_dir + '\\\\from_controller_ROI_QCA_pp.csv'"
   ]
  },
  {
   "cell_type": "code",
   "execution_count": null,
   "metadata": {},
   "outputs": [],
   "source": [
    "min_ms1_intensity = 0"
   ]
  },
  {
   "cell_type": "code",
   "execution_count": null,
   "metadata": {},
   "outputs": [],
   "source": [
    "ms2_mzml_file = mzml_QCA_TopN\n",
    "score_count_TopN, scoring_count_TopN, ms1_df_TopN = peak_scoring_mzml(ms2_mzml_file, ms1_picked_peaks_file, ms2_picked_peaks_file_TopN, min_ms1_intensity)"
   ]
  },
  {
   "cell_type": "code",
   "execution_count": null,
   "metadata": {},
   "outputs": [],
   "source": [
    "ms2_mzml_file = mzml_QCA_TopN_Roi\n",
    "score_count_ROI, scoring_count_ROI, ms1_df_ROI = peak_scoring_mzml(ms2_mzml_file, ms1_picked_peaks_file, ms2_picked_peaks_file_TopN, min_ms1_intensity)"
   ]
  },
  {
   "cell_type": "code",
   "execution_count": null,
   "metadata": {},
   "outputs": [],
   "source": [
    "score_count_TopN, score_count_ROI"
   ]
  },
  {
   "cell_type": "code",
   "execution_count": null,
   "metadata": {},
   "outputs": [],
   "source": [
    "np.where(np.array(scoring_count_ROI[0:200]) == 0)"
   ]
  },
  {
   "cell_type": "code",
   "execution_count": null,
   "metadata": {},
   "outputs": [],
   "source": [
    "np.where(np.array(scoring_count_TopN[0:200]) == 0)"
   ]
  },
  {
   "cell_type": "code",
   "execution_count": null,
   "metadata": {},
   "outputs": [],
   "source": [
    "ms1_df_ROI.iloc[145]"
   ]
  },
  {
   "cell_type": "code",
   "execution_count": null,
   "metadata": {},
   "outputs": [],
   "source": [
    "ms1_df_ROI.iloc[68]"
   ]
  },
  {
   "cell_type": "markdown",
   "metadata": {},
   "source": [
    "### QCB"
   ]
  },
  {
   "cell_type": "code",
   "execution_count": null,
   "metadata": {},
   "outputs": [],
   "source": [
    "ms1_picked_peaks_file = os.path.join(qcb_dir,'QCB_22May19_1_pp.csv')\n",
    "ms2_picked_peaks_file_TopN = os.path.join(qcb_dir,'from_controller_TopN_QCB_pp.csv')\n",
    "ms2_picked_peaks_file_ROI = os.path.join(qcb_dir,'from_controller_ROI_QCB_pp.csv')"
   ]
  },
  {
   "cell_type": "code",
   "execution_count": null,
   "metadata": {},
   "outputs": [],
   "source": [
    "min_ms1_intensity = 0"
   ]
  },
  {
   "cell_type": "code",
   "execution_count": null,
   "metadata": {},
   "outputs": [],
   "source": [
    "ms2_mzml_file = mzml_QCB_TopN\n",
    "score_count_TopN, scoring_count_TopN, ms1_df_TopN = peak_scoring_mzml(ms2_mzml_file, ms1_picked_peaks_file, ms2_picked_peaks_file_TopN, min_ms1_intensity)"
   ]
  },
  {
   "cell_type": "code",
   "execution_count": null,
   "metadata": {},
   "outputs": [],
   "source": [
    "ms2_mzml_file = mzml_QCB_TopN_Roi\n",
    "score_count_ROI, scoring_count_ROI, ms1_df_ROI = peak_scoring_mzml(ms2_mzml_file, ms1_picked_peaks_file, ms2_picked_peaks_file_TopN, min_ms1_intensity)"
   ]
  },
  {
   "cell_type": "code",
   "execution_count": null,
   "metadata": {},
   "outputs": [],
   "source": [
    "score_count_TopN, score_count_ROI"
   ]
  },
  {
   "cell_type": "code",
   "execution_count": null,
   "metadata": {},
   "outputs": [],
   "source": [
    "np.where(np.array(scoring_count_ROI[0:200]) == 0)"
   ]
  },
  {
   "cell_type": "code",
   "execution_count": null,
   "metadata": {},
   "outputs": [],
   "source": [
    "np.where(np.array(scoring_count_TopN[0:200]) == 0)"
   ]
  },
  {
   "cell_type": "code",
   "execution_count": null,
   "metadata": {},
   "outputs": [],
   "source": [
    "ms1_df_ROI.iloc[127]"
   ]
  },
  {
   "cell_type": "code",
   "execution_count": null,
   "metadata": {},
   "outputs": [],
   "source": []
  },
  {
   "cell_type": "code",
   "execution_count": null,
   "metadata": {},
   "outputs": [],
   "source": []
  },
  {
   "cell_type": "code",
   "execution_count": null,
   "metadata": {},
   "outputs": [],
   "source": []
  },
  {
   "cell_type": "code",
   "execution_count": null,
   "metadata": {},
   "outputs": [],
   "source": []
  },
  {
   "cell_type": "code",
   "execution_count": null,
   "metadata": {},
   "outputs": [],
   "source": []
  },
  {
   "cell_type": "code",
   "execution_count": null,
   "metadata": {},
   "outputs": [],
   "source": []
  },
  {
   "cell_type": "markdown",
   "metadata": {},
   "source": [
    "# Start Simon's stuff from here..."
   ]
  },
  {
   "cell_type": "markdown",
   "metadata": {},
   "source": [
    "# Test on Simulator (with same settings as MS)"
   ]
  },
  {
   "cell_type": "code",
   "execution_count": 11,
   "metadata": {},
   "outputs": [],
   "source": [
    "base_dir = os.path.abspath('/Users/simon/University of Glasgow/Vinny Davies - CLDS Metabolomics Project/Trained Models')\n",
    "base_dir = os.path.abspath('/Users/simon/University of Glasgow/Vinny Davies - CLDS Metabolomics Project/TopN_vs_ROI/QCB/simulator_input')\n",
    "ps_frag_QCB = load_obj(Path(base_dir, 'peak_sampler_mz_rt_int_beerqcb_fragmentation.p'))"
   ]
  },
  {
   "cell_type": "code",
   "execution_count": 12,
   "metadata": {},
   "outputs": [],
   "source": [
    "QCB_MZML2CHEMS_DICT = {'min_ms1_intensity': 0,\n",
    "                  'mz_tol': 5,\n",
    "                  'mz_units':'ppm',\n",
    "                  'min_length':1,\n",
    "                  'min_intensity':0,\n",
    "                  'start_rt':0,\n",
    "                  'stop_rt':1560}"
   ]
  },
  {
   "cell_type": "code",
   "execution_count": 13,
   "metadata": {},
   "outputs": [],
   "source": [
    "# TopN_QCB_dataset = mzml2chems(mzml_QCB_TopN, ps_frag_QCB, QCB_MZML2CHEMS_DICT, n_peaks=None)"
   ]
  },
  {
   "cell_type": "code",
   "execution_count": 15,
   "metadata": {},
   "outputs": [],
   "source": [
    "# save_obj(TopN_QCB_dataset, '/Users/simon/OneDrive - University of Glasgow/CLDS Metabolomics Project/TopNvsTopNroi/QCB/SimulatorTests/TopN_QCB_dataset.mzml')\n",
    "# TopN_QCB_dataset = load_obj('/Users/simon/OneDrive - University of Glasgow/CLDS Metabolomics Project/TopNvsTopNroi/QCB/SimulatorTests/TopN_QCB_dataset.mzml')\n",
    "TopN_QCB_dataset = load_obj(Path(base_dir,'TopN_QCB_dataset.mzml'))"
   ]
  },
  {
   "cell_type": "code",
   "execution_count": null,
   "metadata": {},
   "outputs": [],
   "source": []
  },
  {
   "cell_type": "code",
   "execution_count": null,
   "metadata": {},
   "outputs": [],
   "source": []
  },
  {
   "cell_type": "markdown",
   "metadata": {},
   "source": [
    "## Set some parameters that are constant for all simulations"
   ]
  },
  {
   "cell_type": "code",
   "execution_count": 20,
   "metadata": {},
   "outputs": [],
   "source": [
    "\n",
    "min_rt = 0\n",
    "max_rt = 26*60 # entire run\n",
    "min_ms1_intensity = 5000\n",
    "mz_tol = 10\n",
    "rt_tol = 15\n",
    "N = 10\n",
    "\n",
    "\n",
    "# these are derived from real data (see bottom of notebook)\n",
    "roi_time_dict = {1: 0.71,2:0.20}\n",
    "topn_time_dict = {1: 0.60,2:0.20}\n",
    "\n",
    "\n",
    "ionisation_mode = POSITIVE\n",
    "isolation_width = 1\n",
    "\n",
    "test_path = '/home/simon/git/vimms/experimental/simon_res/'\n",
    "min_roi_intensity = 500\n",
    "min_roi_length = 3 # still in scans, as to work in seconds, need to pass parameter. But doesn't matter when parameter below is equal to 1!\n",
    "min_roi_length_for_fragmentation = 1\n",
    "\n"
   ]
  },
  {
   "cell_type": "code",
   "execution_count": 21,
   "metadata": {},
   "outputs": [],
   "source": [
    "from vimms.MassSpec import IndependentMassSpectrometer"
   ]
  },
  {
   "cell_type": "markdown",
   "metadata": {},
   "source": [
    "### Top N"
   ]
  },
  {
   "cell_type": "code",
   "execution_count": 34,
   "metadata": {},
   "outputs": [],
   "source": [
    "controller = TopNController(ionisation_mode, N, isolation_width, mz_tol, rt_tol, min_ms1_intensity)\n",
    "\n",
    "mass_spec = IndependentMassSpectrometer(ionisation_mode, TopN_QCB_dataset,\n",
    "                                        ps_frag_QCB, add_noise=True,\n",
    "                                       scan_duration_dict = topn_time_dict)\n",
    "\n",
    "env = Environment(mass_spec, controller, min_rt, max_rt, progress_bar=True)\n",
    "env.run()\n",
    "\n",
    "# test_path = '/Users/simon/git/vimms/experimental/simon_res/'\n",
    "env.write_mzML(test_path, 'topN.mzml')"
   ]
  },
  {
   "cell_type": "markdown",
   "metadata": {},
   "source": [
    "### ROI"
   ]
  },
  {
   "cell_type": "code",
   "execution_count": 16,
   "metadata": {},
   "outputs": [],
   "source": [
    "\n",
    "controller = TopN_RoiController(ionisation_mode, isolation_width, mz_tol, min_ms1_intensity,\n",
    "                           min_roi_intensity, min_roi_length, N, rt_tol, min_roi_length_for_fragmentation)"
   ]
  },
  {
   "cell_type": "code",
   "execution_count": null,
   "metadata": {},
   "outputs": [],
   "source": [
    "mass_spec = IndependentMassSpectrometer(ionisation_mode, TopN_QCB_dataset,\n",
    "                                        ps_frag_QCB,\n",
    "                                        add_noise=True,\n",
    "                                       scan_duration_dict=roi_time_dict)"
   ]
  },
  {
   "cell_type": "code",
   "execution_count": null,
   "metadata": {},
   "outputs": [],
   "source": [
    "env = Environment(mass_spec, controller, min_rt, max_rt, progress_bar=True)\n",
    "env.run()"
   ]
  },
  {
   "cell_type": "code",
   "execution_count": null,
   "metadata": {},
   "outputs": [],
   "source": [
    "env.write_mzML(test_path, 'ROI.mzml')"
   ]
  },
  {
   "cell_type": "markdown",
   "metadata": {},
   "source": [
    "## SMART ROI"
   ]
  },
  {
   "cell_type": "code",
   "execution_count": 22,
   "metadata": {},
   "outputs": [],
   "source": [
    "# SMART ROI\n",
    "reset_length_seconds = 1e6 # set so reset never happens\n",
    "\n",
    "iif_values = [2,3,5,10,1e3,1e6]\n",
    "# dp_values = [1,5,20,50]\n",
    "# dp_values = [0.1,0.5]\n",
    "# dp_values = [0]\n",
    "dp_values = [0,0.1,0.5,1,5]\n",
    "# iif_values = [1e6]"
   ]
  },
  {
   "cell_type": "code",
   "execution_count": 23,
   "metadata": {},
   "outputs": [
    {
     "name": "stdout",
     "output_type": "stream",
     "text": [
      "2 0\n"
     ]
    },
    {
     "name": "stderr",
     "output_type": "stream",
     "text": [
      "(1560.280s) ms_level=1 N=10 DEW=15: 100%|█████████▉| 1559.5700000001254/1560 [02:01<00:00, 12.84it/s]\n"
     ]
    },
    {
     "name": "stdout",
     "output_type": "stream",
     "text": [
      "2 0.1\n"
     ]
    },
    {
     "name": "stderr",
     "output_type": "stream",
     "text": [
      "(1560.000s) ms_level=2 N=10 DEW=15: 100%|█████████▉| 1559.8000000001264/1560 [02:02<00:00, 12.70it/s]\n"
     ]
    },
    {
     "name": "stdout",
     "output_type": "stream",
     "text": [
      "2 0.5\n"
     ]
    },
    {
     "name": "stderr",
     "output_type": "stream",
     "text": [
      "(1560.000s) ms_level=2 N=10 DEW=15: 100%|█████████▉| 1559.8000000001264/1560 [02:02<00:00, 12.71it/s]\n"
     ]
    },
    {
     "name": "stdout",
     "output_type": "stream",
     "text": [
      "2 1\n"
     ]
    },
    {
     "name": "stderr",
     "output_type": "stream",
     "text": [
      "(1560.070s) ms_level=2 N=10 DEW=15: 100%|█████████▉| 1559.8700000001268/1560 [01:54<00:00, 13.68it/s]\n"
     ]
    },
    {
     "name": "stdout",
     "output_type": "stream",
     "text": [
      "2 5\n"
     ]
    },
    {
     "name": "stderr",
     "output_type": "stream",
     "text": [
      "(1560.290s) ms_level=1 N=10 DEW=15: 100%|█████████▉| 1559.5800000001288/1560 [01:55<00:00, 13.48it/s]\n"
     ]
    },
    {
     "name": "stdout",
     "output_type": "stream",
     "text": [
      "3 0\n"
     ]
    },
    {
     "name": "stderr",
     "output_type": "stream",
     "text": [
      "(1560.260s) ms_level=1 N=10 DEW=15: 100%|█████████▉| 1559.5500000001093/1560 [01:57<00:00, 13.29it/s]\n"
     ]
    },
    {
     "name": "stdout",
     "output_type": "stream",
     "text": [
      "3 0.1\n"
     ]
    },
    {
     "name": "stderr",
     "output_type": "stream",
     "text": [
      "(1560.260s) ms_level=1 N=10 DEW=15: 100%|█████████▉| 1559.5500000001093/1560 [01:57<00:00, 13.30it/s]\n"
     ]
    },
    {
     "name": "stdout",
     "output_type": "stream",
     "text": [
      "3 0.5\n"
     ]
    },
    {
     "name": "stderr",
     "output_type": "stream",
     "text": [
      "(1560.260s) ms_level=1 N=10 DEW=15: 100%|█████████▉| 1559.5500000001093/1560 [01:59<00:00, 13.00it/s]\n"
     ]
    },
    {
     "name": "stdout",
     "output_type": "stream",
     "text": [
      "3 1\n"
     ]
    },
    {
     "name": "stderr",
     "output_type": "stream",
     "text": [
      "(1560.600s) ms_level=1 N=10 DEW=15: 100%|█████████▉| 1559.8900000001101/1560 [01:57<00:00, 13.23it/s]\n"
     ]
    },
    {
     "name": "stdout",
     "output_type": "stream",
     "text": [
      "3 5\n"
     ]
    },
    {
     "name": "stderr",
     "output_type": "stream",
     "text": [
      "(1560.600s) ms_level=1 N=10 DEW=15: 100%|█████████▉| 1559.8900000001117/1560 [01:55<00:00, 13.51it/s]\n"
     ]
    },
    {
     "name": "stdout",
     "output_type": "stream",
     "text": [
      "5 0\n"
     ]
    },
    {
     "name": "stderr",
     "output_type": "stream",
     "text": [
      "(1560.040s) ms_level=1 N=10 DEW=15: 100%|█████████▉| 1559.3300000001052/1560 [01:59<00:00, 13.01it/s]\n"
     ]
    },
    {
     "name": "stdout",
     "output_type": "stream",
     "text": [
      "5 0.1\n"
     ]
    },
    {
     "name": "stderr",
     "output_type": "stream",
     "text": [
      "(1560.060s) ms_level=1 N=10 DEW=15: 100%|█████████▉| 1559.350000000105/1560 [02:02<00:00, 12.73it/s] \n"
     ]
    },
    {
     "name": "stdout",
     "output_type": "stream",
     "text": [
      "5 0.5\n"
     ]
    },
    {
     "name": "stderr",
     "output_type": "stream",
     "text": [
      "(1560.020s) ms_level=1 N=10 DEW=15: 100%|█████████▉| 1559.3100000001054/1560 [02:04<00:00, 12.51it/s]\n"
     ]
    },
    {
     "name": "stdout",
     "output_type": "stream",
     "text": [
      "5 1\n"
     ]
    },
    {
     "name": "stderr",
     "output_type": "stream",
     "text": [
      "(1560.000s) ms_level=2 N=10 DEW=15: 100%|█████████▉| 1559.8000000001057/1560 [02:00<00:00, 12.94it/s]\n"
     ]
    },
    {
     "name": "stdout",
     "output_type": "stream",
     "text": [
      "5 5\n"
     ]
    },
    {
     "name": "stderr",
     "output_type": "stream",
     "text": [
      "(1560.560s) ms_level=1 N=10 DEW=15: 100%|█████████▉| 1559.8500000001077/1560 [01:59<00:00, 13.09it/s]\n"
     ]
    },
    {
     "name": "stdout",
     "output_type": "stream",
     "text": [
      "10 0\n"
     ]
    },
    {
     "name": "stderr",
     "output_type": "stream",
     "text": [
      "(1560.480s) ms_level=1 N=10 DEW=15: 100%|█████████▉| 1559.770000000103/1560 [02:07<00:00, 12.24it/s] \n"
     ]
    },
    {
     "name": "stdout",
     "output_type": "stream",
     "text": [
      "10 0.1\n"
     ]
    },
    {
     "name": "stderr",
     "output_type": "stream",
     "text": [
      "(1560.040s) ms_level=1 N=10 DEW=15: 100%|█████████▉| 1559.3300000001034/1560 [02:12<00:00, 11.73it/s]\n"
     ]
    },
    {
     "name": "stdout",
     "output_type": "stream",
     "text": [
      "10 0.5\n"
     ]
    },
    {
     "name": "stderr",
     "output_type": "stream",
     "text": [
      "(1560.420s) ms_level=1 N=10 DEW=15: 100%|█████████▉| 1559.7100000001035/1560 [01:58<00:00, 13.16it/s]\n"
     ]
    },
    {
     "name": "stdout",
     "output_type": "stream",
     "text": [
      "10 1\n"
     ]
    },
    {
     "name": "stderr",
     "output_type": "stream",
     "text": [
      "(1560.490s) ms_level=1 N=10 DEW=15: 100%|█████████▉| 1559.7800000001037/1560 [01:58<00:00, 13.16it/s]\n"
     ]
    },
    {
     "name": "stdout",
     "output_type": "stream",
     "text": [
      "10 5\n"
     ]
    },
    {
     "name": "stderr",
     "output_type": "stream",
     "text": [
      "(1560.470s) ms_level=1 N=10 DEW=15: 100%|█████████▉| 1559.760000000105/1560 [01:59<00:00, 13.02it/s] \n"
     ]
    },
    {
     "name": "stdout",
     "output_type": "stream",
     "text": [
      "1000.0 0\n"
     ]
    },
    {
     "name": "stderr",
     "output_type": "stream",
     "text": [
      "(1560.550s) ms_level=1 N=10 DEW=15: 100%|█████████▉| 1559.8400000000904/1560 [02:09<00:00, 12.09it/s]\n"
     ]
    },
    {
     "name": "stdout",
     "output_type": "stream",
     "text": [
      "1000.0 0.1\n"
     ]
    },
    {
     "name": "stderr",
     "output_type": "stream",
     "text": [
      "(1560.510s) ms_level=1 N=10 DEW=15: 100%|█████████▉| 1559.800000000091/1560 [02:06<00:00, 12.30it/s] \n"
     ]
    },
    {
     "name": "stdout",
     "output_type": "stream",
     "text": [
      "1000.0 0.5\n"
     ]
    },
    {
     "name": "stderr",
     "output_type": "stream",
     "text": [
      "(1560.000s) ms_level=1 N=10 DEW=15: 100%|█████████▉| 1559.290000000091/1560 [02:09<00:00, 12.04it/s] \n"
     ]
    },
    {
     "name": "stdout",
     "output_type": "stream",
     "text": [
      "1000.0 1\n"
     ]
    },
    {
     "name": "stderr",
     "output_type": "stream",
     "text": [
      "(1560.530s) ms_level=1 N=10 DEW=15: 100%|█████████▉| 1559.8200000000907/1560 [02:14<00:00, 11.57it/s]\n"
     ]
    },
    {
     "name": "stdout",
     "output_type": "stream",
     "text": [
      "1000.0 5\n"
     ]
    },
    {
     "name": "stderr",
     "output_type": "stream",
     "text": [
      "(1560.170s) ms_level=1 N=10 DEW=15: 100%|█████████▉| 1559.460000000093/1560 [02:03<00:00, 12.61it/s] \n"
     ]
    },
    {
     "name": "stdout",
     "output_type": "stream",
     "text": [
      "1000000.0 0\n"
     ]
    },
    {
     "name": "stderr",
     "output_type": "stream",
     "text": [
      "(1560.570s) ms_level=1 N=10 DEW=15: 100%|█████████▉| 1559.8600000000902/1560 [02:09<00:00, 12.08it/s]\n"
     ]
    },
    {
     "name": "stdout",
     "output_type": "stream",
     "text": [
      "1000000.0 0.1\n"
     ]
    },
    {
     "name": "stderr",
     "output_type": "stream",
     "text": [
      "(1560.570s) ms_level=1 N=10 DEW=15: 100%|█████████▉| 1559.8600000000902/1560 [02:09<00:00, 12.05it/s]\n"
     ]
    },
    {
     "name": "stdout",
     "output_type": "stream",
     "text": [
      "1000000.0 0.5\n"
     ]
    },
    {
     "name": "stderr",
     "output_type": "stream",
     "text": [
      "(1560.530s) ms_level=1 N=10 DEW=15: 100%|█████████▉| 1559.8200000000907/1560 [02:17<00:00, 11.34it/s]\n"
     ]
    },
    {
     "name": "stdout",
     "output_type": "stream",
     "text": [
      "1000000.0 1\n"
     ]
    },
    {
     "name": "stderr",
     "output_type": "stream",
     "text": [
      "(1560.240s) ms_level=1 N=10 DEW=15: 100%|█████████▉| 1559.5300000000905/1560 [02:02<00:00, 12.72it/s]\n"
     ]
    },
    {
     "name": "stdout",
     "output_type": "stream",
     "text": [
      "1000000.0 5\n"
     ]
    },
    {
     "name": "stderr",
     "output_type": "stream",
     "text": [
      "(1560.030s) ms_level=1 N=10 DEW=15: 100%|█████████▉| 1559.3200000000923/1560 [02:01<00:00, 12.85it/s]\n"
     ]
    }
   ],
   "source": [
    "for iif in iif_values:\n",
    "    for dp in dp_values:\n",
    "        print(iif,dp)\n",
    "        intensity_increase_factor = iif # fragment ROI again if intensity increases 10 fold\n",
    "        drop_perc = dp/100\n",
    "\n",
    "\n",
    "        # ROI can also be fragmented again if intensity falls to <1% of the max *since* last fragmentation\n",
    "        from vimms.Controller import TopN_SmartRoiController\n",
    "        controller = TopN_SmartRoiController(ionisation_mode, isolation_width, mz_tol, min_ms1_intensity,\n",
    "                                             min_roi_intensity, min_roi_length, N = N, rt_tol = rt_tol, \n",
    "                                             min_roi_length_for_fragmentation = min_roi_length_for_fragmentation,\n",
    "                                             reset_length_seconds = reset_length_seconds,\n",
    "                                             intensity_increase_factor = intensity_increase_factor,\n",
    "                                             drop_perc = drop_perc)\n",
    "\n",
    "        mass_spec = IndependentMassSpectrometer(ionisation_mode, TopN_QCB_dataset,\n",
    "                                                ps_frag_QCB,\n",
    "                                                add_noise=True,\n",
    "                                               scan_duration_dict=roi_time_dict)\n",
    "\n",
    "        env = Environment(mass_spec, controller, min_rt, max_rt, progress_bar=True)\n",
    "        env.run()\n",
    "        \n",
    "        out_name = 'SMART3_{}_{}.mzml'.format(iif,dp)\n",
    "        env.write_mzML(test_path, out_name)"
   ]
  },
  {
   "cell_type": "code",
   "execution_count": null,
   "metadata": {},
   "outputs": [],
   "source": [
    "env.write_mzML(test_path, 'SMART.mzml')"
   ]
  },
  {
   "cell_type": "markdown",
   "metadata": {},
   "source": [
    "## ROI-based scoring\n",
    "\n",
    "- Make the ROIs in the data\n",
    "- Count how many have fragmentations in them"
   ]
  },
  {
   "cell_type": "code",
   "execution_count": null,
   "metadata": {},
   "outputs": [],
   "source": [
    "from vimms.Roi import make_roi"
   ]
  },
  {
   "cell_type": "code",
   "execution_count": null,
   "metadata": {},
   "outputs": [],
   "source": [
    "topn_file = os.path.join(test_path, 'topN.mzml')\n",
    "roi_file = os.path.join(test_path,'ROI.mzml')\n",
    "smart_file = os.path.join(test_path,'SMART.mzml')"
   ]
  },
  {
   "cell_type": "code",
   "execution_count": null,
   "metadata": {},
   "outputs": [],
   "source": [
    "good_topn,junk_topn = make_roi(topn_file,mz_tol = mz_tol,mz_units = 'ppm',min_length = min_roi_length,min_intensity = min_roi_intensity)"
   ]
  },
  {
   "cell_type": "code",
   "execution_count": null,
   "metadata": {},
   "outputs": [],
   "source": [
    "good_roi,junk_roi = make_roi(roi_file,mz_tol = mz_tol,mz_units = 'ppm',min_length = min_roi_length,min_intensity = min_roi_intensity)"
   ]
  },
  {
   "cell_type": "code",
   "execution_count": null,
   "metadata": {},
   "outputs": [],
   "source": [
    "good_smart,junk_smart = make_roi(smart_file,mz_tol = mz_tol,mz_units = 'ppm',min_length = min_roi_length,min_intensity = min_roi_intensity)"
   ]
  },
  {
   "cell_type": "code",
   "execution_count": 26,
   "metadata": {},
   "outputs": [
    {
     "ename": "NameError",
     "evalue": "name 'topn_file' is not defined",
     "output_type": "error",
     "traceback": [
      "\u001b[0;31m---------------------------------------------------------------------------\u001b[0m",
      "\u001b[0;31mNameError\u001b[0m                                 Traceback (most recent call last)",
      "\u001b[0;32m<ipython-input-26-d07305fa6515>\u001b[0m in \u001b[0;36m<module>\u001b[0;34m\u001b[0m\n\u001b[1;32m      1\u001b[0m \u001b[0msys\u001b[0m\u001b[0;34m.\u001b[0m\u001b[0mpath\u001b[0m\u001b[0;34m.\u001b[0m\u001b[0mappend\u001b[0m\u001b[0;34m(\u001b[0m\u001b[0;34m'/Users/simon/git/pymzm'\u001b[0m\u001b[0;34m)\u001b[0m\u001b[0;34m\u001b[0m\u001b[0;34m\u001b[0m\u001b[0m\n\u001b[1;32m      2\u001b[0m \u001b[0;32mfrom\u001b[0m \u001b[0mms2_matching\u001b[0m \u001b[0;32mimport\u001b[0m \u001b[0mMZMLFile\u001b[0m\u001b[0;34m\u001b[0m\u001b[0;34m\u001b[0m\u001b[0m\n\u001b[0;32m----> 3\u001b[0;31m \u001b[0mtopn_mz_file\u001b[0m \u001b[0;34m=\u001b[0m \u001b[0mMZMLFile\u001b[0m\u001b[0;34m(\u001b[0m\u001b[0mtopn_file\u001b[0m\u001b[0;34m)\u001b[0m\u001b[0;34m\u001b[0m\u001b[0;34m\u001b[0m\u001b[0m\n\u001b[0m\u001b[1;32m      4\u001b[0m \u001b[0mroi_mz_file\u001b[0m \u001b[0;34m=\u001b[0m \u001b[0mMZMLFile\u001b[0m\u001b[0;34m(\u001b[0m\u001b[0mroi_file\u001b[0m\u001b[0;34m)\u001b[0m\u001b[0;34m\u001b[0m\u001b[0;34m\u001b[0m\u001b[0m\n\u001b[1;32m      5\u001b[0m \u001b[0msmart_mz_file\u001b[0m \u001b[0;34m=\u001b[0m \u001b[0mMZMLFile\u001b[0m\u001b[0;34m(\u001b[0m\u001b[0msmart_file\u001b[0m\u001b[0;34m)\u001b[0m\u001b[0;34m\u001b[0m\u001b[0;34m\u001b[0m\u001b[0m\n",
      "\u001b[0;31mNameError\u001b[0m: name 'topn_file' is not defined"
     ]
    }
   ],
   "source": [
    "sys.path.append('/Users/simon/git/pymzm')\n",
    "from mass_spec_utils.data_import.mzml import MZMLFile\n",
    "topn_mz_file = MZMLFile(topn_file)\n",
    "roi_mz_file = MZMLFile(roi_file)\n",
    "smart_mz_file = MZMLFile(smart_file)"
   ]
  },
  {
   "cell_type": "code",
   "execution_count": null,
   "metadata": {},
   "outputs": [],
   "source": [
    "\n",
    "def summarise(mz_file_object):\n",
    "    n_scans = len(mz_file_object.scans)\n",
    "    n_ms1_scans = len(list(filter(lambda x: x.ms_level == 1,mz_file_object.scans)))\n",
    "    n_ms2_scans = len(list(filter(lambda x: x.ms_level == 2,mz_file_object.scans)))\n",
    "    print(\"Total scans = {}, MS1 = {}, MS2 = {}\".format(n_scans,n_ms1_scans,n_ms2_scans))\n",
    "print(\"TopN:\")\n",
    "summarise(topn_mz_file)\n",
    "print(\"ROI:\")\n",
    "summarise(roi_mz_file)\n",
    "print(\"SMART:\")\n",
    "summarise(smart_mz_file)\n",
    "\n"
   ]
  },
  {
   "cell_type": "code",
   "execution_count": null,
   "metadata": {},
   "outputs": [],
   "source": [
    "# This method is very slow.... :-)\n",
    "\n",
    "def match_scans_to_rois(mz_file_object,roi_list):\n",
    "    roi2scan = {roi:[] for roi in roi_list}\n",
    "    scan2roi = {scan:[] for scan in filter(lambda x: x.ms_level == 2,mz_file_object.scans)}\n",
    "    for scan in mz_file_object.scans:\n",
    "        if scan.ms_level == 2:\n",
    "            pmz = scan.precursor_mz\n",
    "            scan_rt_in_seconds = 60*scan.previous_ms1.rt_in_minutes\n",
    "            in_mz_range = list(filter(lambda x: min(x.mz_list) <= pmz and max(x.mz_list) >= pmz,roi_list))\n",
    "            in_rt_range = list(filter(lambda x: x.rt_list[0]<= scan_rt_in_seconds and x.rt_list[-1] >= scan_rt_in_seconds,in_mz_range))\n",
    "            for roi in in_rt_range:\n",
    "                roi2scan[roi].append(scan)\n",
    "                scan2roi[scan].append(roi)\n",
    "    return roi2scan,scan2roi\n",
    "\n"
   ]
  },
  {
   "cell_type": "code",
   "execution_count": null,
   "metadata": {},
   "outputs": [],
   "source": [
    "roi_roi2scan,roi_scan2roi = match_scans_to_rois(roi_mz_file,good_roi)"
   ]
  },
  {
   "cell_type": "code",
   "execution_count": null,
   "metadata": {},
   "outputs": [],
   "source": [
    "topn_roi2scan,topn_scan2roi = match_scans_to_rois(topn_mz_file,good_topn)"
   ]
  },
  {
   "cell_type": "code",
   "execution_count": null,
   "metadata": {},
   "outputs": [],
   "source": [
    "smart_roi2scan,smart_scan2roi = match_scans_to_rois(smart_mz_file,good_smart)"
   ]
  },
  {
   "cell_type": "code",
   "execution_count": null,
   "metadata": {},
   "outputs": [],
   "source": [
    "# compute proportion of ROIs that have scans for each\n",
    "def prop_roi_with_scans(roi2scan):\n",
    "    with_scan = 0\n",
    "    without_scan = 0\n",
    "    for r,scans in roi2scan.items():\n",
    "        if len(scans) == 0:\n",
    "            without_scan += 1\n",
    "        else:\n",
    "            with_scan += 1\n",
    "    return with_scan,without_scan,len(roi2scan)"
   ]
  },
  {
   "cell_type": "code",
   "execution_count": null,
   "metadata": {},
   "outputs": [],
   "source": [
    "print(\"ROI: \",prop_roi_with_scans(roi_roi2scan))\n",
    "print(\"topN: \",prop_roi_with_scans(topn_roi2scan))\n",
    "print(\"SMART: \",prop_roi_with_scans(smart_roi2scan))"
   ]
  },
  {
   "cell_type": "code",
   "execution_count": null,
   "metadata": {},
   "outputs": [],
   "source": []
  },
  {
   "cell_type": "markdown",
   "metadata": {},
   "source": [
    "# Test with the picked peaks\n",
    "\n",
    "- This code uses a method called `load_picked_boxes` and one called `map_boxes_to_scans` from my mass_spec_utils repository (in `mzmine.py`)\n",
    "- Load picked boxes loads the peak *boxes* from the output of mzmine (i.e. min/max mz, min/max rt)\n",
    "- Map boxes to scans takes an MZMLFile object (also from the pymzm repo) and maps the ms2 scans to the boxes (and vice versa). Note that this method was originally designed to map scans to any box they overlap with (i.e. any box where the precursor plus or minus isolation intersected the box). This can be *switched off* by setting the isolation with to zero. Now, it will only find things where the precursor mz is in the box (and RT is ok, obviously)\n",
    "- We can then simply see how many of the boxes are associated with scans and this tells us how many picked peaks have scans"
   ]
  },
  {
   "cell_type": "code",
   "execution_count": 31,
   "metadata": {},
   "outputs": [
    {
     "name": "stdout",
     "output_type": "stream",
     "text": [
      "['row ID', 'row m/z', 'row retention time', 'from_controller_TopN_QCB.mzML filtered Peak m/z', 'from_controller_TopN_QCB.mzML filtered Peak RT start', 'from_controller_TopN_QCB.mzML filtered Peak RT end', 'from_controller_TopN_QCB.mzML filtered Peak height', 'from_controller_TopN_QCB.mzML filtered Peak area', 'from_controller_TopN_QCB.mzML filtered Peak m/z min', 'from_controller_TopN_QCB.mzML filtered Peak m/z max', '']\n"
     ]
    }
   ],
   "source": [
    "# test with picked peaks\n",
    "from mass_spec_utils.data_import.mzml import MZMLFile\n",
    "\n",
    "# Big differences between the following two files!\n",
    "# perhaps an alignment thing...\n",
    "# peak_csv_file = os.path.join(qcb_dir,'from_controller_TopN_QCB_pp.csv')\n",
    "# peak_csv_file = os.path.join(qcb_dir,'QCB_22May19_1_pp.csv') \n",
    "peak_csv_file = os.path.join(test_path,'QCB','qcb_pp_wide.csv')\n",
    "\n",
    "from mass_spec_utils.data_import.mzmine import load_picked_boxes,map_boxes_to_scans\n",
    "boxes = load_picked_boxes(peak_csv_file)"
   ]
  },
  {
   "cell_type": "code",
   "execution_count": 40,
   "metadata": {
    "scrolled": true
   },
   "outputs": [
    {
     "name": "stdout",
     "output_type": "stream",
     "text": [
      "2 0\n",
      "Loaded 4815 scans\n",
      "[[1147.    0.    0.    0.    0.]\n",
      " [   0.    0.    0.    0.    0.]\n",
      " [   0.    0.    0.    0.    0.]\n",
      " [   0.    0.    0.    0.    0.]\n",
      " [   0.    0.    0.    0.    0.]\n",
      " [   0.    0.    0.    0.    0.]]\n",
      "2 0.1\n",
      "Loaded 4829 scans\n",
      "[[1147. 1149.    0.    0.    0.]\n",
      " [   0.    0.    0.    0.    0.]\n",
      " [   0.    0.    0.    0.    0.]\n",
      " [   0.    0.    0.    0.    0.]\n",
      " [   0.    0.    0.    0.    0.]\n",
      " [   0.    0.    0.    0.    0.]]\n",
      "2 0.5\n",
      "Loaded 4827 scans\n",
      "[[1147. 1149. 1156.    0.    0.]\n",
      " [   0.    0.    0.    0.    0.]\n",
      " [   0.    0.    0.    0.    0.]\n",
      " [   0.    0.    0.    0.    0.]\n",
      " [   0.    0.    0.    0.    0.]\n",
      " [   0.    0.    0.    0.    0.]]\n",
      "2 1\n",
      "Loaded 4838 scans\n",
      "[[1147. 1149. 1156. 1140.    0.]\n",
      " [   0.    0.    0.    0.    0.]\n",
      " [   0.    0.    0.    0.    0.]\n",
      " [   0.    0.    0.    0.    0.]\n",
      " [   0.    0.    0.    0.    0.]\n",
      " [   0.    0.    0.    0.    0.]]\n",
      "2 5\n",
      "Loaded 4875 scans\n",
      "[[1147. 1149. 1156. 1140. 1055.]\n",
      " [   0.    0.    0.    0.    0.]\n",
      " [   0.    0.    0.    0.    0.]\n",
      " [   0.    0.    0.    0.    0.]\n",
      " [   0.    0.    0.    0.    0.]\n",
      " [   0.    0.    0.    0.    0.]]\n",
      "3 0\n",
      "Loaded 4481 scans\n",
      "[[1147. 1149. 1156. 1140. 1055.]\n",
      " [1221.    0.    0.    0.    0.]\n",
      " [   0.    0.    0.    0.    0.]\n",
      " [   0.    0.    0.    0.    0.]\n",
      " [   0.    0.    0.    0.    0.]\n",
      " [   0.    0.    0.    0.    0.]]\n",
      "3 0.1\n",
      "Loaded 4478 scans\n",
      "[[1147. 1149. 1156. 1140. 1055.]\n",
      " [1221. 1212.    0.    0.    0.]\n",
      " [   0.    0.    0.    0.    0.]\n",
      " [   0.    0.    0.    0.    0.]\n",
      " [   0.    0.    0.    0.    0.]\n",
      " [   0.    0.    0.    0.    0.]]\n",
      "3 0.5\n",
      "Loaded 4484 scans\n",
      "[[1147. 1149. 1156. 1140. 1055.]\n",
      " [1221. 1212. 1210.    0.    0.]\n",
      " [   0.    0.    0.    0.    0.]\n",
      " [   0.    0.    0.    0.    0.]\n",
      " [   0.    0.    0.    0.    0.]\n",
      " [   0.    0.    0.    0.    0.]]\n",
      "3 1\n",
      "Loaded 4497 scans\n",
      "[[1147. 1149. 1156. 1140. 1055.]\n",
      " [1221. 1212. 1210. 1226.    0.]\n",
      " [   0.    0.    0.    0.    0.]\n",
      " [   0.    0.    0.    0.    0.]\n",
      " [   0.    0.    0.    0.    0.]\n",
      " [   0.    0.    0.    0.    0.]]\n",
      "3 5\n",
      "Loaded 4539 scans\n",
      "[[1147. 1149. 1156. 1140. 1055.]\n",
      " [1221. 1212. 1210. 1226. 1130.]\n",
      " [   0.    0.    0.    0.    0.]\n",
      " [   0.    0.    0.    0.    0.]\n",
      " [   0.    0.    0.    0.    0.]\n",
      " [   0.    0.    0.    0.    0.]]\n",
      "5 0\n",
      "Loaded 4380 scans\n",
      "[[1147. 1149. 1156. 1140. 1055.]\n",
      " [1221. 1212. 1210. 1226. 1130.]\n",
      " [1269.    0.    0.    0.    0.]\n",
      " [   0.    0.    0.    0.    0.]\n",
      " [   0.    0.    0.    0.    0.]\n",
      " [   0.    0.    0.    0.    0.]]\n",
      "5 0.1\n",
      "Loaded 4378 scans\n",
      "[[1147. 1149. 1156. 1140. 1055.]\n",
      " [1221. 1212. 1210. 1226. 1130.]\n",
      " [1269. 1261.    0.    0.    0.]\n",
      " [   0.    0.    0.    0.    0.]\n",
      " [   0.    0.    0.    0.    0.]\n",
      " [   0.    0.    0.    0.    0.]]\n",
      "5 0.5\n",
      "Loaded 4381 scans\n",
      "[[1147. 1149. 1156. 1140. 1055.]\n",
      " [1221. 1212. 1210. 1226. 1130.]\n",
      " [1269. 1261. 1267.    0.    0.]\n",
      " [   0.    0.    0.    0.    0.]\n",
      " [   0.    0.    0.    0.    0.]\n",
      " [   0.    0.    0.    0.    0.]]\n",
      "5 1\n",
      "Loaded 4389 scans\n",
      "[[1147. 1149. 1156. 1140. 1055.]\n",
      " [1221. 1212. 1210. 1226. 1130.]\n",
      " [1269. 1261. 1267. 1248.    0.]\n",
      " [   0.    0.    0.    0.    0.]\n",
      " [   0.    0.    0.    0.    0.]\n",
      " [   0.    0.    0.    0.    0.]]\n",
      "5 5\n",
      "Loaded 4450 scans\n",
      "[[1147. 1149. 1156. 1140. 1055.]\n",
      " [1221. 1212. 1210. 1226. 1130.]\n",
      " [1269. 1261. 1267. 1248. 1174.]\n",
      " [   0.    0.    0.    0.    0.]\n",
      " [   0.    0.    0.    0.    0.]\n",
      " [   0.    0.    0.    0.    0.]]\n",
      "10 0\n",
      "Loaded 4324 scans\n",
      "[[1147. 1149. 1156. 1140. 1055.]\n",
      " [1221. 1212. 1210. 1226. 1130.]\n",
      " [1269. 1261. 1267. 1248. 1174.]\n",
      " [1267.    0.    0.    0.    0.]\n",
      " [   0.    0.    0.    0.    0.]\n",
      " [   0.    0.    0.    0.    0.]]\n",
      "10 0.1\n",
      "Loaded 4331 scans\n",
      "[[1147. 1149. 1156. 1140. 1055.]\n",
      " [1221. 1212. 1210. 1226. 1130.]\n",
      " [1269. 1261. 1267. 1248. 1174.]\n",
      " [1267. 1268.    0.    0.    0.]\n",
      " [   0.    0.    0.    0.    0.]\n",
      " [   0.    0.    0.    0.    0.]]\n",
      "10 0.5\n",
      "Loaded 4335 scans\n",
      "[[1147. 1149. 1156. 1140. 1055.]\n",
      " [1221. 1212. 1210. 1226. 1130.]\n",
      " [1269. 1261. 1267. 1248. 1174.]\n",
      " [1267. 1268. 1287.    0.    0.]\n",
      " [   0.    0.    0.    0.    0.]\n",
      " [   0.    0.    0.    0.    0.]]\n",
      "10 1\n",
      "Loaded 4353 scans\n",
      "[[1147. 1149. 1156. 1140. 1055.]\n",
      " [1221. 1212. 1210. 1226. 1130.]\n",
      " [1269. 1261. 1267. 1248. 1174.]\n",
      " [1267. 1268. 1287. 1265.    0.]\n",
      " [   0.    0.    0.    0.    0.]\n",
      " [   0.    0.    0.    0.    0.]]\n",
      "10 5\n",
      "Loaded 4388 scans\n",
      "[[1147. 1149. 1156. 1140. 1055.]\n",
      " [1221. 1212. 1210. 1226. 1130.]\n",
      " [1269. 1261. 1267. 1248. 1174.]\n",
      " [1267. 1268. 1287. 1265. 1185.]\n",
      " [   0.    0.    0.    0.    0.]\n",
      " [   0.    0.    0.    0.    0.]]\n",
      "1000.0 0\n",
      "Loaded 4021 scans\n",
      "[[1147. 1149. 1156. 1140. 1055.]\n",
      " [1221. 1212. 1210. 1226. 1130.]\n",
      " [1269. 1261. 1267. 1248. 1174.]\n",
      " [1267. 1268. 1287. 1265. 1185.]\n",
      " [1263.    0.    0.    0.    0.]\n",
      " [   0.    0.    0.    0.    0.]]\n",
      "1000.0 0.1\n",
      "Loaded 4028 scans\n",
      "[[1147. 1149. 1156. 1140. 1055.]\n",
      " [1221. 1212. 1210. 1226. 1130.]\n",
      " [1269. 1261. 1267. 1248. 1174.]\n",
      " [1267. 1268. 1287. 1265. 1185.]\n",
      " [1263. 1268.    0.    0.    0.]\n",
      " [   0.    0.    0.    0.    0.]]\n",
      "1000.0 0.5\n",
      "Loaded 4030 scans\n",
      "[[1147. 1149. 1156. 1140. 1055.]\n",
      " [1221. 1212. 1210. 1226. 1130.]\n",
      " [1269. 1261. 1267. 1248. 1174.]\n",
      " [1267. 1268. 1287. 1265. 1185.]\n",
      " [1263. 1268. 1268.    0.    0.]\n",
      " [   0.    0.    0.    0.    0.]]\n",
      "1000.0 1\n",
      "Loaded 4043 scans\n",
      "[[1147. 1149. 1156. 1140. 1055.]\n",
      " [1221. 1212. 1210. 1226. 1130.]\n",
      " [1269. 1261. 1267. 1248. 1174.]\n",
      " [1267. 1268. 1287. 1265. 1185.]\n",
      " [1263. 1268. 1268. 1264.    0.]\n",
      " [   0.    0.    0.    0.    0.]]\n",
      "1000.0 5\n",
      "Loaded 4116 scans\n",
      "[[1147. 1149. 1156. 1140. 1055.]\n",
      " [1221. 1212. 1210. 1226. 1130.]\n",
      " [1269. 1261. 1267. 1248. 1174.]\n",
      " [1267. 1268. 1287. 1265. 1185.]\n",
      " [1263. 1268. 1268. 1264. 1223.]\n",
      " [   0.    0.    0.    0.    0.]]\n",
      "1000000.0 0\n",
      "Loaded 4016 scans\n",
      "[[1147. 1149. 1156. 1140. 1055.]\n",
      " [1221. 1212. 1210. 1226. 1130.]\n",
      " [1269. 1261. 1267. 1248. 1174.]\n",
      " [1267. 1268. 1287. 1265. 1185.]\n",
      " [1263. 1268. 1268. 1264. 1223.]\n",
      " [1263.    0.    0.    0.    0.]]\n",
      "1000000.0 0.1\n",
      "Loaded 4016 scans\n",
      "[[1147. 1149. 1156. 1140. 1055.]\n",
      " [1221. 1212. 1210. 1226. 1130.]\n",
      " [1269. 1261. 1267. 1248. 1174.]\n",
      " [1267. 1268. 1287. 1265. 1185.]\n",
      " [1263. 1268. 1268. 1264. 1223.]\n",
      " [1263. 1263.    0.    0.    0.]]\n",
      "1000000.0 0.5\n",
      "Loaded 4027 scans\n",
      "[[1147. 1149. 1156. 1140. 1055.]\n",
      " [1221. 1212. 1210. 1226. 1130.]\n",
      " [1269. 1261. 1267. 1248. 1174.]\n",
      " [1267. 1268. 1287. 1265. 1185.]\n",
      " [1263. 1268. 1268. 1264. 1223.]\n",
      " [1263. 1263. 1265.    0.    0.]]\n",
      "1000000.0 1\n",
      "Loaded 4036 scans\n",
      "[[1147. 1149. 1156. 1140. 1055.]\n",
      " [1221. 1212. 1210. 1226. 1130.]\n",
      " [1269. 1261. 1267. 1248. 1174.]\n",
      " [1267. 1268. 1287. 1265. 1185.]\n",
      " [1263. 1268. 1268. 1264. 1223.]\n",
      " [1263. 1263. 1265. 1268.    0.]]\n",
      "1000000.0 5\n",
      "Loaded 4099 scans\n",
      "[[1147. 1149. 1156. 1140. 1055.]\n",
      " [1221. 1212. 1210. 1226. 1130.]\n",
      " [1269. 1261. 1267. 1248. 1174.]\n",
      " [1267. 1268. 1287. 1265. 1185.]\n",
      " [1263. 1268. 1268. 1264. 1223.]\n",
      " [1263. 1263. 1265. 1268. 1231.]]\n"
     ]
    }
   ],
   "source": [
    "# dp_values = [0.1,0.5,1,5,20,50]\n",
    "# dp_values = [0.1,0.5]\n",
    "\n",
    "\n",
    "counts = np.zeros((len(iif_values),len(dp_values)))\n",
    "for i,iif in enumerate(iif_values):\n",
    "    for j,dp in enumerate(dp_values):\n",
    "        print(iif,dp)\n",
    "        fname = 'SMART3_{}_{}.mzml'.format(iif,dp)\n",
    "        mz_file = MZMLFile(os.path.join(test_path,fname))\n",
    "        scans2boxes,boxes2scans = map_boxes_to_scans(mz_file,boxes,half_isolation_window = 0)\n",
    "        counts[i,j] = len(boxes2scans)\n",
    "        print(counts)"
   ]
  },
  {
   "cell_type": "code",
   "execution_count": 41,
   "metadata": {},
   "outputs": [
    {
     "data": {
      "text/plain": [
       "<matplotlib.colorbar.Colorbar at 0x7f1790c30630>"
      ]
     },
     "execution_count": 41,
     "metadata": {},
     "output_type": "execute_result"
    },
    {
     "data": {
      "image/png": "[encoded data removed]",
      "text/plain": [
       "<Figure size 432x288 with 2 Axes>"
      ]
     },
     "metadata": {
      "needs_background": "light"
     },
     "output_type": "display_data"
    }
   ],
   "source": [
    "plt.imshow(counts,aspect='auto')\n",
    "plt.yticks(range(len(iif_values)),iif_values)\n",
    "plt.xticks(range(len(dp_values)),dp_values)\n",
    "plt.colorbar()"
   ]
  },
  {
   "cell_type": "code",
   "execution_count": 42,
   "metadata": {},
   "outputs": [
    {
     "name": "stdout",
     "output_type": "stream",
     "text": [
      "Loaded 6293 scans\n",
      "topN:  941\n"
     ]
    }
   ],
   "source": [
    "# smart_scans2boxes,smart_boxes2scans = map_boxes_to_scans(smart_mz_file,boxes,half_isolation_window = 0)\n",
    "# roi_scans2boxes,roi_boxes2scans = map_boxes_to_scans(roi_mz_file,boxes,half_isolation_window = 0)\n",
    "topn_mz_file = MZMLFile(os.path.join(test_path,'topN.mzml'))\n",
    "topn_scans2boxes,topn_boxes2scans = map_boxes_to_scans(topn_mz_file,boxes,half_isolation_window = 0)\n",
    "# note 0 in previous call is to only find the scans that have a precursor *in* the box, not those that overlap\n",
    "print(\"topN: \",len(topn_boxes2scans))\n"
   ]
  },
  {
   "cell_type": "code",
   "execution_count": null,
   "metadata": {},
   "outputs": [],
   "source": [
    "print(\"Boxes: \",len(boxes))\n",
    "print(\"ROI: \",len(roi_boxes2scans))\n",
    "print(\"topN: \",len(topn_boxes2scans))\n",
    "print(\"SMART: \",len(smart_boxes2scans))"
   ]
  },
  {
   "cell_type": "code",
   "execution_count": null,
   "metadata": {},
   "outputs": [],
   "source": [
    "# are they picking the same ones\n",
    "roi_box_set = set(roi_boxes2scans.keys())\n",
    "topn_box_set = set(topn_boxes2scans.keys())\n",
    "smart_box_set = set(smart_boxes2scans.keys())\n",
    "print(len(topn_box_set.intersection(smart_box_set)))"
   ]
  },
  {
   "cell_type": "code",
   "execution_count": null,
   "metadata": {},
   "outputs": [],
   "source": []
  },
  {
   "cell_type": "markdown",
   "metadata": {},
   "source": [
    "## QCA experiments"
   ]
  },
  {
   "cell_type": "code",
   "execution_count": 44,
   "metadata": {},
   "outputs": [],
   "source": [
    "base_dir = os.path.abspath('/Users/simon/University of Glasgow/Vinny Davies - CLDS Metabolomics Project/Trained Models')\n",
    "base_dir_qcb = os.path.abspath('/home/simon/git/vimms/experimental/simon_res/QCB')\n",
    "base_dir_qca = os.path.abspath('/home/simon/git/vimms/experimental/simon_res/QCA')\n",
    "\n",
    "ps_frag_QCB = load_obj(Path(base_dir_qcb, 'peak_sampler_mz_rt_int_beerqcb_fragmentation.p'))"
   ]
  },
  {
   "cell_type": "code",
   "execution_count": 45,
   "metadata": {},
   "outputs": [],
   "source": [
    "QCB_MZML2CHEMS_DICT = {'min_ms1_intensity': 0,\n",
    "                  'mz_tol': 5,\n",
    "                  'mz_units':'ppm',\n",
    "                  'min_length':1,\n",
    "                  'min_intensity':0,\n",
    "                  'start_rt':0,\n",
    "                  'stop_rt':1560}"
   ]
  },
  {
   "cell_type": "code",
   "execution_count": 46,
   "metadata": {},
   "outputs": [],
   "source": [
    "TopN_QCA_dataset = load_obj('/home/simon/git/vimms/experimental/simon_res/QCA/TopN_QCA_dataset.mzml')"
   ]
  },
  {
   "cell_type": "code",
   "execution_count": 47,
   "metadata": {},
   "outputs": [],
   "source": [
    "min_rt = 0\n",
    "max_rt = 26*60 # entire run\n",
    "min_ms1_intensity = 5000\n",
    "mz_tol = 10\n",
    "rt_tol = 15\n",
    "N = 10\n",
    "\n",
    "\n",
    "# these are derived from real data (see bottom of notebook)\n",
    "roi_time_dict = {1: 0.71,2:0.20}\n",
    "topn_time_dict = {1: 0.60,2:0.20}\n",
    "\n",
    "\n",
    "ionisation_mode = POSITIVE\n",
    "isolation_width = 1\n",
    "\n",
    "test_path = '/home/simon/git/vimms/experimental/simon_res/'\n",
    "min_roi_intensity = 500\n",
    "min_roi_length = 3 # still in scans, as to work in seconds, need to pass parameter. But doesn't matter when parameter below is equal to 1!\n",
    "min_roi_length_for_fragmentation = 1\n",
    "\n"
   ]
  },
  {
   "cell_type": "code",
   "execution_count": 48,
   "metadata": {},
   "outputs": [],
   "source": [
    "output_folder = os.path.join(test_path,'output_files','QCA')"
   ]
  },
  {
   "cell_type": "markdown",
   "metadata": {},
   "source": [
    "## TopN"
   ]
  },
  {
   "cell_type": "code",
   "execution_count": 55,
   "metadata": {},
   "outputs": [
    {
     "name": "stderr",
     "output_type": "stream",
     "text": [
      "(1560.000s) ms_level=2 N=10 DEW=15: 100%|█████████▉| 1559.8000000001427/1560 [01:34<00:00, 16.56it/s]\n"
     ]
    }
   ],
   "source": [
    "controller = TopNController(ionisation_mode, N, isolation_width, mz_tol, rt_tol, min_ms1_intensity)\n",
    "\n",
    "mass_spec = IndependentMassSpectrometer(ionisation_mode, TopN_QCA_dataset,\n",
    "                                        ps_frag_QCB, add_noise=True,\n",
    "                                       scan_duration_dict = topn_time_dict)\n",
    "\n",
    "env = Environment(mass_spec, controller, min_rt, max_rt, progress_bar=True)\n",
    "env.run()\n",
    "\n",
    "# test_path = '/Users/simon/git/vimms/experimental/simon_res/'\n",
    "env.write_mzML(output_folder, 'topN.mzml')"
   ]
  },
  {
   "cell_type": "code",
   "execution_count": 56,
   "metadata": {},
   "outputs": [],
   "source": [
    "# SMART ROI\n",
    "reset_length_seconds = 1e6 # set so reset never happens\n",
    "\n",
    "iif_values = [2,3,5,10,1e3,1e6]\n",
    "# dp_values = [1,5,20,50]\n",
    "# dp_values = [0.1,0.5]\n",
    "# dp_values = [0]\n",
    "dp_values = [0,0.1,0.5,1,5]\n",
    "# iif_values = [1e6]"
   ]
  },
  {
   "cell_type": "code",
   "execution_count": 60,
   "metadata": {},
   "outputs": [
    {
     "name": "stdout",
     "output_type": "stream",
     "text": [
      "2 0\n"
     ]
    },
    {
     "name": "stderr",
     "output_type": "stream",
     "text": [
      "(1560.130s) ms_level=2 N=10 DEW=15: 100%|█████████▉| 1559.930000000116/1560 [01:57<00:00, 13.22it/s] \n"
     ]
    },
    {
     "name": "stdout",
     "output_type": "stream",
     "text": [
      "2 0.1\n"
     ]
    },
    {
     "name": "stderr",
     "output_type": "stream",
     "text": [
      "(1560.030s) ms_level=2 N=10 DEW=15: 100%|█████████▉| 1559.8300000001173/1560 [01:58<00:00, 13.12it/s]\n"
     ]
    },
    {
     "name": "stdout",
     "output_type": "stream",
     "text": [
      "2 0.5\n"
     ]
    },
    {
     "name": "stderr",
     "output_type": "stream",
     "text": [
      "(1560.630s) ms_level=1 N=10 DEW=15: 100%|█████████▉| 1559.920000000117/1560 [01:57<00:00, 13.31it/s] \n"
     ]
    },
    {
     "name": "stdout",
     "output_type": "stream",
     "text": [
      "2 1\n"
     ]
    },
    {
     "name": "stderr",
     "output_type": "stream",
     "text": [
      "(1560.050s) ms_level=2 N=10 DEW=15: 100%|█████████▉| 1559.8500000001166/1560 [01:48<00:00, 14.39it/s]\n"
     ]
    },
    {
     "name": "stdout",
     "output_type": "stream",
     "text": [
      "2 5\n"
     ]
    },
    {
     "name": "stderr",
     "output_type": "stream",
     "text": [
      "(1560.120s) ms_level=1 N=10 DEW=15: 100%|█████████▉| 1559.41000000012/1560 [01:43<00:00, 15.12it/s]  \n"
     ]
    },
    {
     "name": "stdout",
     "output_type": "stream",
     "text": [
      "3 0\n"
     ]
    },
    {
     "name": "stderr",
     "output_type": "stream",
     "text": [
      "(1560.610s) ms_level=1 N=10 DEW=15: 100%|█████████▉| 1559.9000000001026/1560 [01:57<00:00, 13.32it/s]\n"
     ]
    },
    {
     "name": "stdout",
     "output_type": "stream",
     "text": [
      "3 0.1\n"
     ]
    },
    {
     "name": "stderr",
     "output_type": "stream",
     "text": [
      "(1560.480s) ms_level=1 N=10 DEW=15: 100%|█████████▉| 1559.7700000001025/1560 [01:58<00:00, 13.18it/s]\n"
     ]
    },
    {
     "name": "stdout",
     "output_type": "stream",
     "text": [
      "3 0.5\n"
     ]
    },
    {
     "name": "stderr",
     "output_type": "stream",
     "text": [
      "(1560.590s) ms_level=1 N=10 DEW=15: 100%|█████████▉| 1559.8800000001024/1560 [02:03<00:00, 12.65it/s]\n"
     ]
    },
    {
     "name": "stdout",
     "output_type": "stream",
     "text": [
      "3 1\n"
     ]
    },
    {
     "name": "stderr",
     "output_type": "stream",
     "text": [
      "(1560.020s) ms_level=1 N=10 DEW=15: 100%|█████████▉| 1559.310000000103/1560 [02:08<00:00, 12.17it/s] \n"
     ]
    },
    {
     "name": "stdout",
     "output_type": "stream",
     "text": [
      "3 5\n"
     ]
    },
    {
     "name": "stderr",
     "output_type": "stream",
     "text": [
      "(1560.000s) ms_level=1 N=10 DEW=15: 100%|█████████▉| 1559.2900000001048/1560 [02:01<00:00, 12.81it/s]\n"
     ]
    },
    {
     "name": "stdout",
     "output_type": "stream",
     "text": [
      "5 0\n"
     ]
    },
    {
     "name": "stderr",
     "output_type": "stream",
     "text": [
      "(1560.220s) ms_level=1 N=10 DEW=15: 100%|█████████▉| 1559.5100000000975/1560 [02:02<00:00, 12.74it/s]\n"
     ]
    },
    {
     "name": "stdout",
     "output_type": "stream",
     "text": [
      "5 0.1\n"
     ]
    },
    {
     "name": "stderr",
     "output_type": "stream",
     "text": [
      "(1560.090s) ms_level=1 N=10 DEW=15: 100%|█████████▉| 1559.3800000000979/1560 [02:03<00:00, 12.63it/s]\n"
     ]
    },
    {
     "name": "stdout",
     "output_type": "stream",
     "text": [
      "5 0.5\n"
     ]
    },
    {
     "name": "stderr",
     "output_type": "stream",
     "text": [
      "(1560.250s) ms_level=1 N=10 DEW=15: 100%|█████████▉| 1559.540000000098/1560 [01:55<00:00, 13.46it/s] \n"
     ]
    },
    {
     "name": "stdout",
     "output_type": "stream",
     "text": [
      "5 1\n"
     ]
    },
    {
     "name": "stderr",
     "output_type": "stream",
     "text": [
      "(1560.340s) ms_level=1 N=10 DEW=15: 100%|█████████▉| 1559.630000000098/1560 [01:57<00:00, 13.30it/s] \n"
     ]
    },
    {
     "name": "stdout",
     "output_type": "stream",
     "text": [
      "5 5\n"
     ]
    },
    {
     "name": "stderr",
     "output_type": "stream",
     "text": [
      "(1560.530s) ms_level=1 N=10 DEW=15: 100%|█████████▉| 1559.820000000101/1560 [01:53<00:00, 13.80it/s] \n"
     ]
    },
    {
     "name": "stdout",
     "output_type": "stream",
     "text": [
      "10 0\n"
     ]
    },
    {
     "name": "stderr",
     "output_type": "stream",
     "text": [
      "(1560.640s) ms_level=1 N=10 DEW=15: 100%|█████████▉| 1559.9300000000958/1560 [01:54<00:00, 13.57it/s]\n"
     ]
    },
    {
     "name": "stdout",
     "output_type": "stream",
     "text": [
      "10 0.1\n"
     ]
    },
    {
     "name": "stderr",
     "output_type": "stream",
     "text": [
      "(1560.660s) ms_level=1 N=10 DEW=15: 100%|█████████▉| 1559.9500000000955/1560 [01:58<00:00, 13.11it/s]\n"
     ]
    },
    {
     "name": "stdout",
     "output_type": "stream",
     "text": [
      "10 0.5\n"
     ]
    },
    {
     "name": "stderr",
     "output_type": "stream",
     "text": [
      "(1560.180s) ms_level=1 N=10 DEW=15: 100%|█████████▉| 1559.470000000096/1560 [02:07<00:00, 12.19it/s] \n"
     ]
    },
    {
     "name": "stdout",
     "output_type": "stream",
     "text": [
      "10 1\n"
     ]
    },
    {
     "name": "stderr",
     "output_type": "stream",
     "text": [
      "(1560.210s) ms_level=1 N=10 DEW=15: 100%|█████████▉| 1559.5000000000964/1560 [02:03<00:00, 12.67it/s]\n"
     ]
    },
    {
     "name": "stdout",
     "output_type": "stream",
     "text": [
      "10 5\n"
     ]
    },
    {
     "name": "stderr",
     "output_type": "stream",
     "text": [
      "(1560.230s) ms_level=1 N=10 DEW=15: 100%|█████████▉| 1559.5200000000975/1560 [02:03<00:00, 12.66it/s]\n"
     ]
    },
    {
     "name": "stdout",
     "output_type": "stream",
     "text": [
      "1000.0 0\n"
     ]
    },
    {
     "name": "stderr",
     "output_type": "stream",
     "text": [
      "(1560.630s) ms_level=1 N=10 DEW=15: 100%|█████████▉| 1559.9200000000835/1560 [01:59<00:00, 13.06it/s]\n"
     ]
    },
    {
     "name": "stdout",
     "output_type": "stream",
     "text": [
      "1000.0 0.1\n"
     ]
    },
    {
     "name": "stderr",
     "output_type": "stream",
     "text": [
      "(1560.520s) ms_level=1 N=10 DEW=15: 100%|█████████▉| 1559.8100000000836/1560 [01:56<00:00, 13.38it/s]\n"
     ]
    },
    {
     "name": "stdout",
     "output_type": "stream",
     "text": [
      "1000.0 0.5\n"
     ]
    },
    {
     "name": "stderr",
     "output_type": "stream",
     "text": [
      "(1560.300s) ms_level=1 N=10 DEW=15: 100%|█████████▉| 1559.5900000000838/1560 [02:00<00:00, 12.98it/s]\n"
     ]
    },
    {
     "name": "stdout",
     "output_type": "stream",
     "text": [
      "1000.0 1\n"
     ]
    },
    {
     "name": "stderr",
     "output_type": "stream",
     "text": [
      "(1560.460s) ms_level=1 N=10 DEW=15: 100%|█████████▉| 1559.750000000084/1560 [01:57<00:00, 13.28it/s] \n"
     ]
    },
    {
     "name": "stdout",
     "output_type": "stream",
     "text": [
      "1000.0 5\n"
     ]
    },
    {
     "name": "stderr",
     "output_type": "stream",
     "text": [
      "(1560.450s) ms_level=1 N=10 DEW=15: 100%|█████████▉| 1559.740000000085/1560 [01:55<00:00, 13.49it/s] \n"
     ]
    },
    {
     "name": "stdout",
     "output_type": "stream",
     "text": [
      "1000000.0 0\n"
     ]
    },
    {
     "name": "stderr",
     "output_type": "stream",
     "text": [
      "(1560.630s) ms_level=1 N=10 DEW=15: 100%|█████████▉| 1559.9200000000835/1560 [01:59<00:00, 13.05it/s]\n"
     ]
    },
    {
     "name": "stdout",
     "output_type": "stream",
     "text": [
      "1000000.0 0.1\n"
     ]
    },
    {
     "name": "stderr",
     "output_type": "stream",
     "text": [
      "(1560.630s) ms_level=1 N=10 DEW=15: 100%|█████████▉| 1559.9200000000835/1560 [01:56<00:00, 13.41it/s]\n"
     ]
    },
    {
     "name": "stdout",
     "output_type": "stream",
     "text": [
      "1000000.0 0.5\n"
     ]
    },
    {
     "name": "stderr",
     "output_type": "stream",
     "text": [
      "(1560.520s) ms_level=1 N=10 DEW=15: 100%|█████████▉| 1559.8100000000836/1560 [02:00<00:00, 12.91it/s]\n"
     ]
    },
    {
     "name": "stdout",
     "output_type": "stream",
     "text": [
      "1000000.0 1\n"
     ]
    },
    {
     "name": "stderr",
     "output_type": "stream",
     "text": [
      "(1560.590s) ms_level=1 N=10 DEW=15: 100%|█████████▉| 1559.8800000000836/1560 [01:57<00:00, 13.29it/s]\n"
     ]
    },
    {
     "name": "stdout",
     "output_type": "stream",
     "text": [
      "1000000.0 5\n"
     ]
    },
    {
     "name": "stderr",
     "output_type": "stream",
     "text": [
      "(1560.600s) ms_level=1 N=10 DEW=15: 100%|█████████▉| 1559.8900000000845/1560 [01:54<00:00, 13.63it/s]\n"
     ]
    }
   ],
   "source": [
    "for iif in iif_values:\n",
    "    for dp in dp_values:\n",
    "        print(iif,dp)\n",
    "        intensity_increase_factor = iif # fragment ROI again if intensity increases 10 fold\n",
    "        drop_perc = dp/100\n",
    "\n",
    "\n",
    "        # ROI can also be fragmented again if intensity falls to <1% of the max *since* last fragmentation\n",
    "        from vimms.Controller import TopN_SmartRoiController\n",
    "        controller = TopN_SmartRoiController(ionisation_mode, isolation_width, mz_tol, min_ms1_intensity,\n",
    "                                             min_roi_intensity, min_roi_length, N = N, rt_tol = rt_tol, \n",
    "                                             min_roi_length_for_fragmentation = min_roi_length_for_fragmentation,\n",
    "                                             reset_length_seconds = reset_length_seconds,\n",
    "                                             intensity_increase_factor = intensity_increase_factor,\n",
    "                                             drop_perc = drop_perc)\n",
    "\n",
    "        mass_spec = IndependentMassSpectrometer(ionisation_mode, TopN_QCA_dataset,\n",
    "                                                ps_frag_QCB,\n",
    "                                                add_noise=True,\n",
    "                                               scan_duration_dict=roi_time_dict)\n",
    "\n",
    "        env = Environment(mass_spec, controller, min_rt, max_rt, progress_bar=True)\n",
    "        env.run()\n",
    "        \n",
    "        out_name = 'SMART3_{}_{}.mzml'.format(iif,dp)\n",
    "        env.write_mzML(output_folder, out_name)"
   ]
  },
  {
   "cell_type": "code",
   "execution_count": 61,
   "metadata": {},
   "outputs": [
    {
     "name": "stdout",
     "output_type": "stream",
     "text": [
      "['row ID', 'row m/z', 'row retention time', 'from_controller_TopN_QCA.mzML filtered Peak m/z', 'from_controller_TopN_QCA.mzML filtered Peak RT start', 'from_controller_TopN_QCA.mzML filtered Peak RT end', 'from_controller_TopN_QCA.mzML filtered Peak height', 'from_controller_TopN_QCA.mzML filtered Peak area', 'from_controller_TopN_QCA.mzML filtered Peak m/z min', 'from_controller_TopN_QCA.mzML filtered Peak m/z max', '']\n"
     ]
    }
   ],
   "source": [
    "# test with picked peaks\n",
    "from mass_spec_utils.data_import.mzml import MZMLFile\n",
    "from mass_spec_utils.data_import.mzmine import load_picked_boxes, map_boxes_to_scans\n",
    "peak_csv_file = os.path.join(test_path,'QCA','qca_pp_wide.csv')\n",
    "boxes = load_picked_boxes(peak_csv_file)"
   ]
  },
  {
   "cell_type": "code",
   "execution_count": 62,
   "metadata": {},
   "outputs": [
    {
     "name": "stdout",
     "output_type": "stream",
     "text": [
      "Loaded 6356 scans\n",
      "topN:  797\n"
     ]
    }
   ],
   "source": [
    "topn_mz_file = MZMLFile(os.path.join(output_folder,'topN.mzml'))\n",
    "topn_scans2boxes,topn_boxes2scans = map_boxes_to_scans(topn_mz_file,boxes,half_isolation_window = 0)\n",
    "# note 0 in previous call is to only find the scans that have a precursor *in* the box, not those that overlap\n",
    "print(\"topN: \",len(topn_boxes2scans))\n"
   ]
  },
  {
   "cell_type": "code",
   "execution_count": 63,
   "metadata": {},
   "outputs": [
    {
     "name": "stdout",
     "output_type": "stream",
     "text": [
      "2 0\n",
      "Loaded 4694 scans\n",
      "[[1001.    0.    0.    0.    0.]\n",
      " [   0.    0.    0.    0.    0.]\n",
      " [   0.    0.    0.    0.    0.]\n",
      " [   0.    0.    0.    0.    0.]\n",
      " [   0.    0.    0.    0.    0.]\n",
      " [   0.    0.    0.    0.    0.]]\n",
      "2 0.1\n",
      "Loaded 4706 scans\n",
      "[[1001.  990.    0.    0.    0.]\n",
      " [   0.    0.    0.    0.    0.]\n",
      " [   0.    0.    0.    0.    0.]\n",
      " [   0.    0.    0.    0.    0.]\n",
      " [   0.    0.    0.    0.    0.]\n",
      " [   0.    0.    0.    0.    0.]]\n",
      "2 0.5\n",
      "Loaded 4713 scans\n",
      "[[1001.  990.  987.    0.    0.]\n",
      " [   0.    0.    0.    0.    0.]\n",
      " [   0.    0.    0.    0.    0.]\n",
      " [   0.    0.    0.    0.    0.]\n",
      " [   0.    0.    0.    0.    0.]\n",
      " [   0.    0.    0.    0.    0.]]\n",
      "2 1\n",
      "Loaded 4702 scans\n",
      "[[1001.  990.  987.  976.    0.]\n",
      " [   0.    0.    0.    0.    0.]\n",
      " [   0.    0.    0.    0.    0.]\n",
      " [   0.    0.    0.    0.    0.]\n",
      " [   0.    0.    0.    0.    0.]\n",
      " [   0.    0.    0.    0.    0.]]\n",
      "2 5\n",
      "Loaded 4751 scans\n",
      "[[1001.  990.  987.  976.  936.]\n",
      " [   0.    0.    0.    0.    0.]\n",
      " [   0.    0.    0.    0.    0.]\n",
      " [   0.    0.    0.    0.    0.]\n",
      " [   0.    0.    0.    0.    0.]\n",
      " [   0.    0.    0.    0.    0.]]\n",
      "3 0\n",
      "Loaded 4320 scans\n",
      "[[1001.  990.  987.  976.  936.]\n",
      " [1025.    0.    0.    0.    0.]\n",
      " [   0.    0.    0.    0.    0.]\n",
      " [   0.    0.    0.    0.    0.]\n",
      " [   0.    0.    0.    0.    0.]\n",
      " [   0.    0.    0.    0.    0.]]\n",
      "3 0.1\n",
      "Loaded 4328 scans\n",
      "[[1001.  990.  987.  976.  936.]\n",
      " [1025. 1011.    0.    0.    0.]\n",
      " [   0.    0.    0.    0.    0.]\n",
      " [   0.    0.    0.    0.    0.]\n",
      " [   0.    0.    0.    0.    0.]\n",
      " [   0.    0.    0.    0.    0.]]\n",
      "3 0.5\n",
      "Loaded 4326 scans\n",
      "[[1001.  990.  987.  976.  936.]\n",
      " [1025. 1011. 1020.    0.    0.]\n",
      " [   0.    0.    0.    0.    0.]\n",
      " [   0.    0.    0.    0.    0.]\n",
      " [   0.    0.    0.    0.    0.]\n",
      " [   0.    0.    0.    0.    0.]]\n",
      "3 1\n",
      "Loaded 4338 scans\n",
      "[[1001.  990.  987.  976.  936.]\n",
      " [1025. 1011. 1020. 1018.    0.]\n",
      " [   0.    0.    0.    0.    0.]\n",
      " [   0.    0.    0.    0.    0.]\n",
      " [   0.    0.    0.    0.    0.]\n",
      " [   0.    0.    0.    0.    0.]]\n",
      "3 5\n",
      "Loaded 4400 scans\n",
      "[[1001.  990.  987.  976.  936.]\n",
      " [1025. 1011. 1020. 1018.  966.]\n",
      " [   0.    0.    0.    0.    0.]\n",
      " [   0.    0.    0.    0.    0.]\n",
      " [   0.    0.    0.    0.    0.]\n",
      " [   0.    0.    0.    0.    0.]]\n",
      "5 0\n",
      "Loaded 4197 scans\n",
      "[[1001.  990.  987.  976.  936.]\n",
      " [1025. 1011. 1020. 1018.  966.]\n",
      " [1015.    0.    0.    0.    0.]\n",
      " [   0.    0.    0.    0.    0.]\n",
      " [   0.    0.    0.    0.    0.]\n",
      " [   0.    0.    0.    0.    0.]]\n",
      "5 0.1\n",
      "Loaded 4196 scans\n",
      "[[1001.  990.  987.  976.  936.]\n",
      " [1025. 1011. 1020. 1018.  966.]\n",
      " [1015. 1013.    0.    0.    0.]\n",
      " [   0.    0.    0.    0.    0.]\n",
      " [   0.    0.    0.    0.    0.]\n",
      " [   0.    0.    0.    0.    0.]]\n",
      "5 0.5\n",
      "Loaded 4207 scans\n",
      "[[1001.  990.  987.  976.  936.]\n",
      " [1025. 1011. 1020. 1018.  966.]\n",
      " [1015. 1013. 1003.    0.    0.]\n",
      " [   0.    0.    0.    0.    0.]\n",
      " [   0.    0.    0.    0.    0.]\n",
      " [   0.    0.    0.    0.    0.]]\n",
      "5 1\n",
      "Loaded 4216 scans\n",
      "[[1001.  990.  987.  976.  936.]\n",
      " [1025. 1011. 1020. 1018.  966.]\n",
      " [1015. 1013. 1003. 1024.    0.]\n",
      " [   0.    0.    0.    0.    0.]\n",
      " [   0.    0.    0.    0.    0.]\n",
      " [   0.    0.    0.    0.    0.]]\n",
      "5 5\n",
      "Loaded 4284 scans\n",
      "[[1001.  990.  987.  976.  936.]\n",
      " [1025. 1011. 1020. 1018.  966.]\n",
      " [1015. 1013. 1003. 1024.  985.]\n",
      " [   0.    0.    0.    0.    0.]\n",
      " [   0.    0.    0.    0.    0.]\n",
      " [   0.    0.    0.    0.    0.]]\n",
      "10 0\n",
      "Loaded 4139 scans\n",
      "[[1001.  990.  987.  976.  936.]\n",
      " [1025. 1011. 1020. 1018.  966.]\n",
      " [1015. 1013. 1003. 1024.  985.]\n",
      " [1045.    0.    0.    0.    0.]\n",
      " [   0.    0.    0.    0.    0.]\n",
      " [   0.    0.    0.    0.    0.]]\n",
      "10 0.1\n",
      "Loaded 4135 scans\n",
      "[[1001.  990.  987.  976.  936.]\n",
      " [1025. 1011. 1020. 1018.  966.]\n",
      " [1015. 1013. 1003. 1024.  985.]\n",
      " [1045. 1042.    0.    0.    0.]\n",
      " [   0.    0.    0.    0.    0.]\n",
      " [   0.    0.    0.    0.    0.]]\n",
      "10 0.5\n",
      "Loaded 4138 scans\n",
      "[[1001.  990.  987.  976.  936.]\n",
      " [1025. 1011. 1020. 1018.  966.]\n",
      " [1015. 1013. 1003. 1024.  985.]\n",
      " [1045. 1042. 1028.    0.    0.]\n",
      " [   0.    0.    0.    0.    0.]\n",
      " [   0.    0.    0.    0.    0.]]\n",
      "10 1\n",
      "Loaded 4158 scans\n",
      "[[1001.  990.  987.  976.  936.]\n",
      " [1025. 1011. 1020. 1018.  966.]\n",
      " [1015. 1013. 1003. 1024.  985.]\n",
      " [1045. 1042. 1028. 1029.    0.]\n",
      " [   0.    0.    0.    0.    0.]\n",
      " [   0.    0.    0.    0.    0.]]\n",
      "10 5\n",
      "Loaded 4208 scans\n",
      "[[1001.  990.  987.  976.  936.]\n",
      " [1025. 1011. 1020. 1018.  966.]\n",
      " [1015. 1013. 1003. 1024.  985.]\n",
      " [1045. 1042. 1028. 1029.  988.]\n",
      " [   0.    0.    0.    0.    0.]\n",
      " [   0.    0.    0.    0.    0.]]\n",
      "1000.0 0\n",
      "Loaded 3811 scans\n",
      "[[1001.  990.  987.  976.  936.]\n",
      " [1025. 1011. 1020. 1018.  966.]\n",
      " [1015. 1013. 1003. 1024.  985.]\n",
      " [1045. 1042. 1028. 1029.  988.]\n",
      " [1006.    0.    0.    0.    0.]\n",
      " [   0.    0.    0.    0.    0.]]\n",
      "1000.0 0.1\n",
      "Loaded 3815 scans\n",
      "[[1001.  990.  987.  976.  936.]\n",
      " [1025. 1011. 1020. 1018.  966.]\n",
      " [1015. 1013. 1003. 1024.  985.]\n",
      " [1045. 1042. 1028. 1029.  988.]\n",
      " [1006. 1011.    0.    0.    0.]\n",
      " [   0.    0.    0.    0.    0.]]\n",
      "1000.0 0.5\n",
      "Loaded 3825 scans\n",
      "[[1001.  990.  987.  976.  936.]\n",
      " [1025. 1011. 1020. 1018.  966.]\n",
      " [1015. 1013. 1003. 1024.  985.]\n",
      " [1045. 1042. 1028. 1029.  988.]\n",
      " [1006. 1011. 1018.    0.    0.]\n",
      " [   0.    0.    0.    0.    0.]]\n",
      "1000.0 1\n",
      "Loaded 3826 scans\n",
      "[[1001.  990.  987.  976.  936.]\n",
      " [1025. 1011. 1020. 1018.  966.]\n",
      " [1015. 1013. 1003. 1024.  985.]\n",
      " [1045. 1042. 1028. 1029.  988.]\n",
      " [1006. 1011. 1018. 1023.    0.]\n",
      " [   0.    0.    0.    0.    0.]]\n",
      "1000.0 5\n",
      "Loaded 3909 scans\n",
      "[[1001.  990.  987.  976.  936.]\n",
      " [1025. 1011. 1020. 1018.  966.]\n",
      " [1015. 1013. 1003. 1024.  985.]\n",
      " [1045. 1042. 1028. 1029.  988.]\n",
      " [1006. 1011. 1018. 1023. 1008.]\n",
      " [   0.    0.    0.    0.    0.]]\n",
      "1000000.0 0\n",
      "Loaded 3814 scans\n",
      "[[1001.  990.  987.  976.  936.]\n",
      " [1025. 1011. 1020. 1018.  966.]\n",
      " [1015. 1013. 1003. 1024.  985.]\n",
      " [1045. 1042. 1028. 1029.  988.]\n",
      " [1006. 1011. 1018. 1023. 1008.]\n",
      " [1005.    0.    0.    0.    0.]]\n",
      "1000000.0 0.1\n",
      "Loaded 3814 scans\n",
      "[[1001.  990.  987.  976.  936.]\n",
      " [1025. 1011. 1020. 1018.  966.]\n",
      " [1015. 1013. 1003. 1024.  985.]\n",
      " [1045. 1042. 1028. 1029.  988.]\n",
      " [1006. 1011. 1018. 1023. 1008.]\n",
      " [1005. 1005.    0.    0.    0.]]\n",
      "1000000.0 0.5\n",
      "Loaded 3817 scans\n",
      "[[1001.  990.  987.  976.  936.]\n",
      " [1025. 1011. 1020. 1018.  966.]\n",
      " [1015. 1013. 1003. 1024.  985.]\n",
      " [1045. 1042. 1028. 1029.  988.]\n",
      " [1006. 1011. 1018. 1023. 1008.]\n",
      " [1005. 1005. 1014.    0.    0.]]\n",
      "1000000.0 1\n",
      "Loaded 3816 scans\n",
      "[[1001.  990.  987.  976.  936.]\n",
      " [1025. 1011. 1020. 1018.  966.]\n",
      " [1015. 1013. 1003. 1024.  985.]\n",
      " [1045. 1042. 1028. 1029.  988.]\n",
      " [1006. 1011. 1018. 1023. 1008.]\n",
      " [1005. 1005. 1014. 1025.    0.]]\n",
      "1000000.0 5\n",
      "Loaded 3897 scans\n",
      "[[1001.  990.  987.  976.  936.]\n",
      " [1025. 1011. 1020. 1018.  966.]\n",
      " [1015. 1013. 1003. 1024.  985.]\n",
      " [1045. 1042. 1028. 1029.  988.]\n",
      " [1006. 1011. 1018. 1023. 1008.]\n",
      " [1005. 1005. 1014. 1025.  997.]]\n"
     ]
    }
   ],
   "source": [
    "counts = np.zeros((len(iif_values),len(dp_values)))\n",
    "for i,iif in enumerate(iif_values):\n",
    "    for j,dp in enumerate(dp_values):\n",
    "        print(iif,dp)\n",
    "        fname = 'SMART3_{}_{}.mzml'.format(iif,dp)\n",
    "        mz_file = MZMLFile(os.path.join(test_path,'output_files','QCA',fname))\n",
    "        scans2boxes,boxes2scans = map_boxes_to_scans(mz_file,boxes,half_isolation_window = 0)\n",
    "        counts[i,j] = len(boxes2scans)\n",
    "        print(counts)"
   ]
  },
  {
   "cell_type": "code",
   "execution_count": 64,
   "metadata": {},
   "outputs": [
    {
     "data": {
      "text/plain": [
       "<matplotlib.colorbar.Colorbar at 0x7f17faf8a3c8>"
      ]
     },
     "execution_count": 64,
     "metadata": {},
     "output_type": "execute_result"
    },
    {
     "data": {
      "image/png": "[encoded data removed]",
      "text/plain": [
       "<Figure size 432x288 with 2 Axes>"
      ]
     },
     "metadata": {
      "needs_background": "light"
     },
     "output_type": "display_data"
    }
   ],
   "source": [
    "plt.imshow(counts,aspect='auto')\n",
    "plt.yticks(range(len(iif_values)),iif_values)\n",
    "plt.xticks(range(len(dp_values)),dp_values)\n",
    "plt.colorbar()"
   ]
  },
  {
   "cell_type": "code",
   "execution_count": null,
   "metadata": {},
   "outputs": [],
   "source": []
  },
  {
   "cell_type": "code",
   "execution_count": null,
   "metadata": {},
   "outputs": [],
   "source": []
  },
  {
   "cell_type": "markdown",
   "metadata": {},
   "source": [
    "## Extract some timings from real data\n",
    "\n",
    "- Cells below extract the scan durations from the real data and compute the mean -- these are then used above in the simulations"
   ]
  },
  {
   "cell_type": "code",
   "execution_count": null,
   "metadata": {},
   "outputs": [],
   "source": [
    "mzml_QCB_TopN\n",
    "real_QCB_TopN = MZMLFile(mzml_QCB_TopN)\n"
   ]
  },
  {
   "cell_type": "code",
   "execution_count": null,
   "metadata": {},
   "outputs": [],
   "source": [
    "time_dict = {(1,1):[],(1,2):[],(2,1):[],(2,2):[]}\n",
    "for i,s in enumerate(real_QCB_TopN.scans[:-1]):\n",
    "    current = s.ms_level\n",
    "    next_ = real_QCB_TopN.scans[i+1].ms_level\n",
    "    tup = (current,next_)\n",
    "    time_dict[tup].append(60*real_QCB_TopN.scans[i+1].rt_in_minutes - 60*s.rt_in_minutes)\n",
    "    "
   ]
  },
  {
   "cell_type": "code",
   "execution_count": null,
   "metadata": {},
   "outputs": [],
   "source": [
    "for k,v in time_dict.items():\n",
    "    if len(v) > 0:\n",
    "        print(k,sum(v)/len(v))"
   ]
  },
  {
   "cell_type": "code",
   "execution_count": null,
   "metadata": {},
   "outputs": [],
   "source": [
    "mzml_QCB_TopN_Roi\n",
    "real_QCB_TopN_Roi = MZMLFile(mzml_QCB_TopN_Roi)\n",
    "\n"
   ]
  },
  {
   "cell_type": "code",
   "execution_count": null,
   "metadata": {},
   "outputs": [],
   "source": [
    "time_dict = {(1,1):[],(1,2):[],(2,1):[],(2,2):[]}\n",
    "for i,s in enumerate(real_QCB_TopN_Roi.scans[:-1]):\n",
    "    current = s.ms_level\n",
    "    next_ = real_QCB_TopN_Roi.scans[i+1].ms_level\n",
    "    tup = (current,next_)\n",
    "    time_dict[tup].append(60*real_QCB_TopN_Roi.scans[i+1].rt_in_minutes - 60*s.rt_in_minutes)\n",
    "    if tup == (1,1):\n",
    "        print(i)"
   ]
  },
  {
   "cell_type": "code",
   "execution_count": null,
   "metadata": {},
   "outputs": [],
   "source": [
    "for k,v in time_dict.items():\n",
    "    if len(v) > 0:\n",
    "        print(k,sum(v)/len(v))"
   ]
  },
  {
   "cell_type": "code",
   "execution_count": null,
   "metadata": {},
   "outputs": [],
   "source": [
    "print(time_dict[(1,1)])"
   ]
  },
  {
   "cell_type": "code",
   "execution_count": null,
   "metadata": {},
   "outputs": [],
   "source": [
    "print(real_QCB_TopN_Roi.scans[6534].rt_in_minutes)\n",
    "print(real_QCB_TopN_Roi.scans[6535].rt_in_minutes)"
   ]
  },
  {
   "cell_type": "code",
   "execution_count": null,
   "metadata": {},
   "outputs": [],
   "source": [
    "roi_time_dict = {1: 0.71,2:0.20}\n",
    "topn_time_dict = {1: 0.60,2:0.20}"
   ]
  },
  {
   "cell_type": "code",
   "execution_count": null,
   "metadata": {},
   "outputs": [],
   "source": []
  },
  {
   "cell_type": "code",
   "execution_count": null,
   "metadata": {},
   "outputs": [],
   "source": []
  },
  {
   "cell_type": "code",
   "execution_count": null,
   "metadata": {},
   "outputs": [],
   "source": []
  },
  {
   "cell_type": "code",
   "execution_count": null,
   "metadata": {},
   "outputs": [],
   "source": []
  },
  {
   "cell_type": "code",
   "execution_count": null,
   "metadata": {},
   "outputs": [],
   "source": []
  },
  {
   "cell_type": "code",
   "execution_count": null,
   "metadata": {},
   "outputs": [],
   "source": []
  },
  {
   "cell_type": "markdown",
   "metadata": {},
   "source": [
    "## Simon peak picking"
   ]
  },
  {
   "cell_type": "code",
   "execution_count": null,
   "metadata": {},
   "outputs": [],
   "source": [
    "xml_file = '/Users/simon/git/vimms/batch_files/QCB_mzmine_batch_ms2.xml'\n",
    "output_dir = '/Users/simon/git/vimms/experimental/simon_res/'\n",
    "pick_peaks([smart_file],xml_template=xml_file, output_dir=output_dir)"
   ]
  },
  {
   "cell_type": "code",
   "execution_count": null,
   "metadata": {},
   "outputs": [],
   "source": [
    "pick_peaks([topn_file],xml_template=xml_file, output_dir=output_dir)\n",
    "pick_peaks([roi_file],xml_template=xml_file, output_dir=output_dir)"
   ]
  },
  {
   "cell_type": "code",
   "execution_count": null,
   "metadata": {},
   "outputs": [],
   "source": [
    "from alignment import JoinAligner"
   ]
  },
  {
   "cell_type": "code",
   "execution_count": null,
   "metadata": {},
   "outputs": [],
   "source": [
    "tt = JoinAligner()\n",
    "tt.add_file('/Users/simon/University of Glasgow/Vinny Davies - CLDS Metabolomics Project/TopNvsTopNroi/QCB/QCB_22May19_1_pp.csv')\n",
    "print(len(tt.peaksets))\n",
    "tt.add_file('/Users/simon/git/vimms/experimental/simon_res/topN_pp.csv')\n",
    "print(len(tt.peaksets))"
   ]
  },
  {
   "cell_type": "code",
   "execution_count": null,
   "metadata": {},
   "outputs": [],
   "source": [
    "tt_mat = tt.to_matrix()\n",
    "plt.imshow(tt_mat,aspect='auto')\n",
    "s = (tt_mat > 0).sum(axis=1)\n",
    "count = (s==2).sum()\n",
    "print(count)"
   ]
  },
  {
   "cell_type": "code",
   "execution_count": null,
   "metadata": {},
   "outputs": [],
   "source": [
    "ss = JoinAligner()\n",
    "ss.add_file('/Users/simon/University of Glasgow/Vinny Davies - CLDS Metabolomics Project/TopNvsTopNroi/QCB/QCB_22May19_1_pp.csv')\n",
    "ss.add_file('/Users/simon/git/vimms/experimental/simon_res/SMART_pp.csv')\n",
    "ss_mat = ss.to_matrix()\n",
    "plt.imshow(ss_mat,aspect='auto')\n",
    "s = (ss_mat > 0).sum(axis=1)\n",
    "count = (s==2).sum()\n",
    "print(count)"
   ]
  },
  {
   "cell_type": "code",
   "execution_count": null,
   "metadata": {},
   "outputs": [],
   "source": [
    "print(topn_file)"
   ]
  },
  {
   "cell_type": "code",
   "execution_count": null,
   "metadata": {},
   "outputs": [],
   "source": []
  }
 ],
 "metadata": {
  "kernelspec": {
   "display_name": "Python 3",
   "language": "python",
   "name": "python3"
  },
  "language_info": {
   "codemirror_mode": {
    "name": "ipython",
    "version": 3
   },
   "file_extension": ".py",
   "mimetype": "text/x-python",
   "name": "python",
   "nbconvert_exporter": "python",
   "pygments_lexer": "ipython3",
   "version": "3.7.5"
  },
  "pycharm": {
   "stem_cell": {
    "cell_type": "raw",
    "source": [],
    "metadata": {
     "collapsed": false
    }
   }
  }
 },
 "nbformat": 4,
 "nbformat_minor": 2
}