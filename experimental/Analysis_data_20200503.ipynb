{
 "cells": [
  {
   "cell_type": "markdown",
   "metadata": {},
   "source": [
    "## Timings"
   ]
  },
  {
   "cell_type": "code",
   "execution_count": null,
   "metadata": {},
   "outputs": [],
   "source": [
    "import os\n",
    "import sys"
   ]
  },
  {
   "cell_type": "code",
   "execution_count": null,
   "metadata": {},
   "outputs": [],
   "source": [
    "import pylab as plt\n",
    "%matplotlib inline"
   ]
  },
  {
   "cell_type": "code",
   "execution_count": null,
   "metadata": {},
   "outputs": [],
   "source": [
    "%load_ext autoreload\n",
    "%autoreload 2"
   ]
  },
  {
   "cell_type": "code",
   "execution_count": null,
   "metadata": {},
   "outputs": [],
   "source": [
    "data_folder = '/home/simon/git/vimms/experimental/data_20200503/timings'\n",
    "qca_file = os.path.join(data_folder,'from_controller_fullscan_QCA.mzML')"
   ]
  },
  {
   "cell_type": "code",
   "execution_count": null,
   "metadata": {},
   "outputs": [],
   "source": [
    "pymzm_folder = '/home/simon/git/pymzm'\n",
    "sys.path.append(pymzm_folder)"
   ]
  },
  {
   "cell_type": "code",
   "execution_count": null,
   "metadata": {},
   "outputs": [],
   "source": [
    "from mass_spec_utils.data_import.mzml import MZMLFile\n",
    "qca_full = MZMLFile(qca_file)"
   ]
  },
  {
   "cell_type": "code",
   "execution_count": null,
   "metadata": {},
   "outputs": [],
   "source": [
    "def extract_timings(mzml_file_object):\n",
    "    time_dict = {(1,1):[],(1,2):[],(2,1):[],(2,2):[]}\n",
    "    for i,s in enumerate(mzml_file_object.scans[:-1]):\n",
    "        current = s.ms_level\n",
    "        next_ = mzml_file_object.scans[i+1].ms_level\n",
    "        tup = (current,next_)\n",
    "        time_dict[tup].append(60*mzml_file_object.scans[i+1].rt_in_minutes - 60*s.rt_in_minutes)\n",
    "    mean_times = {}\n",
    "    for k,v in time_dict.items():\n",
    "        if len(v) > 0:\n",
    "            me = sum(v)/len(v)\n",
    "            mean_times[k] = me\n",
    "    return time_dict,mean_times"
   ]
  },
  {
   "cell_type": "code",
   "execution_count": null,
   "metadata": {},
   "outputs": [],
   "source": [
    "time_dict,mean_times = extract_timings(qca_full)\n",
    "print(mean_times)\n",
    "\n",
    "plt.hist(time_dict[(1,1)],bins=20)\n",
    "plt.title('Fullscan MS1 times, mean = {:.3f}'.format(mean_times[(1,1)]))\n",
    "output_folder = '/home/simon/git/vimms/experimental/data_20200503/timings/'\n",
    "plt.savefig(os.path.join(output_folder,'full.png'))"
   ]
  },
  {
   "cell_type": "code",
   "execution_count": null,
   "metadata": {},
   "outputs": [],
   "source": [
    "# Load a topN for comparison\n",
    "topn_file = '/home/simon/git/vimms/experimental/data_20200503/TopN_vs_ROI/from_controller_TopN_QCA.mzML'\n",
    "topn_file_obj = MZMLFile(topn_file)\n",
    "time_dict,mean_times = extract_timings(topn_file_obj)\n",
    "\n",
    "plt.hist(time_dict[(1,2)])\n",
    "plt.title('TopN MS1 times, mean = {:.3f}'.format(mean_times[(1,2)]))\n",
    "\n",
    "plt.savefig(os.path.join(output_folder,'topn.png'))"
   ]
  },
  {
   "cell_type": "code",
   "execution_count": null,
   "metadata": {},
   "outputs": [],
   "source": [
    "# Load a ROI for comparison\n",
    "roi_file = '/home/simon/git/vimms/experimental/data_20200503/TopN_vs_ROI/from_controller_smart_ROI_QCA.mzML'\n",
    "roi_file_obj = MZMLFile(roi_file)\n",
    "time_dict,mean_times = extract_timings(roi_file_obj)\n",
    "plt.hist(time_dict[(1,2)])\n",
    "plt.title('ROI MS1 times, mean = {:.3f}'.format(mean_times[(1,2)]))\n",
    "plt.savefig(os.path.join(output_folder,'roi.png'))"
   ]
  },
  {
   "cell_type": "code",
   "execution_count": null,
   "metadata": {},
   "outputs": [],
   "source": [
    "plt.hist(time_dict[(2,2)])\n",
    "plt.title('MS2 scan time, mean = {:.3f}'.format(mean_times[(2,2)]))\n",
    "plt.savefig(os.path.join(output_folder,'ms2.png'))"
   ]
  },
  {
   "cell_type": "code",
   "execution_count": null,
   "metadata": {},
   "outputs": [],
   "source": []
  },
  {
   "cell_type": "markdown",
   "metadata": {},
   "source": [
    "Don't know what's going on with this one...."
   ]
  },
  {
   "cell_type": "code",
   "execution_count": 12,
   "metadata": {},
   "outputs": [
    {
     "name": "stdout",
     "output_type": "stream",
     "text": [
      "Loaded 1848 scans\n"
     ]
    },
    {
     "data": {
      "text/plain": [
       "Text(0.5, 1.0, 'Machine MS1 times, mean = 0.845')"
      ]
     },
     "execution_count": 12,
     "metadata": {},
     "output_type": "execute_result"
    },
    {
     "data": {
      "image/png": "[encoded data removed]",
      "text/plain": [
       "<Figure size 432x288 with 1 Axes>"
      ]
     },
     "metadata": {
      "needs_background": "light"
     },
     "output_type": "display_data"
    }
   ],
   "source": [
    "machine_file = '/home/simon/git/vimms/experimental/data_20200503/timings/QCB_fullscan.mzML'\n",
    "machine_file_obj = MZMLFile(machine_file)\n",
    "time_dict,mean_times = extract_timings(machine_file_obj)\n",
    "plt.hist(time_dict[(1,1)])\n",
    "plt.title('Machine MS1 times, mean = {:.3f}'.format(mean_times[(1,1)]))\n",
    "# plt.savefig(os.path.join(output_folder,'machine.png'))"
   ]
  },
  {
   "cell_type": "code",
   "execution_count": null,
   "metadata": {},
   "outputs": [],
   "source": []
  },
  {
   "cell_type": "code",
   "execution_count": null,
   "metadata": {},
   "outputs": [],
   "source": []
  },
  {
   "cell_type": "code",
   "execution_count": null,
   "metadata": {},
   "outputs": [],
   "source": []
  },
  {
   "cell_type": "code",
   "execution_count": null,
   "metadata": {},
   "outputs": [],
   "source": []
  },
  {
   "cell_type": "code",
   "execution_count": null,
   "metadata": {},
   "outputs": [],
   "source": []
  },
  {
   "cell_type": "code",
   "execution_count": null,
   "metadata": {},
   "outputs": [],
   "source": []
  },
  {
   "cell_type": "markdown",
   "metadata": {},
   "source": [
    "## Testing the ROI v TopN"
   ]
  },
  {
   "cell_type": "markdown",
   "metadata": {},
   "source": [
    "### QCB\n"
   ]
  },
  {
   "cell_type": "code",
   "execution_count": 13,
   "metadata": {},
   "outputs": [],
   "source": [
    "root = '/home/simon/git/vimms/experimental/data_20200503/TopN_vs_ROI'"
   ]
  },
  {
   "cell_type": "code",
   "execution_count": 14,
   "metadata": {},
   "outputs": [],
   "source": [
    "pp_file = os.path.join(root,'from_controller_TopN_QCB_pp.csv')"
   ]
  },
  {
   "cell_type": "code",
   "execution_count": 15,
   "metadata": {},
   "outputs": [],
   "source": [
    "from mass_spec_utils.data_import.mzmine import load_picked_boxes\n",
    "boxes = load_picked_boxes(pp_file)"
   ]
  },
  {
   "cell_type": "code",
   "execution_count": 16,
   "metadata": {},
   "outputs": [
    {
     "name": "stdout",
     "output_type": "stream",
     "text": [
      "Loaded 7045 scans\n"
     ]
    }
   ],
   "source": [
    "topn_file = os.path.join(root,'from_controller_TopN_QCB.mzML')\n",
    "topn_file_obj = MZMLFile(topn_file)"
   ]
  },
  {
   "cell_type": "code",
   "execution_count": 17,
   "metadata": {},
   "outputs": [
    {
     "name": "stdout",
     "output_type": "stream",
     "text": [
      "Loaded 5271 scans\n"
     ]
    }
   ],
   "source": [
    "roi_file = os.path.join(root,'from_controller_smart_ROI_QCB.mzML')\n",
    "roi_file_obj = MZMLFile(roi_file)"
   ]
  },
  {
   "cell_type": "code",
   "execution_count": 18,
   "metadata": {},
   "outputs": [
    {
     "name": "stdout",
     "output_type": "stream",
     "text": [
      "TopN:\n",
      "Total scans = 7045, MS1 = 644, MS2 = 6401\n",
      "ROI:\n",
      "Total scans = 5271, MS1 = 1217, MS2 = 4054\n"
     ]
    }
   ],
   "source": [
    "def summarise(mz_file_object):\n",
    "    n_scans = len(mz_file_object.scans)\n",
    "    n_ms1_scans = len(list(filter(lambda x: x.ms_level == 1,mz_file_object.scans)))\n",
    "    n_ms2_scans = len(list(filter(lambda x: x.ms_level == 2,mz_file_object.scans)))\n",
    "    print(\"Total scans = {}, MS1 = {}, MS2 = {}\".format(n_scans,n_ms1_scans,n_ms2_scans))\n",
    "print(\"TopN:\")\n",
    "summarise(topn_file_obj)\n",
    "print(\"ROI:\")\n",
    "summarise(roi_file_obj)\n"
   ]
  },
  {
   "cell_type": "code",
   "execution_count": 19,
   "metadata": {},
   "outputs": [
    {
     "name": "stdout",
     "output_type": "stream",
     "text": [
      "1155\n",
      "1457\n"
     ]
    }
   ],
   "source": [
    "from mass_spec_utils.data_import.mzmine import map_boxes_to_scans\n",
    "topn_s2b,topn_b2s = map_boxes_to_scans(topn_file_obj,boxes,half_isolation_window=0)\n",
    "roi_s2b,roi_b2s = map_boxes_to_scans(roi_file_obj,boxes,half_isolation_window=0)\n",
    "print(len(topn_b2s))\n",
    "print(len(roi_b2s))"
   ]
  },
  {
   "cell_type": "markdown",
   "metadata": {},
   "source": [
    "### QCA\n"
   ]
  },
  {
   "cell_type": "code",
   "execution_count": 20,
   "metadata": {},
   "outputs": [],
   "source": [
    "pp_file = os.path.join(root,'from_controller_TopN_QCA_pp.csv')\n",
    "from mass_spec_utils.data_import.mzmine import load_picked_boxes\n",
    "boxes = load_picked_boxes(pp_file)"
   ]
  },
  {
   "cell_type": "code",
   "execution_count": 21,
   "metadata": {},
   "outputs": [
    {
     "name": "stdout",
     "output_type": "stream",
     "text": [
      "Loaded 7002 scans\n",
      "Loaded 5008 scans\n"
     ]
    }
   ],
   "source": [
    "topn_file = os.path.join(root,'from_controller_TopN_QCA.mzML')\n",
    "topn_file_obj = MZMLFile(topn_file)\n",
    "roi_file = os.path.join(root,'from_controller_smart_ROI_QCA.mzML')\n",
    "roi_file_obj = MZMLFile(roi_file)"
   ]
  },
  {
   "cell_type": "code",
   "execution_count": 22,
   "metadata": {},
   "outputs": [
    {
     "name": "stdout",
     "output_type": "stream",
     "text": [
      "TopN:\n",
      "Total scans = 7002, MS1 = 643, MS2 = 6359\n",
      "ROI:\n",
      "Total scans = 5008, MS1 = 1218, MS2 = 3790\n"
     ]
    }
   ],
   "source": [
    "print(\"TopN:\")\n",
    "summarise(topn_file_obj)\n",
    "print(\"ROI:\")\n",
    "summarise(roi_file_obj)"
   ]
  },
  {
   "cell_type": "code",
   "execution_count": 23,
   "metadata": {},
   "outputs": [
    {
     "name": "stdout",
     "output_type": "stream",
     "text": [
      "986\n",
      "1050\n"
     ]
    }
   ],
   "source": [
    "topn_s2b,topn_b2s = map_boxes_to_scans(topn_file_obj,boxes,half_isolation_window=0)\n",
    "roi_s2b,roi_b2s = map_boxes_to_scans(roi_file_obj,boxes,half_isolation_window=0)\n",
    "print(len(topn_b2s))\n",
    "print(len(roi_b2s))"
   ]
  },
  {
   "cell_type": "markdown",
   "metadata": {},
   "source": [
    "## TODO\n",
    "\n",
    "- ~Run optimal with the QCA picked peaks. Where do we get to?~\n",
    "- Run simulator with the QCA TopN as the seed file -- does the performance we see match?"
   ]
  },
  {
   "cell_type": "code",
   "execution_count": 24,
   "metadata": {},
   "outputs": [],
   "source": [
    "sys.path.append('/home/simon/git/vimms')\n",
    "from vimms.MassSpec import IndependentMassSpectrometer\n",
    "from vimms.Controller import TopNController,RoiController,SmartRoiController\n",
    "from vimms.Roi import make_roi, RoiToChemicalCreator\n",
    "from vimms.BOMAS import *\n",
    "from vimms.Common import *\n",
    "from vimms.Environment import *\n",
    "from pathlib import Path\n",
    "from vimms.PlotsForPaper import get_frag_events"
   ]
  },
  {
   "cell_type": "code",
   "execution_count": 25,
   "metadata": {},
   "outputs": [],
   "source": [
    "QCB_MZML2CHEMS_DICT = {'min_ms1_intensity': 0,\n",
    "                  'mz_tol': 5,\n",
    "                  'mz_units':'ppm',\n",
    "                  'min_length':1,\n",
    "                  'min_intensity':0,\n",
    "                  'start_rt':0,\n",
    "                  'stop_rt':1560}"
   ]
  },
  {
   "cell_type": "code",
   "execution_count": 26,
   "metadata": {},
   "outputs": [],
   "source": [
    "ps_frag_QCB = load_obj('/home/simon/git/vimms/experimental/simon_res/QCB/peak_sampler_mz_rt_int_beerqcb_fragmentation.p')"
   ]
  },
  {
   "cell_type": "code",
   "execution_count": null,
   "metadata": {},
   "outputs": [],
   "source": [
    "TopN_QCB_dataset = mzml2chems(os.path.join(root,'from_controller_TopN_QCB.mzML'), ps_frag_QCB, QCB_MZML2CHEMS_DICT, n_peaks=None)"
   ]
  },
  {
   "cell_type": "code",
   "execution_count": null,
   "metadata": {},
   "outputs": [],
   "source": [
    "TopN_QCA_dataset = mzml2chems(os.path.join(root,'from_controller_TopN_QCA.mzML'), ps_frag_QCB, QCB_MZML2CHEMS_DICT, n_peaks=None)"
   ]
  },
  {
   "cell_type": "code",
   "execution_count": null,
   "metadata": {},
   "outputs": [],
   "source": [
    "save_obj(TopN_QCB_dataset, os.path.join(root,'Simulator','TopN_QCB_dataset.mzml'))\n",
    "save_obj(TopN_QCA_dataset, os.path.join(root,'Simulator','TopN_QCA_dataset.mzml'))\n"
   ]
  },
  {
   "cell_type": "code",
   "execution_count": 28,
   "metadata": {},
   "outputs": [],
   "source": [
    "TopN_QCB_dataset = load_obj(os.path.join(root,'Simulator','TopN_QCB_dataset.mzml'))\n",
    "TopN_QCA_dataset = load_obj(os.path.join(root,'Simulator','TopN_QCA_dataset.mzml'))"
   ]
  },
  {
   "cell_type": "code",
   "execution_count": 80,
   "metadata": {},
   "outputs": [],
   "source": [
    "min_rt = 0\n",
    "max_rt = 26*60 # entire run\n",
    "min_ms1_intensity = 5000\n",
    "mz_tol = 10\n",
    "rt_tol = 15\n",
    "N = 10\n",
    "\n",
    "\n",
    "# these are derived from real data (see bottom of notebook)\n",
    "roi_time_dict = {1: 0.71,2:0.20}\n",
    "topn_time_dict = {1: 0.60,2:0.20}\n",
    "\n",
    "\n",
    "ionisation_mode = POSITIVE\n",
    "isolation_width = 1\n",
    "\n",
    "output_folder = os.path.join(root,'Simulator','Output')\n",
    "min_roi_intensity = 500\n",
    "min_roi_length = 3 # still in scans, as to work in seconds, need to pass parameter. But doesn't matter when parameter below is equal to 1!\n",
    "min_roi_length_for_fragmentation = 1\n"
   ]
  },
  {
   "cell_type": "code",
   "execution_count": 30,
   "metadata": {},
   "outputs": [],
   "source": [
    "from vimms.MassSpec import IndependentMassSpectrometer\n",
    "from vimms.Controller import TopNController,RoiController,SmartRoiController"
   ]
  },
  {
   "cell_type": "code",
   "execution_count": 31,
   "metadata": {},
   "outputs": [],
   "source": [
    "from vimms.Environment import Environment"
   ]
  },
  {
   "cell_type": "code",
   "execution_count": 32,
   "metadata": {},
   "outputs": [],
   "source": [
    "set_log_level_warning()"
   ]
  },
  {
   "cell_type": "markdown",
   "metadata": {},
   "source": [
    "QCB topN"
   ]
  },
  {
   "cell_type": "code",
   "execution_count": null,
   "metadata": {},
   "outputs": [],
   "source": [
    "controller = TopNController(ionisation_mode, N, isolation_width, mz_tol, rt_tol, min_ms1_intensity)\n",
    "\n",
    "mass_spec = IndependentMassSpectrometer(ionisation_mode, TopN_QCB_dataset,\n",
    "                                        ps_frag_QCB, add_noise=True,\n",
    "                                       scan_duration_dict = topn_time_dict)\n",
    "\n",
    "env = Environment(mass_spec, controller, min_rt, max_rt, progress_bar=True)\n",
    "env.run()\n",
    "\n",
    "env.write_mzML(output_folder,'qcb_topn.mzml')"
   ]
  },
  {
   "cell_type": "markdown",
   "metadata": {},
   "source": [
    "QCA TopN"
   ]
  },
  {
   "cell_type": "code",
   "execution_count": null,
   "metadata": {},
   "outputs": [],
   "source": [
    "controller = TopNController(ionisation_mode, N, isolation_width, mz_tol, rt_tol, min_ms1_intensity)\n",
    "\n",
    "mass_spec = IndependentMassSpectrometer(ionisation_mode, TopN_QCA_dataset,\n",
    "                                        ps_frag_QCB, add_noise=True,\n",
    "                                       scan_duration_dict = topn_time_dict)\n",
    "\n",
    "env = Environment(mass_spec, controller, min_rt, max_rt, progress_bar=True)\n",
    "env.run()\n",
    "env.write_mzML(output_folder,'qca_topn.mzml')"
   ]
  },
  {
   "cell_type": "code",
   "execution_count": 110,
   "metadata": {},
   "outputs": [],
   "source": [
    "from vimms.Controller import OptimalTopNController\n"
   ]
  },
  {
   "cell_type": "markdown",
   "metadata": {},
   "source": [
    "QCB Optimal"
   ]
  },
  {
   "cell_type": "code",
   "execution_count": 131,
   "metadata": {},
   "outputs": [
    {
     "name": "stderr",
     "output_type": "stream",
     "text": [
      "(1560.600s) ms_level=1 N=10 DEW=15: 100%|█████████▉| 1559.9999999999948/1560 [01:21<00:00, 19.16it/s]\n"
     ]
    }
   ],
   "source": [
    "pp_file = os.path.join(root,'from_controller_TopN_QCB_pp.csv')\n",
    "boxes = load_picked_boxes(pp_file)\n",
    "score_method = 'intensity'\n",
    "\n",
    "controller = OptimalTopNController(ionisation_mode, N, isolation_width, mz_tol, rt_tol,\n",
    "                                   min_ms1_intensity,boxes,\n",
    "                                   score_method = score_method)\n",
    "mass_spec = IndependentMassSpectrometer(ionisation_mode, TopN_QCB_dataset,\n",
    "                                        ps_frag_QCB, add_noise=True,\n",
    "                                       scan_duration_dict = topn_time_dict)\n",
    "\n",
    "env = Environment(mass_spec, controller, min_rt, max_rt, progress_bar=True)\n",
    "env.run()\n",
    "env.write_mzML(output_folder,'qcb_optimal_{}.mzml'.format(score_method))"
   ]
  },
  {
   "cell_type": "code",
   "execution_count": null,
   "metadata": {},
   "outputs": [],
   "source": []
  },
  {
   "cell_type": "markdown",
   "metadata": {},
   "source": [
    "QCA Optimal"
   ]
  },
  {
   "cell_type": "code",
   "execution_count": 132,
   "metadata": {},
   "outputs": [
    {
     "name": "stdout",
     "output_type": "stream",
     "text": [
      "Loaded 5186 boxes\n"
     ]
    },
    {
     "name": "stderr",
     "output_type": "stream",
     "text": [
      "(1560.400s) ms_level=1 N=10 DEW=15: 100%|█████████▉| 1559.7999999999881/1560 [01:17<00:00, 20.23it/s]\n"
     ]
    }
   ],
   "source": [
    "pp_file = os.path.join(root,'from_controller_TopN_QCA_pp.csv')\n",
    "score_method = 'intensity'\n",
    "boxes = load_picked_boxes(pp_file)\n",
    "controller = OptimalTopNController(ionisation_mode, N, isolation_width, mz_tol, rt_tol,\n",
    "                                   min_ms1_intensity,pp_file,\n",
    "                                  score_method = score_method)\n",
    "mass_spec = IndependentMassSpectrometer(ionisation_mode, TopN_QCA_dataset,\n",
    "                                        ps_frag_QCB, add_noise=True,\n",
    "                                       scan_duration_dict = topn_time_dict)\n",
    "\n",
    "env = Environment(mass_spec, controller, min_rt, max_rt, progress_bar=True)\n",
    "env.run()\n",
    "env.write_mzML(output_folder,'qca_optimal_{}.mzml'.format(score_method))"
   ]
  },
  {
   "cell_type": "code",
   "execution_count": 115,
   "metadata": {},
   "outputs": [],
   "source": [
    "def evaluate(mzml_file,peak_file):\n",
    "    mzml_file_obj = MZMLFile(mzml_file)\n",
    "    boxes = load_picked_boxes(peak_file)\n",
    "    s2b,b2s = map_boxes_to_scans(mzml_file_obj,boxes,half_isolation_window=0,allow_last_overlap=True)\n",
    "    n_scans = len(mzml_file_obj.scans)\n",
    "    n_ms1_scans = len(list(filter(lambda x: x.ms_level == 1,mzml_file_obj.scans)))\n",
    "    n_ms2_scans = len(list(filter(lambda x: x.ms_level == 2,mzml_file_obj.scans)))\n",
    "    \n",
    "    # compute average absolute difference in seconds between ms2 scan and peak apex\n",
    "    errs = []\n",
    "    for b,scans in b2s.items():\n",
    "        rt = b.rt_in_seconds\n",
    "        scan_times = [s.rt_in_seconds for s in scans]\n",
    "        temp_err = [abs(s-rt) for s in scan_times]\n",
    "        errs.append(min(temp_err))\n",
    "    \n",
    "    print(\"Total scans = {}, MS1 = {}, MS2 = {}\".format(n_scans,n_ms1_scans,n_ms2_scans))\n",
    "    print(\"Total boxes: \",len(boxes),\"Fragmented: \",len(b2s))\n",
    "    print(\"Mean absolute error: \",np.mean(errs))"
   ]
  },
  {
   "cell_type": "code",
   "execution_count": 116,
   "metadata": {
    "scrolled": true
   },
   "outputs": [
    {
     "name": "stdout",
     "output_type": "stream",
     "text": [
      "qcb_optimal.mzml from_controller_TopN_QCB_pp.csv\n",
      "Loaded 4266 scans\n",
      "Total scans = 4266, MS1 = 1711, MS2 = 2555\n",
      "Total boxes:  5667 Fragmented:  2560\n",
      "Mean absolute error:  14.357589947553805\n",
      "\n",
      "\n",
      "qcb_optimal_urgency.mzml from_controller_TopN_QCB_pp.csv\n",
      "Loaded 4316 scans\n",
      "Total scans = 4316, MS1 = 1630, MS2 = 2686\n",
      "Total boxes:  5667 Fragmented:  2692\n",
      "Mean absolute error:  17.20212011653345\n",
      "\n",
      "\n",
      "qcb_optimal_apex.mzml from_controller_TopN_QCB_pp.csv\n",
      "Loaded 4291 scans\n",
      "Total scans = 4291, MS1 = 1667, MS2 = 2624\n",
      "Total boxes:  5667 Fragmented:  2628\n",
      "Mean absolute error:  13.67822969217118\n",
      "\n",
      "\n",
      "qcb_optimal_random.mzml from_controller_TopN_QCB_pp.csv\n",
      "Loaded 4249 scans\n",
      "Total scans = 4249, MS1 = 1704, MS2 = 2545\n",
      "Total boxes:  5667 Fragmented:  2550\n",
      "Mean absolute error:  15.679441694055122\n",
      "\n",
      "\n"
     ]
    }
   ],
   "source": [
    "mz2pp = {os.path.join(output_folder,'qca_optimal.mzml'):os.path.join(root,'from_controller_TopN_QCA_pp.csv'),\n",
    "         os.path.join(output_folder,'qcb_optimal.mzml'):os.path.join(root,'from_controller_TopN_QCB_pp.csv'),\n",
    "        os.path.join(output_folder,'qca_topn.mzml'):os.path.join(root,'from_controller_TopN_QCA_pp.csv'),\n",
    "         os.path.join(output_folder,'qcb_topn.mzml'):os.path.join(root,'from_controller_TopN_QCB_pp.csv'),\n",
    "         os.path.join(output_folder,'qcb_optimal_2.mzml'):os.path.join(root,'from_controller_TopN_QCB_pp.csv')}\n",
    "\n",
    "mz2pp = {os.path.join(output_folder,'qcb_optimal.mzml'):os.path.join(root,'from_controller_TopN_QCB_pp.csv'),\n",
    "         os.path.join(output_folder,'qcb_optimal_urgency.mzml'):os.path.join(root,'from_controller_TopN_QCB_pp.csv'),\n",
    "         os.path.join(output_folder,'qcb_optimal_apex.mzml'):os.path.join(root,'from_controller_TopN_QCB_pp.csv'),\n",
    "         os.path.join(output_folder,'qcb_optimal_random.mzml'):os.path.join(root,'from_controller_TopN_QCB_pp.csv')}\n",
    "\n",
    "\n",
    "for k,v in mz2pp.items():\n",
    "    print(k.split(os.sep)[-1],v.split(os.sep)[-1])\n",
    "    evaluate(k,v)\n",
    "    print()\n",
    "    print()"
   ]
  },
  {
   "cell_type": "markdown",
   "metadata": {},
   "source": [
    "*TODO*\n",
    "\n",
    "- Why more boxes fragmented than scans? Must imply overlapping boxes?\n",
    "- Check this"
   ]
  },
  {
   "cell_type": "code",
   "execution_count": 129,
   "metadata": {},
   "outputs": [
    {
     "name": "stdout",
     "output_type": "stream",
     "text": [
      "Loaded 4266 scans\n",
      "Loaded 7045 scans\n"
     ]
    }
   ],
   "source": [
    "boxes = load_picked_boxes(os.path.join(root,'from_controller_TopN_QCB_pp.csv'))\n",
    "mzml_file_obj = MZMLFile(os.path.join(output_folder,'qcb_optimal.mzml'))\n",
    "mzml_file_obj = MZMLFile(os.path.join(root,'from_controller_TopN_QCB.mzML'))\n",
    "\n",
    "s2b,b2s = map_boxes_to_scans(mzml_file_obj,boxes,half_isolation_window=0,allow_last_overlap=True)\n",
    "multi_boxes = list(filter(lambda x: len(s2b[x])>1,list(s2b.keys())))"
   ]
  },
  {
   "cell_type": "code",
   "execution_count": 130,
   "metadata": {},
   "outputs": [
    {
     "name": "stdout",
     "output_type": "stream",
     "text": [
      "70.9074114079998 252.0252227783203\n",
      "[252.02505493164062, 252.0253448486328] [48.64181555299998, 170.694868752]\n",
      "[252.02508544921875, 252.0253448486328] [30.573936528, 94.2535038889998]\n"
     ]
    }
   ],
   "source": [
    "mb = multi_boxes[0]\n",
    "print(mb.rt_in_seconds,mb.precursor_mz)\n",
    "for box in s2b[mb]:\n",
    "    print(box.mz_range,box.rt_range_in_seconds)"
   ]
  },
  {
   "cell_type": "markdown",
   "metadata": {},
   "source": [
    "Checking back in the file -- this is just a shitty peak that has been picked as two shitty peaks"
   ]
  },
  {
   "cell_type": "code",
   "execution_count": null,
   "metadata": {},
   "outputs": [],
   "source": []
  }
 ],
 "metadata": {
  "kernelspec": {
   "display_name": "Python 3",
   "language": "python",
   "name": "python3"
  },
  "language_info": {
   "codemirror_mode": {
    "name": "ipython",
    "version": 3
   },
   "file_extension": ".py",
   "mimetype": "text/x-python",
   "name": "python",
   "nbconvert_exporter": "python",
   "pygments_lexer": "ipython3",
   "version": "3.6.9"
  },
  "pycharm": {
   "stem_cell": {
    "cell_type": "raw",
    "source": [],
    "metadata": {
     "collapsed": false
    }
   }
  }
 },
 "nbformat": 4,
 "nbformat_minor": 4
}