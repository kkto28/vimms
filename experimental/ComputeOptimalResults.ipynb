{
 "cells": [
  {
   "cell_type": "markdown",
   "metadata": {},
   "source": [
    "## Optimal controller -- maximum possible performance\n",
    "\n",
    "This notebook uses Alice's matching code to determine the maximum possible performance\n",
    "\n",
    "Inputs:\n",
    "\n",
    "1. a picked peak file, with the peak *boundaries*\n",
    "1. the length of time an MS1 scan takes\n",
    "1. the length of time an MS2 scan takes\n",
    "1. N (for top-N)\n",
    "1. the minimum intensity for fragmentation\n",
    "\n",
    "The code then creates a bipartite graph with two types of nodes:\n",
    "\n",
    "1. scans (of either MS1 or MS2)\n",
    "1. peaks\n",
    "\n",
    "An edge is added between a scan and a peak *iff*:\n",
    "\n",
    "1. the scan start time is within the start and end RT of the peak\n",
    "1. the peak had an intensity >= the min intensity at the time of the last MS1 scan\n",
    "\n",
    "i.e. this is showing the best possible top-N performance if, by magic, one could not fragment anything that didn't turn into a peak."
   ]
  },
  {
   "cell_type": "code",
   "execution_count": 5,
   "metadata": {},
   "outputs": [],
   "source": [
    "import sys\n",
    "import bisect"
   ]
  },
  {
   "cell_type": "code",
   "execution_count": 6,
   "metadata": {},
   "outputs": [],
   "source": [
    "pymzm_folder = '/Users/simon/git/pymzm'\n",
    "pymzm_folder = '/home/simon/git/pymzm'\n",
    "vimms_folder = '/home/simon/git/vimms/'"
   ]
  },
  {
   "cell_type": "code",
   "execution_count": 7,
   "metadata": {},
   "outputs": [],
   "source": [
    "sys.path.append(pymzm_folder)\n",
    "sys.path.append(vimms_folder)"
   ]
  },
  {
   "cell_type": "markdown",
   "metadata": {},
   "source": [
    "Local package import"
   ]
  },
  {
   "cell_type": "code",
   "execution_count": 8,
   "metadata": {},
   "outputs": [],
   "source": [
    "from mass_spec_utils.data_import.mzml import MZMLFile\n",
    "from mass_spec_utils.data_import.mzmine import load_picked_boxes,map_boxes_to_scans\n",
    "from vimms.Roi import Roi"
   ]
  },
  {
   "cell_type": "markdown",
   "metadata": {},
   "source": [
    "## Define parameters"
   ]
  },
  {
   "cell_type": "code",
   "execution_count": 34,
   "metadata": {},
   "outputs": [],
   "source": [
    "min_rt = 0 # start value\n",
    "max_rt = 26*60 # end value\n",
    "topn_time_dict = {1: 0.60,2:0.20} # how long do the different scan types take\n",
    "N = 10 # top-N value\n",
    "min_ms1_intensity = 5e3 # min intensity for fragmentation\n",
    "pp_file_path = '/home/simon/git/vimms/experimental/data_20200503/TopN_vs_ROI/from_controller_TopN_QCB_pp.csv'\n",
    "mzml_file_path = '/home/simon/git/vimms/experimental/data_20200503/TopN_vs_ROI/from_controller_TopN_QCB.mzML'\n",
    "verbose = True\n",
    "\n"
   ]
  },
  {
   "cell_type": "markdown",
   "metadata": {},
   "source": [
    "### 1. Load the picked peak boxes"
   ]
  },
  {
   "cell_type": "code",
   "execution_count": 35,
   "metadata": {},
   "outputs": [
    {
     "name": "stdout",
     "output_type": "stream",
     "text": [
      "Loaded 5667 picked peak boxes\n"
     ]
    }
   ],
   "source": [
    "boxes = load_picked_boxes(pp_file_path)\n",
    "print(\"Loaded {} picked peak boxes\".format(len(boxes)))"
   ]
  },
  {
   "cell_type": "markdown",
   "metadata": {},
   "source": [
    "### 2. Load the mzml file"
   ]
  },
  {
   "cell_type": "code",
   "execution_count": 36,
   "metadata": {},
   "outputs": [
    {
     "name": "stdout",
     "output_type": "stream",
     "text": [
      "Loaded 7045 scans\n"
     ]
    }
   ],
   "source": [
    "mzfile  = MZMLFile(mzml_file_path)"
   ]
  },
  {
   "cell_type": "markdown",
   "metadata": {},
   "source": [
    "### 3. Set up the scan times"
   ]
  },
  {
   "cell_type": "code",
   "execution_count": 37,
   "metadata": {},
   "outputs": [
    {
     "name": "stdout",
     "output_type": "stream",
     "text": [
      "Created 6601 scan times and levels\n"
     ]
    }
   ],
   "source": [
    "scan_levels = []\n",
    "scan_start_times = []\n",
    "time = 0\n",
    "while True:\n",
    "    # add an MS1\n",
    "    scan_levels.append(1)\n",
    "    scan_start_times.append(time)\n",
    "    time += topn_time_dict[1]\n",
    "    if time > max_rt:\n",
    "        break\n",
    "    # add N MS2\n",
    "    for n in range(N):\n",
    "        scan_levels.append(2)\n",
    "        scan_start_times.append(time)\n",
    "        time += topn_time_dict[2]\n",
    "        if time > max_rt:\n",
    "            break\n",
    "print(\"Created {} scan times and levels\".format(len(scan_levels)))"
   ]
  },
  {
   "cell_type": "markdown",
   "metadata": {},
   "source": [
    "### 4. Add ROIs to the peak boxes"
   ]
  },
  {
   "cell_type": "code",
   "execution_count": 38,
   "metadata": {},
   "outputs": [
    {
     "name": "stdout",
     "output_type": "stream",
     "text": [
      "0 7045\n",
      "1100 7045\n",
      "2200 7045\n",
      "3300 7045\n",
      "4400 7045\n",
      "5500 7045\n",
      "6500 7045\n",
      "Of 5667 boxes, 5667 have roi\n"
     ]
    }
   ],
   "source": [
    "# reset in case we run more than once\n",
    "for box in boxes:\n",
    "    box.roi = None\n",
    "    \n",
    "for i,scan in enumerate(mzfile.scans):\n",
    "    if scan.ms_level == 2:\n",
    "        continue # skip MS2 scans\n",
    "    if verbose and i%100 == 0:\n",
    "        print(i,len(mzfile.scans))\n",
    "        \n",
    "    scan_rt = scan.rt_in_seconds\n",
    "    \n",
    "    # find the boxes that are active at this scan\n",
    "    ok_boxes = list(filter(lambda x: x.rt_range_in_seconds[0] <= scan_rt and x.rt_range_in_seconds[1] >= scan_rt,boxes))\n",
    "    if len(ok_boxes) == 0:\n",
    "        continue # no boxes now, onto the next scan\n",
    "    \n",
    "    mz_list,intensity_list = zip(*scan.peaks)\n",
    "    for box in ok_boxes:\n",
    "        \n",
    "        min_idx = bisect.bisect_right(mz_list,box.mz_range[0])\n",
    "        max_idx = bisect.bisect_right(mz_list,box.mz_range[1])\n",
    "        sub_peaks = []\n",
    "        for i in range(min_idx,max_idx):\n",
    "            sub_peaks.append((mz_list[i],intensity_list[i]))\n",
    "        if len(sub_peaks) > 0:\n",
    "            sub_peaks.sort(key = lambda x: x[1],reverse = True) # sort by descending intensity\n",
    "            peak_mz = sub_peaks[0][0]\n",
    "            peak_intensity = sub_peaks[0][1]\n",
    "            peak_rt = scan_rt\n",
    "\n",
    "            if box.roi is None:\n",
    "                box.roi = Roi(peak_mz,peak_rt,peak_intensity)\n",
    "            else:\n",
    "                box.roi.add(peak_mz,peak_rt,peak_intensity)\n",
    "                \n",
    "n_with_roi = 0\n",
    "for box in boxes:\n",
    "    if box.roi is not None:\n",
    "        n_with_roi += 1\n",
    "print(\"Of {} boxes, {} have roi\".format(len(boxes),n_with_roi))"
   ]
  },
  {
   "cell_type": "code",
   "execution_count": 39,
   "metadata": {},
   "outputs": [
    {
     "name": "stdout",
     "output_type": "stream",
     "text": [
      "5656: [465.10211181640625, 465.1034851074219] [8.70962672321667, 8.9482872112] [522.5776033930002, 536.897232672]\n",
      "[465.1025, 465.10242, 465.1029, 465.10272, 465.1035]\n"
     ]
    }
   ],
   "source": [
    "# a little test\n",
    "box_pos = 2345\n",
    "print(boxes[box_pos],boxes[box_pos].rt_range_in_seconds)\n",
    "print(boxes[box_pos].roi.mz_list)"
   ]
  },
  {
   "cell_type": "markdown",
   "metadata": {},
   "source": [
    "### 5. Make the graph edges\n",
    "\n",
    "1. Loop over the boxes\n",
    "1. Find all MS1 scans at which the intensity exceeds the minmum\n",
    "1. Add edges to all ms2 scans within the block\n",
    "\n",
    "Note:\n",
    " - This method ignores the intensity *at the MS2 scan time*\n"
   ]
  },
  {
   "cell_type": "code",
   "execution_count": 76,
   "metadata": {},
   "outputs": [
    {
     "name": "stdout",
     "output_type": "stream",
     "text": [
      "493566 possible edges found\n"
     ]
    }
   ],
   "source": [
    "def get_intensity(roi,rt):\n",
    "    if rt < roi.rt_list[0] or rt > roi.rt_list[-1]:\n",
    "        return 0\n",
    "    else:\n",
    "        pos = bisect.bisect_right(roi.rt_list,rt)\n",
    "        before_pos = pos - 1\n",
    "        after_pos = pos\n",
    "        prop = (rt - roi.rt_list[before_pos])/(roi.rt_list[after_pos] - roi.rt_list[before_pos])\n",
    "        return roi.intensity_list[before_pos] + prop*(roi.intensity_list[after_pos] - roi.intensity_list[before_pos])\n",
    "\n",
    "edges = []\n",
    "\n",
    "for box in boxes:\n",
    "    peak_id = box.peak_id\n",
    "    rt_start = box.rt_range_in_seconds[0]\n",
    "    rt_end = box.rt_range_in_seconds[1]\n",
    "    spo = bisect.bisect_left(scan_start_times,rt_start)\n",
    "    can_fragment = False # until we see an MS1\n",
    "    while spo < len(scan_start_times) and scan_start_times[spo] < rt_end:\n",
    "        if scan_levels[spo] == 1:\n",
    "            ms1_intensity = get_intensity(box.roi,scan_start_times[spo])\n",
    "            if  ms1_intensity >= min_ms1_intensity:\n",
    "                can_fragment = True\n",
    "            else:\n",
    "                can_fragment = False\n",
    "        if scan_levels[spo] == 2:\n",
    "            if can_fragment:\n",
    "                edges.append((\"S{}\".format(spo),\"B{}\".format(peak_id),box))\n",
    "        spo += 1\n",
    "print(\"{} possible edges found\".format(len(edges)))"
   ]
  },
  {
   "cell_type": "code",
   "execution_count": 78,
   "metadata": {},
   "outputs": [
    {
     "name": "stdout",
     "output_type": "stream",
     "text": [
      "619.4000000000057\n",
      "[616.203014337, 682.859708143998]\n",
      "[6218.936, 26377.29, 99240.67, 222041.62, 364949.5, 993382.6, 2865651.8, 12269144.0, 33528114.0, 56799390.0, 77447670.0, 71707464.0, 62696604.0, 58856240.0, 37672884.0, 15446857.0, 6794234.5, 2674198.8, 1574278.9, 941592.7, 662565.06, 400784.7, 338497.75, 246819.2, 219262.45, 161773.52, 78166.08, 68409.41]\n"
     ]
    }
   ],
   "source": [
    "edge_pos = 0\n",
    "scan_pos = int(edges[edge_pos][0][1:])\n",
    "box = edges[edge_pos][2]\n",
    "scan_rt = scan_start_times[scan_pos]\n",
    "print(scan_rt)\n",
    "print(box.rt_range_in_seconds)\n",
    "print(box.roi.intensity_list)"
   ]
  },
  {
   "cell_type": "markdown",
   "metadata": {},
   "source": [
    "### 6. Do the matching"
   ]
  },
  {
   "cell_type": "code",
   "execution_count": 79,
   "metadata": {},
   "outputs": [],
   "source": [
    "import networkx as nx\n",
    "def reducedUnweightedMaxMatchingFromLists(scanList,boxList,edgeList):\n",
    "    G = nx.Graph() #create an empty graph\n",
    "    G.add_nodes_from(scanList, bipartite=0) #add both lists of vertices as nodes to graph\n",
    "    G.add_nodes_from(boxList, bipartite=1)\n",
    "    G.add_edges_from(edgeList) # add edges to graph from list\n",
    "    print('There are {} scans and {} boxes'.format(len(scanList),len(boxList)))\n",
    "    print('There are {} edges in total'.format(len(edgeList)))\n",
    "    top_nodes = {n for n, d in G.nodes(data=True) if d['bipartite'] == 0} #scans\n",
    "    matching  = nx.bipartite.matching.hopcroft_karp_matching(G,top_nodes) #call the matching algorithms\n",
    "    size = 0\n",
    "    matchList = [] # list to accomodate the (scan, box) pairs\n",
    "    for scan in scanList:\n",
    "        matchList.append((scan, '-')) # default - box part of each pair is blank\n",
    "    res1 = list(matching.items())[:len(matching)//2] #first half of the matching (so we just have the scan:box entries)\n",
    "    for scan,box in res1: # iterate over reduced matching\n",
    "        ind = scanList.index(scan) \n",
    "        matchList[ind] = (scan, box) #update entry in the matchList\n",
    "        size += 1\n",
    "    return matchList,size"
   ]
  },
  {
   "cell_type": "code",
   "execution_count": 81,
   "metadata": {},
   "outputs": [
    {
     "name": "stdout",
     "output_type": "stream",
     "text": [
      "There are 5880 scans and 3987 boxes\n",
      "There are 493566 edges in total\n",
      "The matching is of size 2952\n",
      "2952 unique scans, 2952 unique boxes\n"
     ]
    }
   ],
   "source": [
    "scan_list,box_list,box = zip(*edges)\n",
    "unique_scan_list = list(set(scan_list))\n",
    "unique_box_list = list(set(box_list))\n",
    "edge_list = list(zip(scan_list,box_list))\n",
    "matchList,size = reducedUnweightedMaxMatchingFromLists(unique_scan_list,unique_box_list,edge_list)\n",
    "print(\"The matching is of size {}\".format(size))\n",
    "actual_matches = list(filter(lambda x: not x[1] == '-',matchList))\n",
    "actual_matches.sort(key = lambda x: int(x[0][1:]))\n",
    "matched_scans,matched_boxes = zip(*actual_matches)\n",
    "print(\"{} unique scans, {} unique boxes\".format(len(set(matched_scans)),len(set(matched_boxes))))\n"
   ]
  },
  {
   "cell_type": "code",
   "execution_count": 82,
   "metadata": {},
   "outputs": [
    {
     "name": "stdout",
     "output_type": "stream",
     "text": [
      "('S170', 'S197', 'S213', 'S287', 'S291', 'S310', 'S356', 'S373', 'S379', 'S395')\n"
     ]
    }
   ],
   "source": []
  },
  {
   "cell_type": "code",
   "execution_count": null,
   "metadata": {},
   "outputs": [],
   "source": []
  },
  {
   "cell_type": "code",
   "execution_count": null,
   "metadata": {},
   "outputs": [],
   "source": []
  },
  {
   "cell_type": "markdown",
   "metadata": {},
   "source": [
    "## Old stuff"
   ]
  },
  {
   "cell_type": "code",
   "execution_count": 297,
   "metadata": {},
   "outputs": [
    {
     "name": "stdout",
     "output_type": "stream",
     "text": [
      "[(2168, 376), (2169, 376), (2170, 376), (2171, 376), (2172, 376), (2173, 376), (2174, 376), (2175, 376), (2176, 376), (2177, 376)]\n",
      "[(133, 177), (133, 1114), (133, 1745), (133, 3935), (134, 177), (134, 1114), (134, 1745), (134, 3935), (135, 177), (135, 1114)]\n"
     ]
    }
   ],
   "source": [
    "print(edges[:10])\n",
    "edges.sort()\n",
    "print(edges[:10])"
   ]
  },
  {
   "cell_type": "code",
   "execution_count": null,
   "metadata": {},
   "outputs": [],
   "source": []
  },
  {
   "cell_type": "code",
   "execution_count": null,
   "metadata": {},
   "outputs": [],
   "source": []
  },
  {
   "cell_type": "code",
   "execution_count": null,
   "metadata": {},
   "outputs": [],
   "source": []
  },
  {
   "cell_type": "code",
   "execution_count": null,
   "metadata": {},
   "outputs": [],
   "source": []
  },
  {
   "cell_type": "code",
   "execution_count": null,
   "metadata": {},
   "outputs": [],
   "source": []
  },
  {
   "cell_type": "code",
   "execution_count": null,
   "metadata": {},
   "outputs": [],
   "source": []
  },
  {
   "cell_type": "code",
   "execution_count": null,
   "metadata": {},
   "outputs": [],
   "source": []
  },
  {
   "cell_type": "code",
   "execution_count": 298,
   "metadata": {},
   "outputs": [],
   "source": [
    "import csv\n",
    "orig_edges = []\n",
    "with open('/home/simon/git/vimms/experimental/graph_optimal/qca_5e3_edges.csv','w') as f:\n",
    "    writer = csv.writer(f)\n",
    "    for scan,peak in edges:\n",
    "        writer.writerow(['S{}'.format(scan),'B{}'.format(peak)])\n",
    "        orig_edges.append(['B{}'.format(peak),'S{}'.format(scan)])"
   ]
  },
  {
   "cell_type": "code",
   "execution_count": 94,
   "metadata": {},
   "outputs": [],
   "source": [
    "edges = set(edges)"
   ]
  },
  {
   "cell_type": "code",
   "execution_count": 95,
   "metadata": {},
   "outputs": [
    {
     "name": "stdout",
     "output_type": "stream",
     "text": [
      "769853\n"
     ]
    }
   ],
   "source": [
    "print(len(edges))"
   ]
  },
  {
   "cell_type": "code",
   "execution_count": null,
   "metadata": {},
   "outputs": [],
   "source": []
  },
  {
   "cell_type": "markdown",
   "metadata": {},
   "source": [
    "Check the initial results"
   ]
  },
  {
   "cell_type": "code",
   "execution_count": 303,
   "metadata": {},
   "outputs": [
    {
     "name": "stdout",
     "output_type": "stream",
     "text": [
      "5662\n",
      "971\n",
      "3348\n"
     ]
    }
   ],
   "source": [
    "res_file = '/home/simon/git/vimms/experimental/graph_optimal/qcb_edgesResults.txt'\n",
    "matches = []\n",
    "with open(res_file,'r') as f:\n",
    "    reader = csv.reader(f,delimiter = ',')\n",
    "    for line in reader:\n",
    "        if len(line) < 2:\n",
    "            continue\n",
    "        if '.' in line[0]:\n",
    "            continue\n",
    "        matches.append(line)\n",
    "unique_boxes = set([x[0] for x in matches])\n",
    "dashes = list(filter(lambda x: x[1] == '-',matches))\n",
    "matches = list(filter(lambda x: not x[1] == '-',matches))\n",
    "print(len(unique_boxes))\n",
    "print(len(dashes))\n",
    "\n",
    "original_unique_boxes = set((x[0] for x in orig_edges))\n",
    "print(len(original_unique_boxes))"
   ]
  },
  {
   "cell_type": "code",
   "execution_count": 304,
   "metadata": {},
   "outputs": [
    {
     "name": "stdout",
     "output_type": "stream",
     "text": [
      "4691\n",
      "4691\n"
     ]
    }
   ],
   "source": [
    "unique_boxes = set([x[0] for x in matches])\n",
    "unique_scans = set([x[1] for x in matches])\n",
    "print(len(unique_boxes))\n",
    "print(len(unique_scans))"
   ]
  },
  {
   "cell_type": "code",
   "execution_count": 256,
   "metadata": {},
   "outputs": [
    {
     "ename": "AssertionError",
     "evalue": "",
     "output_type": "error",
     "traceback": [
      "\u001b[0;31m---------------------------------------------------------------------------\u001b[0m",
      "\u001b[0;31mAssertionError\u001b[0m                            Traceback (most recent call last)",
      "\u001b[0;32m<ipython-input-256-49b8f30abb64>\u001b[0m in \u001b[0;36m<module>\u001b[0;34m\u001b[0m\n\u001b[1;32m      8\u001b[0m         \u001b[0mschedule\u001b[0m\u001b[0;34m.\u001b[0m\u001b[0mappend\u001b[0m\u001b[0;34m(\u001b[0m\u001b[0;34m(\u001b[0m\u001b[0;34m'MS1'\u001b[0m\u001b[0;34m,\u001b[0m\u001b[0;32mNone\u001b[0m\u001b[0;34m,\u001b[0m\u001b[0mtime\u001b[0m\u001b[0;34m,\u001b[0m\u001b[0;32mNone\u001b[0m\u001b[0;34m,\u001b[0m\u001b[0mpp_file\u001b[0m\u001b[0;34m)\u001b[0m\u001b[0;34m)\u001b[0m\u001b[0;34m\u001b[0m\u001b[0;34m\u001b[0m\u001b[0m\n\u001b[1;32m      9\u001b[0m         \u001b[0mmatch\u001b[0m \u001b[0;34m=\u001b[0m \u001b[0mlist\u001b[0m\u001b[0;34m(\u001b[0m\u001b[0mfilter\u001b[0m\u001b[0;34m(\u001b[0m\u001b[0;32mlambda\u001b[0m \u001b[0mx\u001b[0m\u001b[0;34m:\u001b[0m \u001b[0mx\u001b[0m\u001b[0;34m[\u001b[0m\u001b[0;36m1\u001b[0m\u001b[0;34m]\u001b[0m \u001b[0;34m==\u001b[0m \u001b[0ms_id\u001b[0m\u001b[0;34m,\u001b[0m\u001b[0mmatches\u001b[0m\u001b[0;34m)\u001b[0m\u001b[0;34m)\u001b[0m\u001b[0;34m\u001b[0m\u001b[0;34m\u001b[0m\u001b[0m\n\u001b[0;32m---> 10\u001b[0;31m         \u001b[0;32massert\u001b[0m \u001b[0mlen\u001b[0m\u001b[0;34m(\u001b[0m\u001b[0mmatch\u001b[0m\u001b[0;34m)\u001b[0m \u001b[0;34m==\u001b[0m \u001b[0;36m0\u001b[0m\u001b[0;34m\u001b[0m\u001b[0;34m\u001b[0m\u001b[0m\n\u001b[0m\u001b[1;32m     11\u001b[0m     \u001b[0;32melse\u001b[0m\u001b[0;34m:\u001b[0m\u001b[0;34m\u001b[0m\u001b[0;34m\u001b[0m\u001b[0m\n\u001b[1;32m     12\u001b[0m         \u001b[0;31m# find it in the matching\u001b[0m\u001b[0;34m\u001b[0m\u001b[0;34m\u001b[0m\u001b[0;34m\u001b[0m\u001b[0m\n",
      "\u001b[0;31mAssertionError\u001b[0m: "
     ]
    }
   ],
   "source": [
    "# make a schedule\n",
    "schedule = []\n",
    "box_dict = {b.peak_id:b for b in boxes}\n",
    "count = 0\n",
    "for i,(level,time) in enumerate(zip(scan_levels,scan_start_times)):\n",
    "    s_id = 'S{}'.format(i)\n",
    "    if level == 1:\n",
    "        schedule.append(('MS1',None,time,None,pp_file))\n",
    "        match = list(filter(lambda x: x[1] == s_id,matches))\n",
    "        assert len(match) == 0\n",
    "    else:\n",
    "        # find it in the matching\n",
    "        match = list(filter(lambda x: x[1] == s_id,matches))\n",
    "        assert len(match) <= 1\n",
    "        if len(match) == 0:\n",
    "            schedule.append(('MS2',-1,time,None,pp_file)) # set precursor to -1 to indicate empty\n",
    "        else:\n",
    "            count += 1\n",
    "            box_id = int(match[0][0][1:])\n",
    "            box = box_dict[box_id]\n",
    "            mz = box.mz\n",
    "            schedule.append(['MS2',mz,time,box_id,pp_file])\n",
    "print(count)"
   ]
  },
  {
   "cell_type": "code",
   "execution_count": 230,
   "metadata": {},
   "outputs": [],
   "source": [
    "with open('/home/simon/git/vimms/experimental/graph_optimal/qcb_schedule.csv','w') as f:\n",
    "    writer = csv.writer(f)\n",
    "    for row in schedule:\n",
    "        writer.writerow(row)"
   ]
  },
  {
   "cell_type": "code",
   "execution_count": null,
   "metadata": {},
   "outputs": [],
   "source": []
  },
  {
   "cell_type": "code",
   "execution_count": null,
   "metadata": {},
   "outputs": [],
   "source": []
  },
  {
   "cell_type": "markdown",
   "metadata": {},
   "source": [
    "# score by distance from apex\n",
    "\n",
    "- Compute a score from 1 to 10 where 10 is as close to the apex as possible and then decay as the scans get further away"
   ]
  },
  {
   "cell_type": "code",
   "execution_count": 148,
   "metadata": {},
   "outputs": [],
   "source": [
    "# Match the boxes back to the original signal"
   ]
  },
  {
   "cell_type": "code",
   "execution_count": 150,
   "metadata": {},
   "outputs": [],
   "source": [
    "from mass_spec_utils.data_import.mzml import MZMLFile"
   ]
  },
  {
   "cell_type": "code",
   "execution_count": 152,
   "metadata": {},
   "outputs": [],
   "source": [
    "# loop over scans, adding intensity values to the boxes"
   ]
  },
  {
   "cell_type": "code",
   "execution_count": 233,
   "metadata": {},
   "outputs": [
    {
     "name": "stdout",
     "output_type": "stream",
     "text": [
      "[<ms2_matching.PickedBox object at 0x7f9a14b2a2e8>]\n"
     ]
    }
   ],
   "source": [
    "sub_boxes = [boxes[0]]\n",
    "print(sub_boxes)"
   ]
  },
  {
   "cell_type": "code",
   "execution_count": 236,
   "metadata": {},
   "outputs": [
    {
     "name": "stdout",
     "output_type": "stream",
     "text": [
      "ROI with data points=29 mz (258.1107-258.1099) rt (616.2030-682.8597)\n",
      "2487: [258.1098327636719, 258.1106872558594] [10.27005023895, 11.380995135733299]\n"
     ]
    }
   ],
   "source": [
    "print(boxes[0].roi)\n",
    "print(boxes[0])"
   ]
  },
  {
   "cell_type": "code",
   "execution_count": 247,
   "metadata": {},
   "outputs": [
    {
     "data": {
      "text/plain": [
       "(0, 6000000.0)"
      ]
     },
     "execution_count": 247,
     "metadata": {},
     "output_type": "execute_result"
    },
    {
     "data": {
      "image/png": "[encoded data removed]",
      "text/plain": [
       "<Figure size 720x720 with 1 Axes>"
      ]
     },
     "metadata": {
      "needs_background": "light"
     },
     "output_type": "display_data"
    }
   ],
   "source": [
    "import pylab as plt\n",
    "%matplotlib inline\n",
    "plt.figure(figsize = (10,10))\n",
    "plt.plot(boxes[1].roi.rt_list,boxes[1].roi.intensity_list,'ro')\n",
    "plt.xlim([520,530])\n",
    "plt.plot(527,get_intensity(boxes[1].roi,527),'bo')\n",
    "plt.ylim([0,6e6])"
   ]
  },
  {
   "cell_type": "code",
   "execution_count": 248,
   "metadata": {},
   "outputs": [],
   "source": [
    "import bisect\n"
   ]
  },
  {
   "cell_type": "code",
   "execution_count": null,
   "metadata": {},
   "outputs": [],
   "source": []
  },
  {
   "cell_type": "code",
   "execution_count": 253,
   "metadata": {},
   "outputs": [
    {
     "name": "stdout",
     "output_type": "stream",
     "text": [
      "2144 4324 27\n"
     ]
    }
   ],
   "source": [
    "count = 0\n",
    "total = 0\n",
    "no_roi = 0\n",
    "for level,precursor,time,box_id,_ in schedule:\n",
    "    if level == 'MS2' and precursor > -1:\n",
    "        total +=1\n",
    "        box = box_dict[box_id]\n",
    "        if not box.roi is None:\n",
    "            intensity = get_intensity(box.roi,time)\n",
    "            if intensity >= 5e3:\n",
    "                count += 1\n",
    "        else:\n",
    "            no_roi += 1\n",
    "print(count,total,no_roi)"
   ]
  },
  {
   "cell_type": "code",
   "execution_count": null,
   "metadata": {},
   "outputs": [],
   "source": []
  }
 ],
 "metadata": {
  "kernelspec": {
   "display_name": "Python 3",
   "language": "python",
   "name": "python3"
  },
  "language_info": {
   "codemirror_mode": {
    "name": "ipython",
    "version": 3
   },
   "file_extension": ".py",
   "mimetype": "text/x-python",
   "name": "python",
   "nbconvert_exporter": "python",
   "pygments_lexer": "ipython3",
   "version": "3.6.9"
  },
  "pycharm": {
   "stem_cell": {
    "cell_type": "raw",
    "source": [],
    "metadata": {
     "collapsed": false
    }
   }
  }
 },
 "nbformat": 4,
 "nbformat_minor": 4
}