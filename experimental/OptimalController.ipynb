{
 "cells": [
  {
   "cell_type": "markdown",
   "metadata": {},
   "source": [
    "## Optimal Controller\n",
    "\n",
    "The purpose of this notebook is to try and get some upper bound on performance. So:\n",
    "\n",
    "- Given a file with the known picked peaks\n",
    "- Use a controller that only fragments things that are within a picked peak\n",
    "- This will help us see how many of the picked peaks we can, realistically obtain"
   ]
  },
  {
   "cell_type": "code",
   "execution_count": 70,
   "metadata": {},
   "outputs": [],
   "source": [
    "import os"
   ]
  },
  {
   "cell_type": "code",
   "execution_count": 71,
   "metadata": {},
   "outputs": [
    {
     "name": "stdout",
     "output_type": "stream",
     "text": [
      "The autoreload extension is already loaded. To reload it, use:\n",
      "  %reload_ext autoreload\n"
     ]
    }
   ],
   "source": [
    "%load_ext autoreload\n",
    "%autoreload 2"
   ]
  },
  {
   "cell_type": "code",
   "execution_count": 72,
   "metadata": {},
   "outputs": [],
   "source": [
    "import xml.etree.ElementTree\n",
    "import os,glob,sys\n",
    "import numpy as np\n",
    "import pandas as pd\n",
    "import seaborn as sns"
   ]
  },
  {
   "cell_type": "code",
   "execution_count": 73,
   "metadata": {},
   "outputs": [],
   "source": [
    "sys.path.append('/Users/simon/git/vimms')\n",
    "sys.path.append('/Users/simon/git/pymzm')\n",
    "\n",
    "sys.path.append('/home/simon/git/vimms')\n",
    "sys.path.append('/home/simon/git/pymzm')"
   ]
  },
  {
   "cell_type": "code",
   "execution_count": 74,
   "metadata": {},
   "outputs": [],
   "source": [
    "from vimms.PythonMzmine import *\n",
    "from vimms.MassSpec import IndependentMassSpectrometer\n",
    "from vimms.Controller import TopNController,RoiController,SmartRoiController\n",
    "from vimms.PythonMzmine import *\n",
    "\n",
    "from vimms.Roi import make_roi, RoiToChemicalCreator\n",
    "from vimms.BOMAS import *\n",
    "from vimms.Common import *\n",
    "from vimms.Environment import *\n",
    "from pathlib import Path\n",
    "from vimms.PlotsForPaper import get_frag_events"
   ]
  },
  {
   "cell_type": "code",
   "execution_count": 76,
   "metadata": {},
   "outputs": [],
   "source": [
    "from vimms.DataGenerator import extract_hmdb_metabolite, get_data_source, get_spectral_feature_database"
   ]
  },
  {
   "cell_type": "code",
   "execution_count": 77,
   "metadata": {},
   "outputs": [],
   "source": [
    "set_log_level_warning()"
   ]
  },
  {
   "cell_type": "code",
   "execution_count": 78,
   "metadata": {},
   "outputs": [],
   "source": [
    "# base_dir = os.path.abspath('/Users/simon/University of Glasgow/Vinny Davies - CLDS Metabolomics Project/Trained Models')\n",
    "base_dir = os.path.abspath('/home/simon/git/vimms/experimental/simon_res/QCB')\n",
    "\n",
    "ps_frag_QCB = load_obj(Path(base_dir, 'peak_sampler_mz_rt_int_beerqcb_fragmentation.p'))"
   ]
  },
  {
   "cell_type": "code",
   "execution_count": 79,
   "metadata": {},
   "outputs": [],
   "source": [
    "QCB_MZML2CHEMS_DICT = {'min_ms1_intensity': 0,\n",
    "                  'mz_tol': 5,\n",
    "                  'mz_units':'ppm',\n",
    "                  'min_length':1,\n",
    "                  'min_intensity':0,\n",
    "                  'start_rt':0,\n",
    "                  'stop_rt':1560}"
   ]
  },
  {
   "cell_type": "code",
   "execution_count": 80,
   "metadata": {},
   "outputs": [],
   "source": [
    "# TopN_QCB_dataset = load_obj('/Users/simon/OneDrive - University of Glasgow/CLDS Metabolomics Project/TopNvsTopNroi/QCB/SimulatorTests/TopN_QCB_dataset.mzml')\n",
    "TopN_QCB_dataset = load_obj('/home/simon/git/vimms/experimental/simon_res/QCB/TopN_QCB_dataset.mzml')"
   ]
  },
  {
   "cell_type": "code",
   "execution_count": 81,
   "metadata": {},
   "outputs": [],
   "source": [
    "min_rt = 0\n",
    "max_rt = 26*60 # entire run\n",
    "min_ms1_intensity = 5000\n",
    "mz_tol = 10\n",
    "rt_tol = 15\n",
    "N = 10\n",
    "\n",
    "# these are derived from real data (see bottom of notebook)\n",
    "roi_time_dict = {1: 0.71,2:0.20}\n",
    "topn_time_dict = {1: 0.60,2:0.20}\n",
    "\n",
    "\n",
    "ionisation_mode = POSITIVE\n",
    "isolation_width = 1\n",
    "\n",
    "test_path = '/Users/simon/git/vimms/experimental/simon_res/'\n",
    "test_path = '/home/simon/git/vimms/experimental/simon_res/'\n",
    "\n"
   ]
  },
  {
   "cell_type": "code",
   "execution_count": 82,
   "metadata": {},
   "outputs": [],
   "source": [
    "from vimms.MassSpec import IndependentMassSpectrometer\n",
    "from vimms.Controller import OptimalTopNController"
   ]
  },
  {
   "cell_type": "code",
   "execution_count": null,
   "metadata": {},
   "outputs": [],
   "source": [
    "boxes = load_picked_boxes(os.path.join(test_path,'QCB','qcb_pp.csv'))"
   ]
  },
  {
   "cell_type": "code",
   "execution_count": null,
   "metadata": {},
   "outputs": [],
   "source": [
    "controller = OptimalTopNController(ionisation_mode, N, isolation_width,\n",
    "                                   mz_tol, rt_tol, min_ms1_intensity,\n",
    "                                   boxes)"
   ]
  },
  {
   "cell_type": "code",
   "execution_count": 33,
   "metadata": {},
   "outputs": [
    {
     "name": "stdout",
     "output_type": "stream",
     "text": [
      "['row ID', 'row m/z', 'row retention time', 'from_controller_TopN_QCB.mzML filtered Peak m/z', 'from_controller_TopN_QCB.mzML filtered Peak RT start', 'from_controller_TopN_QCB.mzML filtered Peak RT end', 'from_controller_TopN_QCB.mzML filtered Peak height', 'from_controller_TopN_QCB.mzML filtered Peak area', 'from_controller_TopN_QCB.mzML filtered Peak m/z min', 'from_controller_TopN_QCB.mzML filtered Peak m/z max', '']\n"
     ]
    },
    {
     "name": "stderr",
     "output_type": "stream",
     "text": [
      "(20.650s) ms_level=1 N=10 DEW=15:  99%|█████████▉| 9.940000000000001/10 [00:00<00:00, 21.21it/s]\n",
      "(20.200s) ms_level=1 N=10 DEW=15:  96%|█████████▌| 9.599999999999998/10 [00:00<00:00, 18.07it/s] \n"
     ]
    }
   ],
   "source": [
    "mass_spec = IndependentMassSpectrometer(ionisation_mode, TopN_QCB_dataset,\n",
    "                                        ps_frag_QCB,\n",
    "                                        add_noise=True,\n",
    "                                       scan_duration_dict=roi_time_dict)\n",
    "env = Environment(mass_spec, controller, min_rt, max_rt, progress_bar=True)\n",
    "env.run()\n",
    "\n",
    "# env.write_mzML(test_path, 'Optimal_roi_times.mzml')\n",
    "\n",
    "\n",
    "controller = OptimalTopNController(ionisation_mode, N, isolation_width,\n",
    "                                   mz_tol, rt_tol, min_ms1_intensity,\n",
    "                                   boxes)\n",
    "mass_spec = IndependentMassSpectrometer(ionisation_mode, TopN_QCB_dataset,\n",
    "                                        ps_frag_QCB,\n",
    "                                        add_noise=True,\n",
    "                                       scan_duration_dict=topn_time_dict)\n",
    "env = Environment(mass_spec, controller, min_rt, max_rt, progress_bar=True)\n",
    "env.run()\n",
    "\n",
    "# env.write_mzML(test_path, 'Optimal_tn_times.mzml')"
   ]
  },
  {
   "cell_type": "code",
   "execution_count": 29,
   "metadata": {},
   "outputs": [
    {
     "name": "stdout",
     "output_type": "stream",
     "text": [
      "['row ID', 'row m/z', 'row retention time', 'from_controller_TopN_QCB.mzML filtered Peak m/z', 'from_controller_TopN_QCB.mzML filtered Peak RT start', 'from_controller_TopN_QCB.mzML filtered Peak RT end', 'from_controller_TopN_QCB.mzML filtered Peak height', 'from_controller_TopN_QCB.mzML filtered Peak area', 'from_controller_TopN_QCB.mzML filtered Peak m/z min', 'from_controller_TopN_QCB.mzML filtered Peak m/z max', '']\n",
      "7306\n"
     ]
    }
   ],
   "source": [
    "from mass_spec_utils.data_import.mzml import MZMLFile\n",
    "from mass_spec_utils.data_import.mzmine import load_picked_boxes, map_boxes_to_scans\n",
    "peak_csv_file = os.path.join(test_path,'QCB/qcb_pp.csv')\n",
    "boxes = load_picked_boxes(peak_csv_file)\n",
    "print(len(boxes))"
   ]
  },
  {
   "cell_type": "code",
   "execution_count": 30,
   "metadata": {},
   "outputs": [
    {
     "name": "stdout",
     "output_type": "stream",
     "text": [
      "Loaded 3744 scans\n",
      "Loaded 4071 scans\n",
      "TopN:\n",
      "Total scans = 4071, MS1 = 1826, MS2 = 2245\n",
      "ROI:\n",
      "Total scans = 3744, MS1 = 1563, MS2 = 2181\n",
      "ROI timings:  2154\n",
      "TopN timings:  2209\n"
     ]
    }
   ],
   "source": [
    "roi_times_mz_file = MZMLFile(os.path.join(test_path,'Optimal_roi_times.mzml'))\n",
    "topn_times_mz_file = MZMLFile(os.path.join(test_path,'Optimal_tn_times.mzml'))\n",
    "\n",
    "def summarise(mz_file_object):\n",
    "    n_scans = len(mz_file_object.scans)\n",
    "    n_ms1_scans = len(list(filter(lambda x: x.ms_level == 1,mz_file_object.scans)))\n",
    "    n_ms2_scans = len(list(filter(lambda x: x.ms_level == 2,mz_file_object.scans)))\n",
    "    print(\"Total scans = {}, MS1 = {}, MS2 = {}\".format(n_scans,n_ms1_scans,n_ms2_scans))\n",
    "print(\"TopN:\")\n",
    "summarise(topn_times_mz_file)\n",
    "print(\"ROI:\")\n",
    "summarise(roi_times_mz_file)\n",
    "\n",
    "\n",
    "scans2boxes,roi_b2s = map_boxes_to_scans(roi_times_mz_file,boxes,half_isolation_window = 0)\n",
    "print(\"ROI timings: \",len(roi_b2s))\n",
    "scans2boxes,topn_b2s = map_boxes_to_scans(topn_times_mz_file,boxes,half_isolation_window = 0)\n",
    "print(\"TopN timings: \",len(topn_b2s))\n",
    "\n"
   ]
  },
  {
   "cell_type": "code",
   "execution_count": 142,
   "metadata": {},
   "outputs": [
    {
     "name": "stdout",
     "output_type": "stream",
     "text": [
      "Loaded 4482 scans\n",
      "1043\n"
     ]
    }
   ],
   "source": [
    "smart_mzml_file = MZMLFile(os.path.join(test_path,'SMART3_3_0.1.mzml'))\n",
    "_,smart_b2s = map_boxes_to_scans(smart_mzml_file,boxes,half_isolation_window=0)\n",
    "print(len(smart_b2s))\n"
   ]
  },
  {
   "cell_type": "code",
   "execution_count": 157,
   "metadata": {},
   "outputs": [
    {
     "name": "stdout",
     "output_type": "stream",
     "text": [
      "1157\n",
      "276.1446838378906 [275.73612515200017, 345.6913529110002]\n"
     ]
    },
    {
     "data": {
      "image/png": "[encoded data removed]",
      "text/plain": [
       "<Figure size 432x288 with 1 Axes>"
      ]
     },
     "metadata": {
      "needs_background": "light"
     },
     "output_type": "display_data"
    },
    {
     "data": {
      "image/png": "[encoded data removed]",
      "text/plain": [
       "<Figure size 432x288 with 1 Axes>"
      ]
     },
     "metadata": {
      "needs_background": "light"
     },
     "output_type": "display_data"
    }
   ],
   "source": [
    "import pylab as plt\n",
    "%matplotlib inline\n",
    "# which ones are we not getting\n",
    "optimal_boxes = set(roi_b2s.keys())\n",
    "smart_boxes = set(smart_b2s.keys())\n",
    "missing = optimal_boxes - smart_boxes\n",
    "mz = [z.mz for z in missing]\n",
    "rt = [60*z.rt_range[0] for z in missing]\n",
    "plt.plot(rt,mz,'ro')\n",
    "print(len(missing))\n",
    "# missing_intesnity = [max(z.intensity_list) for z in missing]\n",
    "plt.figure()\n",
    "# plt.hist(missing_intensity)\n",
    "length = [z.rt_range[1] - z.rt_range[0] for z in missing]\n",
    "plt.hist(length)\n",
    "a = sorted(list(missing),key = lambda x: x.rt_range[1]-x.rt_range[0],reverse = True)\n",
    "print(a[0].mz,[p*60.0 for p in a[0].rt_range])"
   ]
  },
  {
   "cell_type": "markdown",
   "metadata": {},
   "source": [
    "# Repeat with QCA"
   ]
  },
  {
   "cell_type": "code",
   "execution_count": 18,
   "metadata": {},
   "outputs": [],
   "source": [
    "# mzml_QCA_TopN = '/Users/simon/University of Glasgow/Vinny Davies - CLDS Metabolomics Project/TopNvsTopNroi/QCA/from_controller_TopN_QCA.mzML'\n",
    "# mzml_QCA_TopN = '/home/simon/git/vimms/experimental/simon_res/QCA/from_controller_TopN_QCA.mzml'\n",
    "# TopN_QCA_dataset = mzml2chems(mzml_QCA_TopN, ps_frag_QCB, QCB_MZML2CHEMS_DICT, n_peaks=None)"
   ]
  },
  {
   "cell_type": "code",
   "execution_count": null,
   "metadata": {},
   "outputs": [],
   "source": [
    "# save_obj(TopN_QCA_dataset, '/Users/simon/OneDrive - University of Glasgow/CLDS Metabolomics Project/TopNvsTopNroi/QCA/SimulatorTests/TopN_QCA_dataset.mzml')\n",
    "\n"
   ]
  },
  {
   "cell_type": "code",
   "execution_count": 19,
   "metadata": {},
   "outputs": [],
   "source": [
    "# TopN_QCA_dataset = load_obj('/Users/simon/OneDrive - University of Glasgow/CLDS Metabolomics Project/TopNvsTopNroi/QCA/SimulatorTests/TopN_QCA_dataset.mzml')\n",
    "TopN_QCA_dataset = load_obj('/home/simon/git/vimms/experimental/simon_res/QCA/TopN_QCA_dataset.mzml')"
   ]
  },
  {
   "cell_type": "code",
   "execution_count": 25,
   "metadata": {},
   "outputs": [
    {
     "name": "stdout",
     "output_type": "stream",
     "text": [
      "['row ID', 'row m/z', 'row retention time', 'from_controller_TopN_QCA.mzML filtered Peak m/z', 'from_controller_TopN_QCA.mzML filtered Peak RT start', 'from_controller_TopN_QCA.mzML filtered Peak RT end', 'from_controller_TopN_QCA.mzML filtered Peak height', 'from_controller_TopN_QCA.mzML filtered Peak area', 'from_controller_TopN_QCA.mzML filtered Peak m/z min', 'from_controller_TopN_QCA.mzML filtered Peak m/z max', '']\n",
      "Loaded 6161 boxes\n"
     ]
    },
    {
     "name": "stderr",
     "output_type": "stream",
     "text": [
      "(1560.380s) ms_level=1 N=10 DEW=15: 100%|█████████▉| 1559.6700000000785/1560 [01:30<00:00, 17.24it/s]\n"
     ]
    }
   ],
   "source": [
    "from vimms.Controller import OptimalTopNController\n",
    "controller = OptimalTopNController(ionisation_mode, N, isolation_width,\n",
    "                                   mz_tol, rt_tol, min_ms1_intensity,\n",
    "                                   os.path.join(test_path,'QCA','qca_pp.csv'))\n",
    "\n",
    "\n",
    "mass_spec = IndependentMassSpectrometer(ionisation_mode, TopN_QCA_dataset,\n",
    "                                        ps_frag_QCB,\n",
    "                                        add_noise=True,\n",
    "                                       scan_duration_dict=roi_time_dict)\n",
    "env = Environment(mass_spec, controller, min_rt, max_rt, progress_bar=True)\n",
    "env.run()\n",
    "\n",
    "env.write_mzML(test_path, 'Optimal_roi_times_qca.mzml')"
   ]
  },
  {
   "cell_type": "code",
   "execution_count": 26,
   "metadata": {},
   "outputs": [
    {
     "name": "stdout",
     "output_type": "stream",
     "text": [
      "['row ID', 'row m/z', 'row retention time', 'from_controller_TopN_QCA.mzML filtered Peak m/z', 'from_controller_TopN_QCA.mzML filtered Peak RT start', 'from_controller_TopN_QCA.mzML filtered Peak RT end', 'from_controller_TopN_QCA.mzML filtered Peak height', 'from_controller_TopN_QCA.mzML filtered Peak area', 'from_controller_TopN_QCA.mzML filtered Peak m/z min', 'from_controller_TopN_QCA.mzML filtered Peak m/z max', '']\n",
      "Loaded 6161 boxes\n"
     ]
    },
    {
     "name": "stderr",
     "output_type": "stream",
     "text": [
      "(1560.200s) ms_level=1 N=10 DEW=15: 100%|█████████▉| 1559.5999999999774/1560 [01:37<00:00, 15.98it/s]\n"
     ]
    }
   ],
   "source": [
    "controller = OptimalTopNController(ionisation_mode, N, isolation_width,\n",
    "                                   mz_tol, rt_tol, min_ms1_intensity,\n",
    "                                   os.path.join(test_path,'QCA','qca_pp.csv'))\n",
    "mass_spec = IndependentMassSpectrometer(ionisation_mode, TopN_QCA_dataset,\n",
    "                                        ps_frag_QCB,\n",
    "                                        add_noise=True,\n",
    "                                       scan_duration_dict=topn_time_dict)\n",
    "env = Environment(mass_spec, controller, min_rt, max_rt, progress_bar=True)\n",
    "env.run()\n",
    "\n",
    "env.write_mzML(test_path, 'Optimal_tn_times_qca.mzml')"
   ]
  },
  {
   "cell_type": "code",
   "execution_count": 27,
   "metadata": {},
   "outputs": [
    {
     "name": "stdout",
     "output_type": "stream",
     "text": [
      "['row ID', 'row m/z', 'row retention time', 'from_controller_TopN_QCA.mzML filtered Peak m/z', 'from_controller_TopN_QCA.mzML filtered Peak RT start', 'from_controller_TopN_QCA.mzML filtered Peak RT end', 'from_controller_TopN_QCA.mzML filtered Peak height', 'from_controller_TopN_QCA.mzML filtered Peak area', 'from_controller_TopN_QCA.mzML filtered Peak m/z min', 'from_controller_TopN_QCA.mzML filtered Peak m/z max', '']\n",
      "Loaded 3608 scans\n",
      "Loaded 3921 scans\n",
      "TopN:\n",
      "Total scans = 3921, MS1 = 1896, MS2 = 2025\n",
      "ROI:\n",
      "Total scans = 3608, MS1 = 1617, MS2 = 1991\n",
      "ROI timings:  1947\n",
      "TopN timings:  1987\n"
     ]
    }
   ],
   "source": [
    "from mass_spec_utils.data_import.mzml import MZMLFile\n",
    "from mass_spec_utils.data_import.mzmine import load_picked_boxes, map_boxes_to_scans\n",
    "peak_csv_file = os.path.join(test_path,'QCA','qca_pp.csv')\n",
    "boxes = load_picked_boxes(peak_csv_file)\n",
    "\n",
    "roi_times_mz_file = MZMLFile(os.path.join(test_path,'Optimal_roi_times_qca.mzml'))\n",
    "topn_times_mz_file = MZMLFile(os.path.join(test_path,'Optimal_tn_times_qca.mzml'))\n",
    "\n",
    "def summarise(mz_file_object):\n",
    "    n_scans = len(mz_file_object.scans)\n",
    "    n_ms1_scans = len(list(filter(lambda x: x.ms_level == 1,mz_file_object.scans)))\n",
    "    n_ms2_scans = len(list(filter(lambda x: x.ms_level == 2,mz_file_object.scans)))\n",
    "    print(\"Total scans = {}, MS1 = {}, MS2 = {}\".format(n_scans,n_ms1_scans,n_ms2_scans))\n",
    "print(\"TopN:\")\n",
    "summarise(topn_times_mz_file)\n",
    "print(\"ROI:\")\n",
    "summarise(roi_times_mz_file)\n",
    "\n",
    "\n",
    "scans2boxes,boxes2scans = map_boxes_to_scans(roi_times_mz_file,boxes,half_isolation_window = 0)\n",
    "print(\"ROI timings: \",len(boxes2scans))\n",
    "scans2boxes,boxes2scans = map_boxes_to_scans(topn_times_mz_file,boxes,half_isolation_window = 0)\n",
    "print(\"TopN timings: \",len(boxes2scans))\n",
    "\n",
    "\n"
   ]
  },
  {
   "cell_type": "code",
   "execution_count": null,
   "metadata": {},
   "outputs": [],
   "source": []
  },
  {
   "cell_type": "code",
   "execution_count": null,
   "metadata": {},
   "outputs": [],
   "source": []
  },
  {
   "cell_type": "code",
   "execution_count": null,
   "metadata": {},
   "outputs": [],
   "source": []
  },
  {
   "cell_type": "code",
   "execution_count": null,
   "metadata": {},
   "outputs": [],
   "source": []
  },
  {
   "cell_type": "markdown",
   "metadata": {},
   "source": [
    "## Put it in a loop!"
   ]
  },
  {
   "cell_type": "code",
   "execution_count": 44,
   "metadata": {},
   "outputs": [
    {
     "name": "stdout",
     "output_type": "stream",
     "text": [
      "['row ID', 'row m/z', 'row retention time', 'from_controller_TopN_QCB.mzML filtered Peak m/z', 'from_controller_TopN_QCB.mzML filtered Peak RT start', 'from_controller_TopN_QCB.mzML filtered Peak RT end', 'from_controller_TopN_QCB.mzML filtered Peak height', 'from_controller_TopN_QCB.mzML filtered Peak area', 'from_controller_TopN_QCB.mzML filtered Peak m/z min', 'from_controller_TopN_QCB.mzML filtered Peak m/z max', '']\n",
      "Iteration 0, 5325 peaks remaining\n"
     ]
    },
    {
     "name": "stderr",
     "output_type": "stream",
     "text": [
      "(1560.440s) ms_level=1 N=10 DEW=15: 100%|█████████▉| 1559.7300000000837/1560 [01:39<00:00, 15.61it/s]\n"
     ]
    },
    {
     "name": "stdout",
     "output_type": "stream",
     "text": [
      "Iteration 1, 3075 peaks remaining\n"
     ]
    },
    {
     "name": "stderr",
     "output_type": "stream",
     "text": [
      "(1560.380s) ms_level=1 N=10 DEW=15: 100%|█████████▉| 1559.6700000000533/1560 [01:31<00:00, 17.07it/s]\n"
     ]
    },
    {
     "name": "stdout",
     "output_type": "stream",
     "text": [
      "Iteration 2, 2082 peaks remaining\n"
     ]
    },
    {
     "name": "stderr",
     "output_type": "stream",
     "text": [
      "(1560.210s) ms_level=1 N=10 DEW=15: 100%|█████████▉| 1559.5000000000443/1560 [01:28<00:00, 17.55it/s]\n"
     ]
    },
    {
     "name": "stdout",
     "output_type": "stream",
     "text": [
      "Iteration 3, 1704 peaks remaining\n"
     ]
    },
    {
     "name": "stderr",
     "output_type": "stream",
     "text": [
      "(1560.020s) ms_level=1 N=10 DEW=15: 100%|█████████▉| 1559.310000000047/1560 [01:27<00:00, 17.77it/s] \n"
     ]
    },
    {
     "name": "stdout",
     "output_type": "stream",
     "text": [
      "Iteration 4, 1650 peaks remaining\n"
     ]
    },
    {
     "name": "stderr",
     "output_type": "stream",
     "text": [
      "(1560.120s) ms_level=1 N=10 DEW=15: 100%|█████████▉| 1559.4100000000471/1560 [01:21<00:00, 19.06it/s]\n"
     ]
    },
    {
     "name": "stdout",
     "output_type": "stream",
     "text": [
      "Iteration 5, 1631 peaks remaining\n"
     ]
    },
    {
     "name": "stderr",
     "output_type": "stream",
     "text": [
      "(1560.670s) ms_level=1 N=10 DEW=15: 100%|█████████▉| 1559.9600000000473/1560 [01:24<00:00, 18.41it/s]\n"
     ]
    },
    {
     "name": "stdout",
     "output_type": "stream",
     "text": [
      "Iteration 6, 1627 peaks remaining\n"
     ]
    },
    {
     "name": "stderr",
     "output_type": "stream",
     "text": [
      "(1560.070s) ms_level=1 N=10 DEW=15: 100%|█████████▉| 1559.3600000000472/1560 [01:24<00:00, 18.49it/s]\n"
     ]
    },
    {
     "name": "stdout",
     "output_type": "stream",
     "text": [
      "Iteration 7, 1626 peaks remaining\n"
     ]
    },
    {
     "name": "stderr",
     "output_type": "stream",
     "text": [
      "(1560.070s) ms_level=1 N=10 DEW=15: 100%|█████████▉| 1559.3600000000472/1560 [01:33<00:00, 16.69it/s]\n"
     ]
    },
    {
     "name": "stdout",
     "output_type": "stream",
     "text": [
      "Iteration 8, 1625 peaks remaining\n"
     ]
    },
    {
     "name": "stderr",
     "output_type": "stream",
     "text": [
      "(1560.580s) ms_level=1 N=10 DEW=15: 100%|█████████▉| 1559.8700000000472/1560 [01:32<00:00, 16.92it/s]\n"
     ]
    },
    {
     "name": "stdout",
     "output_type": "stream",
     "text": [
      "Iteration 9, 1625 peaks remaining\n"
     ]
    },
    {
     "name": "stderr",
     "output_type": "stream",
     "text": [
      "(1560.580s) ms_level=1 N=10 DEW=15: 100%|█████████▉| 1559.8700000000472/1560 [01:25<00:00, 18.30it/s]\n"
     ]
    }
   ],
   "source": [
    "output_folder = os.path.join(test_path,'loop_controller')\n",
    "boxes = load_picked_boxes(os.path.join(test_path,'QCB','qcb_pp_wide.csv'))\n",
    "from vimms.Controller import OptimalTopNController\n",
    "for i in range(10):\n",
    "    print(\"Iteration {}, {} peaks remaining\".format(i,len(boxes)))\n",
    "    controller = OptimalTopNController(ionisation_mode, N, isolation_width,\n",
    "                                       mz_tol, rt_tol, min_ms1_intensity,\n",
    "                                       boxes)\n",
    "    mass_spec = IndependentMassSpectrometer(ionisation_mode, TopN_QCB_dataset,\n",
    "                                            ps_frag_QCB,\n",
    "                                            add_noise=True,\n",
    "                                           scan_duration_dict=roi_time_dict)\n",
    "    env = Environment(mass_spec, controller, min_rt, max_rt, progress_bar=True)\n",
    "    env.run()\n",
    "    boxes = controller.boxes\n",
    "    out_file = 'optimal_{}.mzml'.format(i)\n",
    "    env.write_mzML(output_folder, out_file)"
   ]
  },
  {
   "cell_type": "code",
   "execution_count": 55,
   "metadata": {},
   "outputs": [
    {
     "name": "stdout",
     "output_type": "stream",
     "text": [
      "['row ID', 'row m/z', 'row retention time', 'from_controller_TopN_QCB.mzML filtered Peak m/z', 'from_controller_TopN_QCB.mzML filtered Peak RT start', 'from_controller_TopN_QCB.mzML filtered Peak RT end', 'from_controller_TopN_QCB.mzML filtered Peak height', 'from_controller_TopN_QCB.mzML filtered Peak area', 'from_controller_TopN_QCB.mzML filtered Peak m/z min', 'from_controller_TopN_QCB.mzML filtered Peak m/z max', '']\n"
     ]
    }
   ],
   "source": [
    "boxes = load_picked_boxes(os.path.join(test_path,'QCB','qcb_pp_wide.csv'))\n"
   ]
  },
  {
   "cell_type": "code",
   "execution_count": 56,
   "metadata": {},
   "outputs": [
    {
     "name": "stdout",
     "output_type": "stream",
     "text": [
      "/home/simon/git/vimms/experimental/simon_res/loop_controller/optimal_0.mzml\n",
      "Loaded 3724 scans\n",
      "/home/simon/git/vimms/experimental/simon_res/loop_controller/optimal_1.mzml\n",
      "Loaded 2859 scans\n",
      "/home/simon/git/vimms/experimental/simon_res/loop_controller/optimal_2.mzml\n",
      "Loaded 2442 scans\n",
      "/home/simon/git/vimms/experimental/simon_res/loop_controller/optimal_3.mzml\n",
      "Loaded 2226 scans\n",
      "/home/simon/git/vimms/experimental/simon_res/loop_controller/optimal_4.mzml\n",
      "Loaded 2208 scans\n",
      "/home/simon/git/vimms/experimental/simon_res/loop_controller/optimal_5.mzml\n",
      "Loaded 2200 scans\n",
      "/home/simon/git/vimms/experimental/simon_res/loop_controller/optimal_6.mzml\n",
      "Loaded 2197 scans\n",
      "/home/simon/git/vimms/experimental/simon_res/loop_controller/optimal_7.mzml\n",
      "Loaded 2197 scans\n",
      "/home/simon/git/vimms/experimental/simon_res/loop_controller/optimal_8.mzml\n",
      "Loaded 2197 scans\n",
      "/home/simon/git/vimms/experimental/simon_res/loop_controller/optimal_9.mzml\n",
      "Loaded 2197 scans\n"
     ]
    }
   ],
   "source": [
    "mzml_files = [None for i in range(10)]\n",
    "for i in range(10):\n",
    "    mzml_file = os.path.join(output_folder,'optimal_{}.mzml'.format(i))\n",
    "    print(mzml_file)\n",
    "    mzml_files[i] = MZMLFile(mzml_file)"
   ]
  },
  {
   "cell_type": "code",
   "execution_count": 57,
   "metadata": {},
   "outputs": [],
   "source": [
    "s2b = []\n",
    "b2s = []\n",
    "for i in range(10):\n",
    "    a,b = map_boxes_to_scans(mzml_files[i],boxes,half_isolation_window = 0)\n",
    "    s2b.append(a)\n",
    "    b2s.append(b)"
   ]
  },
  {
   "cell_type": "code",
   "execution_count": 69,
   "metadata": {},
   "outputs": [
    {
     "data": {
      "image/png": "[encoded data removed]",
      "text/plain": [
       "<Figure size 432x288 with 1 Axes>"
      ]
     },
     "metadata": {
      "needs_background": "light"
     },
     "output_type": "display_data"
    }
   ],
   "source": [
    "ceiling = len(list(filter(lambda x: x.height >=5e3,boxes)))\n",
    "\n",
    "counts = [len(b) for b in b2s]\n",
    "plt.plot(range(10),counts,label = 'new')\n",
    "plt.plot(range(10),np.cumsum(counts),label = 'cumulative')\n",
    "xl = plt.xlim()\n",
    "plt.plot(xl,[len(boxes),len(boxes)],label = 'all')\n",
    "plt.plot(xl,[ceiling,ceiling],label = '>5e3')\n",
    "plt.legend()\n",
    "plt.grid()"
   ]
  },
  {
   "cell_type": "code",
   "execution_count": null,
   "metadata": {},
   "outputs": [],
   "source": []
  }
 ],
 "metadata": {
  "kernelspec": {
   "display_name": "Python 3",
   "language": "python",
   "name": "python3"
  },
  "language_info": {
   "codemirror_mode": {
    "name": "ipython",
    "version": 3
   },
   "file_extension": ".py",
   "mimetype": "text/x-python",
   "name": "python",
   "nbconvert_exporter": "python",
   "pygments_lexer": "ipython3",
   "version": "3.6.9"
  },
  "pycharm": {
   "stem_cell": {
    "cell_type": "raw",
    "source": [],
    "metadata": {
     "collapsed": false
    }
   }
  }
 },
 "nbformat": 4,
 "nbformat_minor": 4
}