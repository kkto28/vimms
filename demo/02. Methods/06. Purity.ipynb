{
 "cells": [
  {
   "cell_type": "markdown",
   "metadata": {},
   "source": [
    "# 6. Purity"
   ]
  },
  {
   "cell_type": "markdown",
   "metadata": {},
   "source": [
    "This notebook shows how to run the Purity method on a ViMMS dataset"
   ]
  },
  {
   "cell_type": "code",
   "execution_count": 1,
   "metadata": {},
   "outputs": [],
   "source": [
    "%matplotlib inline"
   ]
  },
  {
   "cell_type": "code",
   "execution_count": 2,
   "metadata": {},
   "outputs": [],
   "source": [
    "%load_ext autoreload\n",
    "%autoreload 2"
   ]
  },
  {
   "cell_type": "code",
   "execution_count": 3,
   "metadata": {},
   "outputs": [],
   "source": [
    "import sys\n",
    "sys.path.append('../..')"
   ]
  },
  {
   "cell_type": "code",
   "execution_count": 4,
   "metadata": {},
   "outputs": [],
   "source": [
    "from pathlib import Path"
   ]
  },
  {
   "cell_type": "code",
   "execution_count": 5,
   "metadata": {},
   "outputs": [],
   "source": [
    "from vimms.MassSpec import IndependentMassSpectrometer\n",
    "from vimms.Controller import PurityController\n",
    "from vimms.Environment import Environment\n",
    "from vimms.Common import *"
   ]
  },
  {
   "cell_type": "markdown",
   "metadata": {},
   "source": [
    "### Load the data"
   ]
  },
  {
   "cell_type": "code",
   "execution_count": 6,
   "metadata": {},
   "outputs": [],
   "source": [
    "data_dir = os.path.abspath(os.path.join(os.getcwd(),'..','..','tests','integration','fixtures'))\n",
    "dataset = load_obj(os.path.join(data_dir, 'QCB_22May19_1.p'))\n",
    "ps = load_obj(Path(data_dir,'peak_sampler_mz_rt_int_beerqcb_fragmentation.p'))"
   ]
  },
  {
   "cell_type": "markdown",
   "metadata": {},
   "source": [
    "### Run Controller"
   ]
  },
  {
   "cell_type": "code",
   "execution_count": 7,
   "metadata": {},
   "outputs": [],
   "source": [
    "rt_range = [(0, 1440)]\n",
    "min_rt = rt_range[0][0]\n",
    "max_rt = rt_range[0][1]"
   ]
  },
  {
   "cell_type": "code",
   "execution_count": 8,
   "metadata": {},
   "outputs": [],
   "source": [
    "isolation_window = [1]   # the isolation window in Dalton around a selected precursor ion\n",
    "N = [10]\n",
    "rt_tol = [30]\n",
    "mz_tol = [10]\n",
    "min_ms1_intensity = 1.75E5\n",
    "scan_param_changepoints = None\n",
    "rt_range = [(0, 1440)]\n",
    "ionisation_mode = POSITIVE\n",
    "ms1_shift = 1"
   ]
  },
  {
   "cell_type": "code",
   "execution_count": 9,
   "metadata": {},
   "outputs": [],
   "source": [
    "n_purity_scans=5\n",
    "purity_shift=0.2\n",
    "purity_threshold=1\n",
    "purity_randomise = True\n",
    "purity_add_ms1 = True"
   ]
  },
  {
   "cell_type": "code",
   "execution_count": 10,
   "metadata": {},
   "outputs": [],
   "source": [
    "mass_spec = IndependentMassSpectrometer(POSITIVE, dataset, ps)\n",
    "controller = PurityController(POSITIVE, N, scan_param_changepoints, isolation_window, mz_tol, rt_tol, min_ms1_intensity, n_purity_scans, purity_shift, purity_threshold, purity_randomise=purity_randomise, purity_add_ms1=purity_add_ms1)"
   ]
  },
  {
   "cell_type": "code",
   "execution_count": 11,
   "metadata": {},
   "outputs": [
    {
     "name": "stderr",
     "output_type": "stream",
     "text": [
      "(1440.009s) ms_level=2 N=10 DEW=30: 100%|█████████████████████████████████████████████████████████████████████████████████████████████████████████████████████████████████████████████████▉| 1439.9365159999988/1440 [02:25<00:00,  9.92it/s]\n"
     ]
    }
   ],
   "source": [
    "# create an environment to run both the mass spec and controller\n",
    "env = Environment(mass_spec, controller, min_rt, max_rt, progress_bar=True)\n",
    "\n",
    "# set the log level to WARNING so we don't see too many messages when environment is running\n",
    "set_log_level_warning()\n",
    "\n",
    "# run the simulation\n",
    "env.run()"
   ]
  },
  {
   "cell_type": "markdown",
   "metadata": {},
   "source": [
    "Simulated results are saved to the following .mzML file and can be viewed in tools like ToppView or using other mzML file viewers."
   ]
  },
  {
   "cell_type": "code",
   "execution_count": 12,
   "metadata": {},
   "outputs": [
    {
     "name": "stderr",
     "output_type": "stream",
     "text": [
      "2020-07-17 17:02:09.231 | DEBUG    | vimms.Environment:write_mzML:161 - Writing mzML file to C:\\Users\\Vinny\\work\\vimms\\demo\\02. Methods\\results\\purity_controller.mzML\n",
      "2020-07-17 17:05:06.790 | DEBUG    | vimms.Environment:write_mzML:168 - mzML file successfully written!\n"
     ]
    }
   ],
   "source": [
    "set_log_level_debug()\n",
    "mzml_filename = 'purity_controller.mzML'\n",
    "out_dir = os.path.join(os.getcwd(), 'results')\n",
    "env.write_mzML(out_dir, mzml_filename)"
   ]
  }
 ],
 "metadata": {
  "kernelspec": {
   "display_name": "Python 3",
   "language": "python",
   "name": "python3"
  },
  "language_info": {
   "codemirror_mode": {
    "name": "ipython",
    "version": 3
   },
   "file_extension": ".py",
   "mimetype": "text/x-python",
   "name": "python",
   "nbconvert_exporter": "python",
   "pygments_lexer": "ipython3",
   "version": "3.7.3"
  }
 },
 "nbformat": 4,
 "nbformat_minor": 4
}