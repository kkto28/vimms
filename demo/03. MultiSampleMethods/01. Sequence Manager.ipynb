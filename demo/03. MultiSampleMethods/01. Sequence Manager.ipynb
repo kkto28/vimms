{
 "cells": [
  {
   "cell_type": "markdown",
   "metadata": {},
   "source": [
    "# 1. Sequence Manager"
   ]
  },
  {
   "cell_type": "code",
   "execution_count": 1,
   "metadata": {},
   "outputs": [],
   "source": [
    "%matplotlib inline\n",
    "%load_ext autoreload\n",
    "%autoreload 2"
   ]
  },
  {
   "cell_type": "code",
   "execution_count": 2,
   "metadata": {},
   "outputs": [],
   "source": [
    "import sys\n",
    "sys.path.append('../..')"
   ]
  },
  {
   "cell_type": "code",
   "execution_count": 3,
   "metadata": {},
   "outputs": [],
   "source": []
  },
  {
   "cell_type": "code",
   "execution_count": 4,
   "metadata": {},
   "outputs": [],
   "source": [
    "from vimms.SequenceManager import *"
   ]
  },
  {
   "cell_type": "code",
   "execution_count": 5,
   "metadata": {},
   "outputs": [],
   "source": [
    "data_dir = os.path.join(os.path.abspath(os.path.join(os.path.join(os.getcwd(),\"..\"),\"..\")),'tests','integration','fixtures')\n",
    "dataset_file = os.path.join(data_dir, 'QCB_22May19_1.p')\n",
    "dataset = load_obj(dataset_file)\n",
    "ps = load_obj(Path(data_dir,'peak_sampler_mz_rt_int_beerqcb_fragmentation.p'))"
   ]
  },
  {
   "cell_type": "code",
   "execution_count": 20,
   "metadata": {},
   "outputs": [],
   "source": [
    "url = 'http://researchdata.gla.ac.uk/870/2/example_data.zip'\n",
    "base_dir = os.path.abspath(os.path.join(os.getcwd(),'..','01. Data', 'example_data'))"
   ]
  },
  {
   "cell_type": "code",
   "execution_count": 21,
   "metadata": {},
   "outputs": [
    {
     "name": "stdout",
     "output_type": "stream",
     "text": [
      "Found C:\\Users\\Vinny\\work\\vimms\\demo\\01. Data\\example_data\n"
     ]
    }
   ],
   "source": [
    "if not os.path.isdir(base_dir): # if not exist then download the example data and extract it\n",
    "    print('Creating %s' % base_dir)    \n",
    "    out_file = 'example_data.zip'\n",
    "    download_file(url, out_file)\n",
    "    extract_zip_file(out_file, delete=True)\n",
    "else:\n",
    "    print('Found %s' % base_dir)"
   ]
  },
  {
   "cell_type": "code",
   "execution_count": 22,
   "metadata": {},
   "outputs": [],
   "source": [
    "mzml_file = os.path.join(base_dir, 'beers', 'fullscan', 'mzML', 'Beer_multibeers_1_fullscan1.mzML')\n",
    "mzml_file_list=[None, mzml_file, None, mzml_file]"
   ]
  },
  {
   "cell_type": "code",
   "execution_count": 23,
   "metadata": {},
   "outputs": [],
   "source": [
    "set_log_level_info()"
   ]
  },
  {
   "cell_type": "markdown",
   "metadata": {},
   "source": [
    "### Set some default parameters"
   ]
  },
  {
   "cell_type": "code",
   "execution_count": 17,
   "metadata": {},
   "outputs": [],
   "source": [
    "experiment_dir = os.path.join(os.getcwd(), 'results')"
   ]
  },
  {
   "cell_type": "code",
   "execution_count": 18,
   "metadata": {},
   "outputs": [],
   "source": [
    "mass_spec_params = {'ionisation_mode': POSITIVE,\n",
    "                    'peak_sampler': ps,\n",
    "                    'add_noise': False,\n",
    "                    'isolation_transition_window': 'rectangular',\n",
    "                    'isolation_transition_window_params': None}"
   ]
  },
  {
   "cell_type": "code",
   "execution_count": 19,
   "metadata": {},
   "outputs": [],
   "source": [
    "controller_params = {\"ionisation_mode\": POSITIVE,\n",
    "                       \"N\": 10,\n",
    "                       \"mz_tol\": 10,\n",
    "                       \"rt_tol\":30,\n",
    "                       \"min_ms1_intensity\": 1.75E5,\n",
    "                       \"rt_range\": [(200, 400)],\n",
    "                       \"isolation_width\": 1}"
   ]
  },
  {
   "cell_type": "markdown",
   "metadata": {},
   "source": [
    "Note: you will need to install the same version of MZMine2 and put it in the same location as ViMMS"
   ]
  },
  {
   "cell_type": "code",
   "execution_count": 25,
   "metadata": {},
   "outputs": [],
   "source": [
    "evaluation_methods = []\n",
    "mzmine_command = os.path.abspath(os.path.join(os.getcwd(),'..','..','..','MZmine-2.40.1','MZmine-2.40.1','startMZmine_Windows.bat'))"
   ]
  },
  {
   "cell_type": "code",
   "execution_count": 40,
   "metadata": {},
   "outputs": [],
   "source": [
    "MZML2CHEMS_DICT = {'min_ms1_intensity': 1.75E5,\n",
    "                  'mz_tol': 5,\n",
    "                  'mz_units':'ppm',\n",
    "                  'min_length':1,\n",
    "                  'min_intensity':0,\n",
    "                  'start_rt':0,\n",
    "                  'stop_rt':1560}"
   ]
  },
  {
   "cell_type": "markdown",
   "metadata": {},
   "source": [
    "### Set up some simple schedules"
   ]
  },
  {
   "cell_type": "code",
   "execution_count": 42,
   "metadata": {},
   "outputs": [
    {
     "data": {
      "text/html": [
       "<div>\n",
       "<style scoped>\n",
       "    .dataframe tbody tr th:only-of-type {\n",
       "        vertical-align: middle;\n",
       "    }\n",
       "\n",
       "    .dataframe tbody tr th {\n",
       "        vertical-align: top;\n",
       "    }\n",
       "\n",
       "    .dataframe thead th {\n",
       "        text-align: right;\n",
       "    }\n",
       "</style>\n",
       "<table border=\"1\" class=\"dataframe\">\n",
       "  <thead>\n",
       "    <tr style=\"text-align: right;\">\n",
       "      <th></th>\n",
       "      <th>Sample ID</th>\n",
       "      <th>Controller Method</th>\n",
       "      <th>Controller Params</th>\n",
       "      <th>MassSpec Params</th>\n",
       "      <th>Dataset</th>\n",
       "    </tr>\n",
       "  </thead>\n",
       "  <tbody>\n",
       "    <tr>\n",
       "      <th>0</th>\n",
       "      <td>blank1</td>\n",
       "      <td>None</td>\n",
       "      <td>None</td>\n",
       "      <td>None</td>\n",
       "      <td>None</td>\n",
       "    </tr>\n",
       "    <tr>\n",
       "      <th>1</th>\n",
       "      <td>sample1</td>\n",
       "      <td>TopNController</td>\n",
       "      <td>{'ionisation_mode': 'Positive', 'N': 10, 'mz_t...</td>\n",
       "      <td>{'ionisation_mode': 'Positive', 'peak_sampler'...</td>\n",
       "      <td>C:\\Users\\Vinny\\work\\vimms\\demo\\01. Data\\exampl...</td>\n",
       "    </tr>\n",
       "    <tr>\n",
       "      <th>2</th>\n",
       "      <td>blank2</td>\n",
       "      <td>None</td>\n",
       "      <td>None</td>\n",
       "      <td>None</td>\n",
       "      <td>None</td>\n",
       "    </tr>\n",
       "    <tr>\n",
       "      <th>3</th>\n",
       "      <td>sample2</td>\n",
       "      <td>TopNController</td>\n",
       "      <td>{'ionisation_mode': 'Positive', 'N': 10, 'mz_t...</td>\n",
       "      <td>{'ionisation_mode': 'Positive', 'peak_sampler'...</td>\n",
       "      <td>C:\\Users\\Vinny\\work\\vimms\\demo\\01. Data\\exampl...</td>\n",
       "    </tr>\n",
       "  </tbody>\n",
       "</table>\n",
       "</div>"
      ],
      "text/plain": [
       "  Sample ID Controller Method  \\\n",
       "0    blank1              None   \n",
       "1   sample1    TopNController   \n",
       "2    blank2              None   \n",
       "3   sample2    TopNController   \n",
       "\n",
       "                                   Controller Params  \\\n",
       "0                                               None   \n",
       "1  {'ionisation_mode': 'Positive', 'N': 10, 'mz_t...   \n",
       "2                                               None   \n",
       "3  {'ionisation_mode': 'Positive', 'N': 10, 'mz_t...   \n",
       "\n",
       "                                     MassSpec Params  \\\n",
       "0                                               None   \n",
       "1  {'ionisation_mode': 'Positive', 'peak_sampler'...   \n",
       "2                                               None   \n",
       "3  {'ionisation_mode': 'Positive', 'peak_sampler'...   \n",
       "\n",
       "                                             Dataset  \n",
       "0                                               None  \n",
       "1  C:\\Users\\Vinny\\work\\vimms\\demo\\01. Data\\exampl...  \n",
       "2                                               None  \n",
       "3  C:\\Users\\Vinny\\work\\vimms\\demo\\01. Data\\exampl...  "
      ]
     },
     "execution_count": 42,
     "metadata": {},
     "output_type": "execute_result"
    }
   ],
   "source": [
    "d = {\n",
    "    'Sample ID'        : ['blank1', 'sample1', 'blank2', 'sample2'],\n",
    "    'Controller Method': [None, 'TopNController', None, 'TopNController'],\n",
    "    'Controller Params': [None, controller_params, None, controller_params],\n",
    "    'MassSpec Params'  : [None, mass_spec_params, None, mass_spec_params],\n",
    "    'Dataset'          : [None, dataset_file, None, dataset_file]\n",
    "}\n",
    "controller_schedule = pd.DataFrame(data=d)\n",
    "controller_schedule"
   ]
  },
  {
   "cell_type": "code",
   "execution_count": 43,
   "metadata": {},
   "outputs": [
    {
     "data": {
      "text/html": [
       "<div>\n",
       "<style scoped>\n",
       "    .dataframe tbody tr th:only-of-type {\n",
       "        vertical-align: middle;\n",
       "    }\n",
       "\n",
       "    .dataframe tbody tr th {\n",
       "        vertical-align: top;\n",
       "    }\n",
       "\n",
       "    .dataframe thead th {\n",
       "        text-align: right;\n",
       "    }\n",
       "</style>\n",
       "<table border=\"1\" class=\"dataframe\">\n",
       "  <thead>\n",
       "    <tr style=\"text-align: right;\">\n",
       "      <th></th>\n",
       "      <th>Sample ID</th>\n",
       "      <th>Controller Method</th>\n",
       "      <th>Controller Params</th>\n",
       "      <th>MassSpec Params</th>\n",
       "      <th>Dataset</th>\n",
       "    </tr>\n",
       "  </thead>\n",
       "  <tbody>\n",
       "    <tr>\n",
       "      <th>0</th>\n",
       "      <td>blank1</td>\n",
       "      <td>None</td>\n",
       "      <td>None</td>\n",
       "      <td>None</td>\n",
       "      <td>None</td>\n",
       "    </tr>\n",
       "    <tr>\n",
       "      <th>1</th>\n",
       "      <td>sample1</td>\n",
       "      <td>TopNController</td>\n",
       "      <td>{'ionisation_mode': 'Positive', 'N': 10, 'mz_t...</td>\n",
       "      <td>{'ionisation_mode': 'Positive', 'peak_sampler'...</td>\n",
       "      <td>None</td>\n",
       "    </tr>\n",
       "    <tr>\n",
       "      <th>2</th>\n",
       "      <td>blank2</td>\n",
       "      <td>None</td>\n",
       "      <td>None</td>\n",
       "      <td>None</td>\n",
       "      <td>None</td>\n",
       "    </tr>\n",
       "    <tr>\n",
       "      <th>3</th>\n",
       "      <td>sample2</td>\n",
       "      <td>TopNController</td>\n",
       "      <td>{'ionisation_mode': 'Positive', 'N': 10, 'mz_t...</td>\n",
       "      <td>{'ionisation_mode': 'Positive', 'peak_sampler'...</td>\n",
       "      <td>None</td>\n",
       "    </tr>\n",
       "  </tbody>\n",
       "</table>\n",
       "</div>"
      ],
      "text/plain": [
       "  Sample ID Controller Method  \\\n",
       "0    blank1              None   \n",
       "1   sample1    TopNController   \n",
       "2    blank2              None   \n",
       "3   sample2    TopNController   \n",
       "\n",
       "                                   Controller Params  \\\n",
       "0                                               None   \n",
       "1  {'ionisation_mode': 'Positive', 'N': 10, 'mz_t...   \n",
       "2                                               None   \n",
       "3  {'ionisation_mode': 'Positive', 'N': 10, 'mz_t...   \n",
       "\n",
       "                                     MassSpec Params Dataset  \n",
       "0                                               None    None  \n",
       "1  {'ionisation_mode': 'Positive', 'peak_sampler'...    None  \n",
       "2                                               None    None  \n",
       "3  {'ionisation_mode': 'Positive', 'peak_sampler'...    None  "
      ]
     },
     "execution_count": 43,
     "metadata": {},
     "output_type": "execute_result"
    }
   ],
   "source": [
    "d2 = {\n",
    "    'Sample ID'        : ['blank1', 'sample1', 'blank2', 'sample2'],\n",
    "    'Controller Method': [None, 'TopNController', None, 'TopNController'],\n",
    "    'Controller Params': [None, controller_params, None, controller_params],\n",
    "    'MassSpec Params'  : [None, mass_spec_params, None, mass_spec_params],\n",
    "    'Dataset'          : [None, None, None, None]\n",
    "}\n",
    "controller_schedule2 = pd.DataFrame(data=d2)\n",
    "controller_schedule2"
   ]
  },
  {
   "cell_type": "markdown",
   "metadata": {},
   "source": [
    "### Example 1 - Seed with dataset, non-parallel"
   ]
  },
  {
   "cell_type": "code",
   "execution_count": 44,
   "metadata": {},
   "outputs": [],
   "source": [
    "output_dir = os.path.join(experiment_dir, 'sequence_manager_example_1')"
   ]
  },
  {
   "cell_type": "code",
   "execution_count": 45,
   "metadata": {},
   "outputs": [],
   "source": [
    "parallel = False  # note: true is not yet implemented"
   ]
  },
  {
   "cell_type": "code",
   "execution_count": 46,
   "metadata": {},
   "outputs": [
    {
     "name": "stderr",
     "output_type": "stream",
     "text": [
      "2020-07-17 17:55:45.963 | INFO     | vimms.SequenceManager:run:242 - Running in serial mode\n",
      "2020-07-17 17:55:45.964 | INFO     | vimms.SequenceManager:run_controller:198 - Begun experiment: sample1\n",
      "2020-07-17 17:55:46.166 | INFO     | vimms.SequenceManager:run_experiment:179 - Experiment already completed. Skipping...\n",
      "2020-07-17 17:55:46.169 | INFO     | vimms.SequenceManager:run_controller:202 - Completed experiment: sample1\n",
      "2020-07-17 17:55:46.172 | INFO     | vimms.SequenceManager:run_evaluation:212 - Started Evaluation: sample1\n",
      "2020-07-17 17:55:46.175 | INFO     | vimms.SequenceManager:run_evaluation:214 - Completed Evaluation: sample1\n",
      "2020-07-17 17:55:46.177 | INFO     | vimms.SequenceManager:run_serial:254 - Finished 0\n",
      "2020-07-17 17:55:46.180 | INFO     | vimms.SequenceManager:run_controller:198 - Begun experiment: sample2\n",
      "(1440.030s) ms_level=1 N=10 DEW=30: 100%|█████████████████████████████████████████████████████████████████████████████████████████████████████████████████████████████████████████████████▉| 1439.7592319999967/1440 [02:31<00:00,  9.48it/s]\n",
      "2020-07-17 17:58:23.186 | INFO     | vimms.SequenceManager:run_controller:202 - Completed experiment: sample2\n",
      "2020-07-17 17:58:23.187 | INFO     | vimms.SequenceManager:run_evaluation:212 - Started Evaluation: sample2\n",
      "2020-07-17 17:58:23.188 | INFO     | vimms.SequenceManager:run_evaluation:214 - Completed Evaluation: sample2\n",
      "2020-07-17 17:58:23.189 | INFO     | vimms.SequenceManager:run_serial:254 - Finished 1\n"
     ]
    }
   ],
   "source": [
    "vsm = VimmsSequenceManager(controller_schedule, evaluation_methods, output_dir, ms1_picked_peaks_file=None, progress_bar=True, mzmine_command=mzmine_command)\n",
    "experiment = BasicExperiment(vsm, parallel=parallel)"
   ]
  },
  {
   "cell_type": "code",
   "execution_count": 47,
   "metadata": {},
   "outputs": [
    {
     "data": {
      "text/html": [
       "<div>\n",
       "<style scoped>\n",
       "    .dataframe tbody tr th:only-of-type {\n",
       "        vertical-align: middle;\n",
       "    }\n",
       "\n",
       "    .dataframe tbody tr th {\n",
       "        vertical-align: top;\n",
       "    }\n",
       "\n",
       "    .dataframe thead th {\n",
       "        text-align: right;\n",
       "    }\n",
       "</style>\n",
       "<table border=\"1\" class=\"dataframe\">\n",
       "  <thead>\n",
       "    <tr style=\"text-align: right;\">\n",
       "      <th></th>\n",
       "      <th>Sample ID</th>\n",
       "      <th>Controller Method</th>\n",
       "      <th>N</th>\n",
       "      <th>mz_tol</th>\n",
       "      <th>rt_tol</th>\n",
       "      <th>min_ms1_intensity</th>\n",
       "      <th>ms1_agc_target</th>\n",
       "      <th>ms1_max_it</th>\n",
       "      <th>ms1_collision_energy</th>\n",
       "      <th>ms1_orbitrap_resolution</th>\n",
       "      <th>ms2_agc_target</th>\n",
       "      <th>ms2_max_it</th>\n",
       "      <th>ms2_collision_energy</th>\n",
       "      <th>ms2_orbitrap_resolution</th>\n",
       "    </tr>\n",
       "  </thead>\n",
       "  <tbody>\n",
       "    <tr>\n",
       "      <th>0</th>\n",
       "      <td>sample1</td>\n",
       "      <td>TopNController</td>\n",
       "      <td>10</td>\n",
       "      <td>10</td>\n",
       "      <td>30</td>\n",
       "      <td>175000.0</td>\n",
       "      <td>200000.0</td>\n",
       "      <td>250.0</td>\n",
       "      <td>0.0</td>\n",
       "      <td>120000.0</td>\n",
       "      <td>30000.0</td>\n",
       "      <td>100.0</td>\n",
       "      <td>25.0</td>\n",
       "      <td>7500.0</td>\n",
       "    </tr>\n",
       "    <tr>\n",
       "      <th>1</th>\n",
       "      <td>sample2</td>\n",
       "      <td>TopNController</td>\n",
       "      <td>10</td>\n",
       "      <td>10</td>\n",
       "      <td>30</td>\n",
       "      <td>175000.0</td>\n",
       "      <td>200000.0</td>\n",
       "      <td>250.0</td>\n",
       "      <td>0.0</td>\n",
       "      <td>120000.0</td>\n",
       "      <td>30000.0</td>\n",
       "      <td>100.0</td>\n",
       "      <td>25.0</td>\n",
       "      <td>7500.0</td>\n",
       "    </tr>\n",
       "  </tbody>\n",
       "</table>\n",
       "</div>"
      ],
      "text/plain": [
       "  Sample ID Controller Method   N  mz_tol  rt_tol  min_ms1_intensity  \\\n",
       "0   sample1    TopNController  10      10      30           175000.0   \n",
       "1   sample2    TopNController  10      10      30           175000.0   \n",
       "\n",
       "   ms1_agc_target  ms1_max_it  ms1_collision_energy  ms1_orbitrap_resolution  \\\n",
       "0        200000.0       250.0                   0.0                 120000.0   \n",
       "1        200000.0       250.0                   0.0                 120000.0   \n",
       "\n",
       "   ms2_agc_target  ms2_max_it  ms2_collision_energy  ms2_orbitrap_resolution  \n",
       "0         30000.0       100.0                  25.0                   7500.0  \n",
       "1         30000.0       100.0                  25.0                   7500.0  "
      ]
     },
     "execution_count": 47,
     "metadata": {},
     "output_type": "execute_result"
    }
   ],
   "source": [
    "experiment.results"
   ]
  },
  {
   "cell_type": "markdown",
   "metadata": {},
   "source": [
    "### Example 2 - Seed with mzml"
   ]
  },
  {
   "cell_type": "code",
   "execution_count": 57,
   "metadata": {},
   "outputs": [],
   "source": [
    "output_dir = os.path.join(experiment_dir, 'sequence_manager_example_2')"
   ]
  },
  {
   "cell_type": "code",
   "execution_count": 58,
   "metadata": {},
   "outputs": [],
   "source": [
    "parallel = False"
   ]
  },
  {
   "cell_type": "code",
   "execution_count": 59,
   "metadata": {},
   "outputs": [
    {
     "name": "stderr",
     "output_type": "stream",
     "text": [
      "2020-07-17 18:02:47.070 | INFO     | vimms.Roi:__init__:406 - Found 11480 ROIs above thresholds\n",
      "2020-07-17 18:02:47.071 | INFO     | vimms.Common:save_obj:61 - Saving <class 'list'> to C:\\Users\\Vinny\\work\\vimms\\demo\\01. Data\\example_data\\beers\\fullscan\\mzML\\Beer_multibeers_1_fullscan1.p\n",
      "2020-07-17 18:02:56.010 | INFO     | vimms.Common:save_obj:61 - Saving <class 'list'> to C:\\Users\\Vinny\\work\\vimms\\demo\\03. MultiSampleMethods\\results\\sequence_manager_example_1\\Beer_multibeers_1_fullscan1.p\n",
      "2020-07-17 18:05:17.721 | INFO     | vimms.Roi:__init__:406 - Found 11480 ROIs above thresholds\n",
      "2020-07-17 18:05:17.722 | INFO     | vimms.Common:save_obj:61 - Saving <class 'list'> to C:\\Users\\Vinny\\work\\vimms\\demo\\01. Data\\example_data\\beers\\fullscan\\mzML\\Beer_multibeers_1_fullscan1.p\n",
      "2020-07-17 18:05:26.411 | INFO     | vimms.Common:save_obj:61 - Saving <class 'list'> to C:\\Users\\Vinny\\work\\vimms\\demo\\03. MultiSampleMethods\\results\\sequence_manager_example_1\\Beer_multibeers_1_fullscan1.p\n",
      "2020-07-17 18:05:35.574 | INFO     | vimms.SequenceManager:run:242 - Running in serial mode\n",
      "2020-07-17 18:05:35.575 | INFO     | vimms.SequenceManager:run_controller:198 - Begun experiment: sample1\n",
      "2020-07-17 18:05:35.775 | INFO     | vimms.SequenceManager:run_experiment:179 - Experiment already completed. Skipping...\n",
      "2020-07-17 18:05:35.778 | INFO     | vimms.SequenceManager:run_controller:202 - Completed experiment: sample1\n",
      "2020-07-17 18:05:35.780 | INFO     | vimms.SequenceManager:run_evaluation:212 - Started Evaluation: sample1\n",
      "2020-07-17 18:05:35.782 | INFO     | vimms.SequenceManager:run_evaluation:214 - Completed Evaluation: sample1\n",
      "2020-07-17 18:05:35.784 | INFO     | vimms.SequenceManager:run_serial:254 - Finished 0\n",
      "2020-07-17 18:05:35.786 | INFO     | vimms.SequenceManager:run_controller:198 - Begun experiment: sample2\n",
      "2020-07-17 18:05:35.988 | INFO     | vimms.SequenceManager:run_experiment:179 - Experiment already completed. Skipping...\n",
      "2020-07-17 18:05:35.989 | INFO     | vimms.SequenceManager:run_controller:202 - Completed experiment: sample2\n",
      "2020-07-17 18:05:35.989 | INFO     | vimms.SequenceManager:run_evaluation:212 - Started Evaluation: sample2\n",
      "2020-07-17 18:05:35.990 | INFO     | vimms.SequenceManager:run_evaluation:214 - Completed Evaluation: sample2\n",
      "2020-07-17 18:05:35.990 | INFO     | vimms.SequenceManager:run_serial:254 - Finished 1\n"
     ]
    }
   ],
   "source": [
    "vsm = VimmsSequenceManager(controller_schedule2, evaluation_methods, output_dir, ms1_picked_peaks_file=None, progress_bar=True, mzmine_command=mzmine_command)\n",
    "experiment = BasicExperiment(vsm, parallel=parallel, mzml_file_list=mzml_file_list, MZML2CHEMS_DICT=MZML2CHEMS_DICT, ps=ps)"
   ]
  }
 ],
 "metadata": {
  "kernelspec": {
   "display_name": "Python 3",
   "language": "python",
   "name": "python3"
  },
  "language_info": {
   "codemirror_mode": {
    "name": "ipython",
    "version": 3
   },
   "file_extension": ".py",
   "mimetype": "text/x-python",
   "name": "python",
   "nbconvert_exporter": "python",
   "pygments_lexer": "ipython3",
   "version": "3.7.3"
  }
 },
 "nbformat": 4,
 "nbformat_minor": 4
}