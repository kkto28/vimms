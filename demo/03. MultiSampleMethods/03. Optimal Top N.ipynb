{
 "cells": [
  {
   "cell_type": "markdown",
   "metadata": {},
   "source": [
    "# 3. Optimal Top N"
   ]
  },
  {
   "cell_type": "markdown",
   "metadata": {},
   "source": [
    "some text"
   ]
  },
  {
   "cell_type": "code",
   "execution_count": 1,
   "metadata": {},
   "outputs": [],
   "source": [
    "%matplotlib inline"
   ]
  },
  {
   "cell_type": "code",
   "execution_count": 2,
   "metadata": {},
   "outputs": [],
   "source": [
    "%load_ext autoreload\n",
    "%autoreload 2"
   ]
  },
  {
   "cell_type": "code",
   "execution_count": 3,
   "metadata": {},
   "outputs": [],
   "source": [
    "import sys\n",
    "sys.path.append('../..')"
   ]
  },
  {
   "cell_type": "code",
   "execution_count": 4,
   "metadata": {},
   "outputs": [],
   "source": [
    "from pathlib import Path"
   ]
  },
  {
   "cell_type": "code",
   "execution_count": 5,
   "metadata": {},
   "outputs": [],
   "source": [
    "from vimms.MassSpec import IndependentMassSpectrometer\n",
    "from vimms.Controller import OptimalTopNController\n",
    "from vimms.Environment import Environment\n",
    "from vimms.Common import *\n",
    "from vimms.SequenceManager import *"
   ]
  },
  {
   "cell_type": "markdown",
   "metadata": {},
   "source": [
    "### Load the data"
   ]
  },
  {
   "cell_type": "code",
   "execution_count": 6,
   "metadata": {},
   "outputs": [],
   "source": [
    "data_dir = os.path.abspath(os.path.join(os.getcwd(),'..','..','tests','integration','fixtures'))\n",
    "dataset_file = os.path.join(data_dir, 'QCB_22May19_1.p')\n",
    "dataset = load_obj(dataset_file)\n",
    "ps = load_obj(Path(data_dir,'peak_sampler_mz_rt_int_beerqcb_fragmentation.p'))\n",
    "box_file = str(Path(data_dir, 'QCB_22May19_1_pp.csv'))"
   ]
  },
  {
   "cell_type": "markdown",
   "metadata": {},
   "source": [
    "### Parameters"
   ]
  },
  {
   "cell_type": "code",
   "execution_count": 7,
   "metadata": {},
   "outputs": [],
   "source": [
    "rt_range = [(0, 1440)]\n",
    "min_rt = rt_range[0][0]\n",
    "max_rt = rt_range[0][1]\n",
    "\n",
    "isolation_window = 1\n",
    "N = 10\n",
    "rt_tols = 15\n",
    "mz_tols = 10\n",
    "min_ms1_intensity = 1E3"
   ]
  },
  {
   "cell_type": "markdown",
   "metadata": {},
   "source": [
    "### Run Optimal Top N Controller"
   ]
  },
  {
   "cell_type": "code",
   "execution_count": 8,
   "metadata": {},
   "outputs": [
    {
     "name": "stderr",
     "output_type": "stream",
     "text": [
      "2020-08-12 18:47:39.813 | DEBUG    | vimms.Controller.topN:_load_boxes:444 - Loaded 3523 boxes\n"
     ]
    }
   ],
   "source": [
    "mass_spec = IndependentMassSpectrometer(POSITIVE, dataset, ps)\n",
    "controller = OptimalTopNController(POSITIVE, N, isolation_window, mz_tols, rt_tols, min_ms1_intensity, box_file)"
   ]
  },
  {
   "cell_type": "code",
   "execution_count": 9,
   "metadata": {},
   "outputs": [
    {
     "data": {
      "text/plain": [
       "3523"
      ]
     },
     "execution_count": 9,
     "metadata": {},
     "output_type": "execute_result"
    }
   ],
   "source": [
    "len(controller.boxes)"
   ]
  },
  {
   "cell_type": "code",
   "execution_count": 10,
   "metadata": {},
   "outputs": [
    {
     "name": "stderr",
     "output_type": "stream",
     "text": [
      "(1440.000s) ms_level=1 N=10 DEW=15: 100%|██████████████████████████████████████████████████████████████████████████████████████████████████████████████████████████████████████████████████▉| 1439.600000000068/1440 [00:39<00:00, 36.85it/s]\n"
     ]
    }
   ],
   "source": [
    "# create an environment to run both the mass spec and controller\n",
    "env = Environment(mass_spec, controller, min_rt, max_rt, progress_bar=True)\n",
    "\n",
    "# set the log level to WARNING so we don't see too many messages when environment is running\n",
    "set_log_level_warning()\n",
    "\n",
    "# run the simulation\n",
    "env.run()"
   ]
  },
  {
   "cell_type": "code",
   "execution_count": 11,
   "metadata": {
    "scrolled": true
   },
   "outputs": [
    {
     "name": "stderr",
     "output_type": "stream",
     "text": [
      "2020-08-12 18:48:21.853 | DEBUG    | vimms.Environment:write_mzML:162 - Writing mzML file to C:\\Users\\Vinny\\work\\vimms\\demo\\03. MultiSampleMethods\\results\\optimaltopn_controller1.mzML\n",
      "2020-08-12 18:51:17.457 | DEBUG    | vimms.Environment:write_mzML:169 - mzML file successfully written!\n"
     ]
    }
   ],
   "source": [
    "set_log_level_debug()\n",
    "mzml_filename = 'optimaltopn_controller1.mzML'\n",
    "out_dir = os.path.join(os.getcwd(), 'results')\n",
    "env.write_mzML(out_dir, mzml_filename)"
   ]
  },
  {
   "cell_type": "code",
   "execution_count": 58,
   "metadata": {},
   "outputs": [],
   "source": [
    "len(controller.boxes)\n",
    "new_boxes = controller.boxes"
   ]
  },
  {
   "cell_type": "code",
   "execution_count": 59,
   "metadata": {},
   "outputs": [],
   "source": [
    "mass_spec = IndependentMassSpectrometer(POSITIVE, dataset, ps)\n",
    "\n",
    "controller = OptimalTopNController(POSITIVE, N, isolation_window, mz_tols, rt_tols, min_ms1_intensity, new_boxes)"
   ]
  },
  {
   "cell_type": "code",
   "execution_count": 60,
   "metadata": {},
   "outputs": [
    {
     "name": "stderr",
     "output_type": "stream",
     "text": [
      "(1440.200s) ms_level=1 N=3 DEW=15: 100%|██████████████████████████████████████████████████████████████████████████████████████████████████████████████████████████████████████████████████▉| 1439.8000000000536/1440 [00:36<00:00, 39.04it/s]\n"
     ]
    }
   ],
   "source": [
    "# create an environment to run both the mass spec and controller\n",
    "env = Environment(mass_spec, controller, min_rt, max_rt, progress_bar=True)\n",
    "\n",
    "# set the log level to WARNING so we don't see too many messages when environment is running\n",
    "set_log_level_warning()\n",
    "\n",
    "# run the simulation\n",
    "env.run()"
   ]
  },
  {
   "cell_type": "code",
   "execution_count": 61,
   "metadata": {},
   "outputs": [
    {
     "data": {
      "text/plain": [
       "2718"
      ]
     },
     "execution_count": 61,
     "metadata": {},
     "output_type": "execute_result"
    }
   ],
   "source": [
    "len(controller.boxes)"
   ]
  },
  {
   "cell_type": "code",
   "execution_count": null,
   "metadata": {},
   "outputs": [],
   "source": [
    "set_log_level_debug()\n",
    "mzml_filename = 'optimaltopn_controller2.mzML'\n",
    "out_dir = os.path.join(os.getcwd(), 'results')\n",
    "env.write_mzML(out_dir, mzml_filename)"
   ]
  },
  {
   "cell_type": "markdown",
   "metadata": {},
   "source": [
    "### Run Top N Controller"
   ]
  },
  {
   "cell_type": "code",
   "execution_count": 15,
   "metadata": {},
   "outputs": [],
   "source": [
    "output_dir = 'C:/Users/Vinny/work/mzmine_files/NaiveMultiSampleExperiment'\n",
    "mzmine_command = 'C:\\\\Users\\\\Vinny\\\\work\\\\MZmine-2.40.1\\\\MZmine-2.40.1\\\\startMZmine_Windows.bat'"
   ]
  },
  {
   "cell_type": "code",
   "execution_count": 18,
   "metadata": {},
   "outputs": [],
   "source": [
    "controller_method = 'TopNController'\n",
    "controller_params = {\"ionisation_mode\": POSITIVE,\n",
    "                       \"N\": 10,\n",
    "                       \"mz_tol\": 10,\n",
    "                       \"rt_tol\":30,\n",
    "                       \"min_ms1_intensity\": 1.75E5,\n",
    "                       \"isolation_width\": 1}\n",
    "mass_spec_params = {'ionisation_mode': POSITIVE,\n",
    "                    'peak_sampler': ps,\n",
    "                    'add_noise': False,\n",
    "                    'isolation_transition_window': 'rectangular',\n",
    "                    'isolation_transition_window_params': None}\n",
    "dataset_files = [dataset_file, dataset_file]"
   ]
  },
  {
   "cell_type": "code",
   "execution_count": 21,
   "metadata": {},
   "outputs": [
    {
     "name": "stderr",
     "output_type": "stream",
     "text": [
      "(0.400s) ms_level=1 N=10 DEW=30:   0%|                                                                                                                                                                   | 0.4/1440 [00:00<00:03, 414.15it/s]\n"
     ]
    },
    {
     "ename": "AttributeError",
     "evalue": "'bool' object has no attribute 'get_mz'",
     "output_type": "error",
     "traceback": [
      "\u001b[1;31m---------------------------------------------------------------------------\u001b[0m",
      "\u001b[1;31mAttributeError\u001b[0m                            Traceback (most recent call last)",
      "\u001b[1;32m<ipython-input-21-44bf836e9af3>\u001b[0m in \u001b[0;36m<module>\u001b[1;34m\u001b[0m\n\u001b[0;32m      1\u001b[0m \u001b[0mvsm\u001b[0m \u001b[1;33m=\u001b[0m \u001b[0mVimmsSequenceManager\u001b[0m\u001b[1;33m(\u001b[0m\u001b[1;32mNone\u001b[0m\u001b[1;33m,\u001b[0m \u001b[1;32mNone\u001b[0m\u001b[1;33m,\u001b[0m \u001b[0moutput_dir\u001b[0m\u001b[1;33m,\u001b[0m \u001b[0mprogress_bar\u001b[0m\u001b[1;33m=\u001b[0m\u001b[1;32mTrue\u001b[0m\u001b[1;33m,\u001b[0m \u001b[0mms1_picked_peaks_file\u001b[0m\u001b[1;33m=\u001b[0m\u001b[1;32mNone\u001b[0m\u001b[1;33m,\u001b[0m\u001b[0mmzmine_command\u001b[0m\u001b[1;33m=\u001b[0m\u001b[0mmzmine_command\u001b[0m\u001b[1;33m)\u001b[0m\u001b[1;33m\u001b[0m\u001b[1;33m\u001b[0m\u001b[0m\n\u001b[1;32m----> 2\u001b[1;33m \u001b[0mnsm\u001b[0m \u001b[1;33m=\u001b[0m \u001b[0mNaiveMultiSampleExperiment\u001b[0m\u001b[1;33m(\u001b[0m\u001b[0mvsm\u001b[0m\u001b[1;33m,\u001b[0m \u001b[0mcontroller_method\u001b[0m\u001b[1;33m,\u001b[0m \u001b[0mmass_spec_params\u001b[0m\u001b[1;33m,\u001b[0m \u001b[0mdataset_files\u001b[0m\u001b[1;33m,\u001b[0m \u001b[0mcontroller_params\u001b[0m\u001b[1;33m,\u001b[0m \u001b[0maligner_rt_tolerance\u001b[0m\u001b[1;33m=\u001b[0m\u001b[1;36m0\u001b[0m\u001b[1;33m)\u001b[0m\u001b[1;33m\u001b[0m\u001b[1;33m\u001b[0m\u001b[0m\n\u001b[0m",
      "\u001b[1;32m~\\work\\vimms\\vimms\\SequenceManager.py\u001b[0m in \u001b[0;36m__init__\u001b[1;34m(self, sequence_manager, controller_method, mass_spec_param_dict, dataset_files, controller_param_dict, aligner_rt_tolerance)\u001b[0m\n\u001b[0;32m    501\u001b[0m                  aligner_rt_tolerance=0.5):\n\u001b[0;32m    502\u001b[0m         super().__init__(sequence_manager, controller_method, mass_spec_param_dict, dataset_files,\n\u001b[1;32m--> 503\u001b[1;33m                          controller_param_dict, aligner_rt_tolerance)\n\u001b[0m\u001b[0;32m    504\u001b[0m \u001b[1;33m\u001b[0m\u001b[0m\n\u001b[0;32m    505\u001b[0m \u001b[1;33m\u001b[0m\u001b[0m\n",
      "\u001b[1;32m~\\work\\vimms\\vimms\\SequenceManager.py\u001b[0m in \u001b[0;36m__init__\u001b[1;34m(self, sequence_manager, controller_method, mass_spec_param_dict, dataset_files, controller_param_dict, aligner_rt_tolerance)\u001b[0m\n\u001b[0;32m    418\u001b[0m         \u001b[0mself\u001b[0m\u001b[1;33m.\u001b[0m\u001b[0mpeak_boxes\u001b[0m \u001b[1;33m=\u001b[0m \u001b[1;33m[\u001b[0m\u001b[1;33m]\u001b[0m\u001b[1;33m\u001b[0m\u001b[1;33m\u001b[0m\u001b[0m\n\u001b[0;32m    419\u001b[0m         \u001b[0mself\u001b[0m\u001b[1;33m.\u001b[0m\u001b[0msequence_manager\u001b[0m\u001b[1;33m.\u001b[0m\u001b[0mcontroller_schedule\u001b[0m \u001b[1;33m=\u001b[0m \u001b[0mself\u001b[0m\u001b[1;33m.\u001b[0m\u001b[0m_generate_controller_schedule\u001b[0m\u001b[1;33m(\u001b[0m\u001b[1;33m)\u001b[0m\u001b[1;33m\u001b[0m\u001b[1;33m\u001b[0m\u001b[0m\n\u001b[1;32m--> 420\u001b[1;33m         \u001b[0mself\u001b[0m\u001b[1;33m.\u001b[0m\u001b[0mrun\u001b[0m\u001b[1;33m(\u001b[0m\u001b[1;33m)\u001b[0m\u001b[1;33m\u001b[0m\u001b[1;33m\u001b[0m\u001b[0m\n\u001b[0m\u001b[0;32m    421\u001b[0m \u001b[1;33m\u001b[0m\u001b[0m\n\u001b[0;32m    422\u001b[0m     \u001b[1;32mdef\u001b[0m \u001b[0mrun\u001b[0m\u001b[1;33m(\u001b[0m\u001b[0mself\u001b[0m\u001b[1;33m)\u001b[0m\u001b[1;33m:\u001b[0m\u001b[1;33m\u001b[0m\u001b[1;33m\u001b[0m\u001b[0m\n",
      "\u001b[1;32m~\\work\\vimms\\vimms\\SequenceManager.py\u001b[0m in \u001b[0;36mrun\u001b[1;34m(self)\u001b[0m\n\u001b[0;32m    422\u001b[0m     \u001b[1;32mdef\u001b[0m \u001b[0mrun\u001b[0m\u001b[1;33m(\u001b[0m\u001b[0mself\u001b[0m\u001b[1;33m)\u001b[0m\u001b[1;33m:\u001b[0m\u001b[1;33m\u001b[0m\u001b[1;33m\u001b[0m\u001b[0m\n\u001b[0;32m    423\u001b[0m         \u001b[1;32mfor\u001b[0m \u001b[0midx\u001b[0m \u001b[1;32min\u001b[0m \u001b[0mrange\u001b[0m\u001b[1;33m(\u001b[0m\u001b[0mself\u001b[0m\u001b[1;33m.\u001b[0m\u001b[0msequence_manager\u001b[0m\u001b[1;33m.\u001b[0m\u001b[0mcontroller_schedule\u001b[0m\u001b[1;33m.\u001b[0m\u001b[0mshape\u001b[0m\u001b[1;33m[\u001b[0m\u001b[1;36m0\u001b[0m\u001b[1;33m]\u001b[0m\u001b[1;33m)\u001b[0m\u001b[1;33m:\u001b[0m\u001b[1;33m\u001b[0m\u001b[1;33m\u001b[0m\u001b[0m\n\u001b[1;32m--> 424\u001b[1;33m             \u001b[0mself\u001b[0m\u001b[1;33m.\u001b[0m\u001b[0mrun_single\u001b[0m\u001b[1;33m(\u001b[0m\u001b[0midx\u001b[0m\u001b[1;33m)\u001b[0m\u001b[1;33m\u001b[0m\u001b[1;33m\u001b[0m\u001b[0m\n\u001b[0m\u001b[0;32m    425\u001b[0m \u001b[1;33m\u001b[0m\u001b[0m\n\u001b[0;32m    426\u001b[0m     \u001b[1;32mdef\u001b[0m \u001b[0mrun_single\u001b[0m\u001b[1;33m(\u001b[0m\u001b[0mself\u001b[0m\u001b[1;33m,\u001b[0m \u001b[0midx\u001b[0m\u001b[1;33m)\u001b[0m\u001b[1;33m:\u001b[0m\u001b[1;33m\u001b[0m\u001b[1;33m\u001b[0m\u001b[0m\n",
      "\u001b[1;32m~\\work\\vimms\\vimms\\SequenceManager.py\u001b[0m in \u001b[0;36mrun_single\u001b[1;34m(self, idx)\u001b[0m\n\u001b[0;32m    425\u001b[0m \u001b[1;33m\u001b[0m\u001b[0m\n\u001b[0;32m    426\u001b[0m     \u001b[1;32mdef\u001b[0m \u001b[0mrun_single\u001b[0m\u001b[1;33m(\u001b[0m\u001b[0mself\u001b[0m\u001b[1;33m,\u001b[0m \u001b[0midx\u001b[0m\u001b[1;33m)\u001b[0m\u001b[1;33m:\u001b[0m\u001b[1;33m\u001b[0m\u001b[1;33m\u001b[0m\u001b[0m\n\u001b[1;32m--> 427\u001b[1;33m         \u001b[0mcurrent_mzml_file\u001b[0m\u001b[1;33m,\u001b[0m \u001b[0mcontroller_name\u001b[0m \u001b[1;33m=\u001b[0m \u001b[0mself\u001b[0m\u001b[1;33m.\u001b[0m\u001b[0mrun_controller\u001b[0m\u001b[1;33m(\u001b[0m\u001b[0midx\u001b[0m\u001b[1;33m)\u001b[0m\u001b[1;33m\u001b[0m\u001b[1;33m\u001b[0m\u001b[0m\n\u001b[0m\u001b[0;32m    428\u001b[0m         \u001b[0mself\u001b[0m\u001b[1;33m.\u001b[0m\u001b[0mcompleted_mzmls\u001b[0m\u001b[1;33m.\u001b[0m\u001b[0mappend\u001b[0m\u001b[1;33m(\u001b[0m\u001b[0mcurrent_mzml_file\u001b[0m\u001b[1;33m)\u001b[0m\u001b[1;33m\u001b[0m\u001b[1;33m\u001b[0m\u001b[0m\n\u001b[0;32m    429\u001b[0m         \u001b[0mms2_picked_peaks_file\u001b[0m \u001b[1;33m=\u001b[0m \u001b[0mself\u001b[0m\u001b[1;33m.\u001b[0m\u001b[0mrun_peak_picking\u001b[0m\u001b[1;33m(\u001b[0m\u001b[0midx\u001b[0m\u001b[1;33m,\u001b[0m \u001b[0mcurrent_mzml_file\u001b[0m\u001b[1;33m,\u001b[0m \u001b[0mcontroller_name\u001b[0m\u001b[1;33m)\u001b[0m\u001b[1;33m\u001b[0m\u001b[1;33m\u001b[0m\u001b[0m\n",
      "\u001b[1;32m~\\work\\vimms\\vimms\\SequenceManager.py\u001b[0m in \u001b[0;36mrun_controller\u001b[1;34m(self, idx)\u001b[0m\n\u001b[0;32m    197\u001b[0m         \u001b[1;32mif\u001b[0m \u001b[0mself\u001b[0m\u001b[1;33m.\u001b[0m\u001b[0msequence_manager\u001b[0m\u001b[1;33m.\u001b[0m\u001b[0mprogress_bar\u001b[0m\u001b[1;33m:\u001b[0m\u001b[1;33m\u001b[0m\u001b[1;33m\u001b[0m\u001b[0m\n\u001b[0;32m    198\u001b[0m             \u001b[0mtime\u001b[0m\u001b[1;33m.\u001b[0m\u001b[0msleep\u001b[0m\u001b[1;33m(\u001b[0m\u001b[1;36m0.2\u001b[0m\u001b[1;33m)\u001b[0m  \u001b[1;31m# visual effect in case progress_bar = True\u001b[0m\u001b[1;33m\u001b[0m\u001b[1;33m\u001b[0m\u001b[0m\n\u001b[1;32m--> 199\u001b[1;33m         \u001b[0mcurrent_mzml_file\u001b[0m\u001b[1;33m,\u001b[0m \u001b[0mcontroller_name\u001b[0m \u001b[1;33m=\u001b[0m \u001b[0mself\u001b[0m\u001b[1;33m.\u001b[0m\u001b[0msequence_manager\u001b[0m\u001b[1;33m.\u001b[0m\u001b[0mrun_experiment\u001b[0m\u001b[1;33m(\u001b[0m\u001b[0midx\u001b[0m\u001b[1;33m)\u001b[0m  \u001b[1;31m# runs the idx th experiment\u001b[0m\u001b[1;33m\u001b[0m\u001b[1;33m\u001b[0m\u001b[0m\n\u001b[0m\u001b[0;32m    200\u001b[0m         \u001b[0mlogger\u001b[0m\u001b[1;33m.\u001b[0m\u001b[0minfo\u001b[0m\u001b[1;33m(\u001b[0m\u001b[1;34m'Completed experiment: '\u001b[0m \u001b[1;33m+\u001b[0m \u001b[0mself\u001b[0m\u001b[1;33m.\u001b[0m\u001b[0msequence_manager\u001b[0m\u001b[1;33m.\u001b[0m\u001b[0mcontroller_schedule\u001b[0m\u001b[1;33m[\u001b[0m\u001b[1;34m'Sample ID'\u001b[0m\u001b[1;33m]\u001b[0m\u001b[1;33m[\u001b[0m\u001b[0midx\u001b[0m\u001b[1;33m]\u001b[0m\u001b[1;33m)\u001b[0m\u001b[1;33m\u001b[0m\u001b[1;33m\u001b[0m\u001b[0m\n\u001b[0;32m    201\u001b[0m         \u001b[1;32mreturn\u001b[0m \u001b[0mcurrent_mzml_file\u001b[0m\u001b[1;33m,\u001b[0m \u001b[0mcontroller_name\u001b[0m\u001b[1;33m\u001b[0m\u001b[1;33m\u001b[0m\u001b[0m\n",
      "\u001b[1;32m~\\work\\vimms\\vimms\\SequenceManager.py\u001b[0m in \u001b[0;36mrun_experiment\u001b[1;34m(self, idx)\u001b[0m\n\u001b[0;32m    170\u001b[0m                 env = Environment(mass_spec, controller, self.rt_range[0][0],\n\u001b[0;32m    171\u001b[0m                                   self.rt_range[0][1], progress_bar=self.progress_bar)\n\u001b[1;32m--> 172\u001b[1;33m                 \u001b[0menv\u001b[0m\u001b[1;33m.\u001b[0m\u001b[0mrun\u001b[0m\u001b[1;33m(\u001b[0m\u001b[1;33m)\u001b[0m\u001b[1;33m\u001b[0m\u001b[1;33m\u001b[0m\u001b[0m\n\u001b[0m\u001b[0;32m    173\u001b[0m                 \u001b[0menv\u001b[0m\u001b[1;33m.\u001b[0m\u001b[0mwrite_mzML\u001b[0m\u001b[1;33m(\u001b[0m\u001b[0mself\u001b[0m\u001b[1;33m.\u001b[0m\u001b[0mbase_dir\u001b[0m\u001b[1;33m,\u001b[0m \u001b[0mcontroller_name\u001b[0m \u001b[1;33m+\u001b[0m \u001b[1;34m'.mzML'\u001b[0m\u001b[1;33m)\u001b[0m\u001b[1;33m\u001b[0m\u001b[1;33m\u001b[0m\u001b[0m\n\u001b[0;32m    174\u001b[0m                 \u001b[1;32mif\u001b[0m \u001b[0mself\u001b[0m\u001b[1;33m.\u001b[0m\u001b[0mwrite_env\u001b[0m\u001b[1;33m:\u001b[0m\u001b[1;33m\u001b[0m\u001b[1;33m\u001b[0m\u001b[0m\n",
      "\u001b[1;32m~\\work\\vimms\\vimms\\Environment.py\u001b[0m in \u001b[0;36mrun\u001b[1;34m(self)\u001b[0m\n\u001b[0;32m     71\u001b[0m                 \u001b[0mself\u001b[0m\u001b[1;33m.\u001b[0m\u001b[0m_update_progress_bar\u001b[0m\u001b[1;33m(\u001b[0m\u001b[0mbar\u001b[0m\u001b[1;33m,\u001b[0m \u001b[0mscan\u001b[0m\u001b[1;33m)\u001b[0m\u001b[1;33m\u001b[0m\u001b[1;33m\u001b[0m\u001b[0m\n\u001b[0;32m     72\u001b[0m         \u001b[1;32mexcept\u001b[0m \u001b[0mException\u001b[0m \u001b[1;32mas\u001b[0m \u001b[0me\u001b[0m\u001b[1;33m:\u001b[0m\u001b[1;33m\u001b[0m\u001b[1;33m\u001b[0m\u001b[0m\n\u001b[1;32m---> 73\u001b[1;33m             \u001b[1;32mraise\u001b[0m \u001b[0me\u001b[0m\u001b[1;33m\u001b[0m\u001b[1;33m\u001b[0m\u001b[0m\n\u001b[0m\u001b[0;32m     74\u001b[0m         \u001b[1;32mfinally\u001b[0m\u001b[1;33m:\u001b[0m\u001b[1;33m\u001b[0m\u001b[1;33m\u001b[0m\u001b[0m\n\u001b[0;32m     75\u001b[0m             \u001b[0mself\u001b[0m\u001b[1;33m.\u001b[0m\u001b[0mmass_spec\u001b[0m\u001b[1;33m.\u001b[0m\u001b[0mfire_event\u001b[0m\u001b[1;33m(\u001b[0m\u001b[0mIndependentMassSpectrometer\u001b[0m\u001b[1;33m.\u001b[0m\u001b[0mACQUISITION_STREAM_CLOSED\u001b[0m\u001b[1;33m)\u001b[0m\u001b[1;33m\u001b[0m\u001b[1;33m\u001b[0m\u001b[0m\n",
      "\u001b[1;32m~\\work\\vimms\\vimms\\Environment.py\u001b[0m in \u001b[0;36mrun\u001b[1;34m(self)\u001b[0m\n\u001b[0;32m     61\u001b[0m             \u001b[1;32mwhile\u001b[0m \u001b[0mself\u001b[0m\u001b[1;33m.\u001b[0m\u001b[0mmass_spec\u001b[0m\u001b[1;33m.\u001b[0m\u001b[0mtime\u001b[0m \u001b[1;33m<\u001b[0m \u001b[0mself\u001b[0m\u001b[1;33m.\u001b[0m\u001b[0mmax_time\u001b[0m\u001b[1;33m:\u001b[0m\u001b[1;33m\u001b[0m\u001b[1;33m\u001b[0m\u001b[0m\n\u001b[0;32m     62\u001b[0m                 \u001b[1;31m# controller._process_scan() is called here immediately when a scan is produced within a step\u001b[0m\u001b[1;33m\u001b[0m\u001b[1;33m\u001b[0m\u001b[1;33m\u001b[0m\u001b[0m\n\u001b[1;32m---> 63\u001b[1;33m                 \u001b[0mscan\u001b[0m \u001b[1;33m=\u001b[0m \u001b[0mself\u001b[0m\u001b[1;33m.\u001b[0m\u001b[0mmass_spec\u001b[0m\u001b[1;33m.\u001b[0m\u001b[0mstep\u001b[0m\u001b[1;33m(\u001b[0m\u001b[0minitial_scan\u001b[0m\u001b[1;33m)\u001b[0m\u001b[1;33m\u001b[0m\u001b[1;33m\u001b[0m\u001b[0m\n\u001b[0m\u001b[0;32m     64\u001b[0m                 \u001b[1;32mif\u001b[0m \u001b[0minitial_scan\u001b[0m\u001b[1;33m:\u001b[0m\u001b[1;33m\u001b[0m\u001b[1;33m\u001b[0m\u001b[0m\n\u001b[0;32m     65\u001b[0m                     \u001b[1;31m# no longer initial scan\u001b[0m\u001b[1;33m\u001b[0m\u001b[1;33m\u001b[0m\u001b[1;33m\u001b[0m\u001b[0m\n",
      "\u001b[1;32m~\\work\\vimms\\vimms\\MassSpec.py\u001b[0m in \u001b[0;36mstep\u001b[1;34m(self, initial_scan)\u001b[0m\n\u001b[0;32m    309\u001b[0m         \u001b[1;32melse\u001b[0m\u001b[1;33m:\u001b[0m\u001b[1;33m\u001b[0m\u001b[1;33m\u001b[0m\u001b[0m\n\u001b[0;32m    310\u001b[0m             \u001b[0mparams\u001b[0m\u001b[1;33m,\u001b[0m \u001b[0mis_method_scan\u001b[0m \u001b[1;33m=\u001b[0m \u001b[0mself\u001b[0m\u001b[1;33m.\u001b[0m\u001b[0m_get_params\u001b[0m\u001b[1;33m(\u001b[0m\u001b[1;33m)\u001b[0m\u001b[1;33m\u001b[0m\u001b[1;33m\u001b[0m\u001b[0m\n\u001b[1;32m--> 311\u001b[1;33m         \u001b[0mscan\u001b[0m \u001b[1;33m=\u001b[0m \u001b[0mself\u001b[0m\u001b[1;33m.\u001b[0m\u001b[0m_get_scan\u001b[0m\u001b[1;33m(\u001b[0m\u001b[0mself\u001b[0m\u001b[1;33m.\u001b[0m\u001b[0mtime\u001b[0m\u001b[1;33m,\u001b[0m \u001b[0mparams\u001b[0m\u001b[1;33m)\u001b[0m\u001b[1;33m\u001b[0m\u001b[1;33m\u001b[0m\u001b[0m\n\u001b[0m\u001b[0;32m    312\u001b[0m \u001b[1;33m\u001b[0m\u001b[0m\n\u001b[0;32m    313\u001b[0m         \u001b[1;31m# A method scan (not a custom scan) should have its scan_params set to None\u001b[0m\u001b[1;33m\u001b[0m\u001b[1;33m\u001b[0m\u001b[1;33m\u001b[0m\u001b[0m\n",
      "\u001b[1;32m~\\work\\vimms\\vimms\\MassSpec.py\u001b[0m in \u001b[0;36m_get_scan\u001b[1;34m(self, scan_time, params)\u001b[0m\n\u001b[0;32m    523\u001b[0m \u001b[1;33m\u001b[0m\u001b[0m\n\u001b[0;32m    524\u001b[0m             \u001b[1;31m# mzs is a list of (mz, intensity) for the different adduct/isotopes combinations of a chemical\u001b[0m\u001b[1;33m\u001b[0m\u001b[1;33m\u001b[0m\u001b[1;33m\u001b[0m\u001b[0m\n\u001b[1;32m--> 525\u001b[1;33m             \u001b[0mmzs\u001b[0m \u001b[1;33m=\u001b[0m \u001b[0mself\u001b[0m\u001b[1;33m.\u001b[0m\u001b[0m_get_all_mz_peaks\u001b[0m\u001b[1;33m(\u001b[0m\u001b[0mchemical\u001b[0m\u001b[1;33m,\u001b[0m \u001b[0mscan_time\u001b[0m\u001b[1;33m,\u001b[0m \u001b[0mms_level\u001b[0m\u001b[1;33m,\u001b[0m \u001b[0misolation_windows\u001b[0m\u001b[1;33m)\u001b[0m\u001b[1;33m\u001b[0m\u001b[1;33m\u001b[0m\u001b[0m\n\u001b[0m\u001b[0;32m    526\u001b[0m \u001b[1;33m\u001b[0m\u001b[0m\n\u001b[0;32m    527\u001b[0m             \u001b[0mpeaks\u001b[0m \u001b[1;33m=\u001b[0m \u001b[1;33m[\u001b[0m\u001b[1;33m]\u001b[0m\u001b[1;33m\u001b[0m\u001b[1;33m\u001b[0m\u001b[0m\n",
      "\u001b[1;32m~\\work\\vimms\\vimms\\MassSpec.py\u001b[0m in \u001b[0;36m_get_all_mz_peaks\u001b[1;34m(self, chemical, query_rt, ms_level, isolation_windows)\u001b[0m\n\u001b[0;32m    593\u001b[0m         \u001b[1;32mfor\u001b[0m \u001b[0mi\u001b[0m \u001b[1;32min\u001b[0m \u001b[0mrange\u001b[0m\u001b[1;33m(\u001b[0m\u001b[0mlen\u001b[0m\u001b[1;33m(\u001b[0m\u001b[0mmz_peaks\u001b[0m\u001b[1;33m)\u001b[0m\u001b[1;33m)\u001b[0m\u001b[1;33m:\u001b[0m\u001b[1;33m\u001b[0m\u001b[1;33m\u001b[0m\u001b[0m\n\u001b[0;32m    594\u001b[0m             \u001b[0moriginal_mz\u001b[0m\u001b[1;33m,\u001b[0m \u001b[0moriginal_intensity\u001b[0m \u001b[1;33m=\u001b[0m \u001b[0mmz_peaks\u001b[0m\u001b[1;33m[\u001b[0m\u001b[0mi\u001b[0m\u001b[1;33m]\u001b[0m\u001b[1;33m\u001b[0m\u001b[1;33m\u001b[0m\u001b[0m\n\u001b[1;32m--> 595\u001b[1;33m             \u001b[0mnoisy_mz\u001b[0m \u001b[1;33m=\u001b[0m \u001b[0mself\u001b[0m\u001b[1;33m.\u001b[0m\u001b[0mpeak_noise\u001b[0m\u001b[1;33m.\u001b[0m\u001b[0mget_mz\u001b[0m\u001b[1;33m(\u001b[0m\u001b[0moriginal_mz\u001b[0m\u001b[1;33m,\u001b[0m \u001b[0mquery_rt\u001b[0m\u001b[1;33m,\u001b[0m \u001b[0moriginal_intensity\u001b[0m\u001b[1;33m,\u001b[0m \u001b[0mms_level\u001b[0m\u001b[1;33m)\u001b[0m\u001b[1;33m\u001b[0m\u001b[1;33m\u001b[0m\u001b[0m\n\u001b[0m\u001b[0;32m    596\u001b[0m             \u001b[0mnoisy_intensity\u001b[0m \u001b[1;33m=\u001b[0m \u001b[0mself\u001b[0m\u001b[1;33m.\u001b[0m\u001b[0mpeak_noise\u001b[0m\u001b[1;33m.\u001b[0m\u001b[0mget_intensity\u001b[0m\u001b[1;33m(\u001b[0m\u001b[0moriginal_mz\u001b[0m\u001b[1;33m,\u001b[0m \u001b[0mquery_rt\u001b[0m\u001b[1;33m,\u001b[0m \u001b[0moriginal_intensity\u001b[0m\u001b[1;33m,\u001b[0m \u001b[0mms_level\u001b[0m\u001b[1;33m)\u001b[0m\u001b[1;33m\u001b[0m\u001b[1;33m\u001b[0m\u001b[0m\n\u001b[0;32m    597\u001b[0m             \u001b[0mnoisy_mz_peaks\u001b[0m\u001b[1;33m.\u001b[0m\u001b[0mappend\u001b[0m\u001b[1;33m(\u001b[0m\u001b[1;33m(\u001b[0m\u001b[0mnoisy_mz\u001b[0m\u001b[1;33m,\u001b[0m \u001b[0mnoisy_intensity\u001b[0m\u001b[1;33m)\u001b[0m\u001b[1;33m)\u001b[0m\u001b[1;33m\u001b[0m\u001b[1;33m\u001b[0m\u001b[0m\n",
      "\u001b[1;31mAttributeError\u001b[0m: 'bool' object has no attribute 'get_mz'"
     ]
    }
   ],
   "source": [
    "vsm = VimmsSequenceManager(None, None, output_dir, progress_bar=True, ms1_picked_peaks_file=None,mzmine_command=mzmine_command)\n",
    "nsm = NaiveMultiSampleExperiment(vsm, controller_method, mass_spec_params, dataset_files, controller_params, aligner_rt_tolerance=0)"
   ]
  },
  {
   "cell_type": "code",
   "execution_count": null,
   "metadata": {},
   "outputs": [],
   "source": [
    "nsm.cumulative_score"
   ]
  }
 ],
 "metadata": {
  "kernelspec": {
   "display_name": "Python 3",
   "language": "python",
   "name": "python3"
  },
  "language_info": {
   "codemirror_mode": {
    "name": "ipython",
    "version": 3
   },
   "file_extension": ".py",
   "mimetype": "text/x-python",
   "name": "python",
   "nbconvert_exporter": "python",
   "pygments_lexer": "ipython3",
   "version": "3.7.3"
  }
 },
 "nbformat": 4,
 "nbformat_minor": 4
}
