{
 "cells": [
  {
   "cell_type": "markdown",
   "metadata": {},
   "source": [
    "# 2. Grid Search"
   ]
  },
  {
   "cell_type": "code",
   "execution_count": 3,
   "metadata": {},
   "outputs": [
    {
     "name": "stdout",
     "output_type": "stream",
     "text": [
      "The autoreload extension is already loaded. To reload it, use:\n",
      "  %reload_ext autoreload\n"
     ]
    }
   ],
   "source": [
    "%matplotlib inline\n",
    "%load_ext autoreload\n",
    "%autoreload 2"
   ]
  },
  {
   "cell_type": "code",
   "execution_count": 4,
   "metadata": {},
   "outputs": [],
   "source": [
    "import sys\n",
    "sys.path.append('../..')"
   ]
  },
  {
   "cell_type": "code",
   "execution_count": 5,
   "metadata": {},
   "outputs": [],
   "source": [
    "from pathlib import Path\n",
    "from pyDOE import *\n",
    "from vimms.Environment import *"
   ]
  },
  {
   "cell_type": "code",
   "execution_count": 6,
   "metadata": {},
   "outputs": [],
   "source": [
    "from vimms.Chemicals import ChemicalCreator, GET_MS2_BY_PEAKS, GET_MS2_BY_SPECTRA\n",
    "from vimms.MassSpec import IndependentMassSpectrometer\n",
    "from vimms.Controller import *\n",
    "from vimms.Common import *\n",
    "from vimms.PlotsForPaper import *\n",
    "from vimms.Roi import make_roi, RoiToChemicalCreator, extract_roi\n",
    "from vimms.SequenceManager import *"
   ]
  },
  {
   "cell_type": "code",
   "execution_count": 7,
   "metadata": {},
   "outputs": [],
   "source": [
    "data_dir = os.path.join(os.path.abspath(os.path.join(os.path.join(os.getcwd(),\"..\"),\"..\")),'tests','integration','fixtures')\n",
    "dataset_file = os.path.join(data_dir, 'QCB_22May19_1.p')\n",
    "dataset = load_obj(dataset_file)\n",
    "ps = load_obj(Path(data_dir,'peak_sampler_mz_rt_int_beerqcb_fragmentation.p'))"
   ]
  },
  {
   "cell_type": "code",
   "execution_count": 8,
   "metadata": {},
   "outputs": [],
   "source": [
    "url = 'http://researchdata.gla.ac.uk/870/2/example_data.zip'\n",
    "base_dir = os.path.abspath(os.path.join(os.getcwd(),'..','01. Data', 'example_data'))"
   ]
  },
  {
   "cell_type": "code",
   "execution_count": 9,
   "metadata": {},
   "outputs": [
    {
     "name": "stdout",
     "output_type": "stream",
     "text": [
      "Found C:\\Users\\Vinny\\work\\vimms\\demo\\01. Data\\example_data\n"
     ]
    }
   ],
   "source": [
    "if not os.path.isdir(base_dir): # if not exist then download the example data and extract it\n",
    "    print('Creating %s' % base_dir)    \n",
    "    out_file = 'example_data.zip'\n",
    "    download_file(url, out_file)\n",
    "    extract_zip_file(out_file, delete=True)\n",
    "else:\n",
    "    print('Found %s' % base_dir)"
   ]
  },
  {
   "cell_type": "code",
   "execution_count": 10,
   "metadata": {},
   "outputs": [],
   "source": [
    "mzml_file = os.path.join(base_dir, 'beers', 'fullscan', 'mzML', 'Beer_multibeers_1_fullscan1.mzML')\n",
    "mzml_file_list=[None, mzml_file, None, mzml_file]"
   ]
  },
  {
   "cell_type": "code",
   "execution_count": 11,
   "metadata": {},
   "outputs": [],
   "source": [
    "set_log_level_info()"
   ]
  },
  {
   "cell_type": "markdown",
   "metadata": {},
   "source": [
    "### Set some default parameters"
   ]
  },
  {
   "cell_type": "code",
   "execution_count": 12,
   "metadata": {},
   "outputs": [],
   "source": [
    "experiment_dir = os.path.join(os.getcwd(), 'results')"
   ]
  },
  {
   "cell_type": "code",
   "execution_count": 13,
   "metadata": {},
   "outputs": [],
   "source": [
    "mass_spec_params = {'ionisation_mode': POSITIVE,\n",
    "                    'peak_sampler': ps,\n",
    "                    'add_noise': False,\n",
    "                    'isolation_transition_window': 'rectangular',\n",
    "                    'isolation_transition_window_params': None}"
   ]
  },
  {
   "cell_type": "code",
   "execution_count": 14,
   "metadata": {},
   "outputs": [],
   "source": [
    "controller_params = {\"ionisation_mode\": POSITIVE,\n",
    "                       \"N\": 10,\n",
    "                       \"mz_tol\": 10,\n",
    "                       \"rt_tol\":30,\n",
    "                       \"min_ms1_intensity\": 1.75E5,\n",
    "                       \"rt_range\": [(200, 400)],\n",
    "                       \"isolation_width\": 1}"
   ]
  },
  {
   "cell_type": "markdown",
   "metadata": {},
   "source": [
    "Note: you will need to install the same version of MZMine2 and put it in the same location as ViMMS"
   ]
  },
  {
   "cell_type": "code",
   "execution_count": 15,
   "metadata": {},
   "outputs": [],
   "source": [
    "evaluation_methods = ['mzmine_peak']\n",
    "mzmine_command = os.path.abspath(os.path.join(os.getcwd(),'..','..','..','MZmine-2.40.1','MZmine-2.40.1','startMZmine_Windows.bat'))"
   ]
  },
  {
   "cell_type": "code",
   "execution_count": 16,
   "metadata": {},
   "outputs": [],
   "source": [
    "MZML2CHEMS_DICT = {'min_ms1_intensity': 1.75E5,\n",
    "                  'mz_tol': 5,\n",
    "                  'mz_units':'ppm',\n",
    "                  'min_length':1,\n",
    "                  'min_intensity':0,\n",
    "                  'start_rt':0,\n",
    "                  'stop_rt':1560}"
   ]
  },
  {
   "cell_type": "markdown",
   "metadata": {},
   "source": [
    "### Get a picked peaks file"
   ]
  },
  {
   "cell_type": "markdown",
   "metadata": {},
   "source": [
    "You don't need to provide a picked peaks file to run a grid search experiment, e.g. Example 3. But if you have one it will be more efficient"
   ]
  },
  {
   "cell_type": "code",
   "execution_count": 38,
   "metadata": {},
   "outputs": [
    {
     "name": "stderr",
     "output_type": "stream",
     "text": [
      "2020-08-07 17:01:11.626 | INFO     | vimms.PythonMzmine:pick_peaks:23 - Creating xml batch file for Beer_multibeers_1_fullscan1.mzML\n",
      "2020-08-07 17:01:11.629 | INFO     | vimms.PythonMzmine:pick_peaks:53 - Running mzMine for Beer_multibeers_1_fullscan1.mzML\n"
     ]
    }
   ],
   "source": [
    "pick_peaks([mzml_file], xml_template=QCB_XML_TEMPLATE_MS1, output_dir=os.getcwd(),\n",
    "                       mzmine_command=mzmine_command)"
   ]
  },
  {
   "cell_type": "code",
   "execution_count": 56,
   "metadata": {},
   "outputs": [],
   "source": [
    "ms1_picked_peaks_file = os.path.join(os.getcwd(), Path(mzml_file).stem + '_pp.csv')"
   ]
  },
  {
   "cell_type": "markdown",
   "metadata": {},
   "source": [
    "### Some parameter settings to search over"
   ]
  },
  {
   "cell_type": "code",
   "execution_count": 39,
   "metadata": {},
   "outputs": [],
   "source": [
    "topn_variable_params_dict = {'N': [10], 'rt_tol': [15,30]}"
   ]
  },
  {
   "cell_type": "markdown",
   "metadata": {},
   "source": [
    "### Example 1 - Top N - Seed with dataset and picked peaks"
   ]
  },
  {
   "cell_type": "code",
   "execution_count": 57,
   "metadata": {},
   "outputs": [],
   "source": [
    "output_dir = os.path.join(experiment_dir, 'grid_search_example_1')"
   ]
  },
  {
   "cell_type": "code",
   "execution_count": 58,
   "metadata": {},
   "outputs": [],
   "source": [
    "parallel = False"
   ]
  },
  {
   "cell_type": "code",
   "execution_count": 60,
   "metadata": {},
   "outputs": [
    {
     "name": "stderr",
     "output_type": "stream",
     "text": [
      "2020-08-07 17:33:04.398 | INFO     | vimms.SequenceManager:run:246 - Running in serial mode\n",
      "2020-08-07 17:33:04.399 | INFO     | vimms.SequenceManager:run_controller:202 - Begun experiment: sample0\n",
      "2020-08-07 17:33:04.599 | INFO     | vimms.SequenceManager:run_experiment:183 - Experiment already completed. Skipping...\n",
      "2020-08-07 17:33:04.600 | INFO     | vimms.SequenceManager:run_controller:206 - Completed experiment: sample0\n",
      "2020-08-07 17:33:04.600 | INFO     | vimms.SequenceManager:run_evaluation:216 - Started Evaluation: sample0\n"
     ]
    },
    {
     "name": "stdout",
     "output_type": "stream",
     "text": [
      "Loaded 4383 scans\n"
     ]
    },
    {
     "name": "stderr",
     "output_type": "stream",
     "text": [
      "2020-08-07 17:33:09.129 | INFO     | vimms.SequenceManager:run_evaluation:218 - Completed Evaluation: sample0\n",
      "2020-08-07 17:33:09.130 | INFO     | vimms.SequenceManager:run_serial:258 - Finished 0\n",
      "2020-08-07 17:33:09.131 | INFO     | vimms.SequenceManager:run_controller:202 - Begun experiment: sample1\n",
      "2020-08-07 17:33:09.333 | INFO     | vimms.SequenceManager:run_experiment:167 - {'Sample ID': {1: 'sample1'}, 'Controller Method': {1: 'TopNController'}, 'Controller Params': {1: {'ionisation_mode': 'Positive', 'N': 10, 'isolation_width': 1, 'mz_tol': 10, 'rt_tol': 30, 'min_ms1_intensity': 175000.0, 'ms1_shift': 0.0, 'ms1_agc_target': 200000.0, 'ms1_max_it': 250.0, 'ms1_collision_energy': 0.0, 'ms1_orbitrap_resolution': 120000.0, 'ms2_agc_target': 30000.0, 'ms2_max_it': 100.0, 'ms2_collision_energy': 25.0, 'ms2_orbitrap_resolution': 7500.0}}, 'MassSpec Params': {1: {'ionisation_mode': 'Positive', 'peak_sampler': <vimms.DataGenerator.PeakSampler object at 0x0000020295A5C2E8>, 'add_noise': False, 'isolation_transition_window': 'rectangular', 'isolation_transition_window_params': None}}, 'Dataset': {1: 'C:\\\\Users\\\\Vinny\\\\work\\\\vimms\\\\tests\\\\integration\\\\fixtures\\\\QCB_22May19_1.p'}}\n",
      "(1440.000s) ms_level=1 N=10 DEW=30: 100%|█████████████████████████████████████████████████████████████████████████████████████████████████████████████████████████████████████████████████▉| 1439.6000000000813/1440 [00:34<00:00, 41.32it/s]\n",
      "2020-08-07 17:33:53.927 | INFO     | vimms.SequenceManager:run_controller:206 - Completed experiment: sample1\n",
      "2020-08-07 17:33:53.928 | INFO     | vimms.SequenceManager:run_evaluation:216 - Started Evaluation: sample1\n"
     ]
    },
    {
     "name": "stdout",
     "output_type": "stream",
     "text": [
      "Loaded 4147 scans\n"
     ]
    },
    {
     "name": "stderr",
     "output_type": "stream",
     "text": [
      "2020-08-07 17:33:58.254 | INFO     | vimms.SequenceManager:run_evaluation:218 - Completed Evaluation: sample1\n",
      "2020-08-07 17:33:58.256 | INFO     | vimms.SequenceManager:run_serial:258 - Finished 1\n"
     ]
    },
    {
     "data": {
      "text/html": [
       "<div>\n",
       "<style scoped>\n",
       "    .dataframe tbody tr th:only-of-type {\n",
       "        vertical-align: middle;\n",
       "    }\n",
       "\n",
       "    .dataframe tbody tr th {\n",
       "        vertical-align: top;\n",
       "    }\n",
       "\n",
       "    .dataframe thead th {\n",
       "        text-align: right;\n",
       "    }\n",
       "</style>\n",
       "<table border=\"1\" class=\"dataframe\">\n",
       "  <thead>\n",
       "    <tr style=\"text-align: right;\">\n",
       "      <th></th>\n",
       "      <th>Sample ID</th>\n",
       "      <th>Controller Method</th>\n",
       "      <th>N</th>\n",
       "      <th>mz_tol</th>\n",
       "      <th>rt_tol</th>\n",
       "      <th>min_ms1_intensity</th>\n",
       "      <th>ms1_shift</th>\n",
       "      <th>ms1_agc_target</th>\n",
       "      <th>ms1_max_it</th>\n",
       "      <th>ms1_collision_energy</th>\n",
       "      <th>ms1_orbitrap_resolution</th>\n",
       "      <th>ms2_agc_target</th>\n",
       "      <th>ms2_max_it</th>\n",
       "      <th>ms2_collision_energy</th>\n",
       "      <th>ms2_orbitrap_resolution</th>\n",
       "      <th>mzmine_peak</th>\n",
       "    </tr>\n",
       "  </thead>\n",
       "  <tbody>\n",
       "    <tr>\n",
       "      <th>0</th>\n",
       "      <td>sample0</td>\n",
       "      <td>TopNController</td>\n",
       "      <td>10</td>\n",
       "      <td>10</td>\n",
       "      <td>15</td>\n",
       "      <td>175000.0</td>\n",
       "      <td>0.0</td>\n",
       "      <td>200000.0</td>\n",
       "      <td>250.0</td>\n",
       "      <td>0.0</td>\n",
       "      <td>120000.0</td>\n",
       "      <td>30000.0</td>\n",
       "      <td>100.0</td>\n",
       "      <td>25.0</td>\n",
       "      <td>7500.0</td>\n",
       "      <td>129.0</td>\n",
       "    </tr>\n",
       "    <tr>\n",
       "      <th>1</th>\n",
       "      <td>sample1</td>\n",
       "      <td>TopNController</td>\n",
       "      <td>10</td>\n",
       "      <td>10</td>\n",
       "      <td>30</td>\n",
       "      <td>175000.0</td>\n",
       "      <td>0.0</td>\n",
       "      <td>200000.0</td>\n",
       "      <td>250.0</td>\n",
       "      <td>0.0</td>\n",
       "      <td>120000.0</td>\n",
       "      <td>30000.0</td>\n",
       "      <td>100.0</td>\n",
       "      <td>25.0</td>\n",
       "      <td>7500.0</td>\n",
       "      <td>101.0</td>\n",
       "    </tr>\n",
       "  </tbody>\n",
       "</table>\n",
       "</div>"
      ],
      "text/plain": [
       "  Sample ID Controller Method   N  mz_tol  rt_tol  min_ms1_intensity  \\\n",
       "0   sample0    TopNController  10      10      15           175000.0   \n",
       "1   sample1    TopNController  10      10      30           175000.0   \n",
       "\n",
       "   ms1_shift  ms1_agc_target  ms1_max_it  ms1_collision_energy  \\\n",
       "0        0.0        200000.0       250.0                   0.0   \n",
       "1        0.0        200000.0       250.0                   0.0   \n",
       "\n",
       "   ms1_orbitrap_resolution  ms2_agc_target  ms2_max_it  ms2_collision_energy  \\\n",
       "0                 120000.0         30000.0       100.0                  25.0   \n",
       "1                 120000.0         30000.0       100.0                  25.0   \n",
       "\n",
       "   ms2_orbitrap_resolution  mzmine_peak  \n",
       "0                   7500.0        129.0  \n",
       "1                   7500.0        101.0  "
      ]
     },
     "execution_count": 60,
     "metadata": {},
     "output_type": "execute_result"
    }
   ],
   "source": [
    "vsm = VimmsSequenceManager(None, evaluation_methods, output_dir, progress_bar=True, ms1_picked_peaks_file=ms1_picked_peaks_file)\n",
    "gs = GridSearchExperiment(vsm, 'TopNController', mass_spec_params, dataset_file, topn_variable_params_dict, controller_params, parallel=parallel)\n",
    "gs.results"
   ]
  },
  {
   "cell_type": "markdown",
   "metadata": {},
   "source": [
    "### Example 2 - Top N - Seed with mzml and picked peaks"
   ]
  },
  {
   "cell_type": "code",
   "execution_count": 25,
   "metadata": {},
   "outputs": [],
   "source": [
    "output_dir = os.path.join(experiment_dir, 'grid_search_example_2')"
   ]
  },
  {
   "cell_type": "code",
   "execution_count": 26,
   "metadata": {},
   "outputs": [],
   "source": [
    "parallel = False"
   ]
  },
  {
   "cell_type": "code",
   "execution_count": 27,
   "metadata": {},
   "outputs": [
    {
     "name": "stderr",
     "output_type": "stream",
     "text": [
      "2020-07-15 12:24:44.656 | INFO     | vimms.Roi:__init__:406 - Found 797 ROIs above thresholds\n",
      "2020-07-15 12:24:44.660 | INFO     | vimms.Common:save_obj:61 - Saving <class 'list'> to C:\\Users\\Vinny\\work\\mzmine_files\\QCB\\fullscan_mzmls\\QCB_22May19_1.p\n",
      "2020-07-15 12:24:46.063 | INFO     | vimms.Common:save_obj:61 - Saving <class 'list'> to C:\\Users\\Vinny\\work\\mzmine_files\\SimpleExperiments\\GridSearch\\experiment_2_2_2\\QCB_22May19_1.p\n",
      "2020-07-15 12:24:47.090 | INFO     | vimms.SequenceManager:run:240 - Running in serial mode\n",
      "2020-07-15 12:24:47.091 | INFO     | vimms.SequenceManager:run_controller:196 - Begun experiment: sample0\n",
      "2020-07-15 12:24:47.293 | INFO     | vimms.SequenceManager:run_experiment:177 - Experiment already completed. Skipping...\n",
      "2020-07-15 12:24:47.293 | INFO     | vimms.SequenceManager:run_controller:200 - Completed experiment: sample0\n",
      "2020-07-15 12:24:47.294 | INFO     | vimms.SequenceManager:run_evaluation:210 - Started Evaluation: sample0\n"
     ]
    },
    {
     "name": "stdout",
     "output_type": "stream",
     "text": [
      "Loaded 3090 scans\n"
     ]
    },
    {
     "name": "stderr",
     "output_type": "stream",
     "text": [
      "2020-07-15 12:24:56.540 | INFO     | vimms.SequenceManager:run_evaluation:212 - Completed Evaluation: sample0\n",
      "2020-07-15 12:24:56.544 | INFO     | vimms.SequenceManager:run_serial:252 - Finished 0\n",
      "2020-07-15 12:24:56.547 | INFO     | vimms.SequenceManager:run_controller:196 - Begun experiment: sample1\n",
      "2020-07-15 12:24:56.749 | INFO     | vimms.SequenceManager:run_experiment:177 - Experiment already completed. Skipping...\n",
      "2020-07-15 12:24:56.750 | INFO     | vimms.SequenceManager:run_controller:200 - Completed experiment: sample1\n",
      "2020-07-15 12:24:56.751 | INFO     | vimms.SequenceManager:run_evaluation:210 - Started Evaluation: sample1\n"
     ]
    },
    {
     "name": "stdout",
     "output_type": "stream",
     "text": [
      "Loaded 2463 scans\n"
     ]
    },
    {
     "name": "stderr",
     "output_type": "stream",
     "text": [
      "2020-07-15 12:25:02.765 | INFO     | vimms.SequenceManager:run_evaluation:212 - Completed Evaluation: sample1\n",
      "2020-07-15 12:25:02.766 | INFO     | vimms.SequenceManager:run_serial:252 - Finished 1\n"
     ]
    },
    {
     "data": {
      "text/html": [
       "<div>\n",
       "<style scoped>\n",
       "    .dataframe tbody tr th:only-of-type {\n",
       "        vertical-align: middle;\n",
       "    }\n",
       "\n",
       "    .dataframe tbody tr th {\n",
       "        vertical-align: top;\n",
       "    }\n",
       "\n",
       "    .dataframe thead th {\n",
       "        text-align: right;\n",
       "    }\n",
       "</style>\n",
       "<table border=\"1\" class=\"dataframe\">\n",
       "  <thead>\n",
       "    <tr style=\"text-align: right;\">\n",
       "      <th></th>\n",
       "      <th>Sample ID</th>\n",
       "      <th>Controller Method</th>\n",
       "      <th>N</th>\n",
       "      <th>mz_tol</th>\n",
       "      <th>rt_tol</th>\n",
       "      <th>min_ms1_intensity</th>\n",
       "      <th>ms1_agc_target</th>\n",
       "      <th>ms1_max_it</th>\n",
       "      <th>ms1_collision_energy</th>\n",
       "      <th>ms1_orbitrap_resolution</th>\n",
       "      <th>ms2_agc_target</th>\n",
       "      <th>ms2_max_it</th>\n",
       "      <th>ms2_collision_energy</th>\n",
       "      <th>ms2_orbitrap_resolution</th>\n",
       "      <th>mzmine_peak</th>\n",
       "    </tr>\n",
       "  </thead>\n",
       "  <tbody>\n",
       "    <tr>\n",
       "      <th>0</th>\n",
       "      <td>sample0</td>\n",
       "      <td>TopNController</td>\n",
       "      <td>10</td>\n",
       "      <td>10</td>\n",
       "      <td>15</td>\n",
       "      <td>175000.0</td>\n",
       "      <td>200000.0</td>\n",
       "      <td>250.0</td>\n",
       "      <td>0.0</td>\n",
       "      <td>120000.0</td>\n",
       "      <td>30000.0</td>\n",
       "      <td>100.0</td>\n",
       "      <td>25.0</td>\n",
       "      <td>7500.0</td>\n",
       "      <td>496.0</td>\n",
       "    </tr>\n",
       "    <tr>\n",
       "      <th>1</th>\n",
       "      <td>sample1</td>\n",
       "      <td>TopNController</td>\n",
       "      <td>10</td>\n",
       "      <td>10</td>\n",
       "      <td>30</td>\n",
       "      <td>175000.0</td>\n",
       "      <td>200000.0</td>\n",
       "      <td>250.0</td>\n",
       "      <td>0.0</td>\n",
       "      <td>120000.0</td>\n",
       "      <td>30000.0</td>\n",
       "      <td>100.0</td>\n",
       "      <td>25.0</td>\n",
       "      <td>7500.0</td>\n",
       "      <td>466.0</td>\n",
       "    </tr>\n",
       "  </tbody>\n",
       "</table>\n",
       "</div>"
      ],
      "text/plain": [
       "  Sample ID Controller Method   N  mz_tol  rt_tol  min_ms1_intensity  \\\n",
       "0   sample0    TopNController  10      10      15           175000.0   \n",
       "1   sample1    TopNController  10      10      30           175000.0   \n",
       "\n",
       "   ms1_agc_target  ms1_max_it  ms1_collision_energy  ms1_orbitrap_resolution  \\\n",
       "0        200000.0       250.0                   0.0                 120000.0   \n",
       "1        200000.0       250.0                   0.0                 120000.0   \n",
       "\n",
       "   ms2_agc_target  ms2_max_it  ms2_collision_energy  ms2_orbitrap_resolution  \\\n",
       "0         30000.0       100.0                  25.0                   7500.0   \n",
       "1         30000.0       100.0                  25.0                   7500.0   \n",
       "\n",
       "   mzmine_peak  \n",
       "0        496.0  \n",
       "1        466.0  "
      ]
     },
     "execution_count": 27,
     "metadata": {},
     "output_type": "execute_result"
    }
   ],
   "source": [
    "vsm = VimmsSequenceManager(None, evaluation_methods, output_dir, progress_bar=True, ms1_picked_peaks_file=ms1_picked_peaks_file)\n",
    "gs = GridSearchExperiment(vsm, 'TopNController', mass_spec_params, None, topn_variable_params_dict, controller_params, mzml_file, MZML2CHEMS_DICT=MZML2CHEMS_DICT, ps=ps, parallel=parallel)\n",
    "gs.results"
   ]
  },
  {
   "cell_type": "markdown",
   "metadata": {},
   "source": [
    "### Example 3 - Top N - Seed with mzml, non-parallel"
   ]
  },
  {
   "cell_type": "code",
   "execution_count": 33,
   "metadata": {},
   "outputs": [],
   "source": [
    "output_dir = os.path.join(experiment_dir, 'grid_search_example_3')"
   ]
  },
  {
   "cell_type": "code",
   "execution_count": 34,
   "metadata": {},
   "outputs": [],
   "source": [
    "parallel = False"
   ]
  },
  {
   "cell_type": "code",
   "execution_count": 35,
   "metadata": {
    "collapsed": true
   },
   "outputs": [
    {
     "name": "stderr",
     "output_type": "stream",
     "text": [
      "2020-07-15 12:48:21.637 | INFO     | vimms.Roi:__init__:406 - Found 797 ROIs above thresholds\n",
      "2020-07-15 12:48:21.637 | INFO     | vimms.Common:save_obj:61 - Saving <class 'list'> to C:\\Users\\Vinny\\work\\mzmine_files\\QCB\\fullscan_mzmls\\QCB_22May19_1.p\n",
      "2020-07-15 12:48:23.052 | INFO     | vimms.Common:save_obj:61 - Saving <class 'list'> to C:\\Users\\Vinny\\work\\mzmine_files\\SimpleExperiments\\GridSearch\\experiment_2_2_3\\QCB_22May19_1.p\n",
      "2020-07-15 12:48:24.005 | INFO     | vimms.PythonMzmine:pick_peaks:23 - Creating xml batch file for QCB_22May19_1.mzML\n",
      "2020-07-15 12:48:24.007 | INFO     | vimms.PythonMzmine:pick_peaks:53 - Running mzMine for QCB_22May19_1.mzML\n"
     ]
    },
    {
     "name": "stdout",
     "output_type": "stream",
     "text": [
      "C:\\Users\\Vinny\\work\\mzmine_files\\QCB\\fullscan_mzmls\\QCB_22May19_1.mzML\n",
      "C:\\Users\\Vinny\\work\\vimms\\batch_files\\QCB_mzmine_batch_ms1.xml\n",
      "C:\\Users\\Vinny\\work\\mzmine_files\\SimpleExperiments\\GridSearch\\experiment_2_2_3\n",
      "C:\\Users\\Vinny\\work\\MZmine-2.40.1\\MZmine-2.40.1\\startMZmine_Windows.bat\n"
     ]
    },
    {
     "name": "stderr",
     "output_type": "stream",
     "text": [
      "2020-07-15 12:54:04.612 | INFO     | vimms.SequenceManager:run:244 - Running in serial mode\n",
      "2020-07-15 12:54:04.614 | INFO     | vimms.SequenceManager:run_controller:200 - Begun experiment: sample0\n",
      "2020-07-15 12:54:04.814 | INFO     | vimms.SequenceManager:run_experiment:181 - Experiment already completed. Skipping...\n",
      "2020-07-15 12:54:04.815 | INFO     | vimms.SequenceManager:run_controller:204 - Completed experiment: sample0\n",
      "2020-07-15 12:54:04.815 | INFO     | vimms.SequenceManager:run_evaluation:214 - Started Evaluation: sample0\n"
     ]
    },
    {
     "name": "stdout",
     "output_type": "stream",
     "text": [
      "Loaded 3100 scans\n"
     ]
    },
    {
     "name": "stderr",
     "output_type": "stream",
     "text": [
      "2020-07-15 12:54:08.311 | INFO     | vimms.SequenceManager:run_evaluation:216 - Completed Evaluation: sample0\n",
      "2020-07-15 12:54:08.312 | INFO     | vimms.SequenceManager:run_serial:256 - Finished 0\n",
      "2020-07-15 12:54:08.313 | INFO     | vimms.SequenceManager:run_controller:200 - Begun experiment: sample1\n",
      "(1440.967s) ms_level=1 N=10 DEW=30: 100%|████████████████████████████████████████████████████████████████████████████████████████████████▉| 1439.278592387769/1440 [00:21<00:00, 66.95it/s]\n",
      "2020-07-15 12:54:39.384 | INFO     | vimms.SequenceManager:run_controller:204 - Completed experiment: sample1\n",
      "2020-07-15 12:54:39.385 | INFO     | vimms.SequenceManager:run_evaluation:214 - Started Evaluation: sample1\n"
     ]
    },
    {
     "name": "stdout",
     "output_type": "stream",
     "text": [
      "Loaded 2426 scans\n"
     ]
    },
    {
     "name": "stderr",
     "output_type": "stream",
     "text": [
      "2020-07-15 12:54:42.788 | INFO     | vimms.SequenceManager:run_evaluation:216 - Completed Evaluation: sample1\n",
      "2020-07-15 12:54:42.790 | INFO     | vimms.SequenceManager:run_serial:256 - Finished 1\n"
     ]
    },
    {
     "data": {
      "text/html": [
       "<div>\n",
       "<style scoped>\n",
       "    .dataframe tbody tr th:only-of-type {\n",
       "        vertical-align: middle;\n",
       "    }\n",
       "\n",
       "    .dataframe tbody tr th {\n",
       "        vertical-align: top;\n",
       "    }\n",
       "\n",
       "    .dataframe thead th {\n",
       "        text-align: right;\n",
       "    }\n",
       "</style>\n",
       "<table border=\"1\" class=\"dataframe\">\n",
       "  <thead>\n",
       "    <tr style=\"text-align: right;\">\n",
       "      <th></th>\n",
       "      <th>Sample ID</th>\n",
       "      <th>Controller Method</th>\n",
       "      <th>N</th>\n",
       "      <th>mz_tol</th>\n",
       "      <th>rt_tol</th>\n",
       "      <th>min_ms1_intensity</th>\n",
       "      <th>ms1_agc_target</th>\n",
       "      <th>ms1_max_it</th>\n",
       "      <th>ms1_collision_energy</th>\n",
       "      <th>ms1_orbitrap_resolution</th>\n",
       "      <th>ms2_agc_target</th>\n",
       "      <th>ms2_max_it</th>\n",
       "      <th>ms2_collision_energy</th>\n",
       "      <th>ms2_orbitrap_resolution</th>\n",
       "      <th>mzmine_peak</th>\n",
       "    </tr>\n",
       "  </thead>\n",
       "  <tbody>\n",
       "    <tr>\n",
       "      <th>0</th>\n",
       "      <td>sample0</td>\n",
       "      <td>TopNController</td>\n",
       "      <td>10</td>\n",
       "      <td>10</td>\n",
       "      <td>15</td>\n",
       "      <td>175000.0</td>\n",
       "      <td>200000.0</td>\n",
       "      <td>250.0</td>\n",
       "      <td>0.0</td>\n",
       "      <td>120000.0</td>\n",
       "      <td>30000.0</td>\n",
       "      <td>100.0</td>\n",
       "      <td>25.0</td>\n",
       "      <td>7500.0</td>\n",
       "      <td>488.0</td>\n",
       "    </tr>\n",
       "    <tr>\n",
       "      <th>1</th>\n",
       "      <td>sample1</td>\n",
       "      <td>TopNController</td>\n",
       "      <td>10</td>\n",
       "      <td>10</td>\n",
       "      <td>30</td>\n",
       "      <td>175000.0</td>\n",
       "      <td>200000.0</td>\n",
       "      <td>250.0</td>\n",
       "      <td>0.0</td>\n",
       "      <td>120000.0</td>\n",
       "      <td>30000.0</td>\n",
       "      <td>100.0</td>\n",
       "      <td>25.0</td>\n",
       "      <td>7500.0</td>\n",
       "      <td>466.0</td>\n",
       "    </tr>\n",
       "  </tbody>\n",
       "</table>\n",
       "</div>"
      ],
      "text/plain": [
       "  Sample ID Controller Method   N  mz_tol  rt_tol  min_ms1_intensity  \\\n",
       "0   sample0    TopNController  10      10      15           175000.0   \n",
       "1   sample1    TopNController  10      10      30           175000.0   \n",
       "\n",
       "   ms1_agc_target  ms1_max_it  ms1_collision_energy  ms1_orbitrap_resolution  \\\n",
       "0        200000.0       250.0                   0.0                 120000.0   \n",
       "1        200000.0       250.0                   0.0                 120000.0   \n",
       "\n",
       "   ms2_agc_target  ms2_max_it  ms2_collision_energy  ms2_orbitrap_resolution  \\\n",
       "0         30000.0       100.0                  25.0                   7500.0   \n",
       "1         30000.0       100.0                  25.0                   7500.0   \n",
       "\n",
       "   mzmine_peak  \n",
       "0        488.0  \n",
       "1        466.0  "
      ]
     },
     "execution_count": 35,
     "metadata": {},
     "output_type": "execute_result"
    }
   ],
   "source": [
    "vsm = VimmsSequenceManager(None, evaluation_methods, output_dir, progress_bar=True, ms1_picked_peaks_file=None, mzmine_command=mzmine_command)\n",
    "gs = GridSearchExperiment(vsm, 'TopNController', mass_spec_params, None, topn_variable_params_dict, controller_params, mzml_file, MZML2CHEMS_DICT=MZML2CHEMS_DICT, ps=ps, parallel=parallel)\n",
    "gs.results"
   ]
  },
  {
   "cell_type": "markdown",
   "metadata": {},
   "source": [
    "### Example 4 - SmartROI - Seed with mzml, non-parallel"
   ]
  },
  {
   "cell_type": "code",
   "execution_count": 17,
   "metadata": {},
   "outputs": [],
   "source": [
    "output_dir = os.path.join(experiment_dir, 'grid_search_example_4')"
   ]
  },
  {
   "cell_type": "code",
   "execution_count": 18,
   "metadata": {},
   "outputs": [],
   "source": [
    "smartROI_controller_params = {\"ionisation_mode\": POSITIVE,\n",
    "                       \"N\": 10,\n",
    "                       \"mz_tol\": 10,\n",
    "                       \"rt_tol\":30,\n",
    "                       \"min_ms1_intensity\": 1.75E5,\n",
    "                       \"rt_range\": [(200, 400)],\n",
    "                       \"isolation_width\": 1,\n",
    "                       \"min_roi_intensity\": 1000,\n",
    "                       \"min_roi_length\": 1,\n",
    "                       \"min_roi_length_for_fragmentation\": 1,\n",
    "                       \"reset_length_seconds\": 100,\n",
    "                       \"intensity_increase_factor\": 2,\n",
    "                       \"length_units\": \"scans\"}"
   ]
  },
  {
   "cell_type": "code",
   "execution_count": 19,
   "metadata": {},
   "outputs": [],
   "source": [
    "smartROI_variable_params_dict = {'drop_perc': [0/100,0.1/100], 'intensity_increase_factor': [2]}"
   ]
  },
  {
   "cell_type": "code",
   "execution_count": 20,
   "metadata": {},
   "outputs": [],
   "source": [
    "parallel = False"
   ]
  },
  {
   "cell_type": "code",
   "execution_count": 21,
   "metadata": {},
   "outputs": [
    {
     "name": "stderr",
     "output_type": "stream",
     "text": [
      "2020-08-07 15:08:58.984 | INFO     | vimms.Roi:__init__:412 - Found 11480 ROIs above thresholds\n",
      "2020-08-07 15:08:58.985 | INFO     | vimms.Common:save_obj:65 - Saving <class 'list'> to C:\\Users\\Vinny\\work\\vimms\\demo\\01. Data\\example_data\\beers\\fullscan\\mzML\\Beer_multibeers_1_fullscan1.p\n",
      "2020-08-07 15:09:07.754 | INFO     | vimms.Common:save_obj:65 - Saving <class 'list'> to C:\\Users\\Vinny\\work\\vimms\\demo\\03. MultiSampleMethods\\results\\grid_search_example_4\\Beer_multibeers_1_fullscan1.p\n",
      "2020-08-07 15:09:15.027 | INFO     | vimms.PythonMzmine:pick_peaks:23 - Creating xml batch file for Beer_multibeers_1_fullscan1.mzML\n",
      "2020-08-07 15:09:15.039 | INFO     | vimms.PythonMzmine:pick_peaks:53 - Running mzMine for Beer_multibeers_1_fullscan1.mzML\n",
      "2020-08-07 15:17:38.177 | INFO     | vimms.SequenceManager:run:246 - Running in serial mode\n",
      "2020-08-07 15:17:38.178 | INFO     | vimms.SequenceManager:run_controller:202 - Begun experiment: sample0\n",
      "2020-08-07 15:17:38.382 | INFO     | vimms.SequenceManager:run_experiment:167 - {'Sample ID': {0: 'sample0'}, 'Controller Method': {0: 'TopN_SmartRoiController'}, 'Controller Params': {0: {'ionisation_mode': 'Positive', 'isolation_width': 1, 'mz_tol': 10, 'min_ms1_intensity': 175000.0, 'min_roi_intensity': 1000, 'min_roi_length': 1, 'N': 10, 'rt_tol': 30, 'min_roi_length_for_fragmentation': 1, 'reset_length_seconds': 100, 'intensity_increase_factor': 2, 'length_units': 'scans', 'drop_perc': 0.0, 'ms1_shift': 0, 'ms1_agc_target': 200000, 'ms1_max_it': 250, 'ms1_collision_energy': 0, 'ms1_orbitrap_resolution': 120000, 'ms2_agc_target': 30000, 'ms2_max_it': 100, 'ms2_collision_energy': 25, 'ms2_orbitrap_resolution': 7500}}, 'MassSpec Params': {0: {'ionisation_mode': 'Positive', 'peak_sampler': <vimms.DataGenerator.PeakSampler object at 0x0000020295A5C2E8>, 'add_noise': False, 'isolation_transition_window': 'rectangular', 'isolation_transition_window_params': None}}, 'Dataset': {0: 'C:\\\\Users\\\\Vinny\\\\work\\\\vimms\\\\demo\\\\03. MultiSampleMethods\\\\results\\\\grid_search_example_4\\\\Beer_multibeers_1_fullscan1.p'}}\n",
      "(1440.000s) ms_level=2 N=10 DEW=30: 100%|█████████████████████████████████████████████████████████████████████████████████████████████████████████████████████████████████████████████████▉| 1439.8000000001628/1440 [01:37<00:00, 14.82it/s]\n",
      "2020-08-07 15:19:34.476 | INFO     | vimms.SequenceManager:run_controller:206 - Completed experiment: sample0\n",
      "2020-08-07 15:19:34.477 | INFO     | vimms.SequenceManager:run_evaluation:216 - Started Evaluation: sample0\n"
     ]
    },
    {
     "name": "stdout",
     "output_type": "stream",
     "text": [
      "Loaded 5747 scans\n"
     ]
    },
    {
     "name": "stderr",
     "output_type": "stream",
     "text": [
      "2020-08-07 15:19:43.443 | INFO     | vimms.SequenceManager:run_evaluation:218 - Completed Evaluation: sample0\n",
      "2020-08-07 15:19:43.444 | INFO     | vimms.SequenceManager:run_serial:258 - Finished 0\n",
      "2020-08-07 15:19:43.445 | INFO     | vimms.SequenceManager:run_controller:202 - Begun experiment: sample1\n",
      "2020-08-07 15:19:43.648 | INFO     | vimms.SequenceManager:run_experiment:167 - {'Sample ID': {1: 'sample1'}, 'Controller Method': {1: 'TopN_SmartRoiController'}, 'Controller Params': {1: {'ionisation_mode': 'Positive', 'isolation_width': 1, 'mz_tol': 10, 'min_ms1_intensity': 175000.0, 'min_roi_intensity': 1000, 'min_roi_length': 1, 'N': 10, 'rt_tol': 30, 'min_roi_length_for_fragmentation': 1, 'reset_length_seconds': 100, 'intensity_increase_factor': 2, 'length_units': 'scans', 'drop_perc': 0.001, 'ms1_shift': 0, 'ms1_agc_target': 200000, 'ms1_max_it': 250, 'ms1_collision_energy': 0, 'ms1_orbitrap_resolution': 120000, 'ms2_agc_target': 30000, 'ms2_max_it': 100, 'ms2_collision_energy': 25, 'ms2_orbitrap_resolution': 7500}}, 'MassSpec Params': {1: {'ionisation_mode': 'Positive', 'peak_sampler': <vimms.DataGenerator.PeakSampler object at 0x0000020295A5C2E8>, 'add_noise': False, 'isolation_transition_window': 'rectangular', 'isolation_transition_window_params': None}}, 'Dataset': {1: 'C:\\\\Users\\\\Vinny\\\\work\\\\vimms\\\\demo\\\\03. MultiSampleMethods\\\\results\\\\grid_search_example_4\\\\Beer_multibeers_1_fullscan1.p'}}\n",
      "(1440.000s) ms_level=2 N=10 DEW=30: 100%|█████████████████████████████████████████████████████████████████████████████████████████████████████████████████████████████████████████████████▉| 1439.8000000001628/1440 [01:33<00:00, 15.39it/s]\n",
      "2020-08-07 15:21:32.892 | INFO     | vimms.SequenceManager:run_controller:206 - Completed experiment: sample1\n",
      "2020-08-07 15:21:32.893 | INFO     | vimms.SequenceManager:run_evaluation:216 - Started Evaluation: sample1\n"
     ]
    },
    {
     "name": "stdout",
     "output_type": "stream",
     "text": [
      "Loaded 5745 scans\n"
     ]
    },
    {
     "name": "stderr",
     "output_type": "stream",
     "text": [
      "2020-08-07 15:21:43.086 | INFO     | vimms.SequenceManager:run_evaluation:218 - Completed Evaluation: sample1\n",
      "2020-08-07 15:21:43.087 | INFO     | vimms.SequenceManager:run_serial:258 - Finished 1\n"
     ]
    },
    {
     "data": {
      "text/html": [
       "<div>\n",
       "<style scoped>\n",
       "    .dataframe tbody tr th:only-of-type {\n",
       "        vertical-align: middle;\n",
       "    }\n",
       "\n",
       "    .dataframe tbody tr th {\n",
       "        vertical-align: top;\n",
       "    }\n",
       "\n",
       "    .dataframe thead th {\n",
       "        text-align: right;\n",
       "    }\n",
       "</style>\n",
       "<table border=\"1\" class=\"dataframe\">\n",
       "  <thead>\n",
       "    <tr style=\"text-align: right;\">\n",
       "      <th></th>\n",
       "      <th>Sample ID</th>\n",
       "      <th>Controller Method</th>\n",
       "      <th>mz_tol</th>\n",
       "      <th>min_ms1_intensity</th>\n",
       "      <th>min_roi_intensity</th>\n",
       "      <th>min_roi_length</th>\n",
       "      <th>N</th>\n",
       "      <th>rt_tol</th>\n",
       "      <th>min_roi_length_for_fragmentation</th>\n",
       "      <th>reset_length_seconds</th>\n",
       "      <th>...</th>\n",
       "      <th>ms1_shift</th>\n",
       "      <th>ms1_agc_target</th>\n",
       "      <th>ms1_max_it</th>\n",
       "      <th>ms1_collision_energy</th>\n",
       "      <th>ms1_orbitrap_resolution</th>\n",
       "      <th>ms2_agc_target</th>\n",
       "      <th>ms2_max_it</th>\n",
       "      <th>ms2_collision_energy</th>\n",
       "      <th>ms2_orbitrap_resolution</th>\n",
       "      <th>mzmine_peak</th>\n",
       "    </tr>\n",
       "  </thead>\n",
       "  <tbody>\n",
       "    <tr>\n",
       "      <th>0</th>\n",
       "      <td>sample0</td>\n",
       "      <td>TopN_SmartRoiController</td>\n",
       "      <td>10</td>\n",
       "      <td>175000.0</td>\n",
       "      <td>1000</td>\n",
       "      <td>1</td>\n",
       "      <td>10</td>\n",
       "      <td>30</td>\n",
       "      <td>1</td>\n",
       "      <td>100</td>\n",
       "      <td>...</td>\n",
       "      <td>0</td>\n",
       "      <td>200000</td>\n",
       "      <td>250</td>\n",
       "      <td>0</td>\n",
       "      <td>120000</td>\n",
       "      <td>30000</td>\n",
       "      <td>100</td>\n",
       "      <td>25</td>\n",
       "      <td>7500</td>\n",
       "      <td>1318.0</td>\n",
       "    </tr>\n",
       "    <tr>\n",
       "      <th>1</th>\n",
       "      <td>sample1</td>\n",
       "      <td>TopN_SmartRoiController</td>\n",
       "      <td>10</td>\n",
       "      <td>175000.0</td>\n",
       "      <td>1000</td>\n",
       "      <td>1</td>\n",
       "      <td>10</td>\n",
       "      <td>30</td>\n",
       "      <td>1</td>\n",
       "      <td>100</td>\n",
       "      <td>...</td>\n",
       "      <td>0</td>\n",
       "      <td>200000</td>\n",
       "      <td>250</td>\n",
       "      <td>0</td>\n",
       "      <td>120000</td>\n",
       "      <td>30000</td>\n",
       "      <td>100</td>\n",
       "      <td>25</td>\n",
       "      <td>7500</td>\n",
       "      <td>1312.0</td>\n",
       "    </tr>\n",
       "  </tbody>\n",
       "</table>\n",
       "<p>2 rows × 23 columns</p>\n",
       "</div>"
      ],
      "text/plain": [
       "  Sample ID        Controller Method  mz_tol  min_ms1_intensity  \\\n",
       "0   sample0  TopN_SmartRoiController      10           175000.0   \n",
       "1   sample1  TopN_SmartRoiController      10           175000.0   \n",
       "\n",
       "   min_roi_intensity  min_roi_length   N  rt_tol  \\\n",
       "0               1000               1  10      30   \n",
       "1               1000               1  10      30   \n",
       "\n",
       "   min_roi_length_for_fragmentation  reset_length_seconds  ...  ms1_shift  \\\n",
       "0                                 1                   100  ...          0   \n",
       "1                                 1                   100  ...          0   \n",
       "\n",
       "  ms1_agc_target  ms1_max_it  ms1_collision_energy  ms1_orbitrap_resolution  \\\n",
       "0         200000         250                     0                   120000   \n",
       "1         200000         250                     0                   120000   \n",
       "\n",
       "   ms2_agc_target  ms2_max_it  ms2_collision_energy  ms2_orbitrap_resolution  \\\n",
       "0           30000         100                    25                     7500   \n",
       "1           30000         100                    25                     7500   \n",
       "\n",
       "   mzmine_peak  \n",
       "0       1318.0  \n",
       "1       1312.0  \n",
       "\n",
       "[2 rows x 23 columns]"
      ]
     },
     "execution_count": 21,
     "metadata": {},
     "output_type": "execute_result"
    }
   ],
   "source": [
    "vsm = VimmsSequenceManager(None, evaluation_methods, output_dir, progress_bar=True, ms1_picked_peaks_file=None, mzmine_command=mzmine_command)\n",
    "gs = GridSearchExperiment(vsm, 'TopN_SmartRoiController', mass_spec_params, None, smartROI_variable_params_dict, smartROI_controller_params, mzml_file, MZML2CHEMS_DICT=MZML2CHEMS_DICT, ps=ps, parallel=parallel)\n",
    "gs.results"
   ]
  },
  {
   "cell_type": "markdown",
   "metadata": {},
   "source": [
    "### Example 5 - WeightedDEW - Seed with mzml, non-parallel"
   ]
  },
  {
   "cell_type": "code",
   "execution_count": 27,
   "metadata": {},
   "outputs": [],
   "source": [
    "output_dir = os.path.join(experiment_dir, 'grid_search_example_5')"
   ]
  },
  {
   "cell_type": "code",
   "execution_count": 28,
   "metadata": {},
   "outputs": [],
   "source": [
    "weightedDEW_controller_params = {\"ionisation_mode\": POSITIVE,\n",
    "                       \"N\": 10,\n",
    "                       \"mz_tol\": 10,\n",
    "                       \"rt_tol\":30,\n",
    "                       \"min_ms1_intensity\": 1.75E5,\n",
    "                       \"rt_range\": [(200, 400)],\n",
    "                       \"isolation_width\": 1,\n",
    "                       \"ms1_shift\": 0,\n",
    "                       \"exclusion_t_0\": 15,\n",
    "                       \"log_intensity\": False}"
   ]
  },
  {
   "cell_type": "code",
   "execution_count": 32,
   "metadata": {},
   "outputs": [],
   "source": [
    "weightedDEW_variable_params_dict = {'rt_tol': [30], 'exclusion_t_0': [10,20]}"
   ]
  },
  {
   "cell_type": "code",
   "execution_count": 33,
   "metadata": {},
   "outputs": [],
   "source": [
    "parallel = False"
   ]
  },
  {
   "cell_type": "code",
   "execution_count": 34,
   "metadata": {},
   "outputs": [
    {
     "name": "stderr",
     "output_type": "stream",
     "text": [
      "2020-08-07 16:04:48.594 | INFO     | vimms.Roi:__init__:412 - Found 11480 ROIs above thresholds\n",
      "2020-08-07 16:04:48.595 | INFO     | vimms.Common:save_obj:65 - Saving <class 'list'> to C:\\Users\\Vinny\\work\\vimms\\demo\\01. Data\\example_data\\beers\\fullscan\\mzML\\Beer_multibeers_1_fullscan1.p\n",
      "2020-08-07 16:04:52.908 | INFO     | vimms.Common:save_obj:65 - Saving <class 'list'> to C:\\Users\\Vinny\\work\\vimms\\demo\\03. MultiSampleMethods\\results\\grid_search_example_5\\Beer_multibeers_1_fullscan1.p\n",
      "2020-08-07 16:04:57.103 | INFO     | vimms.PythonMzmine:pick_peaks:23 - Creating xml batch file for Beer_multibeers_1_fullscan1.mzML\n",
      "2020-08-07 16:04:57.105 | INFO     | vimms.PythonMzmine:pick_peaks:53 - Running mzMine for Beer_multibeers_1_fullscan1.mzML\n",
      "2020-08-07 16:13:34.526 | INFO     | vimms.SequenceManager:run:246 - Running in serial mode\n",
      "2020-08-07 16:13:34.527 | INFO     | vimms.SequenceManager:run_controller:202 - Begun experiment: sample0\n",
      "2020-08-07 16:13:34.729 | INFO     | vimms.SequenceManager:run_experiment:167 - {'Sample ID': {0: 'sample0'}, 'Controller Method': {0: 'WeightedDewController'}, 'Controller Params': {0: {'ionisation_mode': 'Positive', 'N': 10, 'isolation_width': 1, 'mz_tol': 10, 'rt_tol': 30, 'min_ms1_intensity': 175000.0, 'ms1_shift': 0, 'exclusion_t_0': 10, 'log_intensity': False, 'ms1_agc_target': 200000.0, 'ms1_max_it': 250.0, 'ms1_collision_energy': 0.0, 'ms1_orbitrap_resolution': 120000.0, 'ms2_agc_target': 30000.0, 'ms2_max_it': 100.0, 'ms2_collision_energy': 25.0, 'ms2_orbitrap_resolution': 7500.0}}, 'MassSpec Params': {0: {'ionisation_mode': 'Positive', 'peak_sampler': <vimms.DataGenerator.PeakSampler object at 0x0000020295A5C2E8>, 'add_noise': False, 'isolation_transition_window': 'rectangular', 'isolation_transition_window_params': None}}, 'Dataset': {0: 'C:\\\\Users\\\\Vinny\\\\work\\\\vimms\\\\demo\\\\03. MultiSampleMethods\\\\results\\\\grid_search_example_5\\\\Beer_multibeers_1_fullscan1.p'}}\n",
      "(1440.200s) ms_level=1 N=10 DEW=30: 100%|█████████████████████████████████████████████████████████████████████████████████████████████████████████████████████████████████████████████████▉| 1439.8000000001675/1440 [01:39<00:00, 14.44it/s]\n",
      "2020-08-07 16:15:32.101 | INFO     | vimms.SequenceManager:run_controller:206 - Completed experiment: sample0\n",
      "2020-08-07 16:15:32.101 | INFO     | vimms.SequenceManager:run_evaluation:216 - Started Evaluation: sample0\n"
     ]
    },
    {
     "name": "stdout",
     "output_type": "stream",
     "text": [
      "Loaded 6214 scans\n"
     ]
    },
    {
     "name": "stderr",
     "output_type": "stream",
     "text": [
      "2020-08-07 16:15:46.972 | INFO     | vimms.SequenceManager:run_evaluation:218 - Completed Evaluation: sample0\n",
      "2020-08-07 16:15:46.974 | INFO     | vimms.SequenceManager:run_serial:258 - Finished 0\n",
      "2020-08-07 16:15:46.974 | INFO     | vimms.SequenceManager:run_controller:202 - Begun experiment: sample1\n",
      "2020-08-07 16:15:47.177 | INFO     | vimms.SequenceManager:run_experiment:167 - {'Sample ID': {1: 'sample1'}, 'Controller Method': {1: 'WeightedDewController'}, 'Controller Params': {1: {'ionisation_mode': 'Positive', 'N': 10, 'isolation_width': 1, 'mz_tol': 10, 'rt_tol': 30, 'min_ms1_intensity': 175000.0, 'ms1_shift': 0, 'exclusion_t_0': 20, 'log_intensity': False, 'ms1_agc_target': 200000.0, 'ms1_max_it': 250.0, 'ms1_collision_energy': 0.0, 'ms1_orbitrap_resolution': 120000.0, 'ms2_agc_target': 30000.0, 'ms2_max_it': 100.0, 'ms2_collision_energy': 25.0, 'ms2_orbitrap_resolution': 7500.0}}, 'MassSpec Params': {1: {'ionisation_mode': 'Positive', 'peak_sampler': <vimms.DataGenerator.PeakSampler object at 0x0000020295A5C2E8>, 'add_noise': False, 'isolation_transition_window': 'rectangular', 'isolation_transition_window_params': None}}, 'Dataset': {1: 'C:\\\\Users\\\\Vinny\\\\work\\\\vimms\\\\demo\\\\03. MultiSampleMethods\\\\results\\\\grid_search_example_5\\\\Beer_multibeers_1_fullscan1.p'}}\n",
      "(825.600s) ms_level=2 N=10 DEW=30:  57%|████████████████████████████████████████████████████████████████████████████████████▊                                                               | 825.6000000000377/1440 [01:01<00:46, 13.35it/s]\n"
     ]
    },
    {
     "ename": "KeyboardInterrupt",
     "evalue": "",
     "output_type": "error",
     "traceback": [
      "\u001b[1;31m---------------------------------------------------------------------------\u001b[0m",
      "\u001b[1;31mKeyboardInterrupt\u001b[0m                         Traceback (most recent call last)",
      "\u001b[1;32m<ipython-input-34-1f62eca0d9f2>\u001b[0m in \u001b[0;36m<module>\u001b[1;34m\u001b[0m\n\u001b[0;32m      1\u001b[0m \u001b[0mvsm\u001b[0m \u001b[1;33m=\u001b[0m \u001b[0mVimmsSequenceManager\u001b[0m\u001b[1;33m(\u001b[0m\u001b[1;32mNone\u001b[0m\u001b[1;33m,\u001b[0m \u001b[0mevaluation_methods\u001b[0m\u001b[1;33m,\u001b[0m \u001b[0moutput_dir\u001b[0m\u001b[1;33m,\u001b[0m \u001b[0mprogress_bar\u001b[0m\u001b[1;33m=\u001b[0m\u001b[1;32mTrue\u001b[0m\u001b[1;33m,\u001b[0m \u001b[0mms1_picked_peaks_file\u001b[0m\u001b[1;33m=\u001b[0m\u001b[1;32mNone\u001b[0m\u001b[1;33m,\u001b[0m \u001b[0mmzmine_command\u001b[0m\u001b[1;33m=\u001b[0m\u001b[0mmzmine_command\u001b[0m\u001b[1;33m)\u001b[0m\u001b[1;33m\u001b[0m\u001b[1;33m\u001b[0m\u001b[0m\n\u001b[1;32m----> 2\u001b[1;33m \u001b[0mgs\u001b[0m \u001b[1;33m=\u001b[0m \u001b[0mGridSearchExperiment\u001b[0m\u001b[1;33m(\u001b[0m\u001b[0mvsm\u001b[0m\u001b[1;33m,\u001b[0m \u001b[1;34m'WeightedDewController'\u001b[0m\u001b[1;33m,\u001b[0m \u001b[0mmass_spec_params\u001b[0m\u001b[1;33m,\u001b[0m \u001b[1;32mNone\u001b[0m\u001b[1;33m,\u001b[0m \u001b[0mweightedDEW_variable_params_dict\u001b[0m\u001b[1;33m,\u001b[0m \u001b[0mweightedDEW_controller_params\u001b[0m\u001b[1;33m,\u001b[0m \u001b[0mmzml_file\u001b[0m\u001b[1;33m,\u001b[0m \u001b[0mMZML2CHEMS_DICT\u001b[0m\u001b[1;33m=\u001b[0m\u001b[0mMZML2CHEMS_DICT\u001b[0m\u001b[1;33m,\u001b[0m \u001b[0mps\u001b[0m\u001b[1;33m=\u001b[0m\u001b[0mps\u001b[0m\u001b[1;33m,\u001b[0m \u001b[0mparallel\u001b[0m\u001b[1;33m=\u001b[0m\u001b[0mparallel\u001b[0m\u001b[1;33m)\u001b[0m\u001b[1;33m\u001b[0m\u001b[1;33m\u001b[0m\u001b[0m\n\u001b[0m\u001b[0;32m      3\u001b[0m \u001b[0mgs\u001b[0m\u001b[1;33m.\u001b[0m\u001b[0mresults\u001b[0m\u001b[1;33m\u001b[0m\u001b[1;33m\u001b[0m\u001b[0m\n",
      "\u001b[1;32m~\\work\\vimms\\vimms\\SequenceManager.py\u001b[0m in \u001b[0;36m__init__\u001b[1;34m(self, sequence_manager, controller_method, mass_spec_param_dict, dataset_file, variable_params_dict, base_params_dict, mzml_file, MZML2CHEMS_DICT, ps, parallel)\u001b[0m\n\u001b[0;32m    328\u001b[0m         \u001b[0mself\u001b[0m\u001b[1;33m.\u001b[0m\u001b[0mbase_params_dict\u001b[0m \u001b[1;33m=\u001b[0m \u001b[0mbase_params_dict\u001b[0m\u001b[1;33m\u001b[0m\u001b[1;33m\u001b[0m\u001b[0m\n\u001b[0;32m    329\u001b[0m         \u001b[0msequence_manager\u001b[0m\u001b[1;33m.\u001b[0m\u001b[0mcontroller_schedule\u001b[0m \u001b[1;33m=\u001b[0m \u001b[0mself\u001b[0m\u001b[1;33m.\u001b[0m\u001b[0m_generate_controller_schedule\u001b[0m\u001b[1;33m(\u001b[0m\u001b[1;33m)\u001b[0m\u001b[1;33m\u001b[0m\u001b[1;33m\u001b[0m\u001b[0m\n\u001b[1;32m--> 330\u001b[1;33m         \u001b[0msuper\u001b[0m\u001b[1;33m(\u001b[0m\u001b[1;33m)\u001b[0m\u001b[1;33m.\u001b[0m\u001b[0m__init__\u001b[0m\u001b[1;33m(\u001b[0m\u001b[0msequence_manager\u001b[0m\u001b[1;33m,\u001b[0m \u001b[0mself\u001b[0m\u001b[1;33m.\u001b[0m\u001b[0mparallel\u001b[0m\u001b[1;33m)\u001b[0m\u001b[1;33m\u001b[0m\u001b[1;33m\u001b[0m\u001b[0m\n\u001b[0m\u001b[0;32m    331\u001b[0m \u001b[1;33m\u001b[0m\u001b[0m\n\u001b[0;32m    332\u001b[0m     \u001b[1;32mdef\u001b[0m \u001b[0mrun\u001b[0m\u001b[1;33m(\u001b[0m\u001b[0mself\u001b[0m\u001b[1;33m)\u001b[0m\u001b[1;33m:\u001b[0m\u001b[1;33m\u001b[0m\u001b[1;33m\u001b[0m\u001b[0m\n",
      "\u001b[1;32m~\\work\\vimms\\vimms\\SequenceManager.py\u001b[0m in \u001b[0;36m__init__\u001b[1;34m(self, sequence_manager, parallel, mzml_file_list, MZML2CHEMS_DICT, ps)\u001b[0m\n\u001b[0;32m    228\u001b[0m         \u001b[1;32mif\u001b[0m \u001b[0mmzml_file_list\u001b[0m \u001b[1;32mis\u001b[0m \u001b[1;32mnot\u001b[0m \u001b[1;32mNone\u001b[0m \u001b[1;32mand\u001b[0m \u001b[0mall\u001b[0m\u001b[1;33m(\u001b[0m\u001b[0mnp\u001b[0m\u001b[1;33m.\u001b[0m\u001b[0marray\u001b[0m\u001b[1;33m(\u001b[0m\u001b[0msequence_manager\u001b[0m\u001b[1;33m.\u001b[0m\u001b[0mcontroller_schedule\u001b[0m\u001b[1;33m[\u001b[0m\u001b[1;34m'Dataset'\u001b[0m\u001b[1;33m]\u001b[0m\u001b[1;33m)\u001b[0m \u001b[1;33m==\u001b[0m \u001b[1;32mNone\u001b[0m\u001b[1;33m)\u001b[0m\u001b[1;33m:\u001b[0m\u001b[1;33m\u001b[0m\u001b[1;33m\u001b[0m\u001b[0m\n\u001b[0;32m    229\u001b[0m             \u001b[0msequence_manager\u001b[0m \u001b[1;33m=\u001b[0m \u001b[0mself\u001b[0m\u001b[1;33m.\u001b[0m\u001b[0madd_dataset_files\u001b[0m\u001b[1;33m(\u001b[0m\u001b[0msequence_manager\u001b[0m\u001b[1;33m,\u001b[0m \u001b[0mmzml_file_list\u001b[0m\u001b[1;33m)\u001b[0m\u001b[1;33m\u001b[0m\u001b[1;33m\u001b[0m\u001b[0m\n\u001b[1;32m--> 230\u001b[1;33m         \u001b[0msuper\u001b[0m\u001b[1;33m(\u001b[0m\u001b[1;33m)\u001b[0m\u001b[1;33m.\u001b[0m\u001b[0m__init__\u001b[0m\u001b[1;33m(\u001b[0m\u001b[0msequence_manager\u001b[0m\u001b[1;33m)\u001b[0m\u001b[1;33m\u001b[0m\u001b[1;33m\u001b[0m\u001b[0m\n\u001b[0m\u001b[0;32m    231\u001b[0m \u001b[1;33m\u001b[0m\u001b[0m\n\u001b[0;32m    232\u001b[0m     \u001b[1;32mdef\u001b[0m \u001b[0madd_dataset_files\u001b[0m\u001b[1;33m(\u001b[0m\u001b[0mself\u001b[0m\u001b[1;33m,\u001b[0m \u001b[0msequence_manager\u001b[0m\u001b[1;33m,\u001b[0m \u001b[0mmzml_file_list\u001b[0m\u001b[1;33m)\u001b[0m\u001b[1;33m:\u001b[0m\u001b[1;33m\u001b[0m\u001b[1;33m\u001b[0m\u001b[0m\n",
      "\u001b[1;32m~\\work\\vimms\\vimms\\SequenceManager.py\u001b[0m in \u001b[0;36m__init__\u001b[1;34m(self, sequence_manager)\u001b[0m\n\u001b[0;32m    194\u001b[0m         \u001b[0mself\u001b[0m\u001b[1;33m.\u001b[0m\u001b[0msequence_manager\u001b[0m \u001b[1;33m=\u001b[0m \u001b[0msequence_manager\u001b[0m\u001b[1;33m\u001b[0m\u001b[1;33m\u001b[0m\u001b[0m\n\u001b[0;32m    195\u001b[0m         \u001b[0mself\u001b[0m\u001b[1;33m.\u001b[0m\u001b[0mresults\u001b[0m \u001b[1;33m=\u001b[0m \u001b[0mself\u001b[0m\u001b[1;33m.\u001b[0m\u001b[0msequence_manager\u001b[0m\u001b[1;33m.\u001b[0m\u001b[0mcreate_results_df\u001b[0m\u001b[1;33m(\u001b[0m\u001b[1;33m)\u001b[0m\u001b[1;33m\u001b[0m\u001b[1;33m\u001b[0m\u001b[0m\n\u001b[1;32m--> 196\u001b[1;33m         \u001b[0mself\u001b[0m\u001b[1;33m.\u001b[0m\u001b[0mrun\u001b[0m\u001b[1;33m(\u001b[0m\u001b[1;33m)\u001b[0m\u001b[1;33m\u001b[0m\u001b[1;33m\u001b[0m\u001b[0m\n\u001b[0m\u001b[0;32m    197\u001b[0m \u001b[1;33m\u001b[0m\u001b[0m\n\u001b[0;32m    198\u001b[0m     \u001b[1;32mdef\u001b[0m \u001b[0mrun\u001b[0m\u001b[1;33m(\u001b[0m\u001b[0mself\u001b[0m\u001b[1;33m)\u001b[0m\u001b[1;33m:\u001b[0m\u001b[1;33m\u001b[0m\u001b[1;33m\u001b[0m\u001b[0m\n",
      "\u001b[1;32m~\\work\\vimms\\vimms\\SequenceManager.py\u001b[0m in \u001b[0;36mrun\u001b[1;34m(self)\u001b[0m\n\u001b[0;32m    331\u001b[0m \u001b[1;33m\u001b[0m\u001b[0m\n\u001b[0;32m    332\u001b[0m     \u001b[1;32mdef\u001b[0m \u001b[0mrun\u001b[0m\u001b[1;33m(\u001b[0m\u001b[0mself\u001b[0m\u001b[1;33m)\u001b[0m\u001b[1;33m:\u001b[0m\u001b[1;33m\u001b[0m\u001b[1;33m\u001b[0m\u001b[0m\n\u001b[1;32m--> 333\u001b[1;33m         \u001b[0msuper\u001b[0m\u001b[1;33m(\u001b[0m\u001b[1;33m)\u001b[0m\u001b[1;33m.\u001b[0m\u001b[0mrun\u001b[0m\u001b[1;33m(\u001b[0m\u001b[1;33m)\u001b[0m\u001b[1;33m\u001b[0m\u001b[1;33m\u001b[0m\u001b[0m\n\u001b[0m\u001b[0;32m    334\u001b[0m \u001b[1;33m\u001b[0m\u001b[0m\n\u001b[0;32m    335\u001b[0m     \u001b[1;32mdef\u001b[0m \u001b[0m_generate_controller_schedule\u001b[0m\u001b[1;33m(\u001b[0m\u001b[0mself\u001b[0m\u001b[1;33m)\u001b[0m\u001b[1;33m:\u001b[0m\u001b[1;33m\u001b[0m\u001b[1;33m\u001b[0m\u001b[0m\n",
      "\u001b[1;32m~\\work\\vimms\\vimms\\SequenceManager.py\u001b[0m in \u001b[0;36mrun\u001b[1;34m(self)\u001b[0m\n\u001b[0;32m    245\u001b[0m         \u001b[1;32melse\u001b[0m\u001b[1;33m:\u001b[0m\u001b[1;33m\u001b[0m\u001b[1;33m\u001b[0m\u001b[0m\n\u001b[0;32m    246\u001b[0m             \u001b[0mlogger\u001b[0m\u001b[1;33m.\u001b[0m\u001b[0minfo\u001b[0m\u001b[1;33m(\u001b[0m\u001b[1;34m'Running in serial mode'\u001b[0m\u001b[1;33m)\u001b[0m\u001b[1;33m\u001b[0m\u001b[1;33m\u001b[0m\u001b[0m\n\u001b[1;32m--> 247\u001b[1;33m             \u001b[0mself\u001b[0m\u001b[1;33m.\u001b[0m\u001b[0mrun_serial\u001b[0m\u001b[1;33m(\u001b[0m\u001b[1;33m)\u001b[0m\u001b[1;33m\u001b[0m\u001b[1;33m\u001b[0m\u001b[0m\n\u001b[0m\u001b[0;32m    248\u001b[0m \u001b[1;33m\u001b[0m\u001b[0m\n\u001b[0;32m    249\u001b[0m     \u001b[1;32mdef\u001b[0m \u001b[0mrun_serial\u001b[0m\u001b[1;33m(\u001b[0m\u001b[0mself\u001b[0m\u001b[1;33m)\u001b[0m\u001b[1;33m:\u001b[0m\u001b[1;33m\u001b[0m\u001b[1;33m\u001b[0m\u001b[0m\n",
      "\u001b[1;32m~\\work\\vimms\\vimms\\SequenceManager.py\u001b[0m in \u001b[0;36mrun_serial\u001b[1;34m(self)\u001b[0m\n\u001b[0;32m    253\u001b[0m                 \u001b[1;34m'idx'\u001b[0m\u001b[1;33m:\u001b[0m \u001b[0midx\u001b[0m\u001b[1;33m\u001b[0m\u001b[1;33m\u001b[0m\u001b[0m\n\u001b[0;32m    254\u001b[0m             }\n\u001b[1;32m--> 255\u001b[1;33m             \u001b[0mresults_df\u001b[0m \u001b[1;33m=\u001b[0m \u001b[0mrun_single\u001b[0m\u001b[1;33m(\u001b[0m\u001b[0mparams\u001b[0m\u001b[1;33m)\u001b[0m\u001b[1;33m\u001b[0m\u001b[1;33m\u001b[0m\u001b[0m\n\u001b[0m\u001b[0;32m    256\u001b[0m             \u001b[1;32mfor\u001b[0m \u001b[0mscore_name\u001b[0m \u001b[1;32min\u001b[0m \u001b[0mself\u001b[0m\u001b[1;33m.\u001b[0m\u001b[0msequence_manager\u001b[0m\u001b[1;33m.\u001b[0m\u001b[0mevaluation_methods\u001b[0m\u001b[1;33m:\u001b[0m\u001b[1;33m\u001b[0m\u001b[1;33m\u001b[0m\u001b[0m\n\u001b[0;32m    257\u001b[0m                 \u001b[0mself\u001b[0m\u001b[1;33m.\u001b[0m\u001b[0mresults\u001b[0m\u001b[1;33m.\u001b[0m\u001b[0mloc\u001b[0m\u001b[1;33m[\u001b[0m\u001b[0midx\u001b[0m\u001b[1;33m,\u001b[0m \u001b[0mscore_name\u001b[0m\u001b[1;33m]\u001b[0m \u001b[1;33m=\u001b[0m \u001b[0mresults_df\u001b[0m\u001b[1;33m[\u001b[0m\u001b[0mscore_name\u001b[0m\u001b[1;33m]\u001b[0m\u001b[1;33m\u001b[0m\u001b[1;33m\u001b[0m\u001b[0m\n",
      "\u001b[1;32m~\\work\\vimms\\vimms\\SequenceManager.py\u001b[0m in \u001b[0;36mrun_single\u001b[1;34m(params)\u001b[0m\n\u001b[0;32m    295\u001b[0m     \u001b[0mself\u001b[0m \u001b[1;33m=\u001b[0m \u001b[0mparams\u001b[0m\u001b[1;33m[\u001b[0m\u001b[1;34m'self'\u001b[0m\u001b[1;33m]\u001b[0m\u001b[1;33m\u001b[0m\u001b[1;33m\u001b[0m\u001b[0m\n\u001b[0;32m    296\u001b[0m \u001b[1;33m\u001b[0m\u001b[0m\n\u001b[1;32m--> 297\u001b[1;33m     \u001b[0mcurrent_mzml_file\u001b[0m\u001b[1;33m,\u001b[0m \u001b[0mcontroller_name\u001b[0m \u001b[1;33m=\u001b[0m \u001b[0mself\u001b[0m\u001b[1;33m.\u001b[0m\u001b[0mrun_controller\u001b[0m\u001b[1;33m(\u001b[0m\u001b[0midx\u001b[0m\u001b[1;33m)\u001b[0m\u001b[1;33m\u001b[0m\u001b[1;33m\u001b[0m\u001b[0m\n\u001b[0m\u001b[0;32m    298\u001b[0m     \u001b[1;31m# TODO: add skip if calibration run\u001b[0m\u001b[1;33m\u001b[0m\u001b[1;33m\u001b[0m\u001b[1;33m\u001b[0m\u001b[0m\n\u001b[0;32m    299\u001b[0m     \u001b[1;32mif\u001b[0m \u001b[0mself\u001b[0m\u001b[1;33m.\u001b[0m\u001b[0msequence_manager\u001b[0m\u001b[1;33m.\u001b[0m\u001b[0malign_peaks\u001b[0m\u001b[1;33m:\u001b[0m\u001b[1;33m\u001b[0m\u001b[1;33m\u001b[0m\u001b[0m\n",
      "\u001b[1;32m~\\work\\vimms\\vimms\\SequenceManager.py\u001b[0m in \u001b[0;36mrun_controller\u001b[1;34m(self, idx)\u001b[0m\n\u001b[0;32m    203\u001b[0m         \u001b[1;32mif\u001b[0m \u001b[0mself\u001b[0m\u001b[1;33m.\u001b[0m\u001b[0msequence_manager\u001b[0m\u001b[1;33m.\u001b[0m\u001b[0mprogress_bar\u001b[0m\u001b[1;33m:\u001b[0m\u001b[1;33m\u001b[0m\u001b[1;33m\u001b[0m\u001b[0m\n\u001b[0;32m    204\u001b[0m             \u001b[0mtime\u001b[0m\u001b[1;33m.\u001b[0m\u001b[0msleep\u001b[0m\u001b[1;33m(\u001b[0m\u001b[1;36m0.2\u001b[0m\u001b[1;33m)\u001b[0m  \u001b[1;31m# visual effect in case progress_bar = True\u001b[0m\u001b[1;33m\u001b[0m\u001b[1;33m\u001b[0m\u001b[0m\n\u001b[1;32m--> 205\u001b[1;33m         \u001b[0mcurrent_mzml_file\u001b[0m\u001b[1;33m,\u001b[0m \u001b[0mcontroller_name\u001b[0m \u001b[1;33m=\u001b[0m \u001b[0mself\u001b[0m\u001b[1;33m.\u001b[0m\u001b[0msequence_manager\u001b[0m\u001b[1;33m.\u001b[0m\u001b[0mrun_experiment\u001b[0m\u001b[1;33m(\u001b[0m\u001b[0midx\u001b[0m\u001b[1;33m)\u001b[0m  \u001b[1;31m# runs the idx th experiment\u001b[0m\u001b[1;33m\u001b[0m\u001b[1;33m\u001b[0m\u001b[0m\n\u001b[0m\u001b[0;32m    206\u001b[0m         \u001b[0mlogger\u001b[0m\u001b[1;33m.\u001b[0m\u001b[0minfo\u001b[0m\u001b[1;33m(\u001b[0m\u001b[1;34m'Completed experiment: '\u001b[0m \u001b[1;33m+\u001b[0m \u001b[0mself\u001b[0m\u001b[1;33m.\u001b[0m\u001b[0msequence_manager\u001b[0m\u001b[1;33m.\u001b[0m\u001b[0mcontroller_schedule\u001b[0m\u001b[1;33m[\u001b[0m\u001b[1;34m'Sample ID'\u001b[0m\u001b[1;33m]\u001b[0m\u001b[1;33m[\u001b[0m\u001b[0midx\u001b[0m\u001b[1;33m]\u001b[0m\u001b[1;33m)\u001b[0m\u001b[1;33m\u001b[0m\u001b[1;33m\u001b[0m\u001b[0m\n\u001b[0;32m    207\u001b[0m         \u001b[1;32mreturn\u001b[0m \u001b[0mcurrent_mzml_file\u001b[0m\u001b[1;33m,\u001b[0m \u001b[0mcontroller_name\u001b[0m\u001b[1;33m\u001b[0m\u001b[1;33m\u001b[0m\u001b[0m\n",
      "\u001b[1;32m~\\work\\vimms\\vimms\\SequenceManager.py\u001b[0m in \u001b[0;36mrun_experiment\u001b[1;34m(self, idx)\u001b[0m\n\u001b[0;32m    176\u001b[0m                 env = Environment(mass_spec, controller, self.rt_range[0][0],\n\u001b[0;32m    177\u001b[0m                                   self.rt_range[0][1], progress_bar=self.progress_bar)\n\u001b[1;32m--> 178\u001b[1;33m                 \u001b[0menv\u001b[0m\u001b[1;33m.\u001b[0m\u001b[0mrun\u001b[0m\u001b[1;33m(\u001b[0m\u001b[1;33m)\u001b[0m\u001b[1;33m\u001b[0m\u001b[1;33m\u001b[0m\u001b[0m\n\u001b[0m\u001b[0;32m    179\u001b[0m                 \u001b[0menv\u001b[0m\u001b[1;33m.\u001b[0m\u001b[0mwrite_mzML\u001b[0m\u001b[1;33m(\u001b[0m\u001b[0mself\u001b[0m\u001b[1;33m.\u001b[0m\u001b[0mbase_dir\u001b[0m\u001b[1;33m,\u001b[0m \u001b[0mcontroller_name\u001b[0m \u001b[1;33m+\u001b[0m \u001b[1;34m'.mzML'\u001b[0m\u001b[1;33m)\u001b[0m\u001b[1;33m\u001b[0m\u001b[1;33m\u001b[0m\u001b[0m\n\u001b[0;32m    180\u001b[0m                 \u001b[1;32mif\u001b[0m \u001b[0mself\u001b[0m\u001b[1;33m.\u001b[0m\u001b[0mwrite_env\u001b[0m\u001b[1;33m:\u001b[0m\u001b[1;33m\u001b[0m\u001b[1;33m\u001b[0m\u001b[0m\n",
      "\u001b[1;32m~\\work\\vimms\\vimms\\Environment.py\u001b[0m in \u001b[0;36mrun\u001b[1;34m(self)\u001b[0m\n\u001b[0;32m     60\u001b[0m             \u001b[1;32mwhile\u001b[0m \u001b[0mself\u001b[0m\u001b[1;33m.\u001b[0m\u001b[0mmass_spec\u001b[0m\u001b[1;33m.\u001b[0m\u001b[0mtime\u001b[0m \u001b[1;33m<\u001b[0m \u001b[0mself\u001b[0m\u001b[1;33m.\u001b[0m\u001b[0mmax_time\u001b[0m\u001b[1;33m:\u001b[0m\u001b[1;33m\u001b[0m\u001b[1;33m\u001b[0m\u001b[0m\n\u001b[0;32m     61\u001b[0m                 \u001b[1;31m# controller._process_scan() is called here immediately when a scan is produced within a step\u001b[0m\u001b[1;33m\u001b[0m\u001b[1;33m\u001b[0m\u001b[1;33m\u001b[0m\u001b[0m\n\u001b[1;32m---> 62\u001b[1;33m                 \u001b[0mscan\u001b[0m \u001b[1;33m=\u001b[0m \u001b[0mself\u001b[0m\u001b[1;33m.\u001b[0m\u001b[0mmass_spec\u001b[0m\u001b[1;33m.\u001b[0m\u001b[0mstep\u001b[0m\u001b[1;33m(\u001b[0m\u001b[0minitial_scan\u001b[0m\u001b[1;33m)\u001b[0m\u001b[1;33m\u001b[0m\u001b[1;33m\u001b[0m\u001b[0m\n\u001b[0m\u001b[0;32m     63\u001b[0m                 \u001b[1;32mif\u001b[0m \u001b[0minitial_scan\u001b[0m\u001b[1;33m:\u001b[0m\u001b[1;33m\u001b[0m\u001b[1;33m\u001b[0m\u001b[0m\n\u001b[0;32m     64\u001b[0m                     \u001b[1;31m# no longer initial scan\u001b[0m\u001b[1;33m\u001b[0m\u001b[1;33m\u001b[0m\u001b[1;33m\u001b[0m\u001b[0m\n",
      "\u001b[1;32m~\\work\\vimms\\vimms\\MassSpec.py\u001b[0m in \u001b[0;36mstep\u001b[1;34m(self, initial_scan)\u001b[0m\n\u001b[0;32m    304\u001b[0m         \u001b[1;32melse\u001b[0m\u001b[1;33m:\u001b[0m\u001b[1;33m\u001b[0m\u001b[1;33m\u001b[0m\u001b[0m\n\u001b[0;32m    305\u001b[0m             \u001b[0mparams\u001b[0m\u001b[1;33m,\u001b[0m \u001b[0mis_method_scan\u001b[0m \u001b[1;33m=\u001b[0m \u001b[0mself\u001b[0m\u001b[1;33m.\u001b[0m\u001b[0m_get_params\u001b[0m\u001b[1;33m(\u001b[0m\u001b[1;33m)\u001b[0m\u001b[1;33m\u001b[0m\u001b[1;33m\u001b[0m\u001b[0m\n\u001b[1;32m--> 306\u001b[1;33m         \u001b[0mscan\u001b[0m \u001b[1;33m=\u001b[0m \u001b[0mself\u001b[0m\u001b[1;33m.\u001b[0m\u001b[0m_get_scan\u001b[0m\u001b[1;33m(\u001b[0m\u001b[0mself\u001b[0m\u001b[1;33m.\u001b[0m\u001b[0mtime\u001b[0m\u001b[1;33m,\u001b[0m \u001b[0mparams\u001b[0m\u001b[1;33m)\u001b[0m\u001b[1;33m\u001b[0m\u001b[1;33m\u001b[0m\u001b[0m\n\u001b[0m\u001b[0;32m    307\u001b[0m \u001b[1;33m\u001b[0m\u001b[0m\n\u001b[0;32m    308\u001b[0m         \u001b[1;31m# A method scan (not a custom scan) should have its scan_params set to None\u001b[0m\u001b[1;33m\u001b[0m\u001b[1;33m\u001b[0m\u001b[1;33m\u001b[0m\u001b[0m\n",
      "\u001b[1;32m~\\work\\vimms\\vimms\\MassSpec.py\u001b[0m in \u001b[0;36m_get_scan\u001b[1;34m(self, scan_time, params)\u001b[0m\n\u001b[0;32m    521\u001b[0m                 \u001b[0mmzs\u001b[0m \u001b[1;33m=\u001b[0m \u001b[0mself\u001b[0m\u001b[1;33m.\u001b[0m\u001b[0m_get_all_mz_peaks_noisy\u001b[0m\u001b[1;33m(\u001b[0m\u001b[0mchemical\u001b[0m\u001b[1;33m,\u001b[0m \u001b[0mscan_time\u001b[0m\u001b[1;33m,\u001b[0m \u001b[0mms_level\u001b[0m\u001b[1;33m,\u001b[0m \u001b[0misolation_windows\u001b[0m\u001b[1;33m)\u001b[0m\u001b[1;33m\u001b[0m\u001b[1;33m\u001b[0m\u001b[0m\n\u001b[0;32m    522\u001b[0m             \u001b[1;32melse\u001b[0m\u001b[1;33m:\u001b[0m\u001b[1;33m\u001b[0m\u001b[1;33m\u001b[0m\u001b[0m\n\u001b[1;32m--> 523\u001b[1;33m                 \u001b[0mmzs\u001b[0m \u001b[1;33m=\u001b[0m \u001b[0mself\u001b[0m\u001b[1;33m.\u001b[0m\u001b[0m_get_all_mz_peaks\u001b[0m\u001b[1;33m(\u001b[0m\u001b[0mchemical\u001b[0m\u001b[1;33m,\u001b[0m \u001b[0mscan_time\u001b[0m\u001b[1;33m,\u001b[0m \u001b[0mms_level\u001b[0m\u001b[1;33m,\u001b[0m \u001b[0misolation_windows\u001b[0m\u001b[1;33m)\u001b[0m\u001b[1;33m\u001b[0m\u001b[1;33m\u001b[0m\u001b[0m\n\u001b[0m\u001b[0;32m    524\u001b[0m \u001b[1;33m\u001b[0m\u001b[0m\n\u001b[0;32m    525\u001b[0m             \u001b[0mpeaks\u001b[0m \u001b[1;33m=\u001b[0m \u001b[1;33m[\u001b[0m\u001b[1;33m]\u001b[0m\u001b[1;33m\u001b[0m\u001b[1;33m\u001b[0m\u001b[0m\n",
      "\u001b[1;32m~\\work\\vimms\\vimms\\MassSpec.py\u001b[0m in \u001b[0;36m_get_all_mz_peaks\u001b[1;34m(self, chemical, query_rt, ms_level, isolation_windows)\u001b[0m\n\u001b[0;32m    575\u001b[0m             \u001b[1;32mfor\u001b[0m \u001b[0mwhich_adduct\u001b[0m \u001b[1;32min\u001b[0m \u001b[0mrange\u001b[0m\u001b[1;33m(\u001b[0m\u001b[0mlen\u001b[0m\u001b[1;33m(\u001b[0m\u001b[0mself\u001b[0m\u001b[1;33m.\u001b[0m\u001b[0m_get_adducts\u001b[0m\u001b[1;33m(\u001b[0m\u001b[0mchemical\u001b[0m\u001b[1;33m)\u001b[0m\u001b[1;33m)\u001b[0m\u001b[1;33m)\u001b[0m\u001b[1;33m:\u001b[0m\u001b[1;33m\u001b[0m\u001b[1;33m\u001b[0m\u001b[0m\n\u001b[0;32m    576\u001b[0m                 mz_peaks.extend(\n\u001b[1;32m--> 577\u001b[1;33m                     self._get_mz_peaks(chemical, query_rt, ms_level, isolation_windows, which_isotope, which_adduct))\n\u001b[0m\u001b[0;32m    578\u001b[0m         \u001b[1;32mif\u001b[0m \u001b[0mmz_peaks\u001b[0m \u001b[1;33m==\u001b[0m \u001b[1;33m[\u001b[0m\u001b[1;33m]\u001b[0m\u001b[1;33m:\u001b[0m\u001b[1;33m\u001b[0m\u001b[1;33m\u001b[0m\u001b[0m\n\u001b[0;32m    579\u001b[0m             \u001b[1;32mreturn\u001b[0m \u001b[1;32mNone\u001b[0m\u001b[1;33m\u001b[0m\u001b[1;33m\u001b[0m\u001b[0m\n",
      "\u001b[1;32m~\\work\\vimms\\vimms\\MassSpec.py\u001b[0m in \u001b[0;36m_get_mz_peaks\u001b[1;34m(self, chemical, query_rt, ms_level, isolation_windows, which_isotope, which_adduct)\u001b[0m\n\u001b[0;32m    611\u001b[0m             \u001b[1;31m# check isolation window for ms2+ scans, queries children if isolation windows ok\u001b[0m\u001b[1;33m\u001b[0m\u001b[1;33m\u001b[0m\u001b[1;33m\u001b[0m\u001b[0m\n\u001b[0;32m    612\u001b[0m             if self._isolation_match(chemical, query_rt, isolation_windows[chemical.ms_level - 1], which_isotope,\n\u001b[1;32m--> 613\u001b[1;33m                                      which_adduct) and chemical.children is not None:\n\u001b[0m\u001b[0;32m    614\u001b[0m                 \u001b[1;32mfor\u001b[0m \u001b[0mi\u001b[0m \u001b[1;32min\u001b[0m \u001b[0mrange\u001b[0m\u001b[1;33m(\u001b[0m\u001b[0mlen\u001b[0m\u001b[1;33m(\u001b[0m\u001b[0mchemical\u001b[0m\u001b[1;33m.\u001b[0m\u001b[0mchildren\u001b[0m\u001b[1;33m)\u001b[0m\u001b[1;33m)\u001b[0m\u001b[1;33m:\u001b[0m\u001b[1;33m\u001b[0m\u001b[1;33m\u001b[0m\u001b[0m\n\u001b[0;32m    615\u001b[0m                     mz_peaks.extend(self._get_mz_peaks(chemical.children[i], query_rt, ms_level, isolation_windows,\n",
      "\u001b[1;32m~\\work\\vimms\\vimms\\MassSpec.py\u001b[0m in \u001b[0;36m_isolation_match\u001b[1;34m(self, chemical, query_rt, isolation_windows, which_isotope, which_adduct)\u001b[0m\n\u001b[0;32m    655\u001b[0m         \u001b[1;31m# [(min_1,max_1),(min_2,max_2),...]\u001b[0m\u001b[1;33m\u001b[0m\u001b[1;33m\u001b[0m\u001b[1;33m\u001b[0m\u001b[0m\n\u001b[0;32m    656\u001b[0m         \u001b[1;32mfor\u001b[0m \u001b[0mwindow\u001b[0m \u001b[1;32min\u001b[0m \u001b[0misolation_windows\u001b[0m\u001b[1;33m:\u001b[0m\u001b[1;33m\u001b[0m\u001b[1;33m\u001b[0m\u001b[0m\n\u001b[1;32m--> 657\u001b[1;33m             \u001b[1;32mif\u001b[0m \u001b[0mwindow\u001b[0m\u001b[1;33m[\u001b[0m\u001b[1;36m0\u001b[0m\u001b[1;33m]\u001b[0m \u001b[1;33m<\u001b[0m \u001b[0mself\u001b[0m\u001b[1;33m.\u001b[0m\u001b[0m_get_mz\u001b[0m\u001b[1;33m(\u001b[0m\u001b[0mchemical\u001b[0m\u001b[1;33m,\u001b[0m \u001b[0mquery_rt\u001b[0m\u001b[1;33m,\u001b[0m \u001b[0mwhich_isotope\u001b[0m\u001b[1;33m,\u001b[0m \u001b[0mwhich_adduct\u001b[0m\u001b[1;33m)\u001b[0m \u001b[1;33m<=\u001b[0m \u001b[0mwindow\u001b[0m\u001b[1;33m[\u001b[0m\u001b[1;36m1\u001b[0m\u001b[1;33m]\u001b[0m\u001b[1;33m:\u001b[0m\u001b[1;33m\u001b[0m\u001b[1;33m\u001b[0m\u001b[0m\n\u001b[0m\u001b[0;32m    658\u001b[0m                 \u001b[1;32mreturn\u001b[0m \u001b[1;32mTrue\u001b[0m\u001b[1;33m\u001b[0m\u001b[1;33m\u001b[0m\u001b[0m\n\u001b[0;32m    659\u001b[0m         \u001b[1;32mreturn\u001b[0m \u001b[1;32mFalse\u001b[0m\u001b[1;33m\u001b[0m\u001b[1;33m\u001b[0m\u001b[0m\n",
      "\u001b[1;32m~\\work\\vimms\\vimms\\MassSpec.py\u001b[0m in \u001b[0;36m_get_mz\u001b[1;34m(self, chemical, query_rt, which_isotope, which_adduct)\u001b[0m\n\u001b[0;32m    641\u001b[0m             return (adduct_transformation(chemical.isotopes[which_isotope][0],\n\u001b[0;32m    642\u001b[0m                                           self._get_adducts(chemical)[which_adduct][0]) +\n\u001b[1;32m--> 643\u001b[1;33m                     chemical.chromatogram.get_relative_mz(query_rt - chemical.rt))\n\u001b[0m\u001b[0;32m    644\u001b[0m         \u001b[1;32melse\u001b[0m\u001b[1;33m:\u001b[0m\u001b[1;33m\u001b[0m\u001b[1;33m\u001b[0m\u001b[0m\n\u001b[0;32m    645\u001b[0m             \u001b[0mms1_parent\u001b[0m \u001b[1;33m=\u001b[0m \u001b[0mchemical\u001b[0m\u001b[1;33m\u001b[0m\u001b[1;33m\u001b[0m\u001b[0m\n",
      "\u001b[1;32m~\\work\\vimms\\vimms\\Chromatograms.py\u001b[0m in \u001b[0;36mget_relative_mz\u001b[1;34m(self, query_rt)\u001b[0m\n\u001b[0;32m     56\u001b[0m             \u001b[1;32mreturn\u001b[0m \u001b[1;32mNone\u001b[0m\u001b[1;33m\u001b[0m\u001b[1;33m\u001b[0m\u001b[0m\n\u001b[0;32m     57\u001b[0m         \u001b[1;32melse\u001b[0m\u001b[1;33m:\u001b[0m\u001b[1;33m\u001b[0m\u001b[1;33m\u001b[0m\u001b[0m\n\u001b[1;32m---> 58\u001b[1;33m             \u001b[0mneighbours_which\u001b[0m \u001b[1;33m=\u001b[0m \u001b[0mself\u001b[0m\u001b[1;33m.\u001b[0m\u001b[0m_get_rt_neighbours_which\u001b[0m\u001b[1;33m(\u001b[0m\u001b[0mquery_rt\u001b[0m\u001b[1;33m)\u001b[0m\u001b[1;33m\u001b[0m\u001b[1;33m\u001b[0m\u001b[0m\n\u001b[0m\u001b[0;32m     59\u001b[0m             \u001b[0mmz_below\u001b[0m \u001b[1;33m=\u001b[0m \u001b[0mself\u001b[0m\u001b[1;33m.\u001b[0m\u001b[0mmzs\u001b[0m\u001b[1;33m[\u001b[0m\u001b[0mneighbours_which\u001b[0m\u001b[1;33m[\u001b[0m\u001b[1;36m0\u001b[0m\u001b[1;33m]\u001b[0m\u001b[1;33m]\u001b[0m\u001b[1;33m\u001b[0m\u001b[1;33m\u001b[0m\u001b[0m\n\u001b[0;32m     60\u001b[0m             \u001b[0mmz_above\u001b[0m \u001b[1;33m=\u001b[0m \u001b[0mself\u001b[0m\u001b[1;33m.\u001b[0m\u001b[0mmzs\u001b[0m\u001b[1;33m[\u001b[0m\u001b[0mneighbours_which\u001b[0m\u001b[1;33m[\u001b[0m\u001b[1;36m1\u001b[0m\u001b[1;33m]\u001b[0m\u001b[1;33m]\u001b[0m\u001b[1;33m\u001b[0m\u001b[1;33m\u001b[0m\u001b[0m\n",
      "\u001b[1;32m~\\work\\vimms\\vimms\\Chromatograms.py\u001b[0m in \u001b[0;36m_get_rt_neighbours_which\u001b[1;34m(self, query_rt)\u001b[0m\n\u001b[0;32m     69\u001b[0m     \u001b[1;32mdef\u001b[0m \u001b[0m_get_rt_neighbours_which\u001b[0m\u001b[1;33m(\u001b[0m\u001b[0mself\u001b[0m\u001b[1;33m,\u001b[0m \u001b[0mquery_rt\u001b[0m\u001b[1;33m)\u001b[0m\u001b[1;33m:\u001b[0m\u001b[1;33m\u001b[0m\u001b[1;33m\u001b[0m\u001b[0m\n\u001b[0;32m     70\u001b[0m         \u001b[1;31m# find the max index of self.rts smaller than query_rt\u001b[0m\u001b[1;33m\u001b[0m\u001b[1;33m\u001b[0m\u001b[1;33m\u001b[0m\u001b[0m\n\u001b[1;32m---> 71\u001b[1;33m         \u001b[0mpos\u001b[0m \u001b[1;33m=\u001b[0m \u001b[0mnp\u001b[0m\u001b[1;33m.\u001b[0m\u001b[0mwhere\u001b[0m\u001b[1;33m(\u001b[0m\u001b[0mself\u001b[0m\u001b[1;33m.\u001b[0m\u001b[0mrts\u001b[0m \u001b[1;33m<=\u001b[0m \u001b[0mquery_rt\u001b[0m\u001b[1;33m)\u001b[0m\u001b[1;33m[\u001b[0m\u001b[1;36m0\u001b[0m\u001b[1;33m]\u001b[0m\u001b[1;33m\u001b[0m\u001b[1;33m\u001b[0m\u001b[0m\n\u001b[0m\u001b[0;32m     72\u001b[0m         \u001b[0mwhich_rt_below\u001b[0m \u001b[1;33m=\u001b[0m \u001b[0mpos\u001b[0m\u001b[1;33m[\u001b[0m\u001b[1;33m-\u001b[0m\u001b[1;36m1\u001b[0m\u001b[1;33m]\u001b[0m\u001b[1;33m\u001b[0m\u001b[1;33m\u001b[0m\u001b[0m\n\u001b[0;32m     73\u001b[0m \u001b[1;33m\u001b[0m\u001b[0m\n",
      "\u001b[1;31mKeyboardInterrupt\u001b[0m: "
     ]
    }
   ],
   "source": [
    "vsm = VimmsSequenceManager(None, evaluation_methods, output_dir, progress_bar=True, ms1_picked_peaks_file=None, mzmine_command=mzmine_command)\n",
    "gs = GridSearchExperiment(vsm, 'WeightedDewController', mass_spec_params, None, weightedDEW_variable_params_dict, weightedDEW_controller_params, mzml_file, MZML2CHEMS_DICT=MZML2CHEMS_DICT, ps=ps, parallel=parallel)\n",
    "gs.results"
   ]
  },
  {
   "cell_type": "code",
   "execution_count": null,
   "metadata": {},
   "outputs": [],
   "source": []
  }
 ],
 "metadata": {
  "kernelspec": {
   "display_name": "Python 3",
   "language": "python",
   "name": "python3"
  },
  "language_info": {
   "codemirror_mode": {
    "name": "ipython",
    "version": 3
   },
   "file_extension": ".py",
   "mimetype": "text/x-python",
   "name": "python",
   "nbconvert_exporter": "python",
   "pygments_lexer": "ipython3",
   "version": "3.7.3"
  }
 },
 "nbformat": 4,
 "nbformat_minor": 4
}
