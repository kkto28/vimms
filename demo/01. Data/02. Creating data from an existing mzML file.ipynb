{
 "cells": [
  {
   "cell_type": "markdown",
   "metadata": {},
   "source": [
    "# 2. Creating data from an existing mzML file"
   ]
  },
  {
   "cell_type": "code",
   "execution_count": 1,
   "metadata": {},
   "outputs": [],
   "source": [
    "%matplotlib inline"
   ]
  },
  {
   "cell_type": "code",
   "execution_count": 2,
   "metadata": {},
   "outputs": [],
   "source": [
    "%load_ext autoreload\n",
    "%autoreload 2"
   ]
  },
  {
   "cell_type": "code",
   "execution_count": 3,
   "metadata": {},
   "outputs": [],
   "source": [
    "from pathlib import Path"
   ]
  },
  {
   "cell_type": "code",
   "execution_count": 4,
   "metadata": {},
   "outputs": [],
   "source": [
    "import sys\n",
    "sys.path.append('../..')"
   ]
  },
  {
   "cell_type": "code",
   "execution_count": 5,
   "metadata": {},
   "outputs": [],
   "source": [
    "from vimms.Common import *\n",
    "from vimms.FeatureExtraction import  extract_roi"
   ]
  },
  {
   "cell_type": "code",
   "execution_count": 6,
   "metadata": {},
   "outputs": [],
   "source": [
    "# set_log_level_info()\n",
    "set_log_level_debug()"
   ]
  },
  {
   "cell_type": "markdown",
   "metadata": {},
   "source": [
    "### Load Existing Chromatogram and Fragment Pickle File"
   ]
  },
  {
   "cell_type": "markdown",
   "metadata": {},
   "source": [
    "In order to do this you can either use the existing pickle file or you can generate your own pickle file using Section 1"
   ]
  },
  {
   "cell_type": "code",
   "execution_count": 8,
   "metadata": {},
   "outputs": [],
   "source": [
    "data_dir = os.path.abspath(os.path.join(os.getcwd(),'..','..','tests','integration','fixtures'))\n",
    "ps = load_obj(Path(data_dir,'peak_sampler_mz_rt_int_beerqcb_fullscan.p'))"
   ]
  },
  {
   "cell_type": "markdown",
   "metadata": {},
   "source": [
    "### Download beer and urine files"
   ]
  },
  {
   "cell_type": "code",
   "execution_count": 8,
   "metadata": {},
   "outputs": [],
   "source": [
    "url = 'http://researchdata.gla.ac.uk/870/2/example_data.zip'\n",
    "base_dir = os.path.join(os.getcwd(), 'example_data')"
   ]
  },
  {
   "cell_type": "code",
   "execution_count": 9,
   "metadata": {},
   "outputs": [
    {
     "name": "stdout",
     "output_type": "stream",
     "text": [
      "Found C:\\Users\\Vinny\\work\\vimms\\demo\\01. Data\\example_data\n"
     ]
    }
   ],
   "source": [
    "if not os.path.isdir(base_dir): # if not exist then download the example data and extract it\n",
    "    print('Creating %s' % base_dir)    \n",
    "    out_file = 'example_data.zip'\n",
    "    download_file(url, out_file)\n",
    "    extract_zip_file(out_file, delete=True)\n",
    "else:\n",
    "    print('Found %s' % base_dir)"
   ]
  },
  {
   "cell_type": "markdown",
   "metadata": {},
   "source": [
    "### Extract data from files"
   ]
  },
  {
   "cell_type": "code",
   "execution_count": 10,
   "metadata": {},
   "outputs": [],
   "source": [
    "filename = None                    # if None, use all mzML files found\n",
    "min_ms1_intensity = 0              # min MS1 intensity threshold to include a data point for density estimation\n",
    "min_ms2_intensity = 0              # min MS2 intensity threshold to include a data point for density estimation\n",
    "min_rt = 0                         # min RT to include a data point for density estimation\n",
    "max_rt = 1440                      # max RT to include a data point for density estimation\n",
    "bandwidth_mz_intensity_rt = 1.0    # kernel bandwidth parameter to sample (mz, RT, intensity) values during simulation\n",
    "bandwidth_n_peaks = 1.0            # kernel bandwidth parameter to sample number of peaks per scan during simulation"
   ]
  },
  {
   "cell_type": "code",
   "execution_count": 11,
   "metadata": {},
   "outputs": [],
   "source": [
    "roi_mz_tol = 10\n",
    "roi_min_length = 2\n",
    "roi_min_intensity = 1.75E5\n",
    "roi_start_rt = min_rt\n",
    "roi_stop_rt = max_rt"
   ]
  },
  {
   "cell_type": "markdown",
   "metadata": {},
   "source": [
    "Beer files"
   ]
  },
  {
   "cell_type": "code",
   "execution_count": 12,
   "metadata": {},
   "outputs": [
    {
     "name": "stderr",
     "output_type": "stream",
     "text": [
      "2020-07-17 16:23:56.760 | DEBUG    | vimms.Roi:__init__:382 -      0/ 11373\n",
      "2020-07-17 16:23:57.817 | INFO     | vimms.Roi:__init__:406 - Found 11373 ROIs above thresholds\n",
      "2020-07-17 16:23:57.818 | INFO     | vimms.Common:create_if_not_exist:48 - Created C:\\Users\\Vinny\\work\\vimms\\demo\\01. Data\\example_data\\beers\\datasets\n",
      "2020-07-17 16:23:57.819 | INFO     | vimms.Common:save_obj:61 - Saving <class 'list'> to C:\\Users\\Vinny\\work\\vimms\\demo\\01. Data\\example_data\\beers\\datasets\\beer_10.p\n",
      "2020-07-17 16:24:14.280 | DEBUG    | vimms.Roi:__init__:382 -      0/  9306\n",
      "2020-07-17 16:24:15.096 | INFO     | vimms.Roi:__init__:406 - Found 9306 ROIs above thresholds\n",
      "2020-07-17 16:24:15.168 | INFO     | vimms.Common:save_obj:61 - Saving <class 'list'> to C:\\Users\\Vinny\\work\\vimms\\demo\\01. Data\\example_data\\beers\\datasets\\beer_11.p\n",
      "2020-07-17 16:24:31.935 | DEBUG    | vimms.Roi:__init__:382 -      0/ 10706\n",
      "2020-07-17 16:24:32.879 | INFO     | vimms.Roi:__init__:406 - Found 10706 ROIs above thresholds\n",
      "2020-07-17 16:24:32.936 | INFO     | vimms.Common:save_obj:61 - Saving <class 'list'> to C:\\Users\\Vinny\\work\\vimms\\demo\\01. Data\\example_data\\beers\\datasets\\beer_12.p\n",
      "2020-07-17 16:24:50.011 | DEBUG    | vimms.Roi:__init__:382 -      0/  9788\n",
      "2020-07-17 16:24:50.849 | INFO     | vimms.Roi:__init__:406 - Found 9788 ROIs above thresholds\n",
      "2020-07-17 16:24:50.914 | INFO     | vimms.Common:save_obj:61 - Saving <class 'list'> to C:\\Users\\Vinny\\work\\vimms\\demo\\01. Data\\example_data\\beers\\datasets\\beer_13.p\n",
      "2020-07-17 16:25:07.061 | DEBUG    | vimms.Roi:__init__:382 -      0/ 12343\n",
      "2020-07-17 16:25:08.100 | INFO     | vimms.Roi:__init__:406 - Found 12343 ROIs above thresholds\n",
      "2020-07-17 16:25:08.167 | INFO     | vimms.Common:save_obj:61 - Saving <class 'list'> to C:\\Users\\Vinny\\work\\vimms\\demo\\01. Data\\example_data\\beers\\datasets\\beer_14.p\n",
      "2020-07-17 16:25:27.205 | DEBUG    | vimms.Roi:__init__:382 -      0/ 12487\n",
      "2020-07-17 16:25:28.457 | INFO     | vimms.Roi:__init__:406 - Found 12487 ROIs above thresholds\n",
      "2020-07-17 16:25:28.531 | INFO     | vimms.Common:save_obj:61 - Saving <class 'list'> to C:\\Users\\Vinny\\work\\vimms\\demo\\01. Data\\example_data\\beers\\datasets\\beer_15.p\n",
      "2020-07-17 16:25:46.795 | DEBUG    | vimms.Roi:__init__:382 -      0/ 15085\n",
      "2020-07-17 16:25:48.196 | INFO     | vimms.Roi:__init__:406 - Found 15085 ROIs above thresholds\n",
      "2020-07-17 16:25:48.281 | INFO     | vimms.Common:save_obj:61 - Saving <class 'list'> to C:\\Users\\Vinny\\work\\vimms\\demo\\01. Data\\example_data\\beers\\datasets\\beer_16.p\n",
      "2020-07-17 16:26:07.564 | DEBUG    | vimms.Roi:__init__:382 -      0/ 14359\n",
      "2020-07-17 16:26:08.895 | INFO     | vimms.Roi:__init__:406 - Found 14359 ROIs above thresholds\n",
      "2020-07-17 16:26:08.988 | INFO     | vimms.Common:save_obj:61 - Saving <class 'list'> to C:\\Users\\Vinny\\work\\vimms\\demo\\01. Data\\example_data\\beers\\datasets\\beer_17.p\n",
      "2020-07-17 16:26:27.326 | DEBUG    | vimms.Roi:__init__:382 -      0/ 13226\n",
      "2020-07-17 16:26:28.502 | INFO     | vimms.Roi:__init__:406 - Found 13226 ROIs above thresholds\n",
      "2020-07-17 16:26:28.602 | INFO     | vimms.Common:save_obj:61 - Saving <class 'list'> to C:\\Users\\Vinny\\work\\vimms\\demo\\01. Data\\example_data\\beers\\datasets\\beer_18.p\n",
      "2020-07-17 16:26:46.666 | DEBUG    | vimms.Roi:__init__:382 -      0/ 12449\n",
      "2020-07-17 16:26:47.773 | INFO     | vimms.Roi:__init__:406 - Found 12449 ROIs above thresholds\n",
      "2020-07-17 16:26:47.861 | INFO     | vimms.Common:save_obj:61 - Saving <class 'list'> to C:\\Users\\Vinny\\work\\vimms\\demo\\01. Data\\example_data\\beers\\datasets\\beer_19.p\n",
      "2020-07-17 16:27:08.055 | DEBUG    | vimms.Roi:__init__:382 -      0/ 12044\n",
      "2020-07-17 16:27:09.185 | INFO     | vimms.Roi:__init__:406 - Found 12044 ROIs above thresholds\n",
      "2020-07-17 16:27:09.270 | INFO     | vimms.Common:save_obj:61 - Saving <class 'list'> to C:\\Users\\Vinny\\work\\vimms\\demo\\01. Data\\example_data\\beers\\datasets\\beer_1.p\n",
      "2020-07-17 16:27:31.531 | DEBUG    | vimms.Roi:__init__:382 -      0/ 14332\n",
      "2020-07-17 16:27:33.584 | INFO     | vimms.Roi:__init__:406 - Found 14332 ROIs above thresholds\n",
      "2020-07-17 16:27:33.690 | INFO     | vimms.Common:save_obj:61 - Saving <class 'list'> to C:\\Users\\Vinny\\work\\vimms\\demo\\01. Data\\example_data\\beers\\datasets\\beer_2.p\n",
      "2020-07-17 16:27:51.839 | DEBUG    | vimms.Roi:__init__:382 -      0/  8987\n",
      "2020-07-17 16:27:52.616 | INFO     | vimms.Roi:__init__:406 - Found 8987 ROIs above thresholds\n",
      "2020-07-17 16:27:52.717 | INFO     | vimms.Common:save_obj:61 - Saving <class 'list'> to C:\\Users\\Vinny\\work\\vimms\\demo\\01. Data\\example_data\\beers\\datasets\\beer_3.p\n",
      "2020-07-17 16:28:14.233 | DEBUG    | vimms.Roi:__init__:382 -      0/ 11322\n",
      "2020-07-17 16:28:15.307 | INFO     | vimms.Roi:__init__:406 - Found 11322 ROIs above thresholds\n",
      "2020-07-17 16:28:15.380 | INFO     | vimms.Common:save_obj:61 - Saving <class 'list'> to C:\\Users\\Vinny\\work\\vimms\\demo\\01. Data\\example_data\\beers\\datasets\\beer_4.p\n",
      "2020-07-17 16:28:35.579 | DEBUG    | vimms.Roi:__init__:382 -      0/  9797\n",
      "2020-07-17 16:28:36.634 | INFO     | vimms.Roi:__init__:406 - Found 9797 ROIs above thresholds\n",
      "2020-07-17 16:28:36.721 | INFO     | vimms.Common:save_obj:61 - Saving <class 'list'> to C:\\Users\\Vinny\\work\\vimms\\demo\\01. Data\\example_data\\beers\\datasets\\beer_5.p\n",
      "2020-07-17 16:28:55.466 | DEBUG    | vimms.Roi:__init__:382 -      0/ 11048\n",
      "2020-07-17 16:28:56.577 | INFO     | vimms.Roi:__init__:406 - Found 11048 ROIs above thresholds\n",
      "2020-07-17 16:28:56.660 | INFO     | vimms.Common:save_obj:61 - Saving <class 'list'> to C:\\Users\\Vinny\\work\\vimms\\demo\\01. Data\\example_data\\beers\\datasets\\beer_6.p\n",
      "2020-07-17 16:29:17.173 | DEBUG    | vimms.Roi:__init__:382 -      0/ 11534\n",
      "2020-07-17 16:29:18.291 | INFO     | vimms.Roi:__init__:406 - Found 11534 ROIs above thresholds\n",
      "2020-07-17 16:29:18.376 | INFO     | vimms.Common:save_obj:61 - Saving <class 'list'> to C:\\Users\\Vinny\\work\\vimms\\demo\\01. Data\\example_data\\beers\\datasets\\beer_7.p\n",
      "2020-07-17 16:29:39.996 | DEBUG    | vimms.Roi:__init__:382 -      0/ 12574\n",
      "2020-07-17 16:29:41.249 | INFO     | vimms.Roi:__init__:406 - Found 12574 ROIs above thresholds\n",
      "2020-07-17 16:29:41.342 | INFO     | vimms.Common:save_obj:61 - Saving <class 'list'> to C:\\Users\\Vinny\\work\\vimms\\demo\\01. Data\\example_data\\beers\\datasets\\beer_8.p\n",
      "2020-07-17 16:30:01.113 | DEBUG    | vimms.Roi:__init__:382 -      0/ 14331\n",
      "2020-07-17 16:30:02.574 | INFO     | vimms.Roi:__init__:406 - Found 14331 ROIs above thresholds\n",
      "2020-07-17 16:30:02.672 | INFO     | vimms.Common:save_obj:61 - Saving <class 'list'> to C:\\Users\\Vinny\\work\\vimms\\demo\\01. Data\\example_data\\beers\\datasets\\beer_9.p\n"
     ]
    }
   ],
   "source": [
    "file_names = Path(base_dir, 'beers', 'fragmentation', 'mzML').glob('*.mzML')\n",
    "out_dir = Path(base_dir,'beers', 'datasets')\n",
    "mzml_path = Path(base_dir, 'beers', 'fragmentation', 'mzML')\n",
    "\n",
    "extract_roi(list(file_names), out_dir, 'beer_%d.p', mzml_path, ps)"
   ]
  },
  {
   "cell_type": "markdown",
   "metadata": {},
   "source": [
    "Urine files"
   ]
  },
  {
   "cell_type": "code",
   "execution_count": 13,
   "metadata": {},
   "outputs": [
    {
     "name": "stderr",
     "output_type": "stream",
     "text": [
      "2020-07-17 16:30:23.745 | DEBUG    | vimms.Roi:__init__:382 -      0/ 15887\n",
      "2020-07-17 16:30:25.319 | INFO     | vimms.Roi:__init__:406 - Found 15887 ROIs above thresholds\n",
      "2020-07-17 16:30:25.320 | INFO     | vimms.Common:create_if_not_exist:48 - Created C:\\Users\\Vinny\\work\\vimms\\demo\\01. Data\\example_data\\urines\\datasets\n",
      "2020-07-17 16:30:25.321 | INFO     | vimms.Common:save_obj:61 - Saving <class 'list'> to C:\\Users\\Vinny\\work\\vimms\\demo\\01. Data\\example_data\\urines\\datasets\\urine_2.p\n",
      "2020-07-17 16:30:46.326 | DEBUG    | vimms.Roi:__init__:382 -      0/ 18082\n",
      "2020-07-17 16:30:48.183 | INFO     | vimms.Roi:__init__:406 - Found 18082 ROIs above thresholds\n",
      "2020-07-17 16:30:48.272 | INFO     | vimms.Common:save_obj:61 - Saving <class 'list'> to C:\\Users\\Vinny\\work\\vimms\\demo\\01. Data\\example_data\\urines\\datasets\\urine_3.p\n",
      "2020-07-17 16:31:07.731 | DEBUG    | vimms.Roi:__init__:382 -      0/ 15626\n",
      "2020-07-17 16:31:09.471 | INFO     | vimms.Roi:__init__:406 - Found 15626 ROIs above thresholds\n",
      "2020-07-17 16:31:09.596 | INFO     | vimms.Common:save_obj:61 - Saving <class 'list'> to C:\\Users\\Vinny\\work\\vimms\\demo\\01. Data\\example_data\\urines\\datasets\\urine_8.p\n",
      "2020-07-17 16:31:31.234 | DEBUG    | vimms.Roi:__init__:382 -      0/ 10564\n",
      "2020-07-17 16:31:32.431 | INFO     | vimms.Roi:__init__:406 - Found 10564 ROIs above thresholds\n",
      "2020-07-17 16:31:32.520 | INFO     | vimms.Common:save_obj:61 - Saving <class 'list'> to C:\\Users\\Vinny\\work\\vimms\\demo\\01. Data\\example_data\\urines\\datasets\\urine_9.p\n",
      "2020-07-17 16:31:56.661 | DEBUG    | vimms.Roi:__init__:382 -      0/ 18281\n",
      "2020-07-17 16:31:58.516 | INFO     | vimms.Roi:__init__:406 - Found 18281 ROIs above thresholds\n",
      "2020-07-17 16:31:58.597 | INFO     | vimms.Common:save_obj:61 - Saving <class 'list'> to C:\\Users\\Vinny\\work\\vimms\\demo\\01. Data\\example_data\\urines\\datasets\\urine_105.p\n",
      "2020-07-17 16:32:18.626 | DEBUG    | vimms.Roi:__init__:382 -      0/ 12600\n",
      "2020-07-17 16:32:19.823 | INFO     | vimms.Roi:__init__:406 - Found 12600 ROIs above thresholds\n",
      "2020-07-17 16:32:19.940 | INFO     | vimms.Common:save_obj:61 - Saving <class 'list'> to C:\\Users\\Vinny\\work\\vimms\\demo\\01. Data\\example_data\\urines\\datasets\\urine_17.p\n",
      "2020-07-17 16:32:42.368 | DEBUG    | vimms.Roi:__init__:382 -      0/ 13468\n",
      "2020-07-17 16:32:43.788 | INFO     | vimms.Roi:__init__:406 - Found 13468 ROIs above thresholds\n",
      "2020-07-17 16:32:43.875 | INFO     | vimms.Common:save_obj:61 - Saving <class 'list'> to C:\\Users\\Vinny\\work\\vimms\\demo\\01. Data\\example_data\\urines\\datasets\\urine_18.p\n",
      "2020-07-17 16:33:04.913 | DEBUG    | vimms.Roi:__init__:382 -      0/ 15926\n",
      "2020-07-17 16:33:06.406 | INFO     | vimms.Roi:__init__:406 - Found 15926 ROIs above thresholds\n",
      "2020-07-17 16:33:06.505 | INFO     | vimms.Common:save_obj:61 - Saving <class 'list'> to C:\\Users\\Vinny\\work\\vimms\\demo\\01. Data\\example_data\\urines\\datasets\\urine_28.p\n",
      "2020-07-17 16:33:24.593 | DEBUG    | vimms.Roi:__init__:382 -      0/  9679\n",
      "2020-07-17 16:33:25.663 | INFO     | vimms.Roi:__init__:406 - Found 9679 ROIs above thresholds\n",
      "2020-07-17 16:33:25.767 | INFO     | vimms.Common:save_obj:61 - Saving <class 'list'> to C:\\Users\\Vinny\\work\\vimms\\demo\\01. Data\\example_data\\urines\\datasets\\urine_32.p\n",
      "2020-07-17 16:33:46.121 | DEBUG    | vimms.Roi:__init__:382 -      0/ 16218\n",
      "2020-07-17 16:33:47.779 | INFO     | vimms.Roi:__init__:406 - Found 16218 ROIs above thresholds\n",
      "2020-07-17 16:33:47.858 | INFO     | vimms.Common:save_obj:61 - Saving <class 'list'> to C:\\Users\\Vinny\\work\\vimms\\demo\\01. Data\\example_data\\urines\\datasets\\urine_38.p\n",
      "2020-07-17 16:34:09.164 | DEBUG    | vimms.Roi:__init__:382 -      0/ 17725\n",
      "2020-07-17 16:34:10.830 | INFO     | vimms.Roi:__init__:406 - Found 17725 ROIs above thresholds\n",
      "2020-07-17 16:34:10.939 | INFO     | vimms.Common:save_obj:61 - Saving <class 'list'> to C:\\Users\\Vinny\\work\\vimms\\demo\\01. Data\\example_data\\urines\\datasets\\urine_49.p\n",
      "2020-07-17 16:34:32.207 | DEBUG    | vimms.Roi:__init__:382 -      0/ 15202\n",
      "2020-07-17 16:34:33.819 | INFO     | vimms.Roi:__init__:406 - Found 15202 ROIs above thresholds\n",
      "2020-07-17 16:34:33.947 | INFO     | vimms.Common:save_obj:61 - Saving <class 'list'> to C:\\Users\\Vinny\\work\\vimms\\demo\\01. Data\\example_data\\urines\\datasets\\urine_51.p\n",
      "2020-07-17 16:34:58.287 | DEBUG    | vimms.Roi:__init__:382 -      0/ 17560\n",
      "2020-07-17 16:35:00.434 | INFO     | vimms.Roi:__init__:406 - Found 17560 ROIs above thresholds\n",
      "2020-07-17 16:35:00.562 | INFO     | vimms.Common:save_obj:61 - Saving <class 'list'> to C:\\Users\\Vinny\\work\\vimms\\demo\\01. Data\\example_data\\urines\\datasets\\urine_52.p\n",
      "2020-07-17 16:35:23.604 | DEBUG    | vimms.Roi:__init__:382 -      0/ 15421\n",
      "2020-07-17 16:35:25.403 | INFO     | vimms.Roi:__init__:406 - Found 15421 ROIs above thresholds\n",
      "2020-07-17 16:35:25.524 | INFO     | vimms.Common:save_obj:61 - Saving <class 'list'> to C:\\Users\\Vinny\\work\\vimms\\demo\\01. Data\\example_data\\urines\\datasets\\urine_53.p\n",
      "2020-07-17 16:35:47.001 | DEBUG    | vimms.Roi:__init__:382 -      0/ 15197\n",
      "2020-07-17 16:35:48.604 | INFO     | vimms.Roi:__init__:406 - Found 15197 ROIs above thresholds\n",
      "2020-07-17 16:35:48.715 | INFO     | vimms.Common:save_obj:61 - Saving <class 'list'> to C:\\Users\\Vinny\\work\\vimms\\demo\\01. Data\\example_data\\urines\\datasets\\urine_54.p\n",
      "2020-07-17 16:36:14.528 | DEBUG    | vimms.Roi:__init__:382 -      0/ 20007\n",
      "2020-07-17 16:36:16.716 | INFO     | vimms.Roi:__init__:406 - Found 20007 ROIs above thresholds\n",
      "2020-07-17 16:36:16.844 | INFO     | vimms.Common:save_obj:61 - Saving <class 'list'> to C:\\Users\\Vinny\\work\\vimms\\demo\\01. Data\\example_data\\urines\\datasets\\urine_57.p\n",
      "2020-07-17 16:36:39.049 | DEBUG    | vimms.Roi:__init__:382 -      0/ 13282\n",
      "2020-07-17 16:36:40.102 | INFO     | vimms.Roi:__init__:406 - Found 13282 ROIs above thresholds\n",
      "2020-07-17 16:36:40.206 | INFO     | vimms.Common:save_obj:61 - Saving <class 'list'> to C:\\Users\\Vinny\\work\\vimms\\demo\\01. Data\\example_data\\urines\\datasets\\urine_58.p\n",
      "2020-07-17 16:36:57.179 | DEBUG    | vimms.Roi:__init__:382 -      0/ 16531\n",
      "2020-07-17 16:36:58.443 | INFO     | vimms.Roi:__init__:406 - Found 16531 ROIs above thresholds\n",
      "2020-07-17 16:36:58.523 | INFO     | vimms.Common:save_obj:61 - Saving <class 'list'> to C:\\Users\\Vinny\\work\\vimms\\demo\\01. Data\\example_data\\urines\\datasets\\urine_72.p\n",
      "2020-07-17 16:37:16.247 | DEBUG    | vimms.Roi:__init__:382 -      0/ 17094\n",
      "2020-07-17 16:37:17.563 | INFO     | vimms.Roi:__init__:406 - Found 17094 ROIs above thresholds\n",
      "2020-07-17 16:37:17.656 | INFO     | vimms.Common:save_obj:61 - Saving <class 'list'> to C:\\Users\\Vinny\\work\\vimms\\demo\\01. Data\\example_data\\urines\\datasets\\urine_80.p\n",
      "2020-07-17 16:37:35.312 | DEBUG    | vimms.Roi:__init__:382 -      0/ 15872\n",
      "2020-07-17 16:37:36.855 | INFO     | vimms.Roi:__init__:406 - Found 15872 ROIs above thresholds\n",
      "2020-07-17 16:37:36.957 | INFO     | vimms.Common:save_obj:61 - Saving <class 'list'> to C:\\Users\\Vinny\\work\\vimms\\demo\\01. Data\\example_data\\urines\\datasets\\urine_85.p\n",
      "2020-07-17 16:37:53.441 | DEBUG    | vimms.Roi:__init__:382 -      0/ 13575\n",
      "2020-07-17 16:37:54.589 | INFO     | vimms.Roi:__init__:406 - Found 13575 ROIs above thresholds\n",
      "2020-07-17 16:37:54.680 | INFO     | vimms.Common:save_obj:61 - Saving <class 'list'> to C:\\Users\\Vinny\\work\\vimms\\demo\\01. Data\\example_data\\urines\\datasets\\urine_93.p\n",
      "2020-07-17 16:38:11.602 | DEBUG    | vimms.Roi:__init__:382 -      0/ 15947\n",
      "2020-07-17 16:38:13.047 | INFO     | vimms.Roi:__init__:406 - Found 15947 ROIs above thresholds\n",
      "2020-07-17 16:38:13.159 | INFO     | vimms.Common:save_obj:61 - Saving <class 'list'> to C:\\Users\\Vinny\\work\\vimms\\demo\\01. Data\\example_data\\urines\\datasets\\urine_97.p\n"
     ]
    }
   ],
   "source": [
    "file_names = Path(base_dir, 'urines', 'fragmentation', 'mzML').glob('*.mzML')\n",
    "out_dir = Path(base_dir,'urines', 'datasets')\n",
    "mzml_path = Path(base_dir, 'urines', 'fragmentation', 'mzML')\n",
    "\n",
    "extract_roi(list(file_names), out_dir, 'urine_%d.p', mzml_path, ps)"
   ]
  }
 ],
 "metadata": {
  "kernelspec": {
   "display_name": "Python 3",
   "language": "python",
   "name": "python3"
  },
  "language_info": {
   "codemirror_mode": {
    "name": "ipython",
    "version": 3
   },
   "file_extension": ".py",
   "mimetype": "text/x-python",
   "name": "python",
   "nbconvert_exporter": "python",
   "pygments_lexer": "ipython3",
   "version": "3.7.3"
  }
 },
 "nbformat": 4,
 "nbformat_minor": 4
}