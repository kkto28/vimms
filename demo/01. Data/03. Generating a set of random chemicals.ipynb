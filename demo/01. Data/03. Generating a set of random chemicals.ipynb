{
 "cells": [
  {
   "cell_type": "markdown",
   "metadata": {},
   "source": [
    "# 3. Generating a set of random chemicals"
   ]
  },
  {
   "cell_type": "code",
   "execution_count": 1,
   "metadata": {},
   "outputs": [],
   "source": [
    "%matplotlib inline"
   ]
  },
  {
   "cell_type": "code",
   "execution_count": 2,
   "metadata": {},
   "outputs": [],
   "source": [
    "%load_ext autoreload\n",
    "%autoreload 2"
   ]
  },
  {
   "cell_type": "code",
   "execution_count": 3,
   "metadata": {},
   "outputs": [],
   "source": [
    "from pathlib import Path"
   ]
  },
  {
   "cell_type": "code",
   "execution_count": 4,
   "metadata": {},
   "outputs": [],
   "source": [
    "import sys\n",
    "sys.path.append('../..')"
   ]
  },
  {
   "cell_type": "code",
   "execution_count": 5,
   "metadata": {},
   "outputs": [],
   "source": [
    "from vimms.DataGenerator import extract_hmdb_metabolite\n",
    "from vimms.Common import *\n",
    "from vimms.Chemicals import ChemicalCreator"
   ]
  },
  {
   "cell_type": "code",
   "execution_count": 6,
   "metadata": {},
   "outputs": [],
   "source": [
    "# set_log_level_info()\n",
    "set_log_level_debug()"
   ]
  },
  {
   "cell_type": "markdown",
   "metadata": {},
   "source": [
    "### Load Existing Chromatogram and Fragment Pickle File"
   ]
  },
  {
   "cell_type": "markdown",
   "metadata": {},
   "source": [
    "In order to do this you can either use the existing pickle file or you can generate your own pickle file using Section 1"
   ]
  },
  {
   "cell_type": "code",
   "execution_count": 7,
   "metadata": {},
   "outputs": [],
   "source": [
    "data_dir = os.path.abspath(os.path.join(os.getcwd(),'..','..','tests','integration','fixtures'))\n",
    "ps = load_obj(Path(data_dir,'peak_sampler_mz_rt_int_beerqcb_fullscan.p'))"
   ]
  },
  {
   "cell_type": "markdown",
   "metadata": {},
   "source": [
    "Define an output folder containing our results"
   ]
  },
  {
   "cell_type": "code",
   "execution_count": 9,
   "metadata": {},
   "outputs": [],
   "source": [
    "out_dir = Path(os.getcwd(), 'results', 'MS1_single')"
   ]
  },
  {
   "cell_type": "markdown",
   "metadata": {},
   "source": [
    "### Download HMDB sample"
   ]
  },
  {
   "cell_type": "code",
   "execution_count": 11,
   "metadata": {},
   "outputs": [
    {
     "name": "stdout",
     "output_type": "stream",
     "text": [
      "Loaded 114087 DatabaseCompounds from C:\\Users\\Vinny\\work\\vimms\\tests\\integration\\fixtures\\hmdb_compounds.p\n"
     ]
    }
   ],
   "source": [
    "compound_file = Path(data_dir, 'hmdb_compounds.p')\n",
    "hmdb_compounds = load_obj(compound_file)\n",
    "if hmdb_compounds is None: # if file does not exist\n",
    "\n",
    "    # download the entire HMDB metabolite database\n",
    "    url = 'http://www.hmdb.ca/system/downloads/current/hmdb_metabolites.zip'\n",
    "\n",
    "    out_file = download_file(url)\n",
    "    compounds = extract_hmdb_metabolite(out_file, delete=True)\n",
    "    save_obj(compounds, compound_file)\n",
    "\n",
    "else:\n",
    "    print('Loaded %d DatabaseCompounds from %s' % (len(hmdb_compounds), compound_file))"
   ]
  },
  {
   "cell_type": "code",
   "execution_count": 13,
   "metadata": {},
   "outputs": [],
   "source": [
    "hmdb = load_obj(Path(data_dir, 'hmdb_compounds.p'))"
   ]
  },
  {
   "cell_type": "markdown",
   "metadata": {},
   "source": [
    "### Create a new HMDB sample"
   ]
  },
  {
   "cell_type": "code",
   "execution_count": 20,
   "metadata": {},
   "outputs": [],
   "source": [
    "ROI_Sources = [str(Path(data_dir, 'beer_t10_simulator_files'))]\n",
    "\n",
    "# minimum MS1 intensity of chemicals\n",
    "min_ms1_intensity = 1.75E5\n",
    "\n",
    "# m/z and RT range of chemicals\n",
    "rt_range = [(0, 1440)]\n",
    "mz_range = [(0, 1050)]\n",
    "\n",
    "# the number of chemicals in the sample\n",
    "n_chems = 6500\n",
    "\n",
    "# maximum MS level (we do not generate fragmentation peaks when this value is 1)\n",
    "ms_level = 1"
   ]
  },
  {
   "cell_type": "code",
   "execution_count": 21,
   "metadata": {},
   "outputs": [
    {
     "name": "stderr",
     "output_type": "stream",
     "text": [
      "2020-08-17 11:19:01.805 | DEBUG    | vimms.Chemicals:__init__:242 - Sorting database compounds by masses\n",
      "2020-08-17 11:19:04.369 | DEBUG    | vimms.Chemicals:sample:276 - 6500 chemicals to be created.\n",
      "2020-08-17 11:19:05.627 | DEBUG    | vimms.Chemicals:_sample_formulae:350 - Sampling formula 0/6500\n",
      "2020-08-17 11:19:08.278 | DEBUG    | vimms.Chemicals:_sample_formulae:350 - Sampling formula 500/6500\n",
      "2020-08-17 11:19:10.878 | DEBUG    | vimms.Chemicals:_sample_formulae:350 - Sampling formula 1000/6500\n",
      "2020-08-17 11:19:13.914 | DEBUG    | vimms.Chemicals:_sample_formulae:350 - Sampling formula 1500/6500\n",
      "2020-08-17 11:19:17.182 | DEBUG    | vimms.Chemicals:_sample_formulae:350 - Sampling formula 2000/6500\n",
      "2020-08-17 11:19:20.476 | DEBUG    | vimms.Chemicals:_sample_formulae:350 - Sampling formula 2500/6500\n",
      "2020-08-17 11:19:23.746 | DEBUG    | vimms.Chemicals:_sample_formulae:350 - Sampling formula 3000/6500\n",
      "2020-08-17 11:19:27.282 | DEBUG    | vimms.Chemicals:_sample_formulae:350 - Sampling formula 3500/6500\n",
      "2020-08-17 11:19:30.752 | DEBUG    | vimms.Chemicals:_sample_formulae:350 - Sampling formula 4000/6500\n",
      "2020-08-17 11:19:34.322 | DEBUG    | vimms.Chemicals:_sample_formulae:350 - Sampling formula 4500/6500\n",
      "2020-08-17 11:19:38.738 | DEBUG    | vimms.Chemicals:_sample_formulae:350 - Sampling formula 5000/6500\n",
      "2020-08-17 11:19:44.706 | DEBUG    | vimms.Chemicals:_sample_formulae:350 - Sampling formula 5500/6500\n",
      "2020-08-17 11:19:52.105 | DEBUG    | vimms.Chemicals:_sample_formulae:350 - Sampling formula 6000/6500\n",
      "2020-08-17 11:20:20.910 | INFO     | vimms.Common:create_if_not_exist:78 - Created C:\\Users\\Vinny\\work\\vimms\\demo\\01. Data\\results\\MS1_single\n",
      "2020-08-17 11:20:20.911 | INFO     | vimms.Common:save_obj:91 - Saving <class 'list'> to C:\\Users\\Vinny\\work\\vimms\\demo\\01. Data\\results\\MS1_single\\hmdb_dataset.p\n"
     ]
    }
   ],
   "source": [
    "chems = ChemicalCreator(ps, ROI_Sources, hmdb)\n",
    "hmdb_dataset = chems.sample(mz_range, rt_range, min_ms1_intensity, n_chems, ms_level)\n",
    "save_obj(hmdb_dataset, Path(out_dir, 'hmdb_dataset.p'))"
   ]
  },
  {
   "cell_type": "code",
   "execution_count": 22,
   "metadata": {},
   "outputs": [
    {
     "name": "stdout",
     "output_type": "stream",
     "text": [
      "KnownChemical - 'C2HCl3O2' rt=582.09 max_intensity=1616270.76\n",
      "KnownChemical - 'H4Sn' rt=219.42 max_intensity=452090.88\n",
      "KnownChemical - 'C11H16O9' rt=495.29 max_intensity=299551.79\n",
      "KnownChemical - 'C25H44O7P2' rt=268.84 max_intensity=283682.78\n",
      "KnownChemical - 'C7H9N' rt=391.54 max_intensity=1801275.67\n",
      "KnownChemical - 'C5H6O4' rt=224.69 max_intensity=293003.09\n",
      "KnownChemical - 'C24H30O6' rt=634.02 max_intensity=2469915.41\n",
      "KnownChemical - 'C20H14O3' rt=418.58 max_intensity=207972.85\n",
      "KnownChemical - 'C30H49N6O10' rt=262.84 max_intensity=465245.01\n",
      "KnownChemical - 'C12H20N4O3' rt=670.49 max_intensity=468316.50\n"
     ]
    }
   ],
   "source": [
    "for chem in hmdb_dataset[0:10]:\n",
    "    print(chem)"
   ]
  }
 ],
 "metadata": {
  "kernelspec": {
   "display_name": "Python 3",
   "language": "python",
   "name": "python3"
  },
  "language_info": {
   "codemirror_mode": {
    "name": "ipython",
    "version": 3
   },
   "file_extension": ".py",
   "mimetype": "text/x-python",
   "name": "python",
   "nbconvert_exporter": "python",
   "pygments_lexer": "ipython3",
   "version": "3.7.3"
  }
 },
 "nbformat": 4,
 "nbformat_minor": 4
}
